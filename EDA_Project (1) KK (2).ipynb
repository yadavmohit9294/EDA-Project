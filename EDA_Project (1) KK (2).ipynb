{
 "cells": [
  {
   "cell_type": "markdown",
   "id": "a94bf9ae-2cd8-4d5f-968c-d99b5cb330f0",
   "metadata": {},
   "source": [
    "Project \n"
   ]
  },
  {
   "cell_type": "code",
   "execution_count": 2,
   "id": "a4361066-b083-4b5b-9736-92f529934bac",
   "metadata": {},
   "outputs": [],
   "source": [
    "import pandas as pd\n",
    "import numpy as np"
   ]
  },
  {
   "cell_type": "code",
   "execution_count": 3,
   "id": "e477327f-13ef-4636-a5c4-13b85e73f484",
   "metadata": {},
   "outputs": [
    {
     "data": {
      "text/html": [
       "<div>\n",
       "<style scoped>\n",
       "    .dataframe tbody tr th:only-of-type {\n",
       "        vertical-align: middle;\n",
       "    }\n",
       "\n",
       "    .dataframe tbody tr th {\n",
       "        vertical-align: top;\n",
       "    }\n",
       "\n",
       "    .dataframe thead th {\n",
       "        text-align: right;\n",
       "    }\n",
       "</style>\n",
       "<table border=\"1\" class=\"dataframe\">\n",
       "  <thead>\n",
       "    <tr style=\"text-align: right;\">\n",
       "      <th></th>\n",
       "      <th>SK_ID_PREV</th>\n",
       "      <th>SK_ID_CURR</th>\n",
       "      <th>NAME_CONTRACT_TYPE</th>\n",
       "      <th>AMT_ANNUITY</th>\n",
       "      <th>AMT_APPLICATION</th>\n",
       "      <th>AMT_CREDIT</th>\n",
       "      <th>AMT_DOWN_PAYMENT</th>\n",
       "      <th>AMT_GOODS_PRICE</th>\n",
       "      <th>WEEKDAY_APPR_PROCESS_START</th>\n",
       "      <th>HOUR_APPR_PROCESS_START</th>\n",
       "      <th>...</th>\n",
       "      <th>NAME_SELLER_INDUSTRY</th>\n",
       "      <th>CNT_PAYMENT</th>\n",
       "      <th>NAME_YIELD_GROUP</th>\n",
       "      <th>PRODUCT_COMBINATION</th>\n",
       "      <th>DAYS_FIRST_DRAWING</th>\n",
       "      <th>DAYS_FIRST_DUE</th>\n",
       "      <th>DAYS_LAST_DUE_1ST_VERSION</th>\n",
       "      <th>DAYS_LAST_DUE</th>\n",
       "      <th>DAYS_TERMINATION</th>\n",
       "      <th>NFLAG_INSURED_ON_APPROVAL</th>\n",
       "    </tr>\n",
       "  </thead>\n",
       "  <tbody>\n",
       "    <tr>\n",
       "      <th>0</th>\n",
       "      <td>2030495</td>\n",
       "      <td>271877</td>\n",
       "      <td>Consumer loans</td>\n",
       "      <td>1730.430</td>\n",
       "      <td>17145.0</td>\n",
       "      <td>17145.0</td>\n",
       "      <td>0.0</td>\n",
       "      <td>17145.0</td>\n",
       "      <td>SATURDAY</td>\n",
       "      <td>15</td>\n",
       "      <td>...</td>\n",
       "      <td>Connectivity</td>\n",
       "      <td>12.0</td>\n",
       "      <td>middle</td>\n",
       "      <td>POS mobile with interest</td>\n",
       "      <td>365243.0</td>\n",
       "      <td>-42.0</td>\n",
       "      <td>300.0</td>\n",
       "      <td>-42.0</td>\n",
       "      <td>-37.0</td>\n",
       "      <td>0.0</td>\n",
       "    </tr>\n",
       "    <tr>\n",
       "      <th>1</th>\n",
       "      <td>2802425</td>\n",
       "      <td>108129</td>\n",
       "      <td>Cash loans</td>\n",
       "      <td>25188.615</td>\n",
       "      <td>607500.0</td>\n",
       "      <td>679671.0</td>\n",
       "      <td>NaN</td>\n",
       "      <td>607500.0</td>\n",
       "      <td>THURSDAY</td>\n",
       "      <td>11</td>\n",
       "      <td>...</td>\n",
       "      <td>XNA</td>\n",
       "      <td>36.0</td>\n",
       "      <td>low_action</td>\n",
       "      <td>Cash X-Sell: low</td>\n",
       "      <td>365243.0</td>\n",
       "      <td>-134.0</td>\n",
       "      <td>916.0</td>\n",
       "      <td>365243.0</td>\n",
       "      <td>365243.0</td>\n",
       "      <td>1.0</td>\n",
       "    </tr>\n",
       "    <tr>\n",
       "      <th>2</th>\n",
       "      <td>2523466</td>\n",
       "      <td>122040</td>\n",
       "      <td>Cash loans</td>\n",
       "      <td>15060.735</td>\n",
       "      <td>112500.0</td>\n",
       "      <td>136444.5</td>\n",
       "      <td>NaN</td>\n",
       "      <td>112500.0</td>\n",
       "      <td>TUESDAY</td>\n",
       "      <td>11</td>\n",
       "      <td>...</td>\n",
       "      <td>XNA</td>\n",
       "      <td>12.0</td>\n",
       "      <td>high</td>\n",
       "      <td>Cash X-Sell: high</td>\n",
       "      <td>365243.0</td>\n",
       "      <td>-271.0</td>\n",
       "      <td>59.0</td>\n",
       "      <td>365243.0</td>\n",
       "      <td>365243.0</td>\n",
       "      <td>1.0</td>\n",
       "    </tr>\n",
       "    <tr>\n",
       "      <th>3</th>\n",
       "      <td>2819243</td>\n",
       "      <td>176158</td>\n",
       "      <td>Cash loans</td>\n",
       "      <td>47041.335</td>\n",
       "      <td>450000.0</td>\n",
       "      <td>470790.0</td>\n",
       "      <td>NaN</td>\n",
       "      <td>450000.0</td>\n",
       "      <td>MONDAY</td>\n",
       "      <td>7</td>\n",
       "      <td>...</td>\n",
       "      <td>XNA</td>\n",
       "      <td>12.0</td>\n",
       "      <td>middle</td>\n",
       "      <td>Cash X-Sell: middle</td>\n",
       "      <td>365243.0</td>\n",
       "      <td>-482.0</td>\n",
       "      <td>-152.0</td>\n",
       "      <td>-182.0</td>\n",
       "      <td>-177.0</td>\n",
       "      <td>1.0</td>\n",
       "    </tr>\n",
       "    <tr>\n",
       "      <th>4</th>\n",
       "      <td>1784265</td>\n",
       "      <td>202054</td>\n",
       "      <td>Cash loans</td>\n",
       "      <td>31924.395</td>\n",
       "      <td>337500.0</td>\n",
       "      <td>404055.0</td>\n",
       "      <td>NaN</td>\n",
       "      <td>337500.0</td>\n",
       "      <td>THURSDAY</td>\n",
       "      <td>9</td>\n",
       "      <td>...</td>\n",
       "      <td>XNA</td>\n",
       "      <td>24.0</td>\n",
       "      <td>high</td>\n",
       "      <td>Cash Street: high</td>\n",
       "      <td>NaN</td>\n",
       "      <td>NaN</td>\n",
       "      <td>NaN</td>\n",
       "      <td>NaN</td>\n",
       "      <td>NaN</td>\n",
       "      <td>NaN</td>\n",
       "    </tr>\n",
       "    <tr>\n",
       "      <th>...</th>\n",
       "      <td>...</td>\n",
       "      <td>...</td>\n",
       "      <td>...</td>\n",
       "      <td>...</td>\n",
       "      <td>...</td>\n",
       "      <td>...</td>\n",
       "      <td>...</td>\n",
       "      <td>...</td>\n",
       "      <td>...</td>\n",
       "      <td>...</td>\n",
       "      <td>...</td>\n",
       "      <td>...</td>\n",
       "      <td>...</td>\n",
       "      <td>...</td>\n",
       "      <td>...</td>\n",
       "      <td>...</td>\n",
       "      <td>...</td>\n",
       "      <td>...</td>\n",
       "      <td>...</td>\n",
       "      <td>...</td>\n",
       "      <td>...</td>\n",
       "    </tr>\n",
       "    <tr>\n",
       "      <th>49994</th>\n",
       "      <td>1171956</td>\n",
       "      <td>339569</td>\n",
       "      <td>Cash loans</td>\n",
       "      <td>NaN</td>\n",
       "      <td>0.0</td>\n",
       "      <td>0.0</td>\n",
       "      <td>NaN</td>\n",
       "      <td>NaN</td>\n",
       "      <td>THURSDAY</td>\n",
       "      <td>11</td>\n",
       "      <td>...</td>\n",
       "      <td>XNA</td>\n",
       "      <td>NaN</td>\n",
       "      <td>XNA</td>\n",
       "      <td>Cash</td>\n",
       "      <td>NaN</td>\n",
       "      <td>NaN</td>\n",
       "      <td>NaN</td>\n",
       "      <td>NaN</td>\n",
       "      <td>NaN</td>\n",
       "      <td>NaN</td>\n",
       "    </tr>\n",
       "    <tr>\n",
       "      <th>49995</th>\n",
       "      <td>1904808</td>\n",
       "      <td>363980</td>\n",
       "      <td>Cash loans</td>\n",
       "      <td>NaN</td>\n",
       "      <td>0.0</td>\n",
       "      <td>0.0</td>\n",
       "      <td>NaN</td>\n",
       "      <td>NaN</td>\n",
       "      <td>FRIDAY</td>\n",
       "      <td>10</td>\n",
       "      <td>...</td>\n",
       "      <td>XNA</td>\n",
       "      <td>NaN</td>\n",
       "      <td>XNA</td>\n",
       "      <td>Cash</td>\n",
       "      <td>NaN</td>\n",
       "      <td>NaN</td>\n",
       "      <td>NaN</td>\n",
       "      <td>NaN</td>\n",
       "      <td>NaN</td>\n",
       "      <td>NaN</td>\n",
       "    </tr>\n",
       "    <tr>\n",
       "      <th>49996</th>\n",
       "      <td>2331005</td>\n",
       "      <td>231295</td>\n",
       "      <td>Cash loans</td>\n",
       "      <td>22176.405</td>\n",
       "      <td>180000.0</td>\n",
       "      <td>216418.5</td>\n",
       "      <td>NaN</td>\n",
       "      <td>180000.0</td>\n",
       "      <td>TUESDAY</td>\n",
       "      <td>12</td>\n",
       "      <td>...</td>\n",
       "      <td>XNA</td>\n",
       "      <td>12.0</td>\n",
       "      <td>middle</td>\n",
       "      <td>Cash X-Sell: middle</td>\n",
       "      <td>365243.0</td>\n",
       "      <td>-670.0</td>\n",
       "      <td>-340.0</td>\n",
       "      <td>-340.0</td>\n",
       "      <td>-338.0</td>\n",
       "      <td>1.0</td>\n",
       "    </tr>\n",
       "    <tr>\n",
       "      <th>49997</th>\n",
       "      <td>1960897</td>\n",
       "      <td>346691</td>\n",
       "      <td>Cash loans</td>\n",
       "      <td>NaN</td>\n",
       "      <td>0.0</td>\n",
       "      <td>0.0</td>\n",
       "      <td>NaN</td>\n",
       "      <td>NaN</td>\n",
       "      <td>WEDNESDAY</td>\n",
       "      <td>16</td>\n",
       "      <td>...</td>\n",
       "      <td>XNA</td>\n",
       "      <td>NaN</td>\n",
       "      <td>XNA</td>\n",
       "      <td>Cash</td>\n",
       "      <td>NaN</td>\n",
       "      <td>NaN</td>\n",
       "      <td>NaN</td>\n",
       "      <td>NaN</td>\n",
       "      <td>NaN</td>\n",
       "      <td>NaN</td>\n",
       "    </tr>\n",
       "    <tr>\n",
       "      <th>49998</th>\n",
       "      <td>1979352</td>\n",
       "      <td>363244</td>\n",
       "      <td>Cash loans</td>\n",
       "      <td>24909.390</td>\n",
       "      <td>360000.0</td>\n",
       "      <td>409896.0</td>\n",
       "      <td>NaN</td>\n",
       "      <td>360000.0</td>\n",
       "      <td>FRIDAY</td>\n",
       "      <td>18</td>\n",
       "      <td>...</td>\n",
       "      <td>XNA</td>\n",
       "      <td>36.0</td>\n",
       "      <td>high</td>\n",
       "      <td>Cash X-Sell: high</td>\n",
       "      <td>NaN</td>\n",
       "      <td>NaN</td>\n",
       "      <td>NaN</td>\n",
       "      <td>NaN</td>\n",
       "      <td>NaN</td>\n",
       "      <td>NaN</td>\n",
       "    </tr>\n",
       "  </tbody>\n",
       "</table>\n",
       "<p>49999 rows × 37 columns</p>\n",
       "</div>"
      ],
      "text/plain": [
       "       SK_ID_PREV  SK_ID_CURR NAME_CONTRACT_TYPE  AMT_ANNUITY  \\\n",
       "0         2030495      271877     Consumer loans     1730.430   \n",
       "1         2802425      108129         Cash loans    25188.615   \n",
       "2         2523466      122040         Cash loans    15060.735   \n",
       "3         2819243      176158         Cash loans    47041.335   \n",
       "4         1784265      202054         Cash loans    31924.395   \n",
       "...           ...         ...                ...          ...   \n",
       "49994     1171956      339569         Cash loans          NaN   \n",
       "49995     1904808      363980         Cash loans          NaN   \n",
       "49996     2331005      231295         Cash loans    22176.405   \n",
       "49997     1960897      346691         Cash loans          NaN   \n",
       "49998     1979352      363244         Cash loans    24909.390   \n",
       "\n",
       "       AMT_APPLICATION  AMT_CREDIT  AMT_DOWN_PAYMENT  AMT_GOODS_PRICE  \\\n",
       "0              17145.0     17145.0               0.0          17145.0   \n",
       "1             607500.0    679671.0               NaN         607500.0   \n",
       "2             112500.0    136444.5               NaN         112500.0   \n",
       "3             450000.0    470790.0               NaN         450000.0   \n",
       "4             337500.0    404055.0               NaN         337500.0   \n",
       "...                ...         ...               ...              ...   \n",
       "49994              0.0         0.0               NaN              NaN   \n",
       "49995              0.0         0.0               NaN              NaN   \n",
       "49996         180000.0    216418.5               NaN         180000.0   \n",
       "49997              0.0         0.0               NaN              NaN   \n",
       "49998         360000.0    409896.0               NaN         360000.0   \n",
       "\n",
       "      WEEKDAY_APPR_PROCESS_START  HOUR_APPR_PROCESS_START  ...  \\\n",
       "0                       SATURDAY                       15  ...   \n",
       "1                       THURSDAY                       11  ...   \n",
       "2                        TUESDAY                       11  ...   \n",
       "3                         MONDAY                        7  ...   \n",
       "4                       THURSDAY                        9  ...   \n",
       "...                          ...                      ...  ...   \n",
       "49994                   THURSDAY                       11  ...   \n",
       "49995                     FRIDAY                       10  ...   \n",
       "49996                    TUESDAY                       12  ...   \n",
       "49997                  WEDNESDAY                       16  ...   \n",
       "49998                     FRIDAY                       18  ...   \n",
       "\n",
       "      NAME_SELLER_INDUSTRY  CNT_PAYMENT  NAME_YIELD_GROUP  \\\n",
       "0             Connectivity         12.0            middle   \n",
       "1                      XNA         36.0        low_action   \n",
       "2                      XNA         12.0              high   \n",
       "3                      XNA         12.0            middle   \n",
       "4                      XNA         24.0              high   \n",
       "...                    ...          ...               ...   \n",
       "49994                  XNA          NaN               XNA   \n",
       "49995                  XNA          NaN               XNA   \n",
       "49996                  XNA         12.0            middle   \n",
       "49997                  XNA          NaN               XNA   \n",
       "49998                  XNA         36.0              high   \n",
       "\n",
       "            PRODUCT_COMBINATION  DAYS_FIRST_DRAWING DAYS_FIRST_DUE  \\\n",
       "0      POS mobile with interest            365243.0          -42.0   \n",
       "1              Cash X-Sell: low            365243.0         -134.0   \n",
       "2             Cash X-Sell: high            365243.0         -271.0   \n",
       "3           Cash X-Sell: middle            365243.0         -482.0   \n",
       "4             Cash Street: high                 NaN            NaN   \n",
       "...                         ...                 ...            ...   \n",
       "49994                      Cash                 NaN            NaN   \n",
       "49995                      Cash                 NaN            NaN   \n",
       "49996       Cash X-Sell: middle            365243.0         -670.0   \n",
       "49997                      Cash                 NaN            NaN   \n",
       "49998         Cash X-Sell: high                 NaN            NaN   \n",
       "\n",
       "      DAYS_LAST_DUE_1ST_VERSION  DAYS_LAST_DUE DAYS_TERMINATION  \\\n",
       "0                         300.0          -42.0            -37.0   \n",
       "1                         916.0       365243.0         365243.0   \n",
       "2                          59.0       365243.0         365243.0   \n",
       "3                        -152.0         -182.0           -177.0   \n",
       "4                           NaN            NaN              NaN   \n",
       "...                         ...            ...              ...   \n",
       "49994                       NaN            NaN              NaN   \n",
       "49995                       NaN            NaN              NaN   \n",
       "49996                    -340.0         -340.0           -338.0   \n",
       "49997                       NaN            NaN              NaN   \n",
       "49998                       NaN            NaN              NaN   \n",
       "\n",
       "      NFLAG_INSURED_ON_APPROVAL  \n",
       "0                           0.0  \n",
       "1                           1.0  \n",
       "2                           1.0  \n",
       "3                           1.0  \n",
       "4                           NaN  \n",
       "...                         ...  \n",
       "49994                       NaN  \n",
       "49995                       NaN  \n",
       "49996                       1.0  \n",
       "49997                       NaN  \n",
       "49998                       NaN  \n",
       "\n",
       "[49999 rows x 37 columns]"
      ]
     },
     "execution_count": 3,
     "metadata": {},
     "output_type": "execute_result"
    }
   ],
   "source": [
    "df_app=pd.read_csv(r\"C:\\Users\\Mohit\\Downloads\\projects\\previous_application - previous_application.csv\")\n",
    "df_app"
   ]
  },
  {
   "cell_type": "code",
   "execution_count": 4,
   "id": "3c47810a-6ef2-4c9f-af35-fe1a161db62e",
   "metadata": {},
   "outputs": [
    {
     "data": {
      "text/plain": [
       "(49999, 37)"
      ]
     },
     "execution_count": 4,
     "metadata": {},
     "output_type": "execute_result"
    }
   ],
   "source": [
    "df_app.shape"
   ]
  },
  {
   "cell_type": "code",
   "execution_count": 5,
   "id": "e61cf440-ea45-4a92-a717-d0a5f0cac77f",
   "metadata": {},
   "outputs": [
    {
     "data": {
      "text/plain": [
       "1849963"
      ]
     },
     "execution_count": 5,
     "metadata": {},
     "output_type": "execute_result"
    }
   ],
   "source": [
    "df_app.size"
   ]
  },
  {
   "cell_type": "code",
   "execution_count": 6,
   "id": "89b39414-5e5d-4ff6-91e9-3044a45f1d7f",
   "metadata": {},
   "outputs": [
    {
     "data": {
      "text/plain": [
       "RangeIndex(start=0, stop=49999, step=1)"
      ]
     },
     "execution_count": 6,
     "metadata": {},
     "output_type": "execute_result"
    }
   ],
   "source": [
    "df_app.index"
   ]
  },
  {
   "cell_type": "code",
   "execution_count": 7,
   "id": "25f9df89-64e1-4526-b6a4-f35f8a820246",
   "metadata": {},
   "outputs": [
    {
     "data": {
      "text/plain": [
       "Index(['SK_ID_PREV', 'SK_ID_CURR', 'NAME_CONTRACT_TYPE', 'AMT_ANNUITY',\n",
       "       'AMT_APPLICATION', 'AMT_CREDIT', 'AMT_DOWN_PAYMENT', 'AMT_GOODS_PRICE',\n",
       "       'WEEKDAY_APPR_PROCESS_START', 'HOUR_APPR_PROCESS_START',\n",
       "       'FLAG_LAST_APPL_PER_CONTRACT', 'NFLAG_LAST_APPL_IN_DAY',\n",
       "       'RATE_DOWN_PAYMENT', 'RATE_INTEREST_PRIMARY',\n",
       "       'RATE_INTEREST_PRIVILEGED', 'NAME_CASH_LOAN_PURPOSE',\n",
       "       'NAME_CONTRACT_STATUS', 'DAYS_DECISION', 'NAME_PAYMENT_TYPE',\n",
       "       'CODE_REJECT_REASON', 'NAME_TYPE_SUITE', 'NAME_CLIENT_TYPE',\n",
       "       'NAME_GOODS_CATEGORY', 'NAME_PORTFOLIO', 'NAME_PRODUCT_TYPE',\n",
       "       'CHANNEL_TYPE', 'SELLERPLACE_AREA', 'NAME_SELLER_INDUSTRY',\n",
       "       'CNT_PAYMENT', 'NAME_YIELD_GROUP', 'PRODUCT_COMBINATION',\n",
       "       'DAYS_FIRST_DRAWING', 'DAYS_FIRST_DUE', 'DAYS_LAST_DUE_1ST_VERSION',\n",
       "       'DAYS_LAST_DUE', 'DAYS_TERMINATION', 'NFLAG_INSURED_ON_APPROVAL'],\n",
       "      dtype='object')"
      ]
     },
     "execution_count": 7,
     "metadata": {},
     "output_type": "execute_result"
    }
   ],
   "source": [
    "df_app.columns       "
   ]
  },
  {
   "cell_type": "code",
   "execution_count": 8,
   "id": "2ab35cdf-d98e-4fb2-99aa-8855554973aa",
   "metadata": {},
   "outputs": [
    {
     "data": {
      "text/plain": [
       "['SK_ID_PREV',\n",
       " 'SK_ID_CURR',\n",
       " 'NAME_CONTRACT_TYPE',\n",
       " 'AMT_ANNUITY',\n",
       " 'AMT_APPLICATION',\n",
       " 'AMT_CREDIT',\n",
       " 'AMT_DOWN_PAYMENT',\n",
       " 'AMT_GOODS_PRICE',\n",
       " 'WEEKDAY_APPR_PROCESS_START',\n",
       " 'HOUR_APPR_PROCESS_START',\n",
       " 'FLAG_LAST_APPL_PER_CONTRACT',\n",
       " 'NFLAG_LAST_APPL_IN_DAY',\n",
       " 'RATE_DOWN_PAYMENT',\n",
       " 'RATE_INTEREST_PRIMARY',\n",
       " 'RATE_INTEREST_PRIVILEGED',\n",
       " 'NAME_CASH_LOAN_PURPOSE',\n",
       " 'NAME_CONTRACT_STATUS',\n",
       " 'DAYS_DECISION',\n",
       " 'NAME_PAYMENT_TYPE',\n",
       " 'CODE_REJECT_REASON',\n",
       " 'NAME_TYPE_SUITE',\n",
       " 'NAME_CLIENT_TYPE',\n",
       " 'NAME_GOODS_CATEGORY',\n",
       " 'NAME_PORTFOLIO',\n",
       " 'NAME_PRODUCT_TYPE',\n",
       " 'CHANNEL_TYPE',\n",
       " 'SELLERPLACE_AREA',\n",
       " 'NAME_SELLER_INDUSTRY',\n",
       " 'CNT_PAYMENT',\n",
       " 'NAME_YIELD_GROUP',\n",
       " 'PRODUCT_COMBINATION',\n",
       " 'DAYS_FIRST_DRAWING',\n",
       " 'DAYS_FIRST_DUE',\n",
       " 'DAYS_LAST_DUE_1ST_VERSION',\n",
       " 'DAYS_LAST_DUE',\n",
       " 'DAYS_TERMINATION',\n",
       " 'NFLAG_INSURED_ON_APPROVAL']"
      ]
     },
     "execution_count": 8,
     "metadata": {},
     "output_type": "execute_result"
    }
   ],
   "source": [
    "df_app.columns.to_list()"
   ]
  },
  {
   "cell_type": "code",
   "execution_count": 9,
   "id": "0d9fc8ae-0060-411e-8ecc-bf9fe5c2c96f",
   "metadata": {},
   "outputs": [
    {
     "data": {
      "text/html": [
       "<div>\n",
       "<style scoped>\n",
       "    .dataframe tbody tr th:only-of-type {\n",
       "        vertical-align: middle;\n",
       "    }\n",
       "\n",
       "    .dataframe tbody tr th {\n",
       "        vertical-align: top;\n",
       "    }\n",
       "\n",
       "    .dataframe thead th {\n",
       "        text-align: right;\n",
       "    }\n",
       "</style>\n",
       "<table border=\"1\" class=\"dataframe\">\n",
       "  <thead>\n",
       "    <tr style=\"text-align: right;\">\n",
       "      <th></th>\n",
       "      <th>SK_ID_PREV</th>\n",
       "      <th>SK_ID_CURR</th>\n",
       "      <th>NAME_CONTRACT_TYPE</th>\n",
       "      <th>AMT_ANNUITY</th>\n",
       "      <th>AMT_APPLICATION</th>\n",
       "      <th>AMT_CREDIT</th>\n",
       "      <th>AMT_DOWN_PAYMENT</th>\n",
       "      <th>AMT_GOODS_PRICE</th>\n",
       "      <th>WEEKDAY_APPR_PROCESS_START</th>\n",
       "      <th>HOUR_APPR_PROCESS_START</th>\n",
       "      <th>...</th>\n",
       "      <th>NAME_SELLER_INDUSTRY</th>\n",
       "      <th>CNT_PAYMENT</th>\n",
       "      <th>NAME_YIELD_GROUP</th>\n",
       "      <th>PRODUCT_COMBINATION</th>\n",
       "      <th>DAYS_FIRST_DRAWING</th>\n",
       "      <th>DAYS_FIRST_DUE</th>\n",
       "      <th>DAYS_LAST_DUE_1ST_VERSION</th>\n",
       "      <th>DAYS_LAST_DUE</th>\n",
       "      <th>DAYS_TERMINATION</th>\n",
       "      <th>NFLAG_INSURED_ON_APPROVAL</th>\n",
       "    </tr>\n",
       "  </thead>\n",
       "  <tbody>\n",
       "    <tr>\n",
       "      <th>0</th>\n",
       "      <td>2030495</td>\n",
       "      <td>271877</td>\n",
       "      <td>Consumer loans</td>\n",
       "      <td>1730.430</td>\n",
       "      <td>17145.0</td>\n",
       "      <td>17145.0</td>\n",
       "      <td>0.0</td>\n",
       "      <td>17145.0</td>\n",
       "      <td>SATURDAY</td>\n",
       "      <td>15</td>\n",
       "      <td>...</td>\n",
       "      <td>Connectivity</td>\n",
       "      <td>12.0</td>\n",
       "      <td>middle</td>\n",
       "      <td>POS mobile with interest</td>\n",
       "      <td>365243.0</td>\n",
       "      <td>-42.0</td>\n",
       "      <td>300.0</td>\n",
       "      <td>-42.0</td>\n",
       "      <td>-37.0</td>\n",
       "      <td>0.0</td>\n",
       "    </tr>\n",
       "    <tr>\n",
       "      <th>1</th>\n",
       "      <td>2802425</td>\n",
       "      <td>108129</td>\n",
       "      <td>Cash loans</td>\n",
       "      <td>25188.615</td>\n",
       "      <td>607500.0</td>\n",
       "      <td>679671.0</td>\n",
       "      <td>NaN</td>\n",
       "      <td>607500.0</td>\n",
       "      <td>THURSDAY</td>\n",
       "      <td>11</td>\n",
       "      <td>...</td>\n",
       "      <td>XNA</td>\n",
       "      <td>36.0</td>\n",
       "      <td>low_action</td>\n",
       "      <td>Cash X-Sell: low</td>\n",
       "      <td>365243.0</td>\n",
       "      <td>-134.0</td>\n",
       "      <td>916.0</td>\n",
       "      <td>365243.0</td>\n",
       "      <td>365243.0</td>\n",
       "      <td>1.0</td>\n",
       "    </tr>\n",
       "    <tr>\n",
       "      <th>2</th>\n",
       "      <td>2523466</td>\n",
       "      <td>122040</td>\n",
       "      <td>Cash loans</td>\n",
       "      <td>15060.735</td>\n",
       "      <td>112500.0</td>\n",
       "      <td>136444.5</td>\n",
       "      <td>NaN</td>\n",
       "      <td>112500.0</td>\n",
       "      <td>TUESDAY</td>\n",
       "      <td>11</td>\n",
       "      <td>...</td>\n",
       "      <td>XNA</td>\n",
       "      <td>12.0</td>\n",
       "      <td>high</td>\n",
       "      <td>Cash X-Sell: high</td>\n",
       "      <td>365243.0</td>\n",
       "      <td>-271.0</td>\n",
       "      <td>59.0</td>\n",
       "      <td>365243.0</td>\n",
       "      <td>365243.0</td>\n",
       "      <td>1.0</td>\n",
       "    </tr>\n",
       "    <tr>\n",
       "      <th>3</th>\n",
       "      <td>2819243</td>\n",
       "      <td>176158</td>\n",
       "      <td>Cash loans</td>\n",
       "      <td>47041.335</td>\n",
       "      <td>450000.0</td>\n",
       "      <td>470790.0</td>\n",
       "      <td>NaN</td>\n",
       "      <td>450000.0</td>\n",
       "      <td>MONDAY</td>\n",
       "      <td>7</td>\n",
       "      <td>...</td>\n",
       "      <td>XNA</td>\n",
       "      <td>12.0</td>\n",
       "      <td>middle</td>\n",
       "      <td>Cash X-Sell: middle</td>\n",
       "      <td>365243.0</td>\n",
       "      <td>-482.0</td>\n",
       "      <td>-152.0</td>\n",
       "      <td>-182.0</td>\n",
       "      <td>-177.0</td>\n",
       "      <td>1.0</td>\n",
       "    </tr>\n",
       "    <tr>\n",
       "      <th>4</th>\n",
       "      <td>1784265</td>\n",
       "      <td>202054</td>\n",
       "      <td>Cash loans</td>\n",
       "      <td>31924.395</td>\n",
       "      <td>337500.0</td>\n",
       "      <td>404055.0</td>\n",
       "      <td>NaN</td>\n",
       "      <td>337500.0</td>\n",
       "      <td>THURSDAY</td>\n",
       "      <td>9</td>\n",
       "      <td>...</td>\n",
       "      <td>XNA</td>\n",
       "      <td>24.0</td>\n",
       "      <td>high</td>\n",
       "      <td>Cash Street: high</td>\n",
       "      <td>NaN</td>\n",
       "      <td>NaN</td>\n",
       "      <td>NaN</td>\n",
       "      <td>NaN</td>\n",
       "      <td>NaN</td>\n",
       "      <td>NaN</td>\n",
       "    </tr>\n",
       "  </tbody>\n",
       "</table>\n",
       "<p>5 rows × 37 columns</p>\n",
       "</div>"
      ],
      "text/plain": [
       "   SK_ID_PREV  SK_ID_CURR NAME_CONTRACT_TYPE  AMT_ANNUITY  AMT_APPLICATION  \\\n",
       "0     2030495      271877     Consumer loans     1730.430          17145.0   \n",
       "1     2802425      108129         Cash loans    25188.615         607500.0   \n",
       "2     2523466      122040         Cash loans    15060.735         112500.0   \n",
       "3     2819243      176158         Cash loans    47041.335         450000.0   \n",
       "4     1784265      202054         Cash loans    31924.395         337500.0   \n",
       "\n",
       "   AMT_CREDIT  AMT_DOWN_PAYMENT  AMT_GOODS_PRICE WEEKDAY_APPR_PROCESS_START  \\\n",
       "0     17145.0               0.0          17145.0                   SATURDAY   \n",
       "1    679671.0               NaN         607500.0                   THURSDAY   \n",
       "2    136444.5               NaN         112500.0                    TUESDAY   \n",
       "3    470790.0               NaN         450000.0                     MONDAY   \n",
       "4    404055.0               NaN         337500.0                   THURSDAY   \n",
       "\n",
       "   HOUR_APPR_PROCESS_START  ... NAME_SELLER_INDUSTRY  CNT_PAYMENT  \\\n",
       "0                       15  ...         Connectivity         12.0   \n",
       "1                       11  ...                  XNA         36.0   \n",
       "2                       11  ...                  XNA         12.0   \n",
       "3                        7  ...                  XNA         12.0   \n",
       "4                        9  ...                  XNA         24.0   \n",
       "\n",
       "   NAME_YIELD_GROUP       PRODUCT_COMBINATION  DAYS_FIRST_DRAWING  \\\n",
       "0            middle  POS mobile with interest            365243.0   \n",
       "1        low_action          Cash X-Sell: low            365243.0   \n",
       "2              high         Cash X-Sell: high            365243.0   \n",
       "3            middle       Cash X-Sell: middle            365243.0   \n",
       "4              high         Cash Street: high                 NaN   \n",
       "\n",
       "  DAYS_FIRST_DUE DAYS_LAST_DUE_1ST_VERSION  DAYS_LAST_DUE DAYS_TERMINATION  \\\n",
       "0          -42.0                     300.0          -42.0            -37.0   \n",
       "1         -134.0                     916.0       365243.0         365243.0   \n",
       "2         -271.0                      59.0       365243.0         365243.0   \n",
       "3         -482.0                    -152.0         -182.0           -177.0   \n",
       "4            NaN                       NaN            NaN              NaN   \n",
       "\n",
       "  NFLAG_INSURED_ON_APPROVAL  \n",
       "0                       0.0  \n",
       "1                       1.0  \n",
       "2                       1.0  \n",
       "3                       1.0  \n",
       "4                       NaN  \n",
       "\n",
       "[5 rows x 37 columns]"
      ]
     },
     "execution_count": 9,
     "metadata": {},
     "output_type": "execute_result"
    }
   ],
   "source": [
    "df_app.head()"
   ]
  },
  {
   "cell_type": "code",
   "execution_count": 10,
   "id": "8ab8075a-1ded-458e-a2da-bab470839101",
   "metadata": {},
   "outputs": [
    {
     "data": {
      "text/html": [
       "<div>\n",
       "<style scoped>\n",
       "    .dataframe tbody tr th:only-of-type {\n",
       "        vertical-align: middle;\n",
       "    }\n",
       "\n",
       "    .dataframe tbody tr th {\n",
       "        vertical-align: top;\n",
       "    }\n",
       "\n",
       "    .dataframe thead th {\n",
       "        text-align: right;\n",
       "    }\n",
       "</style>\n",
       "<table border=\"1\" class=\"dataframe\">\n",
       "  <thead>\n",
       "    <tr style=\"text-align: right;\">\n",
       "      <th></th>\n",
       "      <th>SK_ID_PREV</th>\n",
       "      <th>SK_ID_CURR</th>\n",
       "      <th>NAME_CONTRACT_TYPE</th>\n",
       "      <th>AMT_ANNUITY</th>\n",
       "      <th>AMT_APPLICATION</th>\n",
       "      <th>AMT_CREDIT</th>\n",
       "      <th>AMT_DOWN_PAYMENT</th>\n",
       "      <th>AMT_GOODS_PRICE</th>\n",
       "      <th>WEEKDAY_APPR_PROCESS_START</th>\n",
       "      <th>HOUR_APPR_PROCESS_START</th>\n",
       "      <th>...</th>\n",
       "      <th>NAME_SELLER_INDUSTRY</th>\n",
       "      <th>CNT_PAYMENT</th>\n",
       "      <th>NAME_YIELD_GROUP</th>\n",
       "      <th>PRODUCT_COMBINATION</th>\n",
       "      <th>DAYS_FIRST_DRAWING</th>\n",
       "      <th>DAYS_FIRST_DUE</th>\n",
       "      <th>DAYS_LAST_DUE_1ST_VERSION</th>\n",
       "      <th>DAYS_LAST_DUE</th>\n",
       "      <th>DAYS_TERMINATION</th>\n",
       "      <th>NFLAG_INSURED_ON_APPROVAL</th>\n",
       "    </tr>\n",
       "  </thead>\n",
       "  <tbody>\n",
       "    <tr>\n",
       "      <th>49994</th>\n",
       "      <td>1171956</td>\n",
       "      <td>339569</td>\n",
       "      <td>Cash loans</td>\n",
       "      <td>NaN</td>\n",
       "      <td>0.0</td>\n",
       "      <td>0.0</td>\n",
       "      <td>NaN</td>\n",
       "      <td>NaN</td>\n",
       "      <td>THURSDAY</td>\n",
       "      <td>11</td>\n",
       "      <td>...</td>\n",
       "      <td>XNA</td>\n",
       "      <td>NaN</td>\n",
       "      <td>XNA</td>\n",
       "      <td>Cash</td>\n",
       "      <td>NaN</td>\n",
       "      <td>NaN</td>\n",
       "      <td>NaN</td>\n",
       "      <td>NaN</td>\n",
       "      <td>NaN</td>\n",
       "      <td>NaN</td>\n",
       "    </tr>\n",
       "    <tr>\n",
       "      <th>49995</th>\n",
       "      <td>1904808</td>\n",
       "      <td>363980</td>\n",
       "      <td>Cash loans</td>\n",
       "      <td>NaN</td>\n",
       "      <td>0.0</td>\n",
       "      <td>0.0</td>\n",
       "      <td>NaN</td>\n",
       "      <td>NaN</td>\n",
       "      <td>FRIDAY</td>\n",
       "      <td>10</td>\n",
       "      <td>...</td>\n",
       "      <td>XNA</td>\n",
       "      <td>NaN</td>\n",
       "      <td>XNA</td>\n",
       "      <td>Cash</td>\n",
       "      <td>NaN</td>\n",
       "      <td>NaN</td>\n",
       "      <td>NaN</td>\n",
       "      <td>NaN</td>\n",
       "      <td>NaN</td>\n",
       "      <td>NaN</td>\n",
       "    </tr>\n",
       "    <tr>\n",
       "      <th>49996</th>\n",
       "      <td>2331005</td>\n",
       "      <td>231295</td>\n",
       "      <td>Cash loans</td>\n",
       "      <td>22176.405</td>\n",
       "      <td>180000.0</td>\n",
       "      <td>216418.5</td>\n",
       "      <td>NaN</td>\n",
       "      <td>180000.0</td>\n",
       "      <td>TUESDAY</td>\n",
       "      <td>12</td>\n",
       "      <td>...</td>\n",
       "      <td>XNA</td>\n",
       "      <td>12.0</td>\n",
       "      <td>middle</td>\n",
       "      <td>Cash X-Sell: middle</td>\n",
       "      <td>365243.0</td>\n",
       "      <td>-670.0</td>\n",
       "      <td>-340.0</td>\n",
       "      <td>-340.0</td>\n",
       "      <td>-338.0</td>\n",
       "      <td>1.0</td>\n",
       "    </tr>\n",
       "    <tr>\n",
       "      <th>49997</th>\n",
       "      <td>1960897</td>\n",
       "      <td>346691</td>\n",
       "      <td>Cash loans</td>\n",
       "      <td>NaN</td>\n",
       "      <td>0.0</td>\n",
       "      <td>0.0</td>\n",
       "      <td>NaN</td>\n",
       "      <td>NaN</td>\n",
       "      <td>WEDNESDAY</td>\n",
       "      <td>16</td>\n",
       "      <td>...</td>\n",
       "      <td>XNA</td>\n",
       "      <td>NaN</td>\n",
       "      <td>XNA</td>\n",
       "      <td>Cash</td>\n",
       "      <td>NaN</td>\n",
       "      <td>NaN</td>\n",
       "      <td>NaN</td>\n",
       "      <td>NaN</td>\n",
       "      <td>NaN</td>\n",
       "      <td>NaN</td>\n",
       "    </tr>\n",
       "    <tr>\n",
       "      <th>49998</th>\n",
       "      <td>1979352</td>\n",
       "      <td>363244</td>\n",
       "      <td>Cash loans</td>\n",
       "      <td>24909.390</td>\n",
       "      <td>360000.0</td>\n",
       "      <td>409896.0</td>\n",
       "      <td>NaN</td>\n",
       "      <td>360000.0</td>\n",
       "      <td>FRIDAY</td>\n",
       "      <td>18</td>\n",
       "      <td>...</td>\n",
       "      <td>XNA</td>\n",
       "      <td>36.0</td>\n",
       "      <td>high</td>\n",
       "      <td>Cash X-Sell: high</td>\n",
       "      <td>NaN</td>\n",
       "      <td>NaN</td>\n",
       "      <td>NaN</td>\n",
       "      <td>NaN</td>\n",
       "      <td>NaN</td>\n",
       "      <td>NaN</td>\n",
       "    </tr>\n",
       "  </tbody>\n",
       "</table>\n",
       "<p>5 rows × 37 columns</p>\n",
       "</div>"
      ],
      "text/plain": [
       "       SK_ID_PREV  SK_ID_CURR NAME_CONTRACT_TYPE  AMT_ANNUITY  \\\n",
       "49994     1171956      339569         Cash loans          NaN   \n",
       "49995     1904808      363980         Cash loans          NaN   \n",
       "49996     2331005      231295         Cash loans    22176.405   \n",
       "49997     1960897      346691         Cash loans          NaN   \n",
       "49998     1979352      363244         Cash loans    24909.390   \n",
       "\n",
       "       AMT_APPLICATION  AMT_CREDIT  AMT_DOWN_PAYMENT  AMT_GOODS_PRICE  \\\n",
       "49994              0.0         0.0               NaN              NaN   \n",
       "49995              0.0         0.0               NaN              NaN   \n",
       "49996         180000.0    216418.5               NaN         180000.0   \n",
       "49997              0.0         0.0               NaN              NaN   \n",
       "49998         360000.0    409896.0               NaN         360000.0   \n",
       "\n",
       "      WEEKDAY_APPR_PROCESS_START  HOUR_APPR_PROCESS_START  ...  \\\n",
       "49994                   THURSDAY                       11  ...   \n",
       "49995                     FRIDAY                       10  ...   \n",
       "49996                    TUESDAY                       12  ...   \n",
       "49997                  WEDNESDAY                       16  ...   \n",
       "49998                     FRIDAY                       18  ...   \n",
       "\n",
       "      NAME_SELLER_INDUSTRY  CNT_PAYMENT  NAME_YIELD_GROUP  \\\n",
       "49994                  XNA          NaN               XNA   \n",
       "49995                  XNA          NaN               XNA   \n",
       "49996                  XNA         12.0            middle   \n",
       "49997                  XNA          NaN               XNA   \n",
       "49998                  XNA         36.0              high   \n",
       "\n",
       "       PRODUCT_COMBINATION  DAYS_FIRST_DRAWING DAYS_FIRST_DUE  \\\n",
       "49994                 Cash                 NaN            NaN   \n",
       "49995                 Cash                 NaN            NaN   \n",
       "49996  Cash X-Sell: middle            365243.0         -670.0   \n",
       "49997                 Cash                 NaN            NaN   \n",
       "49998    Cash X-Sell: high                 NaN            NaN   \n",
       "\n",
       "      DAYS_LAST_DUE_1ST_VERSION  DAYS_LAST_DUE DAYS_TERMINATION  \\\n",
       "49994                       NaN            NaN              NaN   \n",
       "49995                       NaN            NaN              NaN   \n",
       "49996                    -340.0         -340.0           -338.0   \n",
       "49997                       NaN            NaN              NaN   \n",
       "49998                       NaN            NaN              NaN   \n",
       "\n",
       "      NFLAG_INSURED_ON_APPROVAL  \n",
       "49994                       NaN  \n",
       "49995                       NaN  \n",
       "49996                       1.0  \n",
       "49997                       NaN  \n",
       "49998                       NaN  \n",
       "\n",
       "[5 rows x 37 columns]"
      ]
     },
     "execution_count": 10,
     "metadata": {},
     "output_type": "execute_result"
    }
   ],
   "source": [
    "df_app.tail()"
   ]
  },
  {
   "cell_type": "code",
   "execution_count": 11,
   "id": "c500ce45-100b-4337-bcd6-39e6204ccaa8",
   "metadata": {},
   "outputs": [
    {
     "name": "stdout",
     "output_type": "stream",
     "text": [
      "<class 'pandas.core.frame.DataFrame'>\n",
      "RangeIndex: 49999 entries, 0 to 49998\n",
      "Data columns (total 37 columns):\n",
      " #   Column                       Non-Null Count  Dtype  \n",
      "---  ------                       --------------  -----  \n",
      " 0   SK_ID_PREV                   49999 non-null  int64  \n",
      " 1   SK_ID_CURR                   49999 non-null  int64  \n",
      " 2   NAME_CONTRACT_TYPE           49999 non-null  object \n",
      " 3   AMT_ANNUITY                  39407 non-null  float64\n",
      " 4   AMT_APPLICATION              49999 non-null  float64\n",
      " 5   AMT_CREDIT                   49999 non-null  float64\n",
      " 6   AMT_DOWN_PAYMENT             24801 non-null  float64\n",
      " 7   AMT_GOODS_PRICE              39255 non-null  float64\n",
      " 8   WEEKDAY_APPR_PROCESS_START   49999 non-null  object \n",
      " 9   HOUR_APPR_PROCESS_START      49999 non-null  int64  \n",
      " 10  FLAG_LAST_APPL_PER_CONTRACT  49999 non-null  object \n",
      " 11  NFLAG_LAST_APPL_IN_DAY       49999 non-null  int64  \n",
      " 12  RATE_DOWN_PAYMENT            24801 non-null  float64\n",
      " 13  RATE_INTEREST_PRIMARY        165 non-null    float64\n",
      " 14  RATE_INTEREST_PRIVILEGED     165 non-null    float64\n",
      " 15  NAME_CASH_LOAN_PURPOSE       49999 non-null  object \n",
      " 16  NAME_CONTRACT_STATUS         49999 non-null  object \n",
      " 17  DAYS_DECISION                49999 non-null  int64  \n",
      " 18  NAME_PAYMENT_TYPE            49999 non-null  object \n",
      " 19  CODE_REJECT_REASON           49999 non-null  object \n",
      " 20  NAME_TYPE_SUITE              25756 non-null  object \n",
      " 21  NAME_CLIENT_TYPE             49999 non-null  object \n",
      " 22  NAME_GOODS_CATEGORY          49999 non-null  object \n",
      " 23  NAME_PORTFOLIO               49999 non-null  object \n",
      " 24  NAME_PRODUCT_TYPE            49999 non-null  object \n",
      " 25  CHANNEL_TYPE                 49999 non-null  object \n",
      " 26  SELLERPLACE_AREA             49999 non-null  int64  \n",
      " 27  NAME_SELLER_INDUSTRY         49999 non-null  object \n",
      " 28  CNT_PAYMENT                  39407 non-null  float64\n",
      " 29  NAME_YIELD_GROUP             49999 non-null  object \n",
      " 30  PRODUCT_COMBINATION          49991 non-null  object \n",
      " 31  DAYS_FIRST_DRAWING           30839 non-null  float64\n",
      " 32  DAYS_FIRST_DUE               30839 non-null  float64\n",
      " 33  DAYS_LAST_DUE_1ST_VERSION    30839 non-null  float64\n",
      " 34  DAYS_LAST_DUE                30839 non-null  float64\n",
      " 35  DAYS_TERMINATION             30839 non-null  float64\n",
      " 36  NFLAG_INSURED_ON_APPROVAL    30839 non-null  float64\n",
      "dtypes: float64(15), int64(6), object(16)\n",
      "memory usage: 14.1+ MB\n"
     ]
    }
   ],
   "source": [
    "df_app.info()"
   ]
  },
  {
   "cell_type": "code",
   "execution_count": 12,
   "id": "ff59643c-0e10-4356-bc4b-59fc55c29f4d",
   "metadata": {},
   "outputs": [
    {
     "name": "stdout",
     "output_type": "stream",
     "text": [
      "<class 'pandas.core.frame.DataFrame'>\n",
      "RangeIndex: 49999 entries, 0 to 49998\n",
      "Data columns (total 37 columns):\n",
      " #   Column                       Non-Null Count  Dtype  \n",
      "---  ------                       --------------  -----  \n",
      " 0   SK_ID_PREV                   49999 non-null  int64  \n",
      " 1   SK_ID_CURR                   49999 non-null  int64  \n",
      " 2   NAME_CONTRACT_TYPE           49999 non-null  object \n",
      " 3   AMT_ANNUITY                  39407 non-null  float64\n",
      " 4   AMT_APPLICATION              49999 non-null  float64\n",
      " 5   AMT_CREDIT                   49999 non-null  float64\n",
      " 6   AMT_DOWN_PAYMENT             24801 non-null  float64\n",
      " 7   AMT_GOODS_PRICE              39255 non-null  float64\n",
      " 8   WEEKDAY_APPR_PROCESS_START   49999 non-null  object \n",
      " 9   HOUR_APPR_PROCESS_START      49999 non-null  int64  \n",
      " 10  FLAG_LAST_APPL_PER_CONTRACT  49999 non-null  object \n",
      " 11  NFLAG_LAST_APPL_IN_DAY       49999 non-null  int64  \n",
      " 12  RATE_DOWN_PAYMENT            24801 non-null  float64\n",
      " 13  RATE_INTEREST_PRIMARY        165 non-null    float64\n",
      " 14  RATE_INTEREST_PRIVILEGED     165 non-null    float64\n",
      " 15  NAME_CASH_LOAN_PURPOSE       49999 non-null  object \n",
      " 16  NAME_CONTRACT_STATUS         49999 non-null  object \n",
      " 17  DAYS_DECISION                49999 non-null  int64  \n",
      " 18  NAME_PAYMENT_TYPE            49999 non-null  object \n",
      " 19  CODE_REJECT_REASON           49999 non-null  object \n",
      " 20  NAME_TYPE_SUITE              25756 non-null  object \n",
      " 21  NAME_CLIENT_TYPE             49999 non-null  object \n",
      " 22  NAME_GOODS_CATEGORY          49999 non-null  object \n",
      " 23  NAME_PORTFOLIO               49999 non-null  object \n",
      " 24  NAME_PRODUCT_TYPE            49999 non-null  object \n",
      " 25  CHANNEL_TYPE                 49999 non-null  object \n",
      " 26  SELLERPLACE_AREA             49999 non-null  int64  \n",
      " 27  NAME_SELLER_INDUSTRY         49999 non-null  object \n",
      " 28  CNT_PAYMENT                  39407 non-null  float64\n",
      " 29  NAME_YIELD_GROUP             49999 non-null  object \n",
      " 30  PRODUCT_COMBINATION          49991 non-null  object \n",
      " 31  DAYS_FIRST_DRAWING           30839 non-null  float64\n",
      " 32  DAYS_FIRST_DUE               30839 non-null  float64\n",
      " 33  DAYS_LAST_DUE_1ST_VERSION    30839 non-null  float64\n",
      " 34  DAYS_LAST_DUE                30839 non-null  float64\n",
      " 35  DAYS_TERMINATION             30839 non-null  float64\n",
      " 36  NFLAG_INSURED_ON_APPROVAL    30839 non-null  float64\n",
      "dtypes: float64(15), int64(6), object(16)\n",
      "memory usage: 14.1+ MB\n"
     ]
    }
   ],
   "source": [
    "df_app.info(verbose=True)"
   ]
  },
  {
   "cell_type": "code",
   "execution_count": 13,
   "id": "850b25c8-5502-4810-9ffc-34664ba98de6",
   "metadata": {},
   "outputs": [
    {
     "name": "stdout",
     "output_type": "stream",
     "text": [
      "<class 'pandas.core.frame.DataFrame'>\n",
      "RangeIndex: 49999 entries, 0 to 49998\n",
      "Data columns (total 37 columns):\n",
      " #   Column                       Non-Null Count  Dtype  \n",
      "---  ------                       --------------  -----  \n",
      " 0   SK_ID_PREV                   49999 non-null  int64  \n",
      " 1   SK_ID_CURR                   49999 non-null  int64  \n",
      " 2   NAME_CONTRACT_TYPE           49999 non-null  object \n",
      " 3   AMT_ANNUITY                  39407 non-null  float64\n",
      " 4   AMT_APPLICATION              49999 non-null  float64\n",
      " 5   AMT_CREDIT                   49999 non-null  float64\n",
      " 6   AMT_DOWN_PAYMENT             24801 non-null  float64\n",
      " 7   AMT_GOODS_PRICE              39255 non-null  float64\n",
      " 8   WEEKDAY_APPR_PROCESS_START   49999 non-null  object \n",
      " 9   HOUR_APPR_PROCESS_START      49999 non-null  int64  \n",
      " 10  FLAG_LAST_APPL_PER_CONTRACT  49999 non-null  object \n",
      " 11  NFLAG_LAST_APPL_IN_DAY       49999 non-null  int64  \n",
      " 12  RATE_DOWN_PAYMENT            24801 non-null  float64\n",
      " 13  RATE_INTEREST_PRIMARY        165 non-null    float64\n",
      " 14  RATE_INTEREST_PRIVILEGED     165 non-null    float64\n",
      " 15  NAME_CASH_LOAN_PURPOSE       49999 non-null  object \n",
      " 16  NAME_CONTRACT_STATUS         49999 non-null  object \n",
      " 17  DAYS_DECISION                49999 non-null  int64  \n",
      " 18  NAME_PAYMENT_TYPE            49999 non-null  object \n",
      " 19  CODE_REJECT_REASON           49999 non-null  object \n",
      " 20  NAME_TYPE_SUITE              25756 non-null  object \n",
      " 21  NAME_CLIENT_TYPE             49999 non-null  object \n",
      " 22  NAME_GOODS_CATEGORY          49999 non-null  object \n",
      " 23  NAME_PORTFOLIO               49999 non-null  object \n",
      " 24  NAME_PRODUCT_TYPE            49999 non-null  object \n",
      " 25  CHANNEL_TYPE                 49999 non-null  object \n",
      " 26  SELLERPLACE_AREA             49999 non-null  int64  \n",
      " 27  NAME_SELLER_INDUSTRY         49999 non-null  object \n",
      " 28  CNT_PAYMENT                  39407 non-null  float64\n",
      " 29  NAME_YIELD_GROUP             49999 non-null  object \n",
      " 30  PRODUCT_COMBINATION          49991 non-null  object \n",
      " 31  DAYS_FIRST_DRAWING           30839 non-null  float64\n",
      " 32  DAYS_FIRST_DUE               30839 non-null  float64\n",
      " 33  DAYS_LAST_DUE_1ST_VERSION    30839 non-null  float64\n",
      " 34  DAYS_LAST_DUE                30839 non-null  float64\n",
      " 35  DAYS_TERMINATION             30839 non-null  float64\n",
      " 36  NFLAG_INSURED_ON_APPROVAL    30839 non-null  float64\n",
      "dtypes: float64(15), int64(6), object(16)\n",
      "memory usage: 14.1+ MB\n"
     ]
    }
   ],
   "source": [
    "df_app.info(verbose=True,show_counts=True)"
   ]
  },
  {
   "cell_type": "code",
   "execution_count": 14,
   "id": "5a91438a-0361-4f73-b972-670dd74b1dca",
   "metadata": {},
   "outputs": [
    {
     "data": {
      "text/html": [
       "<div>\n",
       "<style scoped>\n",
       "    .dataframe tbody tr th:only-of-type {\n",
       "        vertical-align: middle;\n",
       "    }\n",
       "\n",
       "    .dataframe tbody tr th {\n",
       "        vertical-align: top;\n",
       "    }\n",
       "\n",
       "    .dataframe thead th {\n",
       "        text-align: right;\n",
       "    }\n",
       "</style>\n",
       "<table border=\"1\" class=\"dataframe\">\n",
       "  <thead>\n",
       "    <tr style=\"text-align: right;\">\n",
       "      <th></th>\n",
       "      <th>SK_ID_PREV</th>\n",
       "      <th>SK_ID_CURR</th>\n",
       "      <th>AMT_ANNUITY</th>\n",
       "      <th>AMT_APPLICATION</th>\n",
       "      <th>AMT_CREDIT</th>\n",
       "      <th>AMT_DOWN_PAYMENT</th>\n",
       "      <th>AMT_GOODS_PRICE</th>\n",
       "      <th>HOUR_APPR_PROCESS_START</th>\n",
       "      <th>NFLAG_LAST_APPL_IN_DAY</th>\n",
       "      <th>RATE_DOWN_PAYMENT</th>\n",
       "      <th>...</th>\n",
       "      <th>RATE_INTEREST_PRIVILEGED</th>\n",
       "      <th>DAYS_DECISION</th>\n",
       "      <th>SELLERPLACE_AREA</th>\n",
       "      <th>CNT_PAYMENT</th>\n",
       "      <th>DAYS_FIRST_DRAWING</th>\n",
       "      <th>DAYS_FIRST_DUE</th>\n",
       "      <th>DAYS_LAST_DUE_1ST_VERSION</th>\n",
       "      <th>DAYS_LAST_DUE</th>\n",
       "      <th>DAYS_TERMINATION</th>\n",
       "      <th>NFLAG_INSURED_ON_APPROVAL</th>\n",
       "    </tr>\n",
       "  </thead>\n",
       "  <tbody>\n",
       "    <tr>\n",
       "      <th>count</th>\n",
       "      <td>4.999900e+04</td>\n",
       "      <td>49999.000000</td>\n",
       "      <td>39407.000000</td>\n",
       "      <td>4.999900e+04</td>\n",
       "      <td>4.999900e+04</td>\n",
       "      <td>2.480100e+04</td>\n",
       "      <td>3.925500e+04</td>\n",
       "      <td>49999.000000</td>\n",
       "      <td>49999.000000</td>\n",
       "      <td>24801.000000</td>\n",
       "      <td>...</td>\n",
       "      <td>165.000000</td>\n",
       "      <td>49999.000000</td>\n",
       "      <td>4.999900e+04</td>\n",
       "      <td>39407.000000</td>\n",
       "      <td>30839.000000</td>\n",
       "      <td>30839.000000</td>\n",
       "      <td>30839.000000</td>\n",
       "      <td>30839.000000</td>\n",
       "      <td>30839.000000</td>\n",
       "      <td>30839.000000</td>\n",
       "    </tr>\n",
       "    <tr>\n",
       "      <th>mean</th>\n",
       "      <td>1.922254e+06</td>\n",
       "      <td>278983.187604</td>\n",
       "      <td>15482.596847</td>\n",
       "      <td>1.688925e+05</td>\n",
       "      <td>1.885429e+05</td>\n",
       "      <td>6.557571e+03</td>\n",
       "      <td>2.151414e+05</td>\n",
       "      <td>12.478330</td>\n",
       "      <td>0.996500</td>\n",
       "      <td>0.079083</td>\n",
       "      <td>...</td>\n",
       "      <td>0.787674</td>\n",
       "      <td>-900.112622</td>\n",
       "      <td>4.016558e+02</td>\n",
       "      <td>15.555891</td>\n",
       "      <td>344485.142806</td>\n",
       "      <td>14217.240150</td>\n",
       "      <td>31528.148611</td>\n",
       "      <td>76724.982101</td>\n",
       "      <td>81666.162586</td>\n",
       "      <td>0.322352</td>\n",
       "    </tr>\n",
       "    <tr>\n",
       "      <th>std</th>\n",
       "      <td>5.351980e+05</td>\n",
       "      <td>102780.124434</td>\n",
       "      <td>14530.971854</td>\n",
       "      <td>2.822035e+05</td>\n",
       "      <td>3.084736e+05</td>\n",
       "      <td>1.744458e+04</td>\n",
       "      <td>3.024993e+05</td>\n",
       "      <td>3.333012</td>\n",
       "      <td>0.059058</td>\n",
       "      <td>0.107658</td>\n",
       "      <td>...</td>\n",
       "      <td>0.091985</td>\n",
       "      <td>786.531303</td>\n",
       "      <td>1.793772e+04</td>\n",
       "      <td>13.985174</td>\n",
       "      <td>84683.650627</td>\n",
       "      <td>73348.984383</td>\n",
       "      <td>103691.881189</td>\n",
       "      <td>149757.893751</td>\n",
       "      <td>153101.159809</td>\n",
       "      <td>0.467384</td>\n",
       "    </tr>\n",
       "    <tr>\n",
       "      <th>min</th>\n",
       "      <td>1.000001e+06</td>\n",
       "      <td>100007.000000</td>\n",
       "      <td>0.000000</td>\n",
       "      <td>0.000000e+00</td>\n",
       "      <td>0.000000e+00</td>\n",
       "      <td>0.000000e+00</td>\n",
       "      <td>0.000000e+00</td>\n",
       "      <td>0.000000</td>\n",
       "      <td>0.000000</td>\n",
       "      <td>0.000000</td>\n",
       "      <td>...</td>\n",
       "      <td>0.424419</td>\n",
       "      <td>-2922.000000</td>\n",
       "      <td>-1.000000e+00</td>\n",
       "      <td>0.000000</td>\n",
       "      <td>-2910.000000</td>\n",
       "      <td>-2891.000000</td>\n",
       "      <td>-2800.000000</td>\n",
       "      <td>-2850.000000</td>\n",
       "      <td>-2844.000000</td>\n",
       "      <td>0.000000</td>\n",
       "    </tr>\n",
       "    <tr>\n",
       "      <th>25%</th>\n",
       "      <td>1.457920e+06</td>\n",
       "      <td>189919.500000</td>\n",
       "      <td>6122.835000</td>\n",
       "      <td>2.204550e+04</td>\n",
       "      <td>2.605500e+04</td>\n",
       "      <td>0.000000e+00</td>\n",
       "      <td>4.941000e+04</td>\n",
       "      <td>10.000000</td>\n",
       "      <td>1.000000</td>\n",
       "      <td>0.000000</td>\n",
       "      <td>...</td>\n",
       "      <td>0.715645</td>\n",
       "      <td>-1335.000000</td>\n",
       "      <td>-1.000000e+00</td>\n",
       "      <td>6.000000</td>\n",
       "      <td>365243.000000</td>\n",
       "      <td>-1642.000000</td>\n",
       "      <td>-1270.000000</td>\n",
       "      <td>-1337.000000</td>\n",
       "      <td>-1293.000000</td>\n",
       "      <td>0.000000</td>\n",
       "    </tr>\n",
       "    <tr>\n",
       "      <th>50%</th>\n",
       "      <td>1.920889e+06</td>\n",
       "      <td>279264.000000</td>\n",
       "      <td>10879.920000</td>\n",
       "      <td>7.155000e+04</td>\n",
       "      <td>7.890750e+04</td>\n",
       "      <td>1.566000e+03</td>\n",
       "      <td>1.040175e+05</td>\n",
       "      <td>12.000000</td>\n",
       "      <td>1.000000</td>\n",
       "      <td>0.049732</td>\n",
       "      <td>...</td>\n",
       "      <td>0.835095</td>\n",
       "      <td>-599.000000</td>\n",
       "      <td>1.000000e+01</td>\n",
       "      <td>12.000000</td>\n",
       "      <td>365243.000000</td>\n",
       "      <td>-822.000000</td>\n",
       "      <td>-366.000000</td>\n",
       "      <td>-536.000000</td>\n",
       "      <td>-500.000000</td>\n",
       "      <td>0.000000</td>\n",
       "    </tr>\n",
       "    <tr>\n",
       "      <th>75%</th>\n",
       "      <td>2.388632e+06</td>\n",
       "      <td>368527.500000</td>\n",
       "      <td>19669.140000</td>\n",
       "      <td>1.800000e+05</td>\n",
       "      <td>1.981058e+05</td>\n",
       "      <td>7.875000e+03</td>\n",
       "      <td>2.250000e+05</td>\n",
       "      <td>15.000000</td>\n",
       "      <td>1.000000</td>\n",
       "      <td>0.108909</td>\n",
       "      <td>...</td>\n",
       "      <td>0.852537</td>\n",
       "      <td>-292.000000</td>\n",
       "      <td>1.000000e+02</td>\n",
       "      <td>18.000000</td>\n",
       "      <td>365243.000000</td>\n",
       "      <td>-404.000000</td>\n",
       "      <td>113.000000</td>\n",
       "      <td>-71.000000</td>\n",
       "      <td>-45.000000</td>\n",
       "      <td>1.000000</td>\n",
       "    </tr>\n",
       "    <tr>\n",
       "      <th>max</th>\n",
       "      <td>2.845367e+06</td>\n",
       "      <td>456254.000000</td>\n",
       "      <td>234478.395000</td>\n",
       "      <td>3.826372e+06</td>\n",
       "      <td>4.104351e+06</td>\n",
       "      <td>1.035000e+06</td>\n",
       "      <td>3.826372e+06</td>\n",
       "      <td>23.000000</td>\n",
       "      <td>1.000000</td>\n",
       "      <td>0.944776</td>\n",
       "      <td>...</td>\n",
       "      <td>0.867336</td>\n",
       "      <td>-2.000000</td>\n",
       "      <td>4.000000e+06</td>\n",
       "      <td>60.000000</td>\n",
       "      <td>365243.000000</td>\n",
       "      <td>365243.000000</td>\n",
       "      <td>365243.000000</td>\n",
       "      <td>365243.000000</td>\n",
       "      <td>365243.000000</td>\n",
       "      <td>1.000000</td>\n",
       "    </tr>\n",
       "  </tbody>\n",
       "</table>\n",
       "<p>8 rows × 21 columns</p>\n",
       "</div>"
      ],
      "text/plain": [
       "         SK_ID_PREV     SK_ID_CURR    AMT_ANNUITY  AMT_APPLICATION  \\\n",
       "count  4.999900e+04   49999.000000   39407.000000     4.999900e+04   \n",
       "mean   1.922254e+06  278983.187604   15482.596847     1.688925e+05   \n",
       "std    5.351980e+05  102780.124434   14530.971854     2.822035e+05   \n",
       "min    1.000001e+06  100007.000000       0.000000     0.000000e+00   \n",
       "25%    1.457920e+06  189919.500000    6122.835000     2.204550e+04   \n",
       "50%    1.920889e+06  279264.000000   10879.920000     7.155000e+04   \n",
       "75%    2.388632e+06  368527.500000   19669.140000     1.800000e+05   \n",
       "max    2.845367e+06  456254.000000  234478.395000     3.826372e+06   \n",
       "\n",
       "         AMT_CREDIT  AMT_DOWN_PAYMENT  AMT_GOODS_PRICE  \\\n",
       "count  4.999900e+04      2.480100e+04     3.925500e+04   \n",
       "mean   1.885429e+05      6.557571e+03     2.151414e+05   \n",
       "std    3.084736e+05      1.744458e+04     3.024993e+05   \n",
       "min    0.000000e+00      0.000000e+00     0.000000e+00   \n",
       "25%    2.605500e+04      0.000000e+00     4.941000e+04   \n",
       "50%    7.890750e+04      1.566000e+03     1.040175e+05   \n",
       "75%    1.981058e+05      7.875000e+03     2.250000e+05   \n",
       "max    4.104351e+06      1.035000e+06     3.826372e+06   \n",
       "\n",
       "       HOUR_APPR_PROCESS_START  NFLAG_LAST_APPL_IN_DAY  RATE_DOWN_PAYMENT  \\\n",
       "count             49999.000000            49999.000000       24801.000000   \n",
       "mean                 12.478330                0.996500           0.079083   \n",
       "std                   3.333012                0.059058           0.107658   \n",
       "min                   0.000000                0.000000           0.000000   \n",
       "25%                  10.000000                1.000000           0.000000   \n",
       "50%                  12.000000                1.000000           0.049732   \n",
       "75%                  15.000000                1.000000           0.108909   \n",
       "max                  23.000000                1.000000           0.944776   \n",
       "\n",
       "       ...  RATE_INTEREST_PRIVILEGED  DAYS_DECISION  SELLERPLACE_AREA  \\\n",
       "count  ...                165.000000   49999.000000      4.999900e+04   \n",
       "mean   ...                  0.787674    -900.112622      4.016558e+02   \n",
       "std    ...                  0.091985     786.531303      1.793772e+04   \n",
       "min    ...                  0.424419   -2922.000000     -1.000000e+00   \n",
       "25%    ...                  0.715645   -1335.000000     -1.000000e+00   \n",
       "50%    ...                  0.835095    -599.000000      1.000000e+01   \n",
       "75%    ...                  0.852537    -292.000000      1.000000e+02   \n",
       "max    ...                  0.867336      -2.000000      4.000000e+06   \n",
       "\n",
       "        CNT_PAYMENT  DAYS_FIRST_DRAWING  DAYS_FIRST_DUE  \\\n",
       "count  39407.000000        30839.000000    30839.000000   \n",
       "mean      15.555891       344485.142806    14217.240150   \n",
       "std       13.985174        84683.650627    73348.984383   \n",
       "min        0.000000        -2910.000000    -2891.000000   \n",
       "25%        6.000000       365243.000000    -1642.000000   \n",
       "50%       12.000000       365243.000000     -822.000000   \n",
       "75%       18.000000       365243.000000     -404.000000   \n",
       "max       60.000000       365243.000000   365243.000000   \n",
       "\n",
       "       DAYS_LAST_DUE_1ST_VERSION  DAYS_LAST_DUE  DAYS_TERMINATION  \\\n",
       "count               30839.000000   30839.000000      30839.000000   \n",
       "mean                31528.148611   76724.982101      81666.162586   \n",
       "std                103691.881189  149757.893751     153101.159809   \n",
       "min                 -2800.000000   -2850.000000      -2844.000000   \n",
       "25%                 -1270.000000   -1337.000000      -1293.000000   \n",
       "50%                  -366.000000    -536.000000       -500.000000   \n",
       "75%                   113.000000     -71.000000        -45.000000   \n",
       "max                365243.000000  365243.000000     365243.000000   \n",
       "\n",
       "       NFLAG_INSURED_ON_APPROVAL  \n",
       "count               30839.000000  \n",
       "mean                    0.322352  \n",
       "std                     0.467384  \n",
       "min                     0.000000  \n",
       "25%                     0.000000  \n",
       "50%                     0.000000  \n",
       "75%                     1.000000  \n",
       "max                     1.000000  \n",
       "\n",
       "[8 rows x 21 columns]"
      ]
     },
     "execution_count": 14,
     "metadata": {},
     "output_type": "execute_result"
    }
   ],
   "source": [
    "df_app.describe()"
   ]
  },
  {
   "cell_type": "code",
   "execution_count": 15,
   "id": "d4c27f76-274c-4f0b-af1f-8606669e301c",
   "metadata": {},
   "outputs": [
    {
     "data": {
      "text/plain": [
       "Index(['SK_ID_PREV', 'SK_ID_CURR', 'AMT_ANNUITY', 'AMT_APPLICATION',\n",
       "       'AMT_CREDIT', 'AMT_DOWN_PAYMENT', 'AMT_GOODS_PRICE',\n",
       "       'HOUR_APPR_PROCESS_START', 'NFLAG_LAST_APPL_IN_DAY',\n",
       "       'RATE_DOWN_PAYMENT', 'RATE_INTEREST_PRIMARY',\n",
       "       'RATE_INTEREST_PRIVILEGED', 'DAYS_DECISION', 'SELLERPLACE_AREA',\n",
       "       'CNT_PAYMENT', 'DAYS_FIRST_DRAWING', 'DAYS_FIRST_DUE',\n",
       "       'DAYS_LAST_DUE_1ST_VERSION', 'DAYS_LAST_DUE', 'DAYS_TERMINATION',\n",
       "       'NFLAG_INSURED_ON_APPROVAL'],\n",
       "      dtype='object')"
      ]
     },
     "execution_count": 15,
     "metadata": {},
     "output_type": "execute_result"
    }
   ],
   "source": [
    "df_app.describe().columns"
   ]
  },
  {
   "cell_type": "code",
   "execution_count": 16,
   "id": "12aaceeb-db9d-499b-b91a-22b3aebc4f59",
   "metadata": {},
   "outputs": [
    {
     "data": {
      "text/plain": [
       "['NAME_PRODUCT_TYPE',\n",
       " 'NAME_CLIENT_TYPE',\n",
       " 'NAME_TYPE_SUITE',\n",
       " 'PRODUCT_COMBINATION',\n",
       " 'NAME_YIELD_GROUP',\n",
       " 'WEEKDAY_APPR_PROCESS_START',\n",
       " 'CODE_REJECT_REASON',\n",
       " 'NAME_SELLER_INDUSTRY',\n",
       " 'FLAG_LAST_APPL_PER_CONTRACT',\n",
       " 'NAME_PORTFOLIO',\n",
       " 'NAME_CASH_LOAN_PURPOSE',\n",
       " 'NAME_PAYMENT_TYPE',\n",
       " 'NAME_GOODS_CATEGORY',\n",
       " 'CHANNEL_TYPE',\n",
       " 'NAME_CONTRACT_TYPE',\n",
       " 'NAME_CONTRACT_STATUS']"
      ]
     },
     "execution_count": 16,
     "metadata": {},
     "output_type": "execute_result"
    }
   ],
   "source": [
    "list(set(df_app.columns)-set(df_app.describe().columns))"
   ]
  },
  {
   "cell_type": "code",
   "execution_count": 100,
   "id": "efe0c78a-cc70-4eb2-98e7-bdf4e0d0c4fd",
   "metadata": {},
   "outputs": [],
   "source": [
    "import pandas as pd\n",
    "import numpy as np"
   ]
  },
  {
   "cell_type": "code",
   "execution_count": 102,
   "id": "43986ab7-6e91-4e5c-8000-a8905f335fc2",
   "metadata": {},
   "outputs": [
    {
     "ename": "KeyError",
     "evalue": "'CODE_GENDER'",
     "output_type": "error",
     "traceback": [
      "\u001b[1;31m---------------------------------------------------------------------------\u001b[0m",
      "\u001b[1;31mKeyError\u001b[0m                                  Traceback (most recent call last)",
      "File \u001b[1;32m~\\anaconda3\\Lib\\site-packages\\pandas\\core\\indexes\\base.py:3805\u001b[0m, in \u001b[0;36mIndex.get_loc\u001b[1;34m(self, key)\u001b[0m\n\u001b[0;32m   3804\u001b[0m \u001b[38;5;28;01mtry\u001b[39;00m:\n\u001b[1;32m-> 3805\u001b[0m     \u001b[38;5;28;01mreturn\u001b[39;00m \u001b[38;5;28mself\u001b[39m\u001b[38;5;241m.\u001b[39m_engine\u001b[38;5;241m.\u001b[39mget_loc(casted_key)\n\u001b[0;32m   3806\u001b[0m \u001b[38;5;28;01mexcept\u001b[39;00m \u001b[38;5;167;01mKeyError\u001b[39;00m \u001b[38;5;28;01mas\u001b[39;00m err:\n",
      "File \u001b[1;32mindex.pyx:167\u001b[0m, in \u001b[0;36mpandas._libs.index.IndexEngine.get_loc\u001b[1;34m()\u001b[0m\n",
      "File \u001b[1;32mindex.pyx:196\u001b[0m, in \u001b[0;36mpandas._libs.index.IndexEngine.get_loc\u001b[1;34m()\u001b[0m\n",
      "File \u001b[1;32mpandas\\\\_libs\\\\hashtable_class_helper.pxi:7081\u001b[0m, in \u001b[0;36mpandas._libs.hashtable.PyObjectHashTable.get_item\u001b[1;34m()\u001b[0m\n",
      "File \u001b[1;32mpandas\\\\_libs\\\\hashtable_class_helper.pxi:7089\u001b[0m, in \u001b[0;36mpandas._libs.hashtable.PyObjectHashTable.get_item\u001b[1;34m()\u001b[0m\n",
      "\u001b[1;31mKeyError\u001b[0m: 'CODE_GENDER'",
      "\nThe above exception was the direct cause of the following exception:\n",
      "\u001b[1;31mKeyError\u001b[0m                                  Traceback (most recent call last)",
      "Cell \u001b[1;32mIn[102], line 1\u001b[0m\n\u001b[1;32m----> 1\u001b[0m df_app[\u001b[38;5;124m\"\u001b[39m\u001b[38;5;124mCODE_GENDER\u001b[39m\u001b[38;5;124m\"\u001b[39m]\n",
      "File \u001b[1;32m~\\anaconda3\\Lib\\site-packages\\pandas\\core\\frame.py:4102\u001b[0m, in \u001b[0;36mDataFrame.__getitem__\u001b[1;34m(self, key)\u001b[0m\n\u001b[0;32m   4100\u001b[0m \u001b[38;5;28;01mif\u001b[39;00m \u001b[38;5;28mself\u001b[39m\u001b[38;5;241m.\u001b[39mcolumns\u001b[38;5;241m.\u001b[39mnlevels \u001b[38;5;241m>\u001b[39m \u001b[38;5;241m1\u001b[39m:\n\u001b[0;32m   4101\u001b[0m     \u001b[38;5;28;01mreturn\u001b[39;00m \u001b[38;5;28mself\u001b[39m\u001b[38;5;241m.\u001b[39m_getitem_multilevel(key)\n\u001b[1;32m-> 4102\u001b[0m indexer \u001b[38;5;241m=\u001b[39m \u001b[38;5;28mself\u001b[39m\u001b[38;5;241m.\u001b[39mcolumns\u001b[38;5;241m.\u001b[39mget_loc(key)\n\u001b[0;32m   4103\u001b[0m \u001b[38;5;28;01mif\u001b[39;00m is_integer(indexer):\n\u001b[0;32m   4104\u001b[0m     indexer \u001b[38;5;241m=\u001b[39m [indexer]\n",
      "File \u001b[1;32m~\\anaconda3\\Lib\\site-packages\\pandas\\core\\indexes\\base.py:3812\u001b[0m, in \u001b[0;36mIndex.get_loc\u001b[1;34m(self, key)\u001b[0m\n\u001b[0;32m   3807\u001b[0m     \u001b[38;5;28;01mif\u001b[39;00m \u001b[38;5;28misinstance\u001b[39m(casted_key, \u001b[38;5;28mslice\u001b[39m) \u001b[38;5;129;01mor\u001b[39;00m (\n\u001b[0;32m   3808\u001b[0m         \u001b[38;5;28misinstance\u001b[39m(casted_key, abc\u001b[38;5;241m.\u001b[39mIterable)\n\u001b[0;32m   3809\u001b[0m         \u001b[38;5;129;01mand\u001b[39;00m \u001b[38;5;28many\u001b[39m(\u001b[38;5;28misinstance\u001b[39m(x, \u001b[38;5;28mslice\u001b[39m) \u001b[38;5;28;01mfor\u001b[39;00m x \u001b[38;5;129;01min\u001b[39;00m casted_key)\n\u001b[0;32m   3810\u001b[0m     ):\n\u001b[0;32m   3811\u001b[0m         \u001b[38;5;28;01mraise\u001b[39;00m InvalidIndexError(key)\n\u001b[1;32m-> 3812\u001b[0m     \u001b[38;5;28;01mraise\u001b[39;00m \u001b[38;5;167;01mKeyError\u001b[39;00m(key) \u001b[38;5;28;01mfrom\u001b[39;00m \u001b[38;5;21;01merr\u001b[39;00m\n\u001b[0;32m   3813\u001b[0m \u001b[38;5;28;01mexcept\u001b[39;00m \u001b[38;5;167;01mTypeError\u001b[39;00m:\n\u001b[0;32m   3814\u001b[0m     \u001b[38;5;66;03m# If we have a listlike key, _check_indexing_error will raise\u001b[39;00m\n\u001b[0;32m   3815\u001b[0m     \u001b[38;5;66;03m#  InvalidIndexError. Otherwise we fall through and re-raise\u001b[39;00m\n\u001b[0;32m   3816\u001b[0m     \u001b[38;5;66;03m#  the TypeError.\u001b[39;00m\n\u001b[0;32m   3817\u001b[0m     \u001b[38;5;28mself\u001b[39m\u001b[38;5;241m.\u001b[39m_check_indexing_error(key)\n",
      "\u001b[1;31mKeyError\u001b[0m: 'CODE_GENDER'"
     ]
    }
   ],
   "source": [
    "df_app[\"CODE_GENDER\"]"
   ]
  },
  {
   "cell_type": "code",
   "execution_count": 104,
   "id": "7d78822d-244b-4063-a83b-88f2bff9717d",
   "metadata": {},
   "outputs": [
    {
     "ename": "AttributeError",
     "evalue": "'DataFrame' object has no attribute 'CODE_GENDER'",
     "output_type": "error",
     "traceback": [
      "\u001b[1;31m---------------------------------------------------------------------------\u001b[0m",
      "\u001b[1;31mAttributeError\u001b[0m                            Traceback (most recent call last)",
      "\u001b[1;32m~\\AppData\\Local\\Temp\\ipykernel_24516\\3744979154.py\u001b[0m in \u001b[0;36m?\u001b[1;34m()\u001b[0m\n\u001b[1;32m----> 1\u001b[1;33m \u001b[0mdf_app\u001b[0m\u001b[1;33m.\u001b[0m\u001b[0mCODE_GENDER\u001b[0m\u001b[1;33m\u001b[0m\u001b[1;33m\u001b[0m\u001b[0m\n\u001b[0m",
      "\u001b[1;32m~\\anaconda3\\Lib\\site-packages\\pandas\\core\\generic.py\u001b[0m in \u001b[0;36m?\u001b[1;34m(self, name)\u001b[0m\n\u001b[0;32m   6295\u001b[0m             \u001b[1;32mand\u001b[0m \u001b[0mname\u001b[0m \u001b[1;32mnot\u001b[0m \u001b[1;32min\u001b[0m \u001b[0mself\u001b[0m\u001b[1;33m.\u001b[0m\u001b[0m_accessors\u001b[0m\u001b[1;33m\u001b[0m\u001b[1;33m\u001b[0m\u001b[0m\n\u001b[0;32m   6296\u001b[0m             \u001b[1;32mand\u001b[0m \u001b[0mself\u001b[0m\u001b[1;33m.\u001b[0m\u001b[0m_info_axis\u001b[0m\u001b[1;33m.\u001b[0m\u001b[0m_can_hold_identifiers_and_holds_name\u001b[0m\u001b[1;33m(\u001b[0m\u001b[0mname\u001b[0m\u001b[1;33m)\u001b[0m\u001b[1;33m\u001b[0m\u001b[1;33m\u001b[0m\u001b[0m\n\u001b[0;32m   6297\u001b[0m         \u001b[1;33m)\u001b[0m\u001b[1;33m:\u001b[0m\u001b[1;33m\u001b[0m\u001b[1;33m\u001b[0m\u001b[0m\n\u001b[0;32m   6298\u001b[0m             \u001b[1;32mreturn\u001b[0m \u001b[0mself\u001b[0m\u001b[1;33m[\u001b[0m\u001b[0mname\u001b[0m\u001b[1;33m]\u001b[0m\u001b[1;33m\u001b[0m\u001b[1;33m\u001b[0m\u001b[0m\n\u001b[1;32m-> 6299\u001b[1;33m         \u001b[1;32mreturn\u001b[0m \u001b[0mobject\u001b[0m\u001b[1;33m.\u001b[0m\u001b[0m__getattribute__\u001b[0m\u001b[1;33m(\u001b[0m\u001b[0mself\u001b[0m\u001b[1;33m,\u001b[0m \u001b[0mname\u001b[0m\u001b[1;33m)\u001b[0m\u001b[1;33m\u001b[0m\u001b[1;33m\u001b[0m\u001b[0m\n\u001b[0m",
      "\u001b[1;31mAttributeError\u001b[0m: 'DataFrame' object has no attribute 'CODE_GENDER'"
     ]
    }
   ],
   "source": [
    "df_app.CODE_GENDER"
   ]
  },
  {
   "cell_type": "code",
   "execution_count": 106,
   "id": "f5900c39-f107-4898-8d9b-c667cc014e4a",
   "metadata": {},
   "outputs": [
    {
     "ename": "KeyError",
     "evalue": "\"['CODE_GENDER'] not in index\"",
     "output_type": "error",
     "traceback": [
      "\u001b[1;31m---------------------------------------------------------------------------\u001b[0m",
      "\u001b[1;31mKeyError\u001b[0m                                  Traceback (most recent call last)",
      "Cell \u001b[1;32mIn[106], line 1\u001b[0m\n\u001b[1;32m----> 1\u001b[0m df_app[[\u001b[38;5;124m\"\u001b[39m\u001b[38;5;124mCODE_GENDER\u001b[39m\u001b[38;5;124m\"\u001b[39m,\u001b[38;5;124m\"\u001b[39m\u001b[38;5;124mAMT_ANNUITY\u001b[39m\u001b[38;5;124m\"\u001b[39m]]\n",
      "File \u001b[1;32m~\\anaconda3\\Lib\\site-packages\\pandas\\core\\frame.py:4108\u001b[0m, in \u001b[0;36mDataFrame.__getitem__\u001b[1;34m(self, key)\u001b[0m\n\u001b[0;32m   4106\u001b[0m     \u001b[38;5;28;01mif\u001b[39;00m is_iterator(key):\n\u001b[0;32m   4107\u001b[0m         key \u001b[38;5;241m=\u001b[39m \u001b[38;5;28mlist\u001b[39m(key)\n\u001b[1;32m-> 4108\u001b[0m     indexer \u001b[38;5;241m=\u001b[39m \u001b[38;5;28mself\u001b[39m\u001b[38;5;241m.\u001b[39mcolumns\u001b[38;5;241m.\u001b[39m_get_indexer_strict(key, \u001b[38;5;124m\"\u001b[39m\u001b[38;5;124mcolumns\u001b[39m\u001b[38;5;124m\"\u001b[39m)[\u001b[38;5;241m1\u001b[39m]\n\u001b[0;32m   4110\u001b[0m \u001b[38;5;66;03m# take() does not accept boolean indexers\u001b[39;00m\n\u001b[0;32m   4111\u001b[0m \u001b[38;5;28;01mif\u001b[39;00m \u001b[38;5;28mgetattr\u001b[39m(indexer, \u001b[38;5;124m\"\u001b[39m\u001b[38;5;124mdtype\u001b[39m\u001b[38;5;124m\"\u001b[39m, \u001b[38;5;28;01mNone\u001b[39;00m) \u001b[38;5;241m==\u001b[39m \u001b[38;5;28mbool\u001b[39m:\n",
      "File \u001b[1;32m~\\anaconda3\\Lib\\site-packages\\pandas\\core\\indexes\\base.py:6200\u001b[0m, in \u001b[0;36mIndex._get_indexer_strict\u001b[1;34m(self, key, axis_name)\u001b[0m\n\u001b[0;32m   6197\u001b[0m \u001b[38;5;28;01melse\u001b[39;00m:\n\u001b[0;32m   6198\u001b[0m     keyarr, indexer, new_indexer \u001b[38;5;241m=\u001b[39m \u001b[38;5;28mself\u001b[39m\u001b[38;5;241m.\u001b[39m_reindex_non_unique(keyarr)\n\u001b[1;32m-> 6200\u001b[0m \u001b[38;5;28mself\u001b[39m\u001b[38;5;241m.\u001b[39m_raise_if_missing(keyarr, indexer, axis_name)\n\u001b[0;32m   6202\u001b[0m keyarr \u001b[38;5;241m=\u001b[39m \u001b[38;5;28mself\u001b[39m\u001b[38;5;241m.\u001b[39mtake(indexer)\n\u001b[0;32m   6203\u001b[0m \u001b[38;5;28;01mif\u001b[39;00m \u001b[38;5;28misinstance\u001b[39m(key, Index):\n\u001b[0;32m   6204\u001b[0m     \u001b[38;5;66;03m# GH 42790 - Preserve name from an Index\u001b[39;00m\n",
      "File \u001b[1;32m~\\anaconda3\\Lib\\site-packages\\pandas\\core\\indexes\\base.py:6252\u001b[0m, in \u001b[0;36mIndex._raise_if_missing\u001b[1;34m(self, key, indexer, axis_name)\u001b[0m\n\u001b[0;32m   6249\u001b[0m     \u001b[38;5;28;01mraise\u001b[39;00m \u001b[38;5;167;01mKeyError\u001b[39;00m(\u001b[38;5;124mf\u001b[39m\u001b[38;5;124m\"\u001b[39m\u001b[38;5;124mNone of [\u001b[39m\u001b[38;5;132;01m{\u001b[39;00mkey\u001b[38;5;132;01m}\u001b[39;00m\u001b[38;5;124m] are in the [\u001b[39m\u001b[38;5;132;01m{\u001b[39;00maxis_name\u001b[38;5;132;01m}\u001b[39;00m\u001b[38;5;124m]\u001b[39m\u001b[38;5;124m\"\u001b[39m)\n\u001b[0;32m   6251\u001b[0m not_found \u001b[38;5;241m=\u001b[39m \u001b[38;5;28mlist\u001b[39m(ensure_index(key)[missing_mask\u001b[38;5;241m.\u001b[39mnonzero()[\u001b[38;5;241m0\u001b[39m]]\u001b[38;5;241m.\u001b[39munique())\n\u001b[1;32m-> 6252\u001b[0m \u001b[38;5;28;01mraise\u001b[39;00m \u001b[38;5;167;01mKeyError\u001b[39;00m(\u001b[38;5;124mf\u001b[39m\u001b[38;5;124m\"\u001b[39m\u001b[38;5;132;01m{\u001b[39;00mnot_found\u001b[38;5;132;01m}\u001b[39;00m\u001b[38;5;124m not in index\u001b[39m\u001b[38;5;124m\"\u001b[39m)\n",
      "\u001b[1;31mKeyError\u001b[0m: \"['CODE_GENDER'] not in index\""
     ]
    }
   ],
   "source": [
    "df_app[[\"CODE_GENDER\",\"AMT_ANNUITY\"]]"
   ]
  },
  {
   "cell_type": "code",
   "execution_count": 108,
   "id": "9c41a7d8-2ffe-4ee4-b32a-792bd4770595",
   "metadata": {},
   "outputs": [
    {
     "data": {
      "text/plain": [
       "SK_ID_PREV                     49999\n",
       "SK_ID_CURR                     44471\n",
       "NAME_CONTRACT_TYPE                 4\n",
       "AMT_ANNUITY                    28730\n",
       "AMT_APPLICATION                13551\n",
       "AMT_CREDIT                     18800\n",
       "AMT_DOWN_PAYMENT                4332\n",
       "AMT_GOODS_PRICE                13551\n",
       "WEEKDAY_APPR_PROCESS_START         7\n",
       "HOUR_APPR_PROCESS_START           24\n",
       "FLAG_LAST_APPL_PER_CONTRACT        2\n",
       "NFLAG_LAST_APPL_IN_DAY             2\n",
       "RATE_DOWN_PAYMENT              10511\n",
       "RATE_INTEREST_PRIMARY             27\n",
       "RATE_INTEREST_PRIVILEGED          11\n",
       "NAME_CASH_LOAN_PURPOSE            24\n",
       "NAME_CONTRACT_STATUS               4\n",
       "DAYS_DECISION                   2920\n",
       "NAME_PAYMENT_TYPE                  4\n",
       "CODE_REJECT_REASON                 9\n",
       "NAME_TYPE_SUITE                    7\n",
       "NAME_CLIENT_TYPE                   4\n",
       "NAME_GOODS_CATEGORY               26\n",
       "NAME_PORTFOLIO                     5\n",
       "NAME_PRODUCT_TYPE                  3\n",
       "CHANNEL_TYPE                       8\n",
       "SELLERPLACE_AREA                1190\n",
       "NAME_SELLER_INDUSTRY              11\n",
       "CNT_PAYMENT                       29\n",
       "NAME_YIELD_GROUP                   5\n",
       "PRODUCT_COMBINATION               17\n",
       "DAYS_FIRST_DRAWING              1076\n",
       "DAYS_FIRST_DUE                  2887\n",
       "DAYS_LAST_DUE_1ST_VERSION       4050\n",
       "DAYS_LAST_DUE                   2762\n",
       "DAYS_TERMINATION                2690\n",
       "NFLAG_INSURED_ON_APPROVAL          2\n",
       "dtype: int64"
      ]
     },
     "execution_count": 108,
     "metadata": {},
     "output_type": "execute_result"
    }
   ],
   "source": [
    "#unique value count return karta hai (nunique)\n",
    "# nunique() is a dataframe method that returns the unique value count of each column\n",
    "df_app.nunique()"
   ]
  },
  {
   "cell_type": "code",
   "execution_count": 110,
   "id": "31a6e489-e893-431e-b06a-de56f45dd1af",
   "metadata": {},
   "outputs": [
    {
     "ename": "KeyError",
     "evalue": "\"None of [Index(['CODE_GENDER'], dtype='object')] are in the [columns]\"",
     "output_type": "error",
     "traceback": [
      "\u001b[1;31m---------------------------------------------------------------------------\u001b[0m",
      "\u001b[1;31mKeyError\u001b[0m                                  Traceback (most recent call last)",
      "Cell \u001b[1;32mIn[110], line 1\u001b[0m\n\u001b[1;32m----> 1\u001b[0m df_app[[\u001b[38;5;124m\"\u001b[39m\u001b[38;5;124mCODE_GENDER\u001b[39m\u001b[38;5;124m\"\u001b[39m]]\u001b[38;5;241m.\u001b[39munique()\n",
      "File \u001b[1;32m~\\anaconda3\\Lib\\site-packages\\pandas\\core\\frame.py:4108\u001b[0m, in \u001b[0;36mDataFrame.__getitem__\u001b[1;34m(self, key)\u001b[0m\n\u001b[0;32m   4106\u001b[0m     \u001b[38;5;28;01mif\u001b[39;00m is_iterator(key):\n\u001b[0;32m   4107\u001b[0m         key \u001b[38;5;241m=\u001b[39m \u001b[38;5;28mlist\u001b[39m(key)\n\u001b[1;32m-> 4108\u001b[0m     indexer \u001b[38;5;241m=\u001b[39m \u001b[38;5;28mself\u001b[39m\u001b[38;5;241m.\u001b[39mcolumns\u001b[38;5;241m.\u001b[39m_get_indexer_strict(key, \u001b[38;5;124m\"\u001b[39m\u001b[38;5;124mcolumns\u001b[39m\u001b[38;5;124m\"\u001b[39m)[\u001b[38;5;241m1\u001b[39m]\n\u001b[0;32m   4110\u001b[0m \u001b[38;5;66;03m# take() does not accept boolean indexers\u001b[39;00m\n\u001b[0;32m   4111\u001b[0m \u001b[38;5;28;01mif\u001b[39;00m \u001b[38;5;28mgetattr\u001b[39m(indexer, \u001b[38;5;124m\"\u001b[39m\u001b[38;5;124mdtype\u001b[39m\u001b[38;5;124m\"\u001b[39m, \u001b[38;5;28;01mNone\u001b[39;00m) \u001b[38;5;241m==\u001b[39m \u001b[38;5;28mbool\u001b[39m:\n",
      "File \u001b[1;32m~\\anaconda3\\Lib\\site-packages\\pandas\\core\\indexes\\base.py:6200\u001b[0m, in \u001b[0;36mIndex._get_indexer_strict\u001b[1;34m(self, key, axis_name)\u001b[0m\n\u001b[0;32m   6197\u001b[0m \u001b[38;5;28;01melse\u001b[39;00m:\n\u001b[0;32m   6198\u001b[0m     keyarr, indexer, new_indexer \u001b[38;5;241m=\u001b[39m \u001b[38;5;28mself\u001b[39m\u001b[38;5;241m.\u001b[39m_reindex_non_unique(keyarr)\n\u001b[1;32m-> 6200\u001b[0m \u001b[38;5;28mself\u001b[39m\u001b[38;5;241m.\u001b[39m_raise_if_missing(keyarr, indexer, axis_name)\n\u001b[0;32m   6202\u001b[0m keyarr \u001b[38;5;241m=\u001b[39m \u001b[38;5;28mself\u001b[39m\u001b[38;5;241m.\u001b[39mtake(indexer)\n\u001b[0;32m   6203\u001b[0m \u001b[38;5;28;01mif\u001b[39;00m \u001b[38;5;28misinstance\u001b[39m(key, Index):\n\u001b[0;32m   6204\u001b[0m     \u001b[38;5;66;03m# GH 42790 - Preserve name from an Index\u001b[39;00m\n",
      "File \u001b[1;32m~\\anaconda3\\Lib\\site-packages\\pandas\\core\\indexes\\base.py:6249\u001b[0m, in \u001b[0;36mIndex._raise_if_missing\u001b[1;34m(self, key, indexer, axis_name)\u001b[0m\n\u001b[0;32m   6247\u001b[0m \u001b[38;5;28;01mif\u001b[39;00m nmissing:\n\u001b[0;32m   6248\u001b[0m     \u001b[38;5;28;01mif\u001b[39;00m nmissing \u001b[38;5;241m==\u001b[39m \u001b[38;5;28mlen\u001b[39m(indexer):\n\u001b[1;32m-> 6249\u001b[0m         \u001b[38;5;28;01mraise\u001b[39;00m \u001b[38;5;167;01mKeyError\u001b[39;00m(\u001b[38;5;124mf\u001b[39m\u001b[38;5;124m\"\u001b[39m\u001b[38;5;124mNone of [\u001b[39m\u001b[38;5;132;01m{\u001b[39;00mkey\u001b[38;5;132;01m}\u001b[39;00m\u001b[38;5;124m] are in the [\u001b[39m\u001b[38;5;132;01m{\u001b[39;00maxis_name\u001b[38;5;132;01m}\u001b[39;00m\u001b[38;5;124m]\u001b[39m\u001b[38;5;124m\"\u001b[39m)\n\u001b[0;32m   6251\u001b[0m     not_found \u001b[38;5;241m=\u001b[39m \u001b[38;5;28mlist\u001b[39m(ensure_index(key)[missing_mask\u001b[38;5;241m.\u001b[39mnonzero()[\u001b[38;5;241m0\u001b[39m]]\u001b[38;5;241m.\u001b[39munique())\n\u001b[0;32m   6252\u001b[0m     \u001b[38;5;28;01mraise\u001b[39;00m \u001b[38;5;167;01mKeyError\u001b[39;00m(\u001b[38;5;124mf\u001b[39m\u001b[38;5;124m\"\u001b[39m\u001b[38;5;132;01m{\u001b[39;00mnot_found\u001b[38;5;132;01m}\u001b[39;00m\u001b[38;5;124m not in index\u001b[39m\u001b[38;5;124m\"\u001b[39m)\n",
      "\u001b[1;31mKeyError\u001b[0m: \"None of [Index(['CODE_GENDER'], dtype='object')] are in the [columns]\""
     ]
    }
   ],
   "source": [
    "df_app[[\"CODE_GENDER\"]].unique()  # is a return of values"
   ]
  },
  {
   "cell_type": "code",
   "execution_count": null,
   "id": "6deeecde-6642-4278-a70b-3d74a650e81a",
   "metadata": {},
   "outputs": [],
   "source": [
    "#isnull() is a method of dataframe and it returns the n ull value in boolean..\n",
    "#True -- if null exists.\n",
    "df_app.isnull()"
   ]
  },
  {
   "cell_type": "code",
   "execution_count": 112,
   "id": "2b1b00e5-a197-46c7-82fb-a2fac8a5d899",
   "metadata": {},
   "outputs": [
    {
     "data": {
      "text/html": [
       "<div>\n",
       "<style scoped>\n",
       "    .dataframe tbody tr th:only-of-type {\n",
       "        vertical-align: middle;\n",
       "    }\n",
       "\n",
       "    .dataframe tbody tr th {\n",
       "        vertical-align: top;\n",
       "    }\n",
       "\n",
       "    .dataframe thead th {\n",
       "        text-align: right;\n",
       "    }\n",
       "</style>\n",
       "<table border=\"1\" class=\"dataframe\">\n",
       "  <thead>\n",
       "    <tr style=\"text-align: right;\">\n",
       "      <th></th>\n",
       "      <th>SK_ID_PREV</th>\n",
       "      <th>SK_ID_CURR</th>\n",
       "      <th>NAME_CONTRACT_TYPE</th>\n",
       "      <th>AMT_ANNUITY</th>\n",
       "      <th>AMT_APPLICATION</th>\n",
       "      <th>AMT_CREDIT</th>\n",
       "      <th>AMT_DOWN_PAYMENT</th>\n",
       "      <th>AMT_GOODS_PRICE</th>\n",
       "      <th>WEEKDAY_APPR_PROCESS_START</th>\n",
       "      <th>HOUR_APPR_PROCESS_START</th>\n",
       "      <th>...</th>\n",
       "      <th>NAME_SELLER_INDUSTRY</th>\n",
       "      <th>CNT_PAYMENT</th>\n",
       "      <th>NAME_YIELD_GROUP</th>\n",
       "      <th>PRODUCT_COMBINATION</th>\n",
       "      <th>DAYS_FIRST_DRAWING</th>\n",
       "      <th>DAYS_FIRST_DUE</th>\n",
       "      <th>DAYS_LAST_DUE_1ST_VERSION</th>\n",
       "      <th>DAYS_LAST_DUE</th>\n",
       "      <th>DAYS_TERMINATION</th>\n",
       "      <th>NFLAG_INSURED_ON_APPROVAL</th>\n",
       "    </tr>\n",
       "  </thead>\n",
       "  <tbody>\n",
       "    <tr>\n",
       "      <th>0</th>\n",
       "      <td>False</td>\n",
       "      <td>False</td>\n",
       "      <td>False</td>\n",
       "      <td>False</td>\n",
       "      <td>False</td>\n",
       "      <td>False</td>\n",
       "      <td>False</td>\n",
       "      <td>False</td>\n",
       "      <td>False</td>\n",
       "      <td>False</td>\n",
       "      <td>...</td>\n",
       "      <td>False</td>\n",
       "      <td>False</td>\n",
       "      <td>False</td>\n",
       "      <td>False</td>\n",
       "      <td>False</td>\n",
       "      <td>False</td>\n",
       "      <td>False</td>\n",
       "      <td>False</td>\n",
       "      <td>False</td>\n",
       "      <td>False</td>\n",
       "    </tr>\n",
       "    <tr>\n",
       "      <th>1</th>\n",
       "      <td>False</td>\n",
       "      <td>False</td>\n",
       "      <td>False</td>\n",
       "      <td>False</td>\n",
       "      <td>False</td>\n",
       "      <td>False</td>\n",
       "      <td>True</td>\n",
       "      <td>False</td>\n",
       "      <td>False</td>\n",
       "      <td>False</td>\n",
       "      <td>...</td>\n",
       "      <td>False</td>\n",
       "      <td>False</td>\n",
       "      <td>False</td>\n",
       "      <td>False</td>\n",
       "      <td>False</td>\n",
       "      <td>False</td>\n",
       "      <td>False</td>\n",
       "      <td>False</td>\n",
       "      <td>False</td>\n",
       "      <td>False</td>\n",
       "    </tr>\n",
       "    <tr>\n",
       "      <th>2</th>\n",
       "      <td>False</td>\n",
       "      <td>False</td>\n",
       "      <td>False</td>\n",
       "      <td>False</td>\n",
       "      <td>False</td>\n",
       "      <td>False</td>\n",
       "      <td>True</td>\n",
       "      <td>False</td>\n",
       "      <td>False</td>\n",
       "      <td>False</td>\n",
       "      <td>...</td>\n",
       "      <td>False</td>\n",
       "      <td>False</td>\n",
       "      <td>False</td>\n",
       "      <td>False</td>\n",
       "      <td>False</td>\n",
       "      <td>False</td>\n",
       "      <td>False</td>\n",
       "      <td>False</td>\n",
       "      <td>False</td>\n",
       "      <td>False</td>\n",
       "    </tr>\n",
       "    <tr>\n",
       "      <th>3</th>\n",
       "      <td>False</td>\n",
       "      <td>False</td>\n",
       "      <td>False</td>\n",
       "      <td>False</td>\n",
       "      <td>False</td>\n",
       "      <td>False</td>\n",
       "      <td>True</td>\n",
       "      <td>False</td>\n",
       "      <td>False</td>\n",
       "      <td>False</td>\n",
       "      <td>...</td>\n",
       "      <td>False</td>\n",
       "      <td>False</td>\n",
       "      <td>False</td>\n",
       "      <td>False</td>\n",
       "      <td>False</td>\n",
       "      <td>False</td>\n",
       "      <td>False</td>\n",
       "      <td>False</td>\n",
       "      <td>False</td>\n",
       "      <td>False</td>\n",
       "    </tr>\n",
       "    <tr>\n",
       "      <th>4</th>\n",
       "      <td>False</td>\n",
       "      <td>False</td>\n",
       "      <td>False</td>\n",
       "      <td>False</td>\n",
       "      <td>False</td>\n",
       "      <td>False</td>\n",
       "      <td>True</td>\n",
       "      <td>False</td>\n",
       "      <td>False</td>\n",
       "      <td>False</td>\n",
       "      <td>...</td>\n",
       "      <td>False</td>\n",
       "      <td>False</td>\n",
       "      <td>False</td>\n",
       "      <td>False</td>\n",
       "      <td>True</td>\n",
       "      <td>True</td>\n",
       "      <td>True</td>\n",
       "      <td>True</td>\n",
       "      <td>True</td>\n",
       "      <td>True</td>\n",
       "    </tr>\n",
       "    <tr>\n",
       "      <th>...</th>\n",
       "      <td>...</td>\n",
       "      <td>...</td>\n",
       "      <td>...</td>\n",
       "      <td>...</td>\n",
       "      <td>...</td>\n",
       "      <td>...</td>\n",
       "      <td>...</td>\n",
       "      <td>...</td>\n",
       "      <td>...</td>\n",
       "      <td>...</td>\n",
       "      <td>...</td>\n",
       "      <td>...</td>\n",
       "      <td>...</td>\n",
       "      <td>...</td>\n",
       "      <td>...</td>\n",
       "      <td>...</td>\n",
       "      <td>...</td>\n",
       "      <td>...</td>\n",
       "      <td>...</td>\n",
       "      <td>...</td>\n",
       "      <td>...</td>\n",
       "    </tr>\n",
       "    <tr>\n",
       "      <th>49994</th>\n",
       "      <td>False</td>\n",
       "      <td>False</td>\n",
       "      <td>False</td>\n",
       "      <td>True</td>\n",
       "      <td>False</td>\n",
       "      <td>False</td>\n",
       "      <td>True</td>\n",
       "      <td>True</td>\n",
       "      <td>False</td>\n",
       "      <td>False</td>\n",
       "      <td>...</td>\n",
       "      <td>False</td>\n",
       "      <td>True</td>\n",
       "      <td>False</td>\n",
       "      <td>False</td>\n",
       "      <td>True</td>\n",
       "      <td>True</td>\n",
       "      <td>True</td>\n",
       "      <td>True</td>\n",
       "      <td>True</td>\n",
       "      <td>True</td>\n",
       "    </tr>\n",
       "    <tr>\n",
       "      <th>49995</th>\n",
       "      <td>False</td>\n",
       "      <td>False</td>\n",
       "      <td>False</td>\n",
       "      <td>True</td>\n",
       "      <td>False</td>\n",
       "      <td>False</td>\n",
       "      <td>True</td>\n",
       "      <td>True</td>\n",
       "      <td>False</td>\n",
       "      <td>False</td>\n",
       "      <td>...</td>\n",
       "      <td>False</td>\n",
       "      <td>True</td>\n",
       "      <td>False</td>\n",
       "      <td>False</td>\n",
       "      <td>True</td>\n",
       "      <td>True</td>\n",
       "      <td>True</td>\n",
       "      <td>True</td>\n",
       "      <td>True</td>\n",
       "      <td>True</td>\n",
       "    </tr>\n",
       "    <tr>\n",
       "      <th>49996</th>\n",
       "      <td>False</td>\n",
       "      <td>False</td>\n",
       "      <td>False</td>\n",
       "      <td>False</td>\n",
       "      <td>False</td>\n",
       "      <td>False</td>\n",
       "      <td>True</td>\n",
       "      <td>False</td>\n",
       "      <td>False</td>\n",
       "      <td>False</td>\n",
       "      <td>...</td>\n",
       "      <td>False</td>\n",
       "      <td>False</td>\n",
       "      <td>False</td>\n",
       "      <td>False</td>\n",
       "      <td>False</td>\n",
       "      <td>False</td>\n",
       "      <td>False</td>\n",
       "      <td>False</td>\n",
       "      <td>False</td>\n",
       "      <td>False</td>\n",
       "    </tr>\n",
       "    <tr>\n",
       "      <th>49997</th>\n",
       "      <td>False</td>\n",
       "      <td>False</td>\n",
       "      <td>False</td>\n",
       "      <td>True</td>\n",
       "      <td>False</td>\n",
       "      <td>False</td>\n",
       "      <td>True</td>\n",
       "      <td>True</td>\n",
       "      <td>False</td>\n",
       "      <td>False</td>\n",
       "      <td>...</td>\n",
       "      <td>False</td>\n",
       "      <td>True</td>\n",
       "      <td>False</td>\n",
       "      <td>False</td>\n",
       "      <td>True</td>\n",
       "      <td>True</td>\n",
       "      <td>True</td>\n",
       "      <td>True</td>\n",
       "      <td>True</td>\n",
       "      <td>True</td>\n",
       "    </tr>\n",
       "    <tr>\n",
       "      <th>49998</th>\n",
       "      <td>False</td>\n",
       "      <td>False</td>\n",
       "      <td>False</td>\n",
       "      <td>False</td>\n",
       "      <td>False</td>\n",
       "      <td>False</td>\n",
       "      <td>True</td>\n",
       "      <td>False</td>\n",
       "      <td>False</td>\n",
       "      <td>False</td>\n",
       "      <td>...</td>\n",
       "      <td>False</td>\n",
       "      <td>False</td>\n",
       "      <td>False</td>\n",
       "      <td>False</td>\n",
       "      <td>True</td>\n",
       "      <td>True</td>\n",
       "      <td>True</td>\n",
       "      <td>True</td>\n",
       "      <td>True</td>\n",
       "      <td>True</td>\n",
       "    </tr>\n",
       "  </tbody>\n",
       "</table>\n",
       "<p>49999 rows × 37 columns</p>\n",
       "</div>"
      ],
      "text/plain": [
       "       SK_ID_PREV  SK_ID_CURR  NAME_CONTRACT_TYPE  AMT_ANNUITY  \\\n",
       "0           False       False               False        False   \n",
       "1           False       False               False        False   \n",
       "2           False       False               False        False   \n",
       "3           False       False               False        False   \n",
       "4           False       False               False        False   \n",
       "...           ...         ...                 ...          ...   \n",
       "49994       False       False               False         True   \n",
       "49995       False       False               False         True   \n",
       "49996       False       False               False        False   \n",
       "49997       False       False               False         True   \n",
       "49998       False       False               False        False   \n",
       "\n",
       "       AMT_APPLICATION  AMT_CREDIT  AMT_DOWN_PAYMENT  AMT_GOODS_PRICE  \\\n",
       "0                False       False             False            False   \n",
       "1                False       False              True            False   \n",
       "2                False       False              True            False   \n",
       "3                False       False              True            False   \n",
       "4                False       False              True            False   \n",
       "...                ...         ...               ...              ...   \n",
       "49994            False       False              True             True   \n",
       "49995            False       False              True             True   \n",
       "49996            False       False              True            False   \n",
       "49997            False       False              True             True   \n",
       "49998            False       False              True            False   \n",
       "\n",
       "       WEEKDAY_APPR_PROCESS_START  HOUR_APPR_PROCESS_START  ...  \\\n",
       "0                           False                    False  ...   \n",
       "1                           False                    False  ...   \n",
       "2                           False                    False  ...   \n",
       "3                           False                    False  ...   \n",
       "4                           False                    False  ...   \n",
       "...                           ...                      ...  ...   \n",
       "49994                       False                    False  ...   \n",
       "49995                       False                    False  ...   \n",
       "49996                       False                    False  ...   \n",
       "49997                       False                    False  ...   \n",
       "49998                       False                    False  ...   \n",
       "\n",
       "       NAME_SELLER_INDUSTRY  CNT_PAYMENT  NAME_YIELD_GROUP  \\\n",
       "0                     False        False             False   \n",
       "1                     False        False             False   \n",
       "2                     False        False             False   \n",
       "3                     False        False             False   \n",
       "4                     False        False             False   \n",
       "...                     ...          ...               ...   \n",
       "49994                 False         True             False   \n",
       "49995                 False         True             False   \n",
       "49996                 False        False             False   \n",
       "49997                 False         True             False   \n",
       "49998                 False        False             False   \n",
       "\n",
       "       PRODUCT_COMBINATION  DAYS_FIRST_DRAWING  DAYS_FIRST_DUE  \\\n",
       "0                    False               False           False   \n",
       "1                    False               False           False   \n",
       "2                    False               False           False   \n",
       "3                    False               False           False   \n",
       "4                    False                True            True   \n",
       "...                    ...                 ...             ...   \n",
       "49994                False                True            True   \n",
       "49995                False                True            True   \n",
       "49996                False               False           False   \n",
       "49997                False                True            True   \n",
       "49998                False                True            True   \n",
       "\n",
       "       DAYS_LAST_DUE_1ST_VERSION  DAYS_LAST_DUE  DAYS_TERMINATION  \\\n",
       "0                          False          False             False   \n",
       "1                          False          False             False   \n",
       "2                          False          False             False   \n",
       "3                          False          False             False   \n",
       "4                           True           True              True   \n",
       "...                          ...            ...               ...   \n",
       "49994                       True           True              True   \n",
       "49995                       True           True              True   \n",
       "49996                      False          False             False   \n",
       "49997                       True           True              True   \n",
       "49998                       True           True              True   \n",
       "\n",
       "       NFLAG_INSURED_ON_APPROVAL  \n",
       "0                          False  \n",
       "1                          False  \n",
       "2                          False  \n",
       "3                          False  \n",
       "4                           True  \n",
       "...                          ...  \n",
       "49994                       True  \n",
       "49995                       True  \n",
       "49996                      False  \n",
       "49997                       True  \n",
       "49998                       True  \n",
       "\n",
       "[49999 rows x 37 columns]"
      ]
     },
     "execution_count": 112,
     "metadata": {},
     "output_type": "execute_result"
    }
   ],
   "source": [
    "#isna() -- predefined function of pandas for null values.\n",
    "pd.isna(df_app)"
   ]
  },
  {
   "cell_type": "code",
   "execution_count": 114,
   "id": "b0689e3e-2b24-4106-81f0-abaa0c7818a5",
   "metadata": {},
   "outputs": [
    {
     "data": {
      "text/plain": [
       "SK_ID_PREV                         0\n",
       "SK_ID_CURR                         0\n",
       "NAME_CONTRACT_TYPE                 0\n",
       "AMT_ANNUITY                    10592\n",
       "AMT_APPLICATION                    0\n",
       "AMT_CREDIT                         0\n",
       "AMT_DOWN_PAYMENT               25198\n",
       "AMT_GOODS_PRICE                10744\n",
       "WEEKDAY_APPR_PROCESS_START         0\n",
       "HOUR_APPR_PROCESS_START            0\n",
       "FLAG_LAST_APPL_PER_CONTRACT        0\n",
       "NFLAG_LAST_APPL_IN_DAY             0\n",
       "RATE_DOWN_PAYMENT              25198\n",
       "RATE_INTEREST_PRIMARY          49834\n",
       "RATE_INTEREST_PRIVILEGED       49834\n",
       "NAME_CASH_LOAN_PURPOSE             0\n",
       "NAME_CONTRACT_STATUS               0\n",
       "DAYS_DECISION                      0\n",
       "NAME_PAYMENT_TYPE                  0\n",
       "CODE_REJECT_REASON                 0\n",
       "NAME_TYPE_SUITE                24243\n",
       "NAME_CLIENT_TYPE                   0\n",
       "NAME_GOODS_CATEGORY                0\n",
       "NAME_PORTFOLIO                     0\n",
       "NAME_PRODUCT_TYPE                  0\n",
       "CHANNEL_TYPE                       0\n",
       "SELLERPLACE_AREA                   0\n",
       "NAME_SELLER_INDUSTRY               0\n",
       "CNT_PAYMENT                    10592\n",
       "NAME_YIELD_GROUP                   0\n",
       "PRODUCT_COMBINATION                8\n",
       "DAYS_FIRST_DRAWING             19160\n",
       "DAYS_FIRST_DUE                 19160\n",
       "DAYS_LAST_DUE_1ST_VERSION      19160\n",
       "DAYS_LAST_DUE                  19160\n",
       "DAYS_TERMINATION               19160\n",
       "NFLAG_INSURED_ON_APPROVAL      19160\n",
       "dtype: int64"
      ]
     },
     "execution_count": 114,
     "metadata": {},
     "output_type": "execute_result"
    }
   ],
   "source": [
    "df_app.isnull().sum()"
   ]
  },
  {
   "cell_type": "code",
   "execution_count": 116,
   "id": "acf40351-595c-4fce-ae77-d40f8b8f6371",
   "metadata": {},
   "outputs": [
    {
     "data": {
      "text/plain": [
       "SK_ID_PREV                     0.000000\n",
       "SK_ID_CURR                     0.000000\n",
       "NAME_CONTRACT_TYPE             0.000000\n",
       "AMT_ANNUITY                    0.211844\n",
       "AMT_APPLICATION                0.000000\n",
       "AMT_CREDIT                     0.000000\n",
       "AMT_DOWN_PAYMENT               0.503970\n",
       "AMT_GOODS_PRICE                0.214884\n",
       "WEEKDAY_APPR_PROCESS_START     0.000000\n",
       "HOUR_APPR_PROCESS_START        0.000000\n",
       "FLAG_LAST_APPL_PER_CONTRACT    0.000000\n",
       "NFLAG_LAST_APPL_IN_DAY         0.000000\n",
       "RATE_DOWN_PAYMENT              0.503970\n",
       "RATE_INTEREST_PRIMARY          0.996700\n",
       "RATE_INTEREST_PRIVILEGED       0.996700\n",
       "NAME_CASH_LOAN_PURPOSE         0.000000\n",
       "NAME_CONTRACT_STATUS           0.000000\n",
       "DAYS_DECISION                  0.000000\n",
       "NAME_PAYMENT_TYPE              0.000000\n",
       "CODE_REJECT_REASON             0.000000\n",
       "NAME_TYPE_SUITE                0.484870\n",
       "NAME_CLIENT_TYPE               0.000000\n",
       "NAME_GOODS_CATEGORY            0.000000\n",
       "NAME_PORTFOLIO                 0.000000\n",
       "NAME_PRODUCT_TYPE              0.000000\n",
       "CHANNEL_TYPE                   0.000000\n",
       "SELLERPLACE_AREA               0.000000\n",
       "NAME_SELLER_INDUSTRY           0.000000\n",
       "CNT_PAYMENT                    0.211844\n",
       "NAME_YIELD_GROUP               0.000000\n",
       "PRODUCT_COMBINATION            0.000160\n",
       "DAYS_FIRST_DRAWING             0.383208\n",
       "DAYS_FIRST_DUE                 0.383208\n",
       "DAYS_LAST_DUE_1ST_VERSION      0.383208\n",
       "DAYS_LAST_DUE                  0.383208\n",
       "DAYS_TERMINATION               0.383208\n",
       "NFLAG_INSURED_ON_APPROVAL      0.383208\n",
       "dtype: float64"
      ]
     },
     "execution_count": 116,
     "metadata": {},
     "output_type": "execute_result"
    }
   ],
   "source": [
    "df_app.isnull().mean()"
   ]
  },
  {
   "cell_type": "code",
   "execution_count": 122,
   "id": "fd6255ed-9cc5-43ad-9aa0-394fbbc3ca87",
   "metadata": {},
   "outputs": [
    {
     "data": {
      "text/plain": [
       "SK_ID_PREV                      0.000000\n",
       "SK_ID_CURR                      0.000000\n",
       "NAME_CONTRACT_TYPE              0.000000\n",
       "AMT_ANNUITY                    21.184424\n",
       "AMT_APPLICATION                 0.000000\n",
       "AMT_CREDIT                      0.000000\n",
       "AMT_DOWN_PAYMENT               50.397008\n",
       "AMT_GOODS_PRICE                21.488430\n",
       "WEEKDAY_APPR_PROCESS_START      0.000000\n",
       "HOUR_APPR_PROCESS_START         0.000000\n",
       "FLAG_LAST_APPL_PER_CONTRACT     0.000000\n",
       "NFLAG_LAST_APPL_IN_DAY          0.000000\n",
       "RATE_DOWN_PAYMENT              50.397008\n",
       "RATE_INTEREST_PRIMARY          99.669993\n",
       "RATE_INTEREST_PRIVILEGED       99.669993\n",
       "NAME_CASH_LOAN_PURPOSE          0.000000\n",
       "NAME_CONTRACT_STATUS            0.000000\n",
       "DAYS_DECISION                   0.000000\n",
       "NAME_PAYMENT_TYPE               0.000000\n",
       "CODE_REJECT_REASON              0.000000\n",
       "NAME_TYPE_SUITE                48.486970\n",
       "NAME_CLIENT_TYPE                0.000000\n",
       "NAME_GOODS_CATEGORY             0.000000\n",
       "NAME_PORTFOLIO                  0.000000\n",
       "NAME_PRODUCT_TYPE               0.000000\n",
       "CHANNEL_TYPE                    0.000000\n",
       "SELLERPLACE_AREA                0.000000\n",
       "NAME_SELLER_INDUSTRY            0.000000\n",
       "CNT_PAYMENT                    21.184424\n",
       "NAME_YIELD_GROUP                0.000000\n",
       "PRODUCT_COMBINATION             0.016000\n",
       "DAYS_FIRST_DRAWING             38.320766\n",
       "DAYS_FIRST_DUE                 38.320766\n",
       "DAYS_LAST_DUE_1ST_VERSION      38.320766\n",
       "DAYS_LAST_DUE                  38.320766\n",
       "DAYS_TERMINATION               38.320766\n",
       "NFLAG_INSURED_ON_APPROVAL      38.320766\n",
       "dtype: float64"
      ]
     },
     "execution_count": 122,
     "metadata": {},
     "output_type": "execute_result"
    }
   ],
   "source": [
    "df_app.isnull().mean()*100"
   ]
  },
  {
   "cell_type": "code",
   "execution_count": 120,
   "id": "304062a5-6189-4796-9a97-f3b6c0686490",
   "metadata": {},
   "outputs": [
    {
     "data": {
      "text/plain": [
       "SK_ID_PREV                      0.00\n",
       "SK_ID_CURR                      0.00\n",
       "NAME_CONTRACT_TYPE              0.00\n",
       "AMT_ANNUITY                    21.18\n",
       "AMT_APPLICATION                 0.00\n",
       "AMT_CREDIT                      0.00\n",
       "AMT_DOWN_PAYMENT               50.40\n",
       "AMT_GOODS_PRICE                21.49\n",
       "WEEKDAY_APPR_PROCESS_START      0.00\n",
       "HOUR_APPR_PROCESS_START         0.00\n",
       "FLAG_LAST_APPL_PER_CONTRACT     0.00\n",
       "NFLAG_LAST_APPL_IN_DAY          0.00\n",
       "RATE_DOWN_PAYMENT              50.40\n",
       "RATE_INTEREST_PRIMARY          99.67\n",
       "RATE_INTEREST_PRIVILEGED       99.67\n",
       "NAME_CASH_LOAN_PURPOSE          0.00\n",
       "NAME_CONTRACT_STATUS            0.00\n",
       "DAYS_DECISION                   0.00\n",
       "NAME_PAYMENT_TYPE               0.00\n",
       "CODE_REJECT_REASON              0.00\n",
       "NAME_TYPE_SUITE                48.49\n",
       "NAME_CLIENT_TYPE                0.00\n",
       "NAME_GOODS_CATEGORY             0.00\n",
       "NAME_PORTFOLIO                  0.00\n",
       "NAME_PRODUCT_TYPE               0.00\n",
       "CHANNEL_TYPE                    0.00\n",
       "SELLERPLACE_AREA                0.00\n",
       "NAME_SELLER_INDUSTRY            0.00\n",
       "CNT_PAYMENT                    21.18\n",
       "NAME_YIELD_GROUP                0.00\n",
       "PRODUCT_COMBINATION             0.02\n",
       "DAYS_FIRST_DRAWING             38.32\n",
       "DAYS_FIRST_DUE                 38.32\n",
       "DAYS_LAST_DUE_1ST_VERSION      38.32\n",
       "DAYS_LAST_DUE                  38.32\n",
       "DAYS_TERMINATION               38.32\n",
       "NFLAG_INSURED_ON_APPROVAL      38.32\n",
       "dtype: float64"
      ]
     },
     "execution_count": 120,
     "metadata": {},
     "output_type": "execute_result"
    }
   ],
   "source": [
    "round(df_app.isnull().mean()*100,2)\n"
   ]
  },
  {
   "cell_type": "code",
   "execution_count": 124,
   "id": "64c33210-facc-4554-8e8e-3cb885a042f1",
   "metadata": {},
   "outputs": [
    {
     "data": {
      "text/plain": [
       "RATE_INTEREST_PRIVILEGED       99.67\n",
       "RATE_INTEREST_PRIMARY          99.67\n",
       "RATE_DOWN_PAYMENT              50.40\n",
       "AMT_DOWN_PAYMENT               50.40\n",
       "NAME_TYPE_SUITE                48.49\n",
       "NFLAG_INSURED_ON_APPROVAL      38.32\n",
       "DAYS_FIRST_DRAWING             38.32\n",
       "DAYS_FIRST_DUE                 38.32\n",
       "DAYS_LAST_DUE_1ST_VERSION      38.32\n",
       "DAYS_LAST_DUE                  38.32\n",
       "DAYS_TERMINATION               38.32\n",
       "AMT_GOODS_PRICE                21.49\n",
       "AMT_ANNUITY                    21.18\n",
       "CNT_PAYMENT                    21.18\n",
       "PRODUCT_COMBINATION             0.02\n",
       "CHANNEL_TYPE                    0.00\n",
       "NAME_PRODUCT_TYPE               0.00\n",
       "NAME_YIELD_GROUP                0.00\n",
       "SELLERPLACE_AREA                0.00\n",
       "NAME_SELLER_INDUSTRY            0.00\n",
       "NAME_GOODS_CATEGORY             0.00\n",
       "NAME_PORTFOLIO                  0.00\n",
       "SK_ID_PREV                      0.00\n",
       "NAME_CLIENT_TYPE                0.00\n",
       "CODE_REJECT_REASON              0.00\n",
       "SK_ID_CURR                      0.00\n",
       "DAYS_DECISION                   0.00\n",
       "NAME_CONTRACT_STATUS            0.00\n",
       "NAME_CASH_LOAN_PURPOSE          0.00\n",
       "NFLAG_LAST_APPL_IN_DAY          0.00\n",
       "FLAG_LAST_APPL_PER_CONTRACT     0.00\n",
       "HOUR_APPR_PROCESS_START         0.00\n",
       "WEEKDAY_APPR_PROCESS_START      0.00\n",
       "AMT_CREDIT                      0.00\n",
       "AMT_APPLICATION                 0.00\n",
       "NAME_CONTRACT_TYPE              0.00\n",
       "NAME_PAYMENT_TYPE               0.00\n",
       "dtype: float64"
      ]
     },
     "execution_count": 124,
     "metadata": {},
     "output_type": "execute_result"
    }
   ],
   "source": [
    "#sort values is method used for sorting the records..\n",
    "round(df_app.isnull().mean()*100,2).sort_values(ascending=False)"
   ]
  },
  {
   "cell_type": "code",
   "execution_count": 128,
   "id": "36d0ee23-cf22-4f4e-9220-d7e806aab7ca",
   "metadata": {},
   "outputs": [],
   "source": [
    "def missing_value(Dataframe):\n",
    "    return round(Dataframe.isnull().mean()*100,2).sort_values(ascending=False)\n"
   ]
  },
  {
   "cell_type": "code",
   "execution_count": null,
   "id": "093a7e64-62ce-4f40-9ee2-bc11a2e050d0",
   "metadata": {},
   "outputs": [],
   "source": [
    "missing_value(df_app)"
   ]
  },
  {
   "cell_type": "code",
   "execution_count": 130,
   "id": "59c353f6-82bb-4267-8ac8-c60b92bcb8a1",
   "metadata": {},
   "outputs": [],
   "source": [
    "null=missing_value(df_app)[missing_value(df_app)>50]"
   ]
  },
  {
   "cell_type": "code",
   "execution_count": 132,
   "id": "c04d401e-b6c0-44fa-9ffe-0158568f7c89",
   "metadata": {},
   "outputs": [
    {
     "data": {
      "text/plain": [
       "RATE_INTEREST_PRIVILEGED    99.67\n",
       "RATE_INTEREST_PRIMARY       99.67\n",
       "RATE_DOWN_PAYMENT           50.40\n",
       "AMT_DOWN_PAYMENT            50.40\n",
       "dtype: float64"
      ]
     },
     "execution_count": 132,
     "metadata": {},
     "output_type": "execute_result"
    }
   ],
   "source": [
    "null"
   ]
  },
  {
   "cell_type": "code",
   "execution_count": 134,
   "id": "5dec8787-5ea2-49ca-9afd-e670d966fc65",
   "metadata": {},
   "outputs": [
    {
     "data": {
      "text/plain": [
       "Index(['RATE_INTEREST_PRIVILEGED', 'RATE_INTEREST_PRIMARY',\n",
       "       'RATE_DOWN_PAYMENT', 'AMT_DOWN_PAYMENT'],\n",
       "      dtype='object')"
      ]
     },
     "execution_count": 134,
     "metadata": {},
     "output_type": "execute_result"
    }
   ],
   "source": [
    "null.index"
   ]
  },
  {
   "cell_type": "code",
   "execution_count": 136,
   "id": "34b918ed-a671-4336-8cd3-ca0fca87b56e",
   "metadata": {},
   "outputs": [
    {
     "data": {
      "text/html": [
       "<div>\n",
       "<style scoped>\n",
       "    .dataframe tbody tr th:only-of-type {\n",
       "        vertical-align: middle;\n",
       "    }\n",
       "\n",
       "    .dataframe tbody tr th {\n",
       "        vertical-align: top;\n",
       "    }\n",
       "\n",
       "    .dataframe thead th {\n",
       "        text-align: right;\n",
       "    }\n",
       "</style>\n",
       "<table border=\"1\" class=\"dataframe\">\n",
       "  <thead>\n",
       "    <tr style=\"text-align: right;\">\n",
       "      <th></th>\n",
       "      <th>SK_ID_PREV</th>\n",
       "      <th>SK_ID_CURR</th>\n",
       "      <th>NAME_CONTRACT_TYPE</th>\n",
       "      <th>AMT_ANNUITY</th>\n",
       "      <th>AMT_APPLICATION</th>\n",
       "      <th>AMT_CREDIT</th>\n",
       "      <th>AMT_GOODS_PRICE</th>\n",
       "      <th>WEEKDAY_APPR_PROCESS_START</th>\n",
       "      <th>HOUR_APPR_PROCESS_START</th>\n",
       "      <th>FLAG_LAST_APPL_PER_CONTRACT</th>\n",
       "      <th>...</th>\n",
       "      <th>NAME_SELLER_INDUSTRY</th>\n",
       "      <th>CNT_PAYMENT</th>\n",
       "      <th>NAME_YIELD_GROUP</th>\n",
       "      <th>PRODUCT_COMBINATION</th>\n",
       "      <th>DAYS_FIRST_DRAWING</th>\n",
       "      <th>DAYS_FIRST_DUE</th>\n",
       "      <th>DAYS_LAST_DUE_1ST_VERSION</th>\n",
       "      <th>DAYS_LAST_DUE</th>\n",
       "      <th>DAYS_TERMINATION</th>\n",
       "      <th>NFLAG_INSURED_ON_APPROVAL</th>\n",
       "    </tr>\n",
       "  </thead>\n",
       "  <tbody>\n",
       "    <tr>\n",
       "      <th>0</th>\n",
       "      <td>2030495</td>\n",
       "      <td>271877</td>\n",
       "      <td>Consumer loans</td>\n",
       "      <td>1730.430</td>\n",
       "      <td>17145.0</td>\n",
       "      <td>17145.0</td>\n",
       "      <td>17145.0</td>\n",
       "      <td>SATURDAY</td>\n",
       "      <td>15</td>\n",
       "      <td>Y</td>\n",
       "      <td>...</td>\n",
       "      <td>Connectivity</td>\n",
       "      <td>12.0</td>\n",
       "      <td>middle</td>\n",
       "      <td>POS mobile with interest</td>\n",
       "      <td>365243.0</td>\n",
       "      <td>-42.0</td>\n",
       "      <td>300.0</td>\n",
       "      <td>-42.0</td>\n",
       "      <td>-37.0</td>\n",
       "      <td>0.0</td>\n",
       "    </tr>\n",
       "    <tr>\n",
       "      <th>1</th>\n",
       "      <td>2802425</td>\n",
       "      <td>108129</td>\n",
       "      <td>Cash loans</td>\n",
       "      <td>25188.615</td>\n",
       "      <td>607500.0</td>\n",
       "      <td>679671.0</td>\n",
       "      <td>607500.0</td>\n",
       "      <td>THURSDAY</td>\n",
       "      <td>11</td>\n",
       "      <td>Y</td>\n",
       "      <td>...</td>\n",
       "      <td>XNA</td>\n",
       "      <td>36.0</td>\n",
       "      <td>low_action</td>\n",
       "      <td>Cash X-Sell: low</td>\n",
       "      <td>365243.0</td>\n",
       "      <td>-134.0</td>\n",
       "      <td>916.0</td>\n",
       "      <td>365243.0</td>\n",
       "      <td>365243.0</td>\n",
       "      <td>1.0</td>\n",
       "    </tr>\n",
       "    <tr>\n",
       "      <th>2</th>\n",
       "      <td>2523466</td>\n",
       "      <td>122040</td>\n",
       "      <td>Cash loans</td>\n",
       "      <td>15060.735</td>\n",
       "      <td>112500.0</td>\n",
       "      <td>136444.5</td>\n",
       "      <td>112500.0</td>\n",
       "      <td>TUESDAY</td>\n",
       "      <td>11</td>\n",
       "      <td>Y</td>\n",
       "      <td>...</td>\n",
       "      <td>XNA</td>\n",
       "      <td>12.0</td>\n",
       "      <td>high</td>\n",
       "      <td>Cash X-Sell: high</td>\n",
       "      <td>365243.0</td>\n",
       "      <td>-271.0</td>\n",
       "      <td>59.0</td>\n",
       "      <td>365243.0</td>\n",
       "      <td>365243.0</td>\n",
       "      <td>1.0</td>\n",
       "    </tr>\n",
       "    <tr>\n",
       "      <th>3</th>\n",
       "      <td>2819243</td>\n",
       "      <td>176158</td>\n",
       "      <td>Cash loans</td>\n",
       "      <td>47041.335</td>\n",
       "      <td>450000.0</td>\n",
       "      <td>470790.0</td>\n",
       "      <td>450000.0</td>\n",
       "      <td>MONDAY</td>\n",
       "      <td>7</td>\n",
       "      <td>Y</td>\n",
       "      <td>...</td>\n",
       "      <td>XNA</td>\n",
       "      <td>12.0</td>\n",
       "      <td>middle</td>\n",
       "      <td>Cash X-Sell: middle</td>\n",
       "      <td>365243.0</td>\n",
       "      <td>-482.0</td>\n",
       "      <td>-152.0</td>\n",
       "      <td>-182.0</td>\n",
       "      <td>-177.0</td>\n",
       "      <td>1.0</td>\n",
       "    </tr>\n",
       "    <tr>\n",
       "      <th>4</th>\n",
       "      <td>1784265</td>\n",
       "      <td>202054</td>\n",
       "      <td>Cash loans</td>\n",
       "      <td>31924.395</td>\n",
       "      <td>337500.0</td>\n",
       "      <td>404055.0</td>\n",
       "      <td>337500.0</td>\n",
       "      <td>THURSDAY</td>\n",
       "      <td>9</td>\n",
       "      <td>Y</td>\n",
       "      <td>...</td>\n",
       "      <td>XNA</td>\n",
       "      <td>24.0</td>\n",
       "      <td>high</td>\n",
       "      <td>Cash Street: high</td>\n",
       "      <td>NaN</td>\n",
       "      <td>NaN</td>\n",
       "      <td>NaN</td>\n",
       "      <td>NaN</td>\n",
       "      <td>NaN</td>\n",
       "      <td>NaN</td>\n",
       "    </tr>\n",
       "    <tr>\n",
       "      <th>...</th>\n",
       "      <td>...</td>\n",
       "      <td>...</td>\n",
       "      <td>...</td>\n",
       "      <td>...</td>\n",
       "      <td>...</td>\n",
       "      <td>...</td>\n",
       "      <td>...</td>\n",
       "      <td>...</td>\n",
       "      <td>...</td>\n",
       "      <td>...</td>\n",
       "      <td>...</td>\n",
       "      <td>...</td>\n",
       "      <td>...</td>\n",
       "      <td>...</td>\n",
       "      <td>...</td>\n",
       "      <td>...</td>\n",
       "      <td>...</td>\n",
       "      <td>...</td>\n",
       "      <td>...</td>\n",
       "      <td>...</td>\n",
       "      <td>...</td>\n",
       "    </tr>\n",
       "    <tr>\n",
       "      <th>49994</th>\n",
       "      <td>1171956</td>\n",
       "      <td>339569</td>\n",
       "      <td>Cash loans</td>\n",
       "      <td>NaN</td>\n",
       "      <td>0.0</td>\n",
       "      <td>0.0</td>\n",
       "      <td>NaN</td>\n",
       "      <td>THURSDAY</td>\n",
       "      <td>11</td>\n",
       "      <td>Y</td>\n",
       "      <td>...</td>\n",
       "      <td>XNA</td>\n",
       "      <td>NaN</td>\n",
       "      <td>XNA</td>\n",
       "      <td>Cash</td>\n",
       "      <td>NaN</td>\n",
       "      <td>NaN</td>\n",
       "      <td>NaN</td>\n",
       "      <td>NaN</td>\n",
       "      <td>NaN</td>\n",
       "      <td>NaN</td>\n",
       "    </tr>\n",
       "    <tr>\n",
       "      <th>49995</th>\n",
       "      <td>1904808</td>\n",
       "      <td>363980</td>\n",
       "      <td>Cash loans</td>\n",
       "      <td>NaN</td>\n",
       "      <td>0.0</td>\n",
       "      <td>0.0</td>\n",
       "      <td>NaN</td>\n",
       "      <td>FRIDAY</td>\n",
       "      <td>10</td>\n",
       "      <td>Y</td>\n",
       "      <td>...</td>\n",
       "      <td>XNA</td>\n",
       "      <td>NaN</td>\n",
       "      <td>XNA</td>\n",
       "      <td>Cash</td>\n",
       "      <td>NaN</td>\n",
       "      <td>NaN</td>\n",
       "      <td>NaN</td>\n",
       "      <td>NaN</td>\n",
       "      <td>NaN</td>\n",
       "      <td>NaN</td>\n",
       "    </tr>\n",
       "    <tr>\n",
       "      <th>49996</th>\n",
       "      <td>2331005</td>\n",
       "      <td>231295</td>\n",
       "      <td>Cash loans</td>\n",
       "      <td>22176.405</td>\n",
       "      <td>180000.0</td>\n",
       "      <td>216418.5</td>\n",
       "      <td>180000.0</td>\n",
       "      <td>TUESDAY</td>\n",
       "      <td>12</td>\n",
       "      <td>Y</td>\n",
       "      <td>...</td>\n",
       "      <td>XNA</td>\n",
       "      <td>12.0</td>\n",
       "      <td>middle</td>\n",
       "      <td>Cash X-Sell: middle</td>\n",
       "      <td>365243.0</td>\n",
       "      <td>-670.0</td>\n",
       "      <td>-340.0</td>\n",
       "      <td>-340.0</td>\n",
       "      <td>-338.0</td>\n",
       "      <td>1.0</td>\n",
       "    </tr>\n",
       "    <tr>\n",
       "      <th>49997</th>\n",
       "      <td>1960897</td>\n",
       "      <td>346691</td>\n",
       "      <td>Cash loans</td>\n",
       "      <td>NaN</td>\n",
       "      <td>0.0</td>\n",
       "      <td>0.0</td>\n",
       "      <td>NaN</td>\n",
       "      <td>WEDNESDAY</td>\n",
       "      <td>16</td>\n",
       "      <td>Y</td>\n",
       "      <td>...</td>\n",
       "      <td>XNA</td>\n",
       "      <td>NaN</td>\n",
       "      <td>XNA</td>\n",
       "      <td>Cash</td>\n",
       "      <td>NaN</td>\n",
       "      <td>NaN</td>\n",
       "      <td>NaN</td>\n",
       "      <td>NaN</td>\n",
       "      <td>NaN</td>\n",
       "      <td>NaN</td>\n",
       "    </tr>\n",
       "    <tr>\n",
       "      <th>49998</th>\n",
       "      <td>1979352</td>\n",
       "      <td>363244</td>\n",
       "      <td>Cash loans</td>\n",
       "      <td>24909.390</td>\n",
       "      <td>360000.0</td>\n",
       "      <td>409896.0</td>\n",
       "      <td>360000.0</td>\n",
       "      <td>FRIDAY</td>\n",
       "      <td>18</td>\n",
       "      <td>Y</td>\n",
       "      <td>...</td>\n",
       "      <td>XNA</td>\n",
       "      <td>36.0</td>\n",
       "      <td>high</td>\n",
       "      <td>Cash X-Sell: high</td>\n",
       "      <td>NaN</td>\n",
       "      <td>NaN</td>\n",
       "      <td>NaN</td>\n",
       "      <td>NaN</td>\n",
       "      <td>NaN</td>\n",
       "      <td>NaN</td>\n",
       "    </tr>\n",
       "  </tbody>\n",
       "</table>\n",
       "<p>49999 rows × 33 columns</p>\n",
       "</div>"
      ],
      "text/plain": [
       "       SK_ID_PREV  SK_ID_CURR NAME_CONTRACT_TYPE  AMT_ANNUITY  \\\n",
       "0         2030495      271877     Consumer loans     1730.430   \n",
       "1         2802425      108129         Cash loans    25188.615   \n",
       "2         2523466      122040         Cash loans    15060.735   \n",
       "3         2819243      176158         Cash loans    47041.335   \n",
       "4         1784265      202054         Cash loans    31924.395   \n",
       "...           ...         ...                ...          ...   \n",
       "49994     1171956      339569         Cash loans          NaN   \n",
       "49995     1904808      363980         Cash loans          NaN   \n",
       "49996     2331005      231295         Cash loans    22176.405   \n",
       "49997     1960897      346691         Cash loans          NaN   \n",
       "49998     1979352      363244         Cash loans    24909.390   \n",
       "\n",
       "       AMT_APPLICATION  AMT_CREDIT  AMT_GOODS_PRICE  \\\n",
       "0              17145.0     17145.0          17145.0   \n",
       "1             607500.0    679671.0         607500.0   \n",
       "2             112500.0    136444.5         112500.0   \n",
       "3             450000.0    470790.0         450000.0   \n",
       "4             337500.0    404055.0         337500.0   \n",
       "...                ...         ...              ...   \n",
       "49994              0.0         0.0              NaN   \n",
       "49995              0.0         0.0              NaN   \n",
       "49996         180000.0    216418.5         180000.0   \n",
       "49997              0.0         0.0              NaN   \n",
       "49998         360000.0    409896.0         360000.0   \n",
       "\n",
       "      WEEKDAY_APPR_PROCESS_START  HOUR_APPR_PROCESS_START  \\\n",
       "0                       SATURDAY                       15   \n",
       "1                       THURSDAY                       11   \n",
       "2                        TUESDAY                       11   \n",
       "3                         MONDAY                        7   \n",
       "4                       THURSDAY                        9   \n",
       "...                          ...                      ...   \n",
       "49994                   THURSDAY                       11   \n",
       "49995                     FRIDAY                       10   \n",
       "49996                    TUESDAY                       12   \n",
       "49997                  WEDNESDAY                       16   \n",
       "49998                     FRIDAY                       18   \n",
       "\n",
       "      FLAG_LAST_APPL_PER_CONTRACT  ...  NAME_SELLER_INDUSTRY CNT_PAYMENT  \\\n",
       "0                               Y  ...          Connectivity        12.0   \n",
       "1                               Y  ...                   XNA        36.0   \n",
       "2                               Y  ...                   XNA        12.0   \n",
       "3                               Y  ...                   XNA        12.0   \n",
       "4                               Y  ...                   XNA        24.0   \n",
       "...                           ...  ...                   ...         ...   \n",
       "49994                           Y  ...                   XNA         NaN   \n",
       "49995                           Y  ...                   XNA         NaN   \n",
       "49996                           Y  ...                   XNA        12.0   \n",
       "49997                           Y  ...                   XNA         NaN   \n",
       "49998                           Y  ...                   XNA        36.0   \n",
       "\n",
       "      NAME_YIELD_GROUP       PRODUCT_COMBINATION DAYS_FIRST_DRAWING  \\\n",
       "0               middle  POS mobile with interest           365243.0   \n",
       "1           low_action          Cash X-Sell: low           365243.0   \n",
       "2                 high         Cash X-Sell: high           365243.0   \n",
       "3               middle       Cash X-Sell: middle           365243.0   \n",
       "4                 high         Cash Street: high                NaN   \n",
       "...                ...                       ...                ...   \n",
       "49994              XNA                      Cash                NaN   \n",
       "49995              XNA                      Cash                NaN   \n",
       "49996           middle       Cash X-Sell: middle           365243.0   \n",
       "49997              XNA                      Cash                NaN   \n",
       "49998             high         Cash X-Sell: high                NaN   \n",
       "\n",
       "      DAYS_FIRST_DUE DAYS_LAST_DUE_1ST_VERSION DAYS_LAST_DUE DAYS_TERMINATION  \\\n",
       "0              -42.0                     300.0         -42.0            -37.0   \n",
       "1             -134.0                     916.0      365243.0         365243.0   \n",
       "2             -271.0                      59.0      365243.0         365243.0   \n",
       "3             -482.0                    -152.0        -182.0           -177.0   \n",
       "4                NaN                       NaN           NaN              NaN   \n",
       "...              ...                       ...           ...              ...   \n",
       "49994            NaN                       NaN           NaN              NaN   \n",
       "49995            NaN                       NaN           NaN              NaN   \n",
       "49996         -670.0                    -340.0        -340.0           -338.0   \n",
       "49997            NaN                       NaN           NaN              NaN   \n",
       "49998            NaN                       NaN           NaN              NaN   \n",
       "\n",
       "      NFLAG_INSURED_ON_APPROVAL  \n",
       "0                           0.0  \n",
       "1                           1.0  \n",
       "2                           1.0  \n",
       "3                           1.0  \n",
       "4                           NaN  \n",
       "...                         ...  \n",
       "49994                       NaN  \n",
       "49995                       NaN  \n",
       "49996                       1.0  \n",
       "49997                       NaN  \n",
       "49998                       NaN  \n",
       "\n",
       "[49999 rows x 33 columns]"
      ]
     },
     "execution_count": 136,
     "metadata": {},
     "output_type": "execute_result"
    }
   ],
   "source": [
    "# drop() method \n",
    "# DataFrame.drop(columns,inplace)\n",
    "df_app.drop(columns=null.index,inplace=True)\n",
    "df_app"
   ]
  },
  {
   "cell_type": "code",
   "execution_count": 138,
   "id": "71a2ce56-5819-45fa-ae26-6cca2c15dfaf",
   "metadata": {},
   "outputs": [
    {
     "data": {
      "text/plain": [
       "NAME_TYPE_SUITE    48.49\n",
       "dtype: float64"
      ]
     },
     "execution_count": 138,
     "metadata": {},
     "output_type": "execute_result"
    }
   ],
   "source": [
    "null1=missing_value(df_app)[missing_value(df_app)>40]\n",
    "null1"
   ]
  },
  {
   "cell_type": "code",
   "execution_count": 140,
   "id": "73278c82-14b7-4eb8-ad4f-37b9f88d257d",
   "metadata": {},
   "outputs": [
    {
     "data": {
      "text/plain": [
       "Index(['NAME_TYPE_SUITE'], dtype='object')"
      ]
     },
     "execution_count": 140,
     "metadata": {},
     "output_type": "execute_result"
    }
   ],
   "source": [
    "null1.index"
   ]
  },
  {
   "cell_type": "code",
   "execution_count": 142,
   "id": "9c735abf-ce88-49ee-828a-f83376af36d0",
   "metadata": {},
   "outputs": [
    {
     "data": {
      "text/html": [
       "<div>\n",
       "<style scoped>\n",
       "    .dataframe tbody tr th:only-of-type {\n",
       "        vertical-align: middle;\n",
       "    }\n",
       "\n",
       "    .dataframe tbody tr th {\n",
       "        vertical-align: top;\n",
       "    }\n",
       "\n",
       "    .dataframe thead th {\n",
       "        text-align: right;\n",
       "    }\n",
       "</style>\n",
       "<table border=\"1\" class=\"dataframe\">\n",
       "  <thead>\n",
       "    <tr style=\"text-align: right;\">\n",
       "      <th></th>\n",
       "      <th>SK_ID_PREV</th>\n",
       "      <th>SK_ID_CURR</th>\n",
       "      <th>NAME_CONTRACT_TYPE</th>\n",
       "      <th>AMT_ANNUITY</th>\n",
       "      <th>AMT_APPLICATION</th>\n",
       "      <th>AMT_CREDIT</th>\n",
       "      <th>AMT_GOODS_PRICE</th>\n",
       "      <th>WEEKDAY_APPR_PROCESS_START</th>\n",
       "      <th>HOUR_APPR_PROCESS_START</th>\n",
       "      <th>FLAG_LAST_APPL_PER_CONTRACT</th>\n",
       "      <th>...</th>\n",
       "      <th>NAME_SELLER_INDUSTRY</th>\n",
       "      <th>CNT_PAYMENT</th>\n",
       "      <th>NAME_YIELD_GROUP</th>\n",
       "      <th>PRODUCT_COMBINATION</th>\n",
       "      <th>DAYS_FIRST_DRAWING</th>\n",
       "      <th>DAYS_FIRST_DUE</th>\n",
       "      <th>DAYS_LAST_DUE_1ST_VERSION</th>\n",
       "      <th>DAYS_LAST_DUE</th>\n",
       "      <th>DAYS_TERMINATION</th>\n",
       "      <th>NFLAG_INSURED_ON_APPROVAL</th>\n",
       "    </tr>\n",
       "  </thead>\n",
       "  <tbody>\n",
       "    <tr>\n",
       "      <th>0</th>\n",
       "      <td>2030495</td>\n",
       "      <td>271877</td>\n",
       "      <td>Consumer loans</td>\n",
       "      <td>1730.430</td>\n",
       "      <td>17145.0</td>\n",
       "      <td>17145.0</td>\n",
       "      <td>17145.0</td>\n",
       "      <td>SATURDAY</td>\n",
       "      <td>15</td>\n",
       "      <td>Y</td>\n",
       "      <td>...</td>\n",
       "      <td>Connectivity</td>\n",
       "      <td>12.0</td>\n",
       "      <td>middle</td>\n",
       "      <td>POS mobile with interest</td>\n",
       "      <td>365243.0</td>\n",
       "      <td>-42.0</td>\n",
       "      <td>300.0</td>\n",
       "      <td>-42.0</td>\n",
       "      <td>-37.0</td>\n",
       "      <td>0.0</td>\n",
       "    </tr>\n",
       "    <tr>\n",
       "      <th>1</th>\n",
       "      <td>2802425</td>\n",
       "      <td>108129</td>\n",
       "      <td>Cash loans</td>\n",
       "      <td>25188.615</td>\n",
       "      <td>607500.0</td>\n",
       "      <td>679671.0</td>\n",
       "      <td>607500.0</td>\n",
       "      <td>THURSDAY</td>\n",
       "      <td>11</td>\n",
       "      <td>Y</td>\n",
       "      <td>...</td>\n",
       "      <td>XNA</td>\n",
       "      <td>36.0</td>\n",
       "      <td>low_action</td>\n",
       "      <td>Cash X-Sell: low</td>\n",
       "      <td>365243.0</td>\n",
       "      <td>-134.0</td>\n",
       "      <td>916.0</td>\n",
       "      <td>365243.0</td>\n",
       "      <td>365243.0</td>\n",
       "      <td>1.0</td>\n",
       "    </tr>\n",
       "    <tr>\n",
       "      <th>2</th>\n",
       "      <td>2523466</td>\n",
       "      <td>122040</td>\n",
       "      <td>Cash loans</td>\n",
       "      <td>15060.735</td>\n",
       "      <td>112500.0</td>\n",
       "      <td>136444.5</td>\n",
       "      <td>112500.0</td>\n",
       "      <td>TUESDAY</td>\n",
       "      <td>11</td>\n",
       "      <td>Y</td>\n",
       "      <td>...</td>\n",
       "      <td>XNA</td>\n",
       "      <td>12.0</td>\n",
       "      <td>high</td>\n",
       "      <td>Cash X-Sell: high</td>\n",
       "      <td>365243.0</td>\n",
       "      <td>-271.0</td>\n",
       "      <td>59.0</td>\n",
       "      <td>365243.0</td>\n",
       "      <td>365243.0</td>\n",
       "      <td>1.0</td>\n",
       "    </tr>\n",
       "    <tr>\n",
       "      <th>3</th>\n",
       "      <td>2819243</td>\n",
       "      <td>176158</td>\n",
       "      <td>Cash loans</td>\n",
       "      <td>47041.335</td>\n",
       "      <td>450000.0</td>\n",
       "      <td>470790.0</td>\n",
       "      <td>450000.0</td>\n",
       "      <td>MONDAY</td>\n",
       "      <td>7</td>\n",
       "      <td>Y</td>\n",
       "      <td>...</td>\n",
       "      <td>XNA</td>\n",
       "      <td>12.0</td>\n",
       "      <td>middle</td>\n",
       "      <td>Cash X-Sell: middle</td>\n",
       "      <td>365243.0</td>\n",
       "      <td>-482.0</td>\n",
       "      <td>-152.0</td>\n",
       "      <td>-182.0</td>\n",
       "      <td>-177.0</td>\n",
       "      <td>1.0</td>\n",
       "    </tr>\n",
       "    <tr>\n",
       "      <th>4</th>\n",
       "      <td>1784265</td>\n",
       "      <td>202054</td>\n",
       "      <td>Cash loans</td>\n",
       "      <td>31924.395</td>\n",
       "      <td>337500.0</td>\n",
       "      <td>404055.0</td>\n",
       "      <td>337500.0</td>\n",
       "      <td>THURSDAY</td>\n",
       "      <td>9</td>\n",
       "      <td>Y</td>\n",
       "      <td>...</td>\n",
       "      <td>XNA</td>\n",
       "      <td>24.0</td>\n",
       "      <td>high</td>\n",
       "      <td>Cash Street: high</td>\n",
       "      <td>NaN</td>\n",
       "      <td>NaN</td>\n",
       "      <td>NaN</td>\n",
       "      <td>NaN</td>\n",
       "      <td>NaN</td>\n",
       "      <td>NaN</td>\n",
       "    </tr>\n",
       "    <tr>\n",
       "      <th>...</th>\n",
       "      <td>...</td>\n",
       "      <td>...</td>\n",
       "      <td>...</td>\n",
       "      <td>...</td>\n",
       "      <td>...</td>\n",
       "      <td>...</td>\n",
       "      <td>...</td>\n",
       "      <td>...</td>\n",
       "      <td>...</td>\n",
       "      <td>...</td>\n",
       "      <td>...</td>\n",
       "      <td>...</td>\n",
       "      <td>...</td>\n",
       "      <td>...</td>\n",
       "      <td>...</td>\n",
       "      <td>...</td>\n",
       "      <td>...</td>\n",
       "      <td>...</td>\n",
       "      <td>...</td>\n",
       "      <td>...</td>\n",
       "      <td>...</td>\n",
       "    </tr>\n",
       "    <tr>\n",
       "      <th>49994</th>\n",
       "      <td>1171956</td>\n",
       "      <td>339569</td>\n",
       "      <td>Cash loans</td>\n",
       "      <td>NaN</td>\n",
       "      <td>0.0</td>\n",
       "      <td>0.0</td>\n",
       "      <td>NaN</td>\n",
       "      <td>THURSDAY</td>\n",
       "      <td>11</td>\n",
       "      <td>Y</td>\n",
       "      <td>...</td>\n",
       "      <td>XNA</td>\n",
       "      <td>NaN</td>\n",
       "      <td>XNA</td>\n",
       "      <td>Cash</td>\n",
       "      <td>NaN</td>\n",
       "      <td>NaN</td>\n",
       "      <td>NaN</td>\n",
       "      <td>NaN</td>\n",
       "      <td>NaN</td>\n",
       "      <td>NaN</td>\n",
       "    </tr>\n",
       "    <tr>\n",
       "      <th>49995</th>\n",
       "      <td>1904808</td>\n",
       "      <td>363980</td>\n",
       "      <td>Cash loans</td>\n",
       "      <td>NaN</td>\n",
       "      <td>0.0</td>\n",
       "      <td>0.0</td>\n",
       "      <td>NaN</td>\n",
       "      <td>FRIDAY</td>\n",
       "      <td>10</td>\n",
       "      <td>Y</td>\n",
       "      <td>...</td>\n",
       "      <td>XNA</td>\n",
       "      <td>NaN</td>\n",
       "      <td>XNA</td>\n",
       "      <td>Cash</td>\n",
       "      <td>NaN</td>\n",
       "      <td>NaN</td>\n",
       "      <td>NaN</td>\n",
       "      <td>NaN</td>\n",
       "      <td>NaN</td>\n",
       "      <td>NaN</td>\n",
       "    </tr>\n",
       "    <tr>\n",
       "      <th>49996</th>\n",
       "      <td>2331005</td>\n",
       "      <td>231295</td>\n",
       "      <td>Cash loans</td>\n",
       "      <td>22176.405</td>\n",
       "      <td>180000.0</td>\n",
       "      <td>216418.5</td>\n",
       "      <td>180000.0</td>\n",
       "      <td>TUESDAY</td>\n",
       "      <td>12</td>\n",
       "      <td>Y</td>\n",
       "      <td>...</td>\n",
       "      <td>XNA</td>\n",
       "      <td>12.0</td>\n",
       "      <td>middle</td>\n",
       "      <td>Cash X-Sell: middle</td>\n",
       "      <td>365243.0</td>\n",
       "      <td>-670.0</td>\n",
       "      <td>-340.0</td>\n",
       "      <td>-340.0</td>\n",
       "      <td>-338.0</td>\n",
       "      <td>1.0</td>\n",
       "    </tr>\n",
       "    <tr>\n",
       "      <th>49997</th>\n",
       "      <td>1960897</td>\n",
       "      <td>346691</td>\n",
       "      <td>Cash loans</td>\n",
       "      <td>NaN</td>\n",
       "      <td>0.0</td>\n",
       "      <td>0.0</td>\n",
       "      <td>NaN</td>\n",
       "      <td>WEDNESDAY</td>\n",
       "      <td>16</td>\n",
       "      <td>Y</td>\n",
       "      <td>...</td>\n",
       "      <td>XNA</td>\n",
       "      <td>NaN</td>\n",
       "      <td>XNA</td>\n",
       "      <td>Cash</td>\n",
       "      <td>NaN</td>\n",
       "      <td>NaN</td>\n",
       "      <td>NaN</td>\n",
       "      <td>NaN</td>\n",
       "      <td>NaN</td>\n",
       "      <td>NaN</td>\n",
       "    </tr>\n",
       "    <tr>\n",
       "      <th>49998</th>\n",
       "      <td>1979352</td>\n",
       "      <td>363244</td>\n",
       "      <td>Cash loans</td>\n",
       "      <td>24909.390</td>\n",
       "      <td>360000.0</td>\n",
       "      <td>409896.0</td>\n",
       "      <td>360000.0</td>\n",
       "      <td>FRIDAY</td>\n",
       "      <td>18</td>\n",
       "      <td>Y</td>\n",
       "      <td>...</td>\n",
       "      <td>XNA</td>\n",
       "      <td>36.0</td>\n",
       "      <td>high</td>\n",
       "      <td>Cash X-Sell: high</td>\n",
       "      <td>NaN</td>\n",
       "      <td>NaN</td>\n",
       "      <td>NaN</td>\n",
       "      <td>NaN</td>\n",
       "      <td>NaN</td>\n",
       "      <td>NaN</td>\n",
       "    </tr>\n",
       "  </tbody>\n",
       "</table>\n",
       "<p>49999 rows × 32 columns</p>\n",
       "</div>"
      ],
      "text/plain": [
       "       SK_ID_PREV  SK_ID_CURR NAME_CONTRACT_TYPE  AMT_ANNUITY  \\\n",
       "0         2030495      271877     Consumer loans     1730.430   \n",
       "1         2802425      108129         Cash loans    25188.615   \n",
       "2         2523466      122040         Cash loans    15060.735   \n",
       "3         2819243      176158         Cash loans    47041.335   \n",
       "4         1784265      202054         Cash loans    31924.395   \n",
       "...           ...         ...                ...          ...   \n",
       "49994     1171956      339569         Cash loans          NaN   \n",
       "49995     1904808      363980         Cash loans          NaN   \n",
       "49996     2331005      231295         Cash loans    22176.405   \n",
       "49997     1960897      346691         Cash loans          NaN   \n",
       "49998     1979352      363244         Cash loans    24909.390   \n",
       "\n",
       "       AMT_APPLICATION  AMT_CREDIT  AMT_GOODS_PRICE  \\\n",
       "0              17145.0     17145.0          17145.0   \n",
       "1             607500.0    679671.0         607500.0   \n",
       "2             112500.0    136444.5         112500.0   \n",
       "3             450000.0    470790.0         450000.0   \n",
       "4             337500.0    404055.0         337500.0   \n",
       "...                ...         ...              ...   \n",
       "49994              0.0         0.0              NaN   \n",
       "49995              0.0         0.0              NaN   \n",
       "49996         180000.0    216418.5         180000.0   \n",
       "49997              0.0         0.0              NaN   \n",
       "49998         360000.0    409896.0         360000.0   \n",
       "\n",
       "      WEEKDAY_APPR_PROCESS_START  HOUR_APPR_PROCESS_START  \\\n",
       "0                       SATURDAY                       15   \n",
       "1                       THURSDAY                       11   \n",
       "2                        TUESDAY                       11   \n",
       "3                         MONDAY                        7   \n",
       "4                       THURSDAY                        9   \n",
       "...                          ...                      ...   \n",
       "49994                   THURSDAY                       11   \n",
       "49995                     FRIDAY                       10   \n",
       "49996                    TUESDAY                       12   \n",
       "49997                  WEDNESDAY                       16   \n",
       "49998                     FRIDAY                       18   \n",
       "\n",
       "      FLAG_LAST_APPL_PER_CONTRACT  ...  NAME_SELLER_INDUSTRY CNT_PAYMENT  \\\n",
       "0                               Y  ...          Connectivity        12.0   \n",
       "1                               Y  ...                   XNA        36.0   \n",
       "2                               Y  ...                   XNA        12.0   \n",
       "3                               Y  ...                   XNA        12.0   \n",
       "4                               Y  ...                   XNA        24.0   \n",
       "...                           ...  ...                   ...         ...   \n",
       "49994                           Y  ...                   XNA         NaN   \n",
       "49995                           Y  ...                   XNA         NaN   \n",
       "49996                           Y  ...                   XNA        12.0   \n",
       "49997                           Y  ...                   XNA         NaN   \n",
       "49998                           Y  ...                   XNA        36.0   \n",
       "\n",
       "      NAME_YIELD_GROUP       PRODUCT_COMBINATION DAYS_FIRST_DRAWING  \\\n",
       "0               middle  POS mobile with interest           365243.0   \n",
       "1           low_action          Cash X-Sell: low           365243.0   \n",
       "2                 high         Cash X-Sell: high           365243.0   \n",
       "3               middle       Cash X-Sell: middle           365243.0   \n",
       "4                 high         Cash Street: high                NaN   \n",
       "...                ...                       ...                ...   \n",
       "49994              XNA                      Cash                NaN   \n",
       "49995              XNA                      Cash                NaN   \n",
       "49996           middle       Cash X-Sell: middle           365243.0   \n",
       "49997              XNA                      Cash                NaN   \n",
       "49998             high         Cash X-Sell: high                NaN   \n",
       "\n",
       "      DAYS_FIRST_DUE DAYS_LAST_DUE_1ST_VERSION DAYS_LAST_DUE DAYS_TERMINATION  \\\n",
       "0              -42.0                     300.0         -42.0            -37.0   \n",
       "1             -134.0                     916.0      365243.0         365243.0   \n",
       "2             -271.0                      59.0      365243.0         365243.0   \n",
       "3             -482.0                    -152.0        -182.0           -177.0   \n",
       "4                NaN                       NaN           NaN              NaN   \n",
       "...              ...                       ...           ...              ...   \n",
       "49994            NaN                       NaN           NaN              NaN   \n",
       "49995            NaN                       NaN           NaN              NaN   \n",
       "49996         -670.0                    -340.0        -340.0           -338.0   \n",
       "49997            NaN                       NaN           NaN              NaN   \n",
       "49998            NaN                       NaN           NaN              NaN   \n",
       "\n",
       "      NFLAG_INSURED_ON_APPROVAL  \n",
       "0                           0.0  \n",
       "1                           1.0  \n",
       "2                           1.0  \n",
       "3                           1.0  \n",
       "4                           NaN  \n",
       "...                         ...  \n",
       "49994                       NaN  \n",
       "49995                       NaN  \n",
       "49996                       1.0  \n",
       "49997                       NaN  \n",
       "49998                       NaN  \n",
       "\n",
       "[49999 rows x 32 columns]"
      ]
     },
     "execution_count": 142,
     "metadata": {},
     "output_type": "execute_result"
    }
   ],
   "source": [
    "df_app.drop(columns=null1.index,inplace=True)\n",
    "df_app"
   ]
  },
  {
   "cell_type": "code",
   "execution_count": 144,
   "id": "ec09fbd9-ebdd-43f0-9b6d-03a72afcc8be",
   "metadata": {},
   "outputs": [
    {
     "data": {
      "text/plain": [
       "10592"
      ]
     },
     "execution_count": 144,
     "metadata": {},
     "output_type": "execute_result"
    }
   ],
   "source": [
    "df_app[\"AMT_ANNUITY\"].isnull().sum()"
   ]
  },
  {
   "cell_type": "code",
   "execution_count": 146,
   "id": "64999daa-8f95-4334-b86c-b0d0981ef409",
   "metadata": {},
   "outputs": [],
   "source": [
    "import matplotlib.pyplot as plt\n",
    "import seaborn as sns"
   ]
  },
  {
   "cell_type": "code",
   "execution_count": 147,
   "id": "271ce5b3-db55-43d8-9d7f-c773ae4baea8",
   "metadata": {},
   "outputs": [
    {
     "data": {
      "image/png": "[encoded data removed]",
      "text/plain": [
       "<Figure size 640x480 with 1 Axes>"
      ]
     },
     "metadata": {},
     "output_type": "display_data"
    }
   ],
   "source": [
    "sns.boxplot(df_app[\"AMT_ANNUITY\"],color=\"green\")\n",
    "plt.show()"
   ]
  },
  {
   "cell_type": "code",
   "execution_count": 148,
   "id": "1f3b6c74-6019-4b74-8c45-214a7b3920e8",
   "metadata": {},
   "outputs": [
    {
     "data": {
      "text/plain": [
       "count     39407.000000\n",
       "mean      15482.596847\n",
       "std       14530.971854\n",
       "min           0.000000\n",
       "25%        6122.835000\n",
       "50%       10879.920000\n",
       "75%       19669.140000\n",
       "max      234478.395000\n",
       "Name: AMT_ANNUITY, dtype: float64"
      ]
     },
     "execution_count": 148,
     "metadata": {},
     "output_type": "execute_result"
    }
   ],
   "source": [
    "df_app[\"AMT_ANNUITY\"].describe()"
   ]
  },
  {
   "cell_type": "code",
   "execution_count": 149,
   "id": "3aa19972-4952-42b4-a4e7-083b6cd5e88c",
   "metadata": {},
   "outputs": [
    {
     "data": {
      "text/plain": [
       "6122.835"
      ]
     },
     "execution_count": 149,
     "metadata": {},
     "output_type": "execute_result"
    }
   ],
   "source": [
    "q1=np.quantile(df_app[\"AMT_ANNUITY\"].dropna(),0.25)\n",
    "q1"
   ]
  },
  {
   "cell_type": "code",
   "execution_count": 151,
   "id": "007d7c4e-acfc-4714-8752-90fa61ddac0b",
   "metadata": {},
   "outputs": [
    {
     "data": {
      "text/plain": [
       "10879.92"
      ]
     },
     "execution_count": 151,
     "metadata": {},
     "output_type": "execute_result"
    }
   ],
   "source": [
    "q2=np.quantile(df_app[\"AMT_ANNUITY\"].dropna(),0.50)\n",
    "q2"
   ]
  },
  {
   "cell_type": "code",
   "execution_count": 156,
   "id": "fea99679-80b9-4903-898a-47dc1a75deb4",
   "metadata": {},
   "outputs": [
    {
     "data": {
      "text/plain": [
       "19669.14"
      ]
     },
     "execution_count": 156,
     "metadata": {},
     "output_type": "execute_result"
    }
   ],
   "source": [
    "q3=np.quantile(df_app[\"AMT_ANNUITY\"].dropna(),0.75)\n",
    "q3"
   ]
  },
  {
   "cell_type": "code",
   "execution_count": 158,
   "id": "19bfa073-ec06-4f7e-aee4-07398c2ab815",
   "metadata": {},
   "outputs": [
    {
     "data": {
      "text/plain": [
       "13546.305"
      ]
     },
     "execution_count": 158,
     "metadata": {},
     "output_type": "execute_result"
    }
   ],
   "source": [
    "IQR=q3-q1\n",
    "IQR"
   ]
  },
  {
   "cell_type": "code",
   "execution_count": 160,
   "id": "a7eb7c53-d25b-4ca1-9af1-e383cf8e147e",
   "metadata": {},
   "outputs": [],
   "source": [
    "upper_fence=q3+1.5*(IQR)\n",
    "lower_fence=q1-1.5*(IQR)"
   ]
  },
  {
   "cell_type": "code",
   "execution_count": 162,
   "id": "3f100095-7e81-42ec-9d58-3fcf40f4a31e",
   "metadata": {},
   "outputs": [
    {
     "name": "stdout",
     "output_type": "stream",
     "text": [
      "[47041.335, 75897.63, 47407.5, 49299.435, 58021.695, 40933.575, 45000.0, 55973.295, 46345.32, 49186.8, 43067.475, 52507.8, 56548.62, 40565.79, 45269.19, 77063.58, 41383.71, 69127.38, 42306.795, 40072.59, 74038.23, 71390.295, 53125.11, 45205.605, 42175.575, 49106.475, 83041.2, 59698.17, 47041.335, 50026.005, 55956.06, 45000.0, 49140.72, 51949.44, 53230.905, 45000.0, 41047.92, 73641.645, 46503.0, 44986.5, 46865.43, 67322.115, 77580.27, 41427.0, 55377.855, 55341.36, 39989.25, 45000.0, 45000.0, 45414.9, 53174.88, 45000.0, 70667.73, 47602.71, 74159.82, 50352.615, 79229.61, 65889.0, 47484.18, 40519.53, 67855.995, 55965.285, 50204.61, 52026.165, 62530.065, 41859.27, 53174.88, 41572.62, 43377.165, 44565.3, 43179.75, 74451.825, 54124.83, 59765.715, 82037.745, 45000.0, 45000.0, 49640.85, 48767.265, 42646.05, 44131.095, 66882.735, 131892.66, 65368.62, 51899.175, 44285.58, 79005.78, 51419.025, 44048.025, 49403.25, 48204.225, 63697.68, 40557.285, 40239.99, 45000.0, 55809.855, 41859.0, 68794.92, 45626.31, 60916.86, 42793.695, 52026.165, 57148.875, 43220.925, 48494.385, 42898.905, 44634.96, 41051.745, 40516.83, 45000.0, 43188.93, 45104.04, 66734.46, 42552.855, 60509.925, 48078.27, 41267.655, 55030.905, 97299.855, 40500.0, 44396.37, 74547.225, 47780.685, 48482.64, 42646.05, 41195.835, 42646.05, 47999.565, 55603.035, 40519.53, 53075.205, 45000.0, 87753.33, 71455.185, 41298.435, 47677.815, 40002.975, 42502.5, 47614.5, 45000.0, 42031.98, 48588.525, 43696.35, 50132.52, 41036.76, 49017.825, 55400.895, 49882.68, 40914.495, 58884.66, 44104.5, 53419.5, 40227.75, 64883.97, 42515.55, 41211.0, 83070.9, 98613.675, 42500.07, 59777.145, 56569.05, 49640.85, 46686.375, 43565.625, 45817.83, 77670.135, 54849.6, 66734.46, 66406.365, 66536.865, 51045.03, 40483.8, 61507.935, 42293.7, 68145.84, 43951.365, 40357.26, 43241.13, 40784.76, 48588.525, 40563.0, 47484.0, 59284.89, 52623.0, 68034.195, 45000.0, 44673.39, 61480.89, 43106.04, 55250.01, 40173.075, 45170.505, 52788.78, 45000.0, 86872.5, 47406.825, 48146.985, 49621.455, 41665.095, 54239.58, 47029.5, 48530.115, 50656.725, 52076.205, 42237.18, 50148.09, 62956.035, 63872.955, 64215.36, 43380.09, 42764.355, 56103.795, 56414.7, 50014.305, 53380.935, 70825.545, 204635.79, 121603.86, 45000.0, 47961.0, 44410.545, 44253.0, 110360.43, 50281.785, 53501.4, 41585.175, 40002.975, 55956.06, 76105.575, 59101.425, 45853.74, 57178.98, 42552.855, 61192.53, 50861.79, 46274.13, 46183.5, 54121.5, 60630.75, 47827.17, 88131.645, 50074.11, 51334.695, 46484.46, 45161.37, 52884.18, 54583.74, 69760.755, 52453.71, 58492.44, 42872.94, 118845.0, 58059.315, 42358.23, 45000.0, 50951.25, 53191.665, 41728.41, 52346.79, 121933.215, 68145.84, 57280.5, 130455.45, 57285.135, 67129.38, 44994.375, 74308.905, 50773.5, 66864.96, 59074.335, 52788.78, 40645.035, 49398.525, 61374.6, 43955.1, 49591.71, 45000.0, 45869.04, 46901.25, 40002.975, 45495.81, 44235.135, 83758.275, 68015.34, 41939.64, 66734.46, 52999.92, 53533.17, 51338.88, 44899.56, 56845.665, 49771.35, 48870.0, 72955.485, 52788.78, 74049.075, 59355.0, 70685.775, 57590.415, 48003.93, 53414.325, 53303.4, 86738.04, 42175.575, 45370.125, 53721.18, 45580.41, 51732.765, 51155.415, 56754.0, 46648.62, 65449.485, 45625.5, 43224.66, 62931.735, 59949.0, 53355.015, 44971.38, 74308.905, 47433.825, 79113.375, 44987.94, 41384.25, 42231.015, 46584.585, 52026.165, 60711.12, 44564.31, 42727.5, 44464.005, 69628.59, 45000.0, 61221.42, 54900.405, 53541.0, 53005.41, 43551.0, 83652.615, 51897.915, 59039.325, 49874.625, 44144.1, 62610.39, 63681.39, 63977.175, 47416.05, 44300.25, 48764.16, 48767.265, 60392.745, 100939.5, 44244.855, 40031.91, 56076.705, 49461.21, 46980.0, 54367.92, 69515.37, 86307.48, 42523.92, 63264.375, 44701.515, 45820.395, 60392.745, 127508.265, 53355.015, 41767.92, 44617.5, 45000.0, 51334.695, 50026.005, 52953.705, 70685.775, 46791.18, 45626.31, 48723.075, 90265.455, 52907.355, 45243.945, 43272.135, 45855.135, 93195.27, 66114.81, 66290.85, 118756.935, 46899.0, 52292.52, 49308.66, 52571.205, 132671.655, 44131.095, 65423.295, 70737.3, 52788.78, 55448.415, 47666.25, 42227.73, 45445.95, 51619.86, 74834.145, 45000.0, 56869.74, 46306.935, 63676.53, 47303.325, 48824.955, 45128.97, 74444.715, 48775.275, 55601.55, 52919.28, 41985.0, 48790.89, 52026.165, 63935.64, 62453.835, 57875.85, 43839.0, 44863.875, 45134.82, 45776.745, 43571.16, 50929.65, 45205.605, 44832.015, 64722.915, 63314.235, 57622.5, 65821.995, 40181.22, 46451.34, 69760.755, 40783.995, 56586.33, 52154.55, 45000.0, 45000.0, 64400.85, 45000.0, 43197.975, 55217.025, 107559.27, 40680.945, 79679.7, 89156.52, 52919.28, 48065.535, 41936.31, 45955.845, 42646.05, 41911.785, 45649.8, 44323.785, 58979.025, 45954.0, 43551.0, 49930.785, 64086.12, 42723.72, 40386.33, 58335.975, 55645.155, 53666.325, 49640.85, 56112.48, 45423.0, 80779.455, 53095.32, 81694.395, 50406.615, 44308.935, 48698.595, 45240.75, 41881.14, 56552.31, 89885.52, 41066.64, 47484.18, 45817.155, 77161.5, 74444.715, 57078.45, 41568.975, 56520.0, 41905.035, 42557.4, 44307.18, 47277.0, 45000.0, 48829.095, 46107.0, 45000.0, 69758.64, 44778.42, 48069.45, 51334.695, 45357.885, 87587.73, 63180.0, 72524.475, 40341.69, 43712.595, 50575.23, 71162.28, 46296.9, 42515.55, 42358.23, 52026.165, 56160.36, 50885.01, 51655.725, 42176.295, 46131.075, 41195.835, 48321.0, 81702.225, 59464.395, 56754.0, 52999.92, 58068.495, 40783.995, 65553.795, 40279.185, 44214.255, 46143.63, 41402.88, 43141.185, 47666.25, 47220.435, 56857.5, 72145.8, 46305.63, 48873.33, 43565.625, 45000.0, 52919.28, 67855.995, 55400.895, 63346.545, 44820.225, 42013.485, 43824.555, 53225.82, 56896.785, 84774.87, 42180.48, 84891.825, 69160.815, 65553.795, 45626.31, 48829.095, 53355.015, 40050.45, 59765.715, 47765.97, 41992.92, 53775.81, 41720.94, 41562.18, 118449.36, 76376.61, 55511.1, 40472.64, 53255.61, 43312.5, 57788.73, 42778.845, 66923.37, 47616.885, 63157.5, 51439.5, 42212.34, 45336.78, 62785.8, 64031.13, 63020.61, 51961.095, 56457.0, 70462.395, 45000.0, 45347.535, 61506.45, 45864.36, 61398.0, 66536.865, 79153.425, 45000.0, 48113.37, 69225.75, 47073.06, 56548.62, 53216.235, 43990.2, 42646.05, 65240.64, 64757.295, 52112.115, 52274.25, 46483.29, 62421.975, 40783.995, 41728.41, 45000.0, 43820.37, 41254.47, 53084.205, 40178.745, 49047.525, 45205.605, 128182.5, 90406.26, 42670.98, 53091.765, 53037.9, 42552.855, 40033.35, 72321.255, 49488.525, 51608.88, 40301.1, 64170.495, 49638.96, 48887.325, 44650.98, 50031.0, 70019.64, 59893.425, 50005.125, 63805.5, 48672.45, 75911.175, 40509.675, 56247.66, 45118.44, 42552.855, 69382.845, 43508.205, 53606.475, 40610.655, 40098.33, 55380.6, 74828.16, 43064.055, 52026.165, 50026.005, 41552.145, 48672.45, 50479.065, 50156.505, 88043.22, 59254.875, 210115.485, 76028.13, 49800.285, 58870.935, 45864.36, 55901.34, 44630.055, 63637.335, 40279.185, 54194.175, 70625.16, 52164.18, 44197.65, 45000.0, 50492.97, 42945.345, 50386.5, 56754.0, 54575.055, 72816.39, 47277.0, 40389.03, 40025.61, 56754.0, 46394.01, 112910.715, 48595.5, 53225.82, 43412.22, 59485.5, 41985.0, 47862.675, 54732.96, 51617.385, 126622.665, 48242.385, 51655.275, 54444.555, 53598.15, 49539.105, 44701.515, 47998.395, 56223.99, 56177.145, 45000.0, 62552.475, 45336.105, 50546.7, 48458.025, 115956.99, 45495.81, 61088.985, 41666.22, 48810.24, 59355.0, 58735.62, 93042.225, 45104.04, 45883.8, 52791.84, 49976.235, 48206.61, 45994.86, 52737.165, 76476.555, 50737.05, 45000.0, 40389.03, 59896.215, 68515.2, 65409.03, 40279.185, 45336.105, 46143.63, 66351.375, 88691.4, 48495.915, 40052.25, 53187.03, 55471.05, 45000.0, 48111.885, 67810.86, 66882.735, 44541.045, 49212.315, 63180.0, 42866.325, 99556.92, 67513.185, 62313.21, 56723.58, 56813.04, 66406.365, 71098.65, 65278.53, 44296.56, 41068.44, 46899.0, 72099.495, 44410.545, 51043.95, 62323.335, 44308.935, 54530.19, 85873.905, 70827.165, 62014.365, 95508.0, 51732.765, 77288.49, 41830.29, 42996.24, 45068.76, 64966.5, 63135.0, 41858.91, 61480.89, 66421.35, 81306.99, 46670.13, 65758.5, 40804.065, 85644.0, 46633.23, 41585.625, 44085.195, 58260.015, 45155.7, 63675.0, 41430.69, 52791.705, 41926.725, 88497.36, 41666.22, 57548.565, 75322.98, 40051.125, 52489.395, 62761.5, 61047.36, 40783.995, 47299.725, 49398.705, 45000.0, 45000.0, 49186.8, 54255.33, 51732.765, 52233.435, 57000.825, 40500.0, 40783.995, 54366.795, 42646.05, 56869.74, 45428.175, 44499.645, 40107.15, 42336.225, 50453.595, 51655.725, 52026.165, 69105.825, 79762.32, 40761.0, 46274.13, 75384.0, 48092.355, 47344.5, 64756.935, 56501.82, 45000.0, 52953.705, 69102.81, 82551.15, 40677.21, 42930.0, 100880.865, 47344.5, 40389.03, 58058.91, 67347.81, 47803.995, 41053.995, 66536.865, 58068.0, 43380.09, 40389.03, 40059.225, 71162.28, 49610.565, 44323.785, 51440.67, 119981.385, 49727.7, 49874.625, 40783.995, 90354.69, 45000.0, 44606.025, 43134.525, 74451.825, 61076.25, 41191.92, 41062.5, 41455.125, 73349.325, 55679.355, 45864.36, 59991.75, 44701.515, 52026.165, 42646.05, 46112.76, 56024.955, 44025.435, 41905.035, 66406.365, 45000.0, 45000.0, 50164.56, 47989.53, 44301.555, 48306.33, 96514.56, 66916.98, 45986.85, 92277.9, 40658.895, 71102.88, 47546.55, 53778.015, 55511.1, 64268.955, 45854.73, 44239.005, 43510.455, 52985.88, 47261.025, 59355.0, 41083.2, 47842.605, 41728.41, 66752.235, 55100.565, 50867.55, 48861.045, 85713.12, 51332.58, 40500.0, 137606.85, 59234.49, 57753.09, 42552.855, 48950.685, 52953.705, 53210.205, 81563.895, 43674.255, 47131.155, 47038.77, 46484.46, 40270.23, 41572.62, 97299.855, 63314.235, 55100.565, 84822.93, 67351.86, 45686.655, 45000.0, 52907.4, 44435.295, 40500.0, 52034.4, 56754.0, 46274.13, 60792.75, 80166.15, 42031.98, 72593.415, 40663.575, 41728.41, 69033.195, 47322.855, 46030.95, 48995.28, 40360.95, 41164.245, 47212.2, 42075.0, 53433.9, 44714.88, 55511.1, 45742.185, 91280.565, 45000.0, 50026.005, 47998.395, 51918.435, 51961.095, 40951.575, 64334.295, 49461.21, 50022.945, 58061.52, 54690.03, 42628.05, 39998.61, 51208.38, 54844.065, 44265.87, 75738.06, 52535.43, 54542.07, 42330.24, 66771.765, 41833.395, 43697.385, 49594.5, 51863.265, 65790.0, 74038.23, 51334.695, 52999.92, 45000.0, 79857.18, 45205.605, 64446.525, 48698.595, 41152.545, 44565.57, 49398.525, 40050.765, 49874.625, 68409.225, 45000.0, 100591.875, 52791.84, 40692.6, 45636.525, 50737.05, 53174.88, 60093.99, 46030.95, 53099.325, 69567.795, 78140.745, 45205.605, 49480.065, 43833.15, 68220.0, 96264.9, 46650.24, 43270.155, 51757.92, 66647.745, 41858.91, 45000.0, 47853.765, 67940.64, 128556.945, 71031.78, 45336.105, 40002.975, 69382.845, 101193.57, 86748.12, 51440.67, 45000.0, 66864.96, 62453.835, 51284.565, 40320.63, 48646.485, 45000.0, 40225.635, 62878.59, 130825.215, 88262.145, 45626.31, 51334.695, 55973.295, 52821.45, 46046.7, 54389.7, 52681.86, 50045.355, 83552.49, 44344.755, 61351.92, 46850.265, 46030.95, 52762.5, 56103.795, 69698.61, 46261.575, 48482.64, 40386.33, 48887.325, 47041.335, 45623.25, 47045.25, 118264.5, 46614.96, 55380.6, 74444.715, 54389.7, 50731.29, 50867.55, 46131.075, 45000.0, 43067.475, 54679.41, 45000.0, 49183.965, 46549.62, 40833.0, 76808.25, 42646.05, 76041.675, 47914.56, 40500.0, 58524.03, 84116.25, 41171.4, 47939.76, 66752.235, 48482.64, 49591.71, 52953.705, 63511.2, 52922.34, 47041.335, 45000.0, 92476.485, 45000.0, 53682.345, 46274.13, 45336.78, 58839.03, 131904.9, 46046.7, 53422.155, 45351.9, 44149.365, 45453.69, 41275.305, 71619.975, 43224.66, 82037.745, 84246.48, 60711.12, 46484.46, 53583.975, 47392.2, 47497.545, 62182.71, 45284.4, 79005.78, 49314.465, 51673.95, 70184.745, 56513.16, 45099.45, 55941.345, 49461.21, 46131.075, 45000.0, 41513.76, 41905.035, 48504.555, 42500.07, 56903.895, 65278.53, 59534.145, 42735.6, 119954.475, 41905.035, 44396.055, 68138.865, 50408.685, 92125.89, 52735.14, 41819.67, 68015.34, 74539.845, 42606.945, 44441.235, 51976.08, 43839.0, 45761.4, 61522.245, 74575.215, 42397.2, 50834.565, 46536.12, 73885.455, 47621.07, 43855.65, 46161.45, 46901.25, 116388.0, 40783.995, 65014.47, 44832.015, 43006.5, 65742.3, 48723.075, 48887.325, 73116.27, 88815.96, 48372.345, 42544.755, 75816.0, 64114.875, 40133.475, 40662.0, 52426.665, 90192.465, 48092.355, 94956.525, 49358.79, 51192.0, 59762.925, 66440.025, 42515.55, 71874.0, 43421.4, 54970.065, 96014.475, 51323.31, 59800.545, 51610.32, 57011.85, 51627.42, 91044.36, 58839.03, 43379.82, 125190.675, 40259.25, 71031.78, 88769.88, 47345.94, 53305.38, 49727.7, 41692.5, 53174.88, 74682.0, 46760.985, 41278.365, 51334.695, 53954.595, 75738.06, 50546.7, 41743.215, 83099.925, 44675.19, 65143.935, 41064.48, 41692.68, 42669.9, 56360.25, 63675.0, 47128.815, 57270.87, 56025.315, 57131.325, 40170.15, 41922.99, 49398.525, 92539.53, 84774.87, 47306.52, 41455.125, 49640.85, 41692.68, 44223.03, 45000.0, 59355.0, 56088.225, 40363.74, 123241.68, 48393.0, 45686.655, 98314.065, 48653.64, 45495.81, 61152.795, 45000.0, 68015.34, 46465.47, 69356.25, 45000.0, 51419.025, 45000.0, 52999.92, 100939.5, 44617.5, 45994.86, 64853.415, 50701.5, 62916.3, 48482.64, 71162.28, 41679.0, 65278.53, 41537.34, 48482.64, 60884.415, 45455.265, 62022.15, 60586.38, 43263.09, 45835.875, 85298.895, 67784.895, 41499.765, 68459.445, 40046.355, 46164.42, 50005.125, 54058.86, 51180.03, 73536.12, 59531.085, 44139.465, 65110.14, 49046.4, 42420.555, 58839.03, 52623.0, 113492.655, 47982.87, 50444.73, 44929.62, 67763.565, 40294.395, 59124.375, 45000.0, 49490.01, 48140.19, 41422.5, 92882.07, 87936.615, 43610.49, 63011.205, 65368.62, 54389.7, 40500.0, 113231.295, 45000.0, 110897.82, 59400.0, 42055.92, 40461.345, 44832.015, 40804.065, 74444.715, 57330.315, 45272.925, 58061.52, 45000.0, 45000.0, 45000.0, 45000.0, 62293.59, 45000.0, 65847.645, 73736.37, 69415.65, 47038.77, 40054.5, 51732.765, 128182.5, 70019.64, 41692.68, 49560.75, 41794.92, 60224.49, 132861.51, 40186.98, 66734.46, 48592.575, 42176.295, 83371.545, 45324.765, 71226.0, 46030.95, 62910.36, 108403.29, 45336.105, 56319.12, 44714.88, 45000.0, 75322.98, 53541.0, 47758.635, 42068.835, 43430.85, 46486.44, 43457.535, 45000.0, 55915.695, 40378.185, 87936.615, 65566.08, 71793.0, 72045.0, 49250.25, 74146.32, 56103.795, 45681.03, 40270.095, 46475.82, 45994.86, 45205.605, 40718.475, 52026.165, 130320.54, 42909.345, 45000.0, 45506.025, 58894.965, 42831.945, 53671.5, 44617.5, 66734.46, 52489.395, 54820.53, 45495.81, 41005.53, 40500.0, 48078.27, 173183.355, 65423.295, 43969.5, 52154.55, 56690.73, 61011.9, 51465.195, 51965.82, 44620.74, 41270.49, 71593.425, 45000.0, 40914.495, 50086.035, 45728.1, 59408.595, 51465.195, 58979.025, 49784.76, 46143.63, 41562.18, 41932.17, 43725.825, 77950.98, 45205.605, 40914.495, 88967.97, 52899.435, 42967.035, 41246.955, 40270.095, 52489.395, 45000.0, 40569.885, 45000.0, 106560.99, 56993.76, 56980.8, 40260.105, 58150.44, 50704.065, 43191.18, 68827.5, 69741.0, 55873.35, 130510.44, 42919.155, 63764.64, 41393.88, 53812.845, 71082.0, 48588.525, 78507.045, 74444.715, 46484.46, 93777.615, 46564.425, 70019.64, 48810.195, 44899.56, 51314.58, 40783.995, 52691.715, 98575.83, 50704.065, 51627.42, 41405.805, 52384.86, 43249.5, 49391.415, 52788.78, 52953.705, 45928.215, 46484.46, 46238.94, 62470.935, 84249.36, 79090.965, 49976.235, 50349.015, 47961.0, 55809.855, 78825.555, 43551.0, 43064.055, 48887.325, 67725.495, 49461.21, 107597.34, 75384.0, 44437.77, 40783.995, 42003.0, 52026.165, 42801.48, 41336.325, 44964.0, 40372.695, 44617.5, 40051.125, 66864.96, 45414.9, 46023.525, 46770.975, 61639.965, 45000.0, 40409.685, 48630.42, 51208.38, 87650.37, 40532.31, 45336.105, 45893.025, 44275.59, 67894.065, 43114.995, 44863.875, 54177.165, 47594.25, 40783.995, 62012.835, 49529.025, 42646.05, 40409.685, 42035.535, 65782.71, 63805.5, 42176.295, 47261.655, 45000.0, 45000.0, 40279.185, 69065.505, 78065.64, 53255.61, 48186.9, 58124.925, 70413.165, 55511.1, 48948.885, 50327.325, 45517.815, 63180.0, 76867.425, 52788.78, 49017.825, 91646.595, 40783.995, 44713.89, 43184.565, 65065.5, 43531.11, 63283.995, 45000.0, 54389.7, 45000.0, 83713.095, 64031.13, 53682.345, 74575.215, 63637.335, 89928.0, 43582.095, 47171.835, 53916.3, 42358.23, 46770.75, 52919.28, 41371.2, 130021.065, 57215.745, 45626.31, 51463.08, 75129.48, 59940.0, 64948.5, 51334.695, 46424.925, 66406.365, 42515.55, 46143.63, 45864.36, 42515.55, 44757.135, 79078.23, 42408.99, 46484.46, 52788.78, 87912.72, 48698.595, 52922.34, 92968.92, 45000.0, 101603.925, 47853.765, 44620.74, 44344.305, 43504.875, 68580.0, 64500.435, 59355.0, 52999.92, 41728.41, 45222.3, 69891.255, 100024.02, 92468.115, 52953.705, 86625.0, 46030.95, 42515.55, 50571.0, 42766.515, 41979.6, 46676.565, 43992.9, 40119.39, 43507.89, 68625.63, 45000.0, 61221.42, 57649.725, 97633.035, 82037.745, 48146.985, 46484.46, 43623.585, 45000.0, 137606.85, 49461.21, 56754.0, 45000.0, 48829.095, 54389.7, 56896.785, 64512.0, 66916.98, 44357.085, 61871.535, 74710.575, 52026.165, 51334.695, 53670.195, 43430.31, 61221.42, 64923.66, 45000.0, 42583.5, 59670.045, 50026.005, 40662.0, 47137.725, 57942.0, 45636.525, 51904.62, 66406.365, 51334.695, 42597.09, 53255.61, 41965.92, 69750.36, 40783.995, 59949.585, 50379.165, 43224.66, 44842.14, 73599.48, 42909.345, 48082.5, 58744.215, 41728.41, 45000.0, 52788.42, 48136.005, 45864.36, 65128.905, 77950.98, 51208.38, 47041.335, 48712.365, 40783.995, 98396.235, 41090.715, 51680.115, 45780.3, 79005.78, 79817.4, 57111.3, 57548.565, 54444.555, 46156.725, 48128.895, 64722.915, 49398.525, 63805.5, 41585.625, 45000.0, 58712.94, 50457.825, 82599.525, 41244.075, 94530.87, 63546.03, 48672.45, 71031.78, 51465.195, 71237.79, 83952.495, 63195.435, 41971.365, 42785.01, 52018.875, 50999.895, 59355.0, 51863.265, 92606.985, 82966.41, 48515.985, 54194.58, 42974.55, 45818.82, 41587.785, 70632.045, 61050.87, 52632.0, 41296.5, 59124.375, 42176.295, 60711.12, 51732.765, 48113.37, 45000.0, 53125.11, 45113.58, 46763.73, 53079.705, 40596.75, 104635.755, 59485.5, 98706.33, 98706.33, 41950.17, 61192.53, 40751.145, 45864.36, 50632.56, 50048.235, 58839.03, 53440.74, 53305.38, 48301.65, 138795.435, 52026.165, 55030.905, 43790.22, 83888.775, 64252.26, 59355.0, 79360.11, 67257.0, 53211.825, 51334.695, 128687.445, 41714.46, 40914.495, 52105.59, 45625.5, 67266.135, 46614.96, 45000.0, 52115.175, 56547.675, 48440.205, 40503.645, 44884.035, 40921.425, 53210.205, 40394.205, 43355.16, 49274.01, 63195.435, 65874.915, 45508.5, 55809.855, 84941.91, 52297.245, 56219.31, 42750.0, 56093.49, 54826.245, 45495.81, 42530.76, 47104.38, 56094.885, 46908.27, 72955.485, 51334.695, 51863.265, 45686.655, 53775.81, 66245.265, 70827.165, 87078.78, 51040.395, 47790.72, 45000.0, 50432.04, 45467.28, 53210.205, 50861.79, 83595.06, 46282.5, 63243.945, 45550.305, 133796.655, 57149.775, 70054.245, 50580.63, 50834.565, 42866.1, 41728.41, 43698.78, 69225.75, 45267.66, 40949.64, 53255.61, 52026.165, 45517.815, 57037.725, 42003.585, 41512.275, 45000.0, 42176.295, 66266.235, 58493.745, 43067.475, 49036.185, 47551.905, 73349.325, 88019.37, 45000.0, 44620.74, 70268.355, 58553.595, 113231.295, 109171.395, 63359.415, 66734.46, 82532.97, 63805.5, 56754.0, 66708.0, 43443.0, 50031.0, 48424.365, 42191.46, 66734.46, 41653.935, 47456.55, 47293.2, 50005.125, 40311.72, 48499.155, 83097.0, 44555.985, 40133.475, 49062.6, 49461.21, 43006.5, 54329.13, 55511.1, 83515.5, 155824.425, 127508.265, 42176.295, 42683.94, 69768.315, 93421.62, 44309.25, 70816.275, 57649.725, 51334.695, 43957.08, 68343.345, 41563.035, 45113.58, 55622.79, 52550.505, 48766.095, 43551.0, 51202.125, 46238.805, 41336.325, 58839.03, 44701.515, 46143.63, 45449.865, 41728.41, 71793.0, 67335.3, 45000.0, 45000.0, 56754.0, 45000.0, 66734.46, 49640.85, 40180.995, 50541.255, 50726.385, 53125.11, 119862.045, 43825.185, 69270.75, 45000.0, 41585.625, 72585.0, 41858.91, 54389.7, 42221.7, 43859.79, 71462.925, 53919.675, 46549.62, 88131.645, 40400.595, 65758.5, 48579.12, 55679.355, 44217.0, 53205.705, 43514.955, 48588.525, 52920.315, 40181.22, 40363.74, 65097.0, 58125.6, 58884.66, 72741.33, 57078.45, 97106.94, 40994.235, 62111.565, 61344.855, 45741.06, 44515.08, 54900.405, 51000.75, 110051.28, 44424.585, 48588.525, 44104.5, 69127.38, 45336.105, 40500.0, 61235.55, 43409.16, 42778.845, 83048.535, 45000.0, 50270.67, 45000.0, 114300.0, 53891.64, 49526.19, 68493.015, 47993.4, 45000.0, 53775.81, 70637.085, 71760.015, 44895.555, 55250.01, 41693.94, 70666.02, 43744.365, 50026.005, 47919.6, 67894.065, 47303.325, 59670.045, 45495.81, 56235.6, 60916.86, 40571.64, 50704.065, 53891.64, 73675.89, 43227.0, 44994.375, 50546.7, 50401.17, 52788.78, 45864.36, 59898.555, 45820.395, 41951.385, 59355.0, 62182.71, 40500.0, 113574.42, 43658.46, 50737.05, 47094.75, 42928.425, 48635.055, 43839.0, 42021.315, 50270.67, 75192.48, 46714.95, 64803.96, 47612.61, 82508.985, 40491.9, 63675.0, 50956.515, 49874.625, 53844.615, 56903.895, 45686.655, 51397.74, 71998.965, 40932.0, 48401.19, 74362.5, 45864.36, 54194.175, 45000.0, 53205.705, 45731.07, 47268.225, 127750.5, 63546.03, 44617.5, 40801.5, 53541.0, 90261.225, 87657.705, 54956.745, 45000.0, 45626.31, 45000.0, 40236.93, 47433.825, 55081.08, 44900.595, 46284.21, 61047.36, 51571.17, 67233.285, 63637.335, 51671.88, 56993.76, 42176.295, 51331.5, 67257.0, 51944.985, 61398.0, 52788.78, 64890.0, 61743.87, 50834.565, 78651.09, 45495.81, 126243.9, 65145.33, 47041.335, 63997.65, 46046.7, 55679.355, 63346.545, 56884.5, 47870.775, 45000.0, 88131.645, 51659.325, 59355.0, 66864.96, 46884.33, 48182.4, 50686.56, 64091.25, 62530.065, 47851.425, 46614.96, 62640.0, 55511.1, 47796.75, 47938.05, 40914.495, 45000.0, 45000.0, 93099.42, 126313.74, 57519.225, 43355.16, 50727.51, 52026.165, 45467.28, 50405.85, 45000.0, 83843.595, 44502.93, 45495.81, 47567.52, 43551.0, 42360.03, 49945.5, 49461.21, 62576.46, 67464.54, 68015.34, 46474.02, 56155.815, 44565.795, 45000.0, 64841.4, 207820.08, 51756.75, 45557.055, 48802.95, 45000.0, 55973.295, 40925.79, 58688.325, 51065.145, 81563.895, 49461.21, 97139.655, 50276.115, 47137.725, 41920.155, 65940.21, 113231.295, 91308.105, 50175.855, 40869.09, 50737.05, 72052.02, 40436.82, 47666.25, 61490.925, 47143.395, 44035.875, 50386.5, 51965.82, 54970.065, 54688.95, 44520.39, 52999.92, 43551.0, 56754.0, 41692.5, 52999.92, 48622.5, 53778.915, 48109.14, 41585.625, 52788.78, 42236.955, 60306.255, 50164.65, 52096.32, 45000.0, 58131.495, 48698.595, 52791.705, 60916.86, 47484.0, 46084.5, 40617.225, 162359.145, 46670.13, 41728.41, 60916.86, 77083.875, 45495.81, 44342.64, 40783.995, 54040.905, 69005.52, 51999.21, 51278.445, 113881.59, 55679.355, 48128.895, 43642.8, 48672.45, 41283.045, 45369.405, 58167.765, 54799.335, 47259.315, 50737.05, 46298.88, 61643.205, 45205.605, 56024.955, 61629.75, 46164.015, 52949.475, 52384.86, 45711.09, 42830.1, 62795.79, 43792.92, 51526.8, 51334.695, 153403.65, 55724.58, 52034.49, 63997.65, 48829.095, 58621.545, 47770.65, 92476.485, 51192.0, 90354.69, 48186.9, 48458.025, 47071.215, 52515.36, 58260.015, 44021.25, 43615.35, 73246.77, 40002.975, 68145.84, 56329.065, 46030.95, 50870.115, 44863.875, 42774.12, 40932.0, 40850.73, 56135.16, 43785.0, 71489.475, 55964.16, 79622.325, 43792.155, 60392.745, 51419.025, 68345.73, 45679.455, 48595.5, 56103.795, 56076.705, 45864.36, 67500.0, 54444.555, 44323.785, 44620.74, 67725.495, 52999.92, 48458.025, 62552.475, 46030.95, 60560.28, 45000.0, 69705.0, 41349.42, 57519.225, 48237.795, 66406.365, 123501.825, 42945.75, 40825.8, 86179.635, 62293.59, 51334.695, 48206.61, 81618.57, 51334.695, 72824.985, 52112.115, 51263.415, 46405.62, 44845.38, 50156.505, 48515.985, 72824.985, 50611.5, 57459.915, 53099.325, 137334.87, 63675.0, 53507.16, 117058.77, 58840.065, 55964.385, 40500.0, 45817.155, 59670.045, 48206.61, 45309.195, 44697.69, 57038.175, 45445.95, 42795.585, 57573.0, 49474.755, 50754.51, 48107.295, 42131.16, 47013.435, 56679.12, 42456.465, 87291.0, 41562.18, 45817.155, 57649.725, 64966.5, 40746.6, 46602.0, 61047.36, 42727.5, 67797.855, 82998.675, 62074.665, 99262.485, 40500.0, 234478.395, 53130.42, 78430.5, 46231.29, 40394.205, 51465.195, 52346.79, 41643.0, 43230.6, 42801.795, 46743.75, 55679.355, 43582.095, 46755.63, 40914.495, 43160.31, 53322.345, 53084.205, 45000.0, 47468.205, 48111.885, 68220.0, 53844.615, 75963.735, 81683.28, 52117.425, 57997.665, 40494.24, 46614.96, 52788.78, 61678.575, 51628.545, 64966.5, 60392.745, 43443.0, 41326.335, 49962.105, 50951.25, 44733.87, 81471.6, 42136.425, 51498.045, 41496.3, 47374.425, 54684.405, 76771.08, 40164.57, 40051.125, 45211.05, 45000.0, 44465.04, 62323.335, 70046.325, 45248.31, 48334.95, 81563.895, 49461.21, 53539.695, 58205.475, 45284.4, 71916.66, 70702.92, 66734.46, 46249.515, 45336.105, 42358.23, 68625.63, 83651.985, 62530.065, 45000.0, 63201.78, 56358.405, 48361.59, 43335.27, 54490.41, 40447.395, 42031.98, 65489.715, 62793.0, 42465.6, 48950.685, 53712.9, 49305.825, 44280.0, 66406.365, 129890.565, 63245.475, 56103.795, 66406.365, 61460.1, 51714.0, 50263.02, 45495.81, 48482.64, 82037.745, 75225.69, 52382.205, 56754.0, 46602.0, 44637.075, 58884.66, 46017.0, 46941.93, 40936.14, 47212.2, 44964.0, 62100.18, 46452.33, 50737.05, 86458.77, 47856.915, 42646.05, 45336.105, 107689.77, 40783.995, 45000.0, 64966.5, 50737.05, 46670.13, 51714.0, 42646.05, 41044.95, 49461.21, 100070.1, 44214.255, 60056.19, 52999.92, 64525.5, 53130.42, 49357.71, 42523.92, 53303.4, 46486.44, 48075.165, 74444.715, 72824.985, 50060.43, 83843.595, 50858.01, 59855.22, 45205.605, 42727.5, 63675.0, 71097.075, 50097.15, 65306.925, 45000.0, 45864.36, 51732.765, 52026.165, 41562.18, 45000.0, 55821.195, 46238.805, 62163.09, 45864.36, 48176.055, 45000.0, 51118.56, 47430.9, 72078.48, 40048.83, 53433.9, 41767.785, 46434.69, 48698.595, 41833.665, 43820.37, 77063.58, 83096.91, 93512.385, 47433.825, 41455.125, 44351.775, 101252.43, 62564.67, 56279.7, 49461.21, 48498.48, 52953.705, 47239.155, 68520.015, 43224.66, 49100.715, 40783.995, 40873.23, 43476.795, 51880.32, 48492.09, 40236.885, 45000.0, 45000.0, 45000.0, 42734.025, 43745.85, 41692.5, 66516.21, 48592.575, 48819.96, 61950.78, 44795.97, 40002.975, 47546.55, 73982.16, 42646.05, 55973.295, 48766.095, 45456.66, 56340.27, 49129.92, 41194.935, 60190.515, 54520.2, 46405.62, 48710.34, 41714.46, 41666.22, 45379.35, 45990.135, 40739.715, 48698.595, 58570.425, 122171.805, 42678.09, 48206.61, 42456.465, 70507.395, 69308.37, 76236.075, 58061.52, 71928.0, 52154.64, 73962.945, 53255.61, 40400.595, 40575.24, 62113.5, 67742.82, 101324.07, 79005.78, 49930.785, 42294.78, 47484.18, 40163.175, 45000.0, 40547.79, 46637.055, 47425.545, 53583.975, 50325.84, 126313.74, 86862.96, 78775.74, 53462.25, 45324.765, 41880.735, 48206.61, 100548.0, 41587.785, 66752.235, 45337.275, 43160.31, 54900.405, 43839.0, 151535.43, 40279.185, 92903.58, 66882.735, 47021.715, 61276.77, 47391.57, 40301.1, 45495.81, 41905.035, 40074.3, 45000.0, 50351.895, 57788.73, 40421.295, 53919.675, 61142.4, 42793.695, 83097.0, 45000.0, 49461.21, 46670.13, 42003.0, 52164.405, 56907.675, 49536.945, 74677.5, 87780.375, 44736.03, 87003.0, 173313.855, 47041.335, 40189.05, 49205.655, 88950.285, 64738.8, 45900.135, 41027.625, 48402.63, 56836.215, 50401.17, 45374.085, 40061.52, 49932.18, 47071.215, 49621.455, 70489.44, 42081.255, 62888.085, 52389.54, 53422.695, 47131.155, 81563.895, 46062.945, 52154.55, 41075.91, 56521.395, 64820.16, 92539.53, 43353.54, 49974.21, 63805.5, 83670.435, 75123.675, 44624.295, 40054.41, 43195.185]\n"
     ]
    }
   ],
   "source": [
    "l=[]\n",
    "for i in df_app[\"AMT_ANNUITY\"]:\n",
    "     if i>upper_fence or i<lower_fence:\n",
    "        l.append(i)\n",
    "print(l)\n",
    "   "
   ]
  },
  {
   "cell_type": "code",
   "execution_count": 164,
   "id": "02c76fc5-1487-4e61-bb16-3d691e4ea085",
   "metadata": {},
   "outputs": [],
   "source": [
    "df_app[\"AMT_ANNUITY\"]=df_app[\"AMT_ANNUITY\"].fillna(df_app[\"AMT_ANNUITY\"].median())"
   ]
  },
  {
   "cell_type": "code",
   "execution_count": 166,
   "id": "c7cc4b07-19b4-4707-9ced-8730a0b67d06",
   "metadata": {},
   "outputs": [
    {
     "data": {
      "text/plain": [
       "0"
      ]
     },
     "execution_count": 166,
     "metadata": {},
     "output_type": "execute_result"
    }
   ],
   "source": [
    "df_app[\"AMT_ANNUITY\"].isnull().sum()"
   ]
  },
  {
   "cell_type": "code",
   "execution_count": 168,
   "id": "1dac7772-62bd-47fe-8e20-b98725dee8a7",
   "metadata": {},
   "outputs": [
    {
     "data": {
      "image/png": "[encoded data removed]",
      "text/plain": [
       "<Figure size 800x600 with 1 Axes>"
      ]
     },
     "metadata": {},
     "output_type": "display_data"
    }
   ],
   "source": [
    "#kde= kurnel density estimator\n",
    "#histogram plot\n",
    "plt.figure(figsize=(8,6))\n",
    "sns.histplot(df_app[\"AMT_ANNUITY\"],kde=True,color=\"purple\")\n",
    "plt.show()"
   ]
  },
  {
   "cell_type": "code",
   "execution_count": 169,
   "id": "1372cbc6-0208-4733-b5b7-6711788f99b1",
   "metadata": {},
   "outputs": [
    {
     "data": {
      "text/plain": [
       "10744"
      ]
     },
     "execution_count": 169,
     "metadata": {},
     "output_type": "execute_result"
    }
   ],
   "source": [
    "df_app[\"AMT_GOODS_PRICE\"].isnull().sum()"
   ]
  },
  {
   "cell_type": "code",
   "execution_count": 170,
   "id": "cd960dde-0cd8-433e-be7a-6407f859ceec",
   "metadata": {},
   "outputs": [
    {
     "data": {
      "text/plain": [
       "count    3.925500e+04\n",
       "mean     2.151414e+05\n",
       "std      3.024993e+05\n",
       "min      0.000000e+00\n",
       "25%      4.941000e+04\n",
       "50%      1.040175e+05\n",
       "75%      2.250000e+05\n",
       "max      3.826372e+06\n",
       "Name: AMT_GOODS_PRICE, dtype: float64"
      ]
     },
     "execution_count": 170,
     "metadata": {},
     "output_type": "execute_result"
    }
   ],
   "source": [
    "df_app[\"AMT_GOODS_PRICE\"].describe()"
   ]
  },
  {
   "cell_type": "code",
   "execution_count": 174,
   "id": "675535c6-382f-4adb-a9ce-2f0355616110",
   "metadata": {},
   "outputs": [
    {
     "data": {
      "image/png": "[encoded data removed]",
      "text/plain": [
       "<Figure size 640x480 with 1 Axes>"
      ]
     },
     "metadata": {},
     "output_type": "display_data"
    }
   ],
   "source": [
    "sns.boxplot(df_app[\"AMT_GOODS_PRICE\"],color=\"green\")\n",
    "plt.show()"
   ]
  },
  {
   "cell_type": "code",
   "execution_count": 175,
   "id": "7a549402-ee17-45b9-abaf-eb5e11eb26c4",
   "metadata": {},
   "outputs": [
    {
     "data": {
      "text/plain": [
       "49410.0"
      ]
     },
     "execution_count": 175,
     "metadata": {},
     "output_type": "execute_result"
    }
   ],
   "source": [
    "q1=np.quantile(df_app[\"AMT_GOODS_PRICE\"].dropna(),0.25)\n",
    "q1"
   ]
  },
  {
   "cell_type": "code",
   "execution_count": 178,
   "id": "f75382a0-9309-4116-9031-22c962ee9720",
   "metadata": {},
   "outputs": [
    {
     "data": {
      "text/plain": [
       "104017.5"
      ]
     },
     "execution_count": 178,
     "metadata": {},
     "output_type": "execute_result"
    }
   ],
   "source": [
    "q2=np.quantile(df_app[\"AMT_GOODS_PRICE\"].dropna(),0.50)\n",
    "q2"
   ]
  },
  {
   "cell_type": "code",
   "execution_count": 180,
   "id": "9bd1ad98-5a3c-47e7-a44f-33a6e5803682",
   "metadata": {},
   "outputs": [
    {
     "data": {
      "text/plain": [
       "225000.0"
      ]
     },
     "execution_count": 180,
     "metadata": {},
     "output_type": "execute_result"
    }
   ],
   "source": [
    "q3=np.quantile(df_app[\"AMT_GOODS_PRICE\"].dropna(),0.75)\n",
    "q3"
   ]
  },
  {
   "cell_type": "code",
   "execution_count": 182,
   "id": "e308b8f9-2700-46fd-900a-5592177266b2",
   "metadata": {},
   "outputs": [
    {
     "data": {
      "text/plain": [
       "175590.0"
      ]
     },
     "execution_count": 182,
     "metadata": {},
     "output_type": "execute_result"
    }
   ],
   "source": [
    "IQR=q3-q1\n",
    "IQR"
   ]
  },
  {
   "cell_type": "code",
   "execution_count": 184,
   "id": "f7752af8-3edc-4a9c-81c2-2c7fa1d731c2",
   "metadata": {},
   "outputs": [],
   "source": [
    "upper_fence=q3+1.5*IQR\n",
    "lower_fence=q1-1.5*IQR\n"
   ]
  },
  {
   "cell_type": "code",
   "execution_count": 186,
   "id": "ec56b91a-5859-480c-adcb-ee2a4121923e",
   "metadata": {},
   "outputs": [
    {
     "name": "stdout",
     "output_type": "stream",
     "text": [
      "[607500.0, 1129500.0, 2025000.0, 877500.0, 688500.0, 900000.0, 1035000.0, 1012500.0, 1170000.0, 630000.0, 886500.0, 1800000.0, 495000.0, 976500.0, 724500.0, 675000.0, 909000.0, 1170000.0, 601200.0, 675000.0, 741375.0, 495000.0, 693000.0, 1053000.0, 855000.0, 540000.0, 904500.0, 742500.0, 675000.0, 495000.0, 1800000.0, 540000.0, 675000.0, 1350000.0, 697500.0, 900000.0, 585000.0, 684000.0, 643500.0, 540000.0, 765000.0, 900000.0, 675000.0, 675000.0, 1192500.0, 630000.0, 900000.0, 1665000.0, 1125000.0, 675000.0, 1228500.0, 900000.0, 1174500.0, 544500.0, 1242000.0, 900000.0, 720000.0, 542295.0, 1192500.0, 945000.0, 585000.0, 675000.0, 675000.0, 546534.0, 1125000.0, 1129500.0, 525933.0, 688500.0, 765000.0, 900000.0, 900000.0, 1237500.0, 1804500.0, 855000.0, 706500.0, 675000.0, 765000.0, 1354500.0, 675000.0, 1129500.0, 675000.0, 675000.0, 1260000.0, 904500.0, 495000.0, 675000.0, 675000.0, 675000.0, 540396.0, 1129500.0, 1575000.0, 540000.0, 1129500.0, 900000.0, 1291500.0, 855000.0, 1170000.0, 675000.0, 495000.0, 1800000.0, 1350000.0, 2025000.0, 1129500.0, 1350000.0, 900000.0, 810000.0, 900000.0, 675000.0, 900000.0, 1170000.0, 1350000.0, 675000.0, 675000.0, 612000.0, 2025000.0, 585000.0, 675000.0, 675000.0, 751500.0, 765000.0, 900000.0, 697500.0, 967500.0, 675000.0, 540000.0, 495000.0, 585000.0, 675000.0, 540000.0, 675000.0, 846000.0, 900000.0, 1359000.0, 1080000.0, 922500.0, 900000.0, 900000.0, 1350000.0, 581850.0, 688500.0, 720000.0, 675000.0, 900000.0, 900000.0, 900000.0, 1129500.0, 765000.0, 810000.0, 855000.0, 1377000.0, 540000.0, 531000.0, 675000.0, 675000.0, 522000.0, 945000.0, 697500.0, 679500.0, 585000.0, 765000.0, 522000.0, 1399500.0, 1125000.0, 1129500.0, 765000.0, 1350000.0, 1354500.0, 990000.0, 720000.0, 675000.0, 1822500.0, 679500.0, 1075500.0, 1629000.0, 900000.0, 697500.0, 585000.0, 1228500.0, 1170000.0, 900000.0, 900000.0, 810000.0, 1129500.0, 688500.0, 900000.0, 2070000.0, 562500.0, 765000.0, 675000.0, 675000.0, 1350000.0, 765000.0, 765000.0, 900000.0, 1143000.0, 1215000.0, 1350000.0, 900000.0, 544500.0, 585000.0, 1125000.0, 652500.0, 1035000.0, 675000.0, 1147500.0, 675000.0, 1026000.0, 495000.0, 900000.0, 1300500.0, 675000.0, 1129500.0, 632776.5, 675000.0, 765000.0, 500004.0, 904500.0, 1800000.0, 882000.0, 574258.5, 981000.0, 513000.0, 1129500.0, 900000.0, 1575000.0, 495000.0, 675000.0, 1386000.0, 1354500.0, 1354500.0, 990000.0, 1201500.0, 787500.0, 562500.0, 1215000.0, 1350000.0, 1800000.0, 990000.0, 2025000.0, 1033600.725, 1800000.0, 1350000.0, 495000.0, 540000.0, 540000.0, 675000.0, 1350000.0, 2700000.0, 877500.0, 1440000.0, 900000.0, 675000.0, 1125000.0, 1129500.0, 1134000.0, 675000.0, 922500.0, 675000.0, 720000.0, 562500.0, 679500.0, 1134000.0, 2448000.0, 512100.0, 900000.0, 900000.0, 1440000.0, 1129500.0, 2250000.0, 2250000.0, 697500.0, 585000.0, 720000.0, 675000.0, 490500.0, 495000.0, 675000.0, 661500.0, 1012500.0, 1575000.0, 900000.0, 810000.0, 1800000.0, 1096650.0, 900000.0, 900000.0, 675000.0, 612000.0, 900000.0, 675000.0, 540000.0, 495000.0, 540000.0, 1125000.0, 900000.0, 522000.0, 922500.0, 1125000.0, 1354500.0, 922500.0, 675000.0, 765000.0, 1125000.0, 675000.0, 1125000.0, 1372500.0, 1125000.0, 900000.0, 2250000.0, 572125.5, 630000.0, 1125000.0, 1579500.0, 630000.0, 787500.0, 675000.0, 1129500.0, 675000.0, 603000.0, 990000.0, 900000.0, 1296000.0, 679500.0, 1192500.0, 525150.0, 810000.0, 1170000.0, 765000.0, 990000.0, 585000.0, 1800000.0, 1350000.0, 1125000.0, 1125000.0, 855000.0, 675000.0, 742500.0, 1035000.0, 495000.0, 1890000.0, 801000.0, 540000.0, 900000.0, 2025000.0, 2160000.0, 1152000.0, 900000.0, 765000.0, 1350000.0, 787500.0, 765000.0, 675000.0, 1260000.0, 1129500.0, 1620000.0, 585000.0, 675000.0, 1192500.0, 675000.0, 675000.0, 720000.0, 832500.0, 1350000.0, 904500.0, 720000.0, 1354500.0, 1170000.0, 1125000.0, 540000.0, 1125000.0, 652500.0, 553500.0, 675000.0, 787500.0, 675000.0, 1575000.0, 1350000.0, 1386000.0, 675000.0, 517495.5, 568782.0, 900000.0, 675000.0, 630000.0, 675000.0, 1075500.0, 1120500.0, 1129500.0, 945000.0, 900000.0, 630000.0, 675000.0, 810000.0, 1170000.0, 585000.0, 1575000.0, 540000.0, 1845000.0, 675000.0, 675000.0, 900000.0, 990000.0, 558000.0, 540000.0, 540000.0, 1350000.0, 679500.0, 607500.0, 1215000.0, 909000.0, 1372500.0, 1125000.0, 675000.0, 900000.0, 1125000.0, 1125000.0, 990000.0, 1138500.0, 693000.0, 877500.0, 675000.0, 1129500.0, 1129500.0, 495000.0, 495000.0, 675000.0, 900000.0, 585000.0, 675000.0, 1215000.0, 675000.0, 1350000.0, 675000.0, 553612.5, 675000.0, 540000.0, 1125000.0, 675000.0, 1377000.0, 895500.0, 904500.0, 819000.0, 585000.0, 562050.0, 562050.0, 675000.0, 642856.5, 900000.0, 1354500.0, 900000.0, 765000.0, 765000.0, 967500.0, 517500.0, 1129500.0, 1165500.0, 540000.0, 1129500.0, 900000.0, 1125000.0, 675000.0, 630000.0, 1125000.0, 630000.0, 900000.0, 540000.0, 495000.0, 607500.0, 1129500.0, 675000.0, 900000.0, 2025000.0, 675000.0, 607500.0, 1129500.0, 679500.0, 1129500.0, 1350000.0, 531000.0, 949500.0, 540000.0, 1156500.0, 1444500.0, 675000.0, 1372500.0, 1575000.0, 900000.0, 498699.0, 900000.0, 1125000.0, 900000.0, 1125000.0, 778500.0, 675000.0, 720000.0, 2250000.0, 1102500.0, 2250000.0, 675000.0, 1170000.0, 765000.0, 1372500.0, 675000.0, 607500.0, 620100.0, 556605.0, 540000.0, 742500.0, 675000.0, 607500.0, 900000.0, 585000.0, 765000.0, 679500.0, 751500.0, 1390500.0, 1710000.0, 555750.0, 1215000.0, 540000.0, 1129500.0, 1350000.0, 936000.0, 945000.0, 675000.0, 675000.0, 630000.0, 1125000.0, 1125000.0, 1170000.0, 672750.0, 900000.0, 1125000.0, 765000.0, 1237500.0, 1147500.0, 990000.0, 810000.0, 1354500.0, 900000.0, 679500.0, 720000.0, 720000.0, 495000.0, 900000.0, 990000.0, 900000.0, 1129500.0, 1129500.0, 675000.0, 967500.0, 729000.0, 1147500.0, 900000.0, 702000.0, 1800000.0, 495000.0, 720000.0, 904500.0, 1170000.0, 1350000.0, 765000.0, 495000.0, 1372500.0, 1350000.0, 1035000.0, 585000.0, 679500.0, 1350000.0, 540000.0, 765000.0, 675000.0, 657000.0, 765000.0, 1129500.0, 873000.0, 675000.0, 1152000.0, 810000.0, 675000.0, 900000.0, 1350000.0, 675000.0, 1138500.0, 679500.0, 927000.0, 540000.0, 810000.0, 1350000.0, 877500.0, 1138500.0, 558000.0, 517500.0, 675000.0, 675000.0, 675000.0, 1155871.89, 1800000.0, 540000.0, 837000.0, 675000.0, 675000.0, 1125000.0, 900000.0, 1354500.0, 1147500.0, 585000.0, 1710000.0, 675000.0, 1552500.0, 495000.0, 810000.0, 1305000.0, 1237500.0, 1125000.0, 607500.0, 630000.0, 675000.0, 675000.0, 810000.0, 900000.0, 1035000.0, 585000.0, 2250000.0, 675000.0, 900000.0, 580500.0, 900000.0, 675000.0, 900000.0, 922500.0, 630000.0, 540000.0, 810000.0, 1129500.0, 1354500.0, 630000.0, 688500.0, 675000.0, 765000.0, 630000.0, 900000.0, 900000.0, 877500.0, 2250000.0, 1242000.0, 661500.0, 617229.0, 1755000.0, 495000.0, 796500.0, 675000.0, 675000.0, 540000.0, 1125000.0, 900000.0, 1575000.0, 900000.0, 1138500.0, 688500.0, 675000.0, 1057500.0, 1350000.0, 1125000.0, 679500.0, 1129500.0, 1125000.0, 1372500.0, 990000.0, 517500.0, 814500.0, 2250000.0, 675000.0, 675000.0, 900000.0, 1125000.0, 922500.0, 1147500.0, 1071000.0, 1215000.0, 900000.0, 540000.0, 693000.0, 855000.0, 540000.0, 540000.0, 1260000.0, 877500.0, 1129500.0, 1125000.0, 1138500.0, 1395000.0, 1129500.0, 765000.0, 1192500.0, 904500.0, 900000.0, 1035000.0, 585000.0, 540000.0, 697500.0, 1125000.0, 945000.0, 720000.0, 900000.0, 787500.0, 495000.0, 585000.0, 688500.0, 720000.0, 675000.0, 675000.0, 900000.0, 562500.0, 697500.0, 673650.0, 1350000.0, 1125000.0, 1237500.0, 495000.0, 540000.0, 1237500.0, 1800000.0, 630000.0, 675000.0, 765000.0, 679500.0, 1147500.0, 675000.0, 1350000.0, 621000.0, 1228500.0, 675000.0, 495000.0, 535500.0, 765000.0, 900000.0, 868500.0, 1557000.0, 576000.0, 900000.0, 630000.0, 1575000.0, 1129500.0, 1125000.0, 495000.0, 810000.0, 675000.0, 1129500.0, 1125000.0, 765000.0, 1080000.0, 765000.0, 540000.0, 517500.0, 826776.855, 1350000.0, 963000.0, 765000.0, 765000.0, 675000.0, 675000.0, 540000.0, 900000.0, 1350000.0, 900000.0, 1350000.0, 1350000.0, 585000.0, 990000.0, 832500.0, 904500.0, 585000.0, 1350000.0, 591813.0, 1170000.0, 675000.0, 1215000.0, 1260000.0, 904500.0, 540000.0, 900000.0, 1350000.0, 1129500.0, 675000.0, 1377000.0, 580500.0, 900000.0, 1350000.0, 540000.0, 720000.0, 1170000.0, 1237500.0, 1129500.0, 1350000.0, 630000.0, 2925000.0, 517500.0, 720000.0, 1260000.0, 1125000.0, 891000.0, 630000.0, 927000.0, 1237500.0, 540000.0, 675000.0, 1800000.0, 693000.0, 832500.0, 697500.0, 900000.0, 742500.0, 1147500.0, 1129500.0, 522000.0, 1012500.0, 967500.0, 540000.0, 562500.0, 2025000.0, 675000.0, 1260000.0, 1129500.0, 810000.0, 765000.0, 675000.0, 1204117.245, 1125000.0, 2250000.0, 1125000.0, 697500.0, 1935000.0, 643500.0, 675000.0, 855000.0, 1125000.0, 1125000.0, 697500.0, 495000.0, 1170000.0, 1260000.0, 1755000.0, 805500.0, 495000.0, 1350000.0, 1372500.0, 630000.0, 1129500.0, 1125000.0, 922500.0, 540000.0, 585000.0, 1129500.0, 675000.0, 540000.0, 1129500.0, 679500.0, 900000.0, 1800000.0, 1575000.0, 990000.0, 630000.0, 900000.0, 1350000.0, 900000.0, 1129500.0, 652500.0, 540000.0, 900000.0, 1350000.0, 1057500.0, 675000.0, 900000.0, 675000.0, 540000.0, 630000.0, 688500.0, 751500.0, 810000.0, 675000.0, 1125000.0, 1125000.0, 2250000.0, 900000.0, 2250000.0, 1588500.0, 562500.0, 544500.0, 562500.0, 900000.0, 526500.0, 1125000.0, 1260000.0, 1354500.0, 1350000.0, 1215000.0, 1125000.0, 585000.0, 1350000.0, 1390500.0, 1170000.0, 540000.0, 2025000.0, 675000.0, 570636.0, 675000.0, 1057500.0, 688500.0, 909000.0, 733500.0, 900000.0, 1129500.0, 1237500.0, 544500.0, 652500.0, 1129500.0, 675000.0, 2025000.0, 1129500.0, 567000.0, 1354500.0, 913500.0, 1106235.0, 913500.0, 598500.0, 535500.0, 810000.0, 1125000.0, 675000.0, 2025000.0, 549000.0, 1125000.0, 900000.0, 585000.0, 1800000.0, 1800000.0, 1318500.0, 900000.0, 1125000.0, 585000.0, 558000.0, 900000.0, 1575000.0, 1129500.0, 675000.0, 1057500.0, 2074500.0, 607500.0, 540000.0, 1125000.0, 594135.0, 900000.0, 837000.0, 1125000.0, 630000.0, 765000.0, 850500.0, 1035000.0, 900000.0, 1152000.0, 540000.0, 1350000.0, 765000.0, 1026000.0, 1372500.0, 675000.0, 679500.0, 675000.0, 697500.0, 2025000.0, 621000.0, 2250000.0, 540000.0, 1485000.0, 765000.0, 540000.0, 675000.0, 508500.0, 522252.0, 2250000.0, 679500.0, 720000.0, 675000.0, 1800000.0, 495000.0, 1012500.0, 1192500.0, 900000.0, 675000.0, 1350000.0, 630000.0, 697500.0, 675000.0, 765000.0, 1134000.0, 630000.0, 1575000.0, 1125000.0, 688500.0, 2115000.0, 1350000.0, 630000.0, 1129500.0, 508500.0, 900000.0, 1170000.0, 675000.0, 1080000.0, 1035000.0, 675000.0, 1062000.0, 1350000.0, 1350000.0, 1615500.0, 585000.0, 675000.0, 1350000.0, 1354500.0, 495000.0, 495000.0, 675000.0, 1345500.0, 1224000.0, 1197000.0, 630000.0, 588600.0, 540000.0, 522000.0, 496350.0, 1125000.0, 900000.0, 1035000.0, 675000.0, 549000.0, 945000.0, 900000.0, 810000.0, 652500.0, 540000.0, 1354500.0, 544500.0, 1350000.0, 1125000.0, 1800000.0, 1350000.0, 1129500.0, 675000.0, 900000.0, 1125000.0, 534600.0, 675000.0, 675000.0, 720000.0, 585000.0, 720000.0, 630000.0, 1354500.0, 765000.0, 675000.0, 1300500.0, 540000.0, 495000.0, 544500.0, 1215000.0, 900000.0, 585000.0, 549000.0, 675000.0, 927000.0, 1800000.0, 585000.0, 680256.0, 679500.0, 1129500.0, 607500.0, 900000.0, 900000.0, 796500.0, 900000.0, 765000.0, 688500.0, 855000.0, 2182500.0, 765000.0, 499995.0, 630000.0, 585000.0, 846000.0, 675000.0, 720000.0, 2025000.0, 900000.0, 1350000.0, 720000.0, 1350000.0, 1129500.0, 1125000.0, 1174500.0, 990000.0, 715500.0, 990000.0, 688500.0, 2250000.0, 675000.0, 900000.0, 675000.0, 616500.0, 756000.0, 577277.28, 540000.0, 675000.0, 693000.0, 540000.0, 990000.0, 540000.0, 715500.0, 900000.0, 594000.0, 1282500.0, 900000.0, 585000.0, 495000.0, 1350000.0, 540000.0, 675000.0, 567000.0, 675000.0, 652500.0, 675000.0, 675000.0, 724500.0, 904500.0, 900000.0, 1350000.0, 616500.0, 742500.0, 1125000.0, 1350000.0, 2250000.0, 1512000.0, 675000.0, 904500.0, 1044000.0, 540000.0, 1129500.0, 742500.0, 810000.0, 1125000.0, 540000.0, 558000.0, 1498500.0, 675000.0, 675000.0, 1170000.0, 540000.0, 1678500.0, 1215000.0, 540000.0, 1692000.0, 900000.0, 2115000.0, 1350000.0, 1350000.0, 1575000.0, 2115000.0, 521203.5, 900000.0, 900000.0, 1129500.0, 684000.0, 900000.0, 1129500.0, 614673.0, 765000.0, 1152000.0, 2250000.0, 1215000.0, 499500.0, 1746000.0, 513801.0, 630000.0, 1125000.0, 922500.0, 589500.0, 675000.0, 900000.0, 900000.0, 675000.0, 675000.0, 765000.0, 495000.0, 585000.0, 819000.0, 1800000.0, 900000.0, 675000.0, 630000.0, 779850.0, 1125000.0, 675000.0, 765000.0, 1125000.0, 679500.0, 675000.0, 2025000.0, 634500.0, 720000.0, 675000.0, 562500.0, 1125000.0, 675000.0, 585000.0, 1350000.0, 675000.0, 607500.0, 1152000.0, 765000.0, 540000.0, 1237500.0, 544500.0, 526500.0, 1129500.0, 540000.0, 495000.0, 900000.0, 895500.0, 900000.0, 855000.0, 900000.0, 679500.0, 900000.0, 517500.0, 1125000.0, 900000.0, 720000.0, 2025000.0, 787500.0, 2250000.0, 936000.0, 2029500.0, 1350000.0, 694929.645, 1431000.0, 2250000.0, 585000.0, 645165.0, 675000.0, 891000.0, 900000.0, 1372500.0, 675000.0, 1354500.0, 555750.0, 900000.0, 765000.0, 2295000.0, 652500.0, 787500.0, 504000.0, 675000.0, 598500.0, 1035000.0, 1350000.0, 517500.0, 1287000.0, 2254500.0, 2254500.0, 2254500.0, 1080000.0, 900000.0, 3150000.0, 652500.0, 922500.0, 1215000.0, 900000.0, 900000.0, 778500.0, 765081.0, 1125000.0, 922500.0, 702000.0, 765000.0, 922500.0, 1197000.0, 855000.0, 1800000.0, 720000.0, 900000.0, 1138500.0, 900000.0, 585000.0, 1129500.0, 1354500.0, 675000.0, 661500.0, 787500.0, 675000.0, 675000.0, 495000.0, 517500.0, 922500.0, 900000.0, 900000.0, 675000.0, 495000.0, 540000.0, 540000.0, 900000.0, 675000.0, 1485000.0, 810000.0, 585000.0, 1129500.0, 517500.0, 630000.0, 756000.0, 585000.0, 765000.0, 1350000.0, 675000.0, 904500.0, 1120500.0, 720000.0, 1129500.0, 675000.0, 1354500.0, 675000.0, 900000.0, 540000.0, 900000.0, 900000.0, 1350000.0, 706500.0, 1354500.0, 685125.0, 900000.0, 832500.0, 1350000.0, 1215000.0, 585000.0, 675000.0, 675000.0, 1134000.0, 1237500.0, 1395000.0, 675000.0, 720000.0, 1350000.0, 900000.0, 1350000.0, 1012500.0, 495000.0, 1125000.0, 697500.0, 585000.0, 675000.0, 1354500.0, 1251000.0, 1129500.0, 1129500.0, 729000.0, 495000.0, 2599650.0, 810000.0, 1350000.0, 900000.0, 675000.0, 1350000.0, 1129500.0, 1350000.0, 1125000.0, 495000.0, 540000.0, 1260000.0, 810000.0, 544500.0, 1035000.0, 1129500.0, 675000.0, 2227500.0, 675000.0, 900000.0, 1350000.0, 675000.0, 1695600.0, 491913.0, 675000.0, 702000.0, 1035000.0, 630000.0, 510750.0, 2250000.0, 1800000.0, 990000.0, 675000.0, 990000.0, 585000.0, 675000.0, 540000.0, 1350000.0, 675000.0, 1260000.0, 1575000.0, 517500.0, 675000.0, 1170000.0, 1129500.0, 679500.0, 513000.0, 1350000.0, 1350000.0, 900000.0, 675000.0, 697500.0, 900000.0, 585000.0, 508500.0, 1800000.0, 562500.0, 675000.0, 1125000.0, 1575000.0, 495000.0, 562500.0, 1350000.0, 1350000.0, 900000.0, 675000.0, 900000.0, 1575000.0, 742500.0, 765000.0, 769500.0, 1129500.0, 1350000.0, 733500.0, 1066500.0, 675000.0, 1354500.0, 810000.0, 2250000.0, 900000.0, 832500.0, 900000.0, 900000.0, 900000.0, 1035000.0, 1323000.0, 1309500.0, 1350000.0, 810000.0, 675000.0, 1575000.0, 671796.0, 585000.0, 765000.0, 900000.0, 855000.0, 495000.0, 1125000.0, 1350000.0, 967500.0, 630000.0, 1800000.0, 585000.0, 765000.0, 765000.0, 720000.0, 701779.5, 1066500.0, 958500.0, 895500.0, 823500.0, 810000.0, 1147500.0, 576000.0, 1125000.0, 2250000.0, 759955.5, 495000.0, 1129500.0, 2025000.0, 675000.0, 900000.0, 855000.0, 675000.0, 810000.0, 1125000.0, 1305000.0, 675000.0, 2007000.0, 675000.0, 542250.0, 810000.0, 1354500.0, 1215000.0, 1035000.0, 1260000.0, 1129500.0, 688500.0, 922500.0, 675000.0, 900000.0, 1170000.0, 1057500.0, 1170000.0, 1575000.0, 706500.0, 900000.0, 513000.0, 900000.0, 1237500.0, 556605.0, 556605.0, 1125000.0, 675000.0, 2700000.0, 751500.0, 634500.0, 1350000.0, 900000.0, 1350000.0, 904500.0, 553500.0, 900000.0, 760500.0, 540000.0, 585000.0, 540000.0, 675000.0, 1147500.0, 540000.0, 990000.0, 1350000.0, 675000.0, 675000.0, 823500.0, 1935000.0, 1035000.0, 675000.0, 724646.835, 495000.0, 1129500.0, 708718.5, 490500.0, 900000.0, 1372500.0, 717750.0, 1260000.0, 702000.0, 720000.0, 540000.0, 585000.0, 1800000.0, 607500.0, 900000.0, 666000.0, 585000.0, 900000.0, 1215000.0, 675000.0, 1575000.0, 981000.0, 1035000.0, 1363500.0, 540000.0, 675000.0, 1012500.0, 675000.0, 810000.0, 900000.0, 1129500.0, 540000.0, 765000.0, 1125000.0, 765000.0, 1170000.0, 643500.0, 675000.0, 1147500.0, 1129500.0, 900000.0, 630000.0, 675000.0, 900000.0, 643500.0, 765000.0, 1215000.0, 2250000.0, 540000.0, 855000.0, 810000.0, 1129500.0, 675000.0, 1363500.0, 540000.0, 1350000.0, 679500.0, 508500.0, 1129500.0, 900000.0, 675000.0, 495000.0, 1350000.0, 810000.0, 630000.0, 1129500.0, 1800000.0, 549000.0, 621000.0, 533899.35, 765000.0, 1125000.0, 540000.0, 540000.0, 787500.0, 1129500.0, 900000.0, 900000.0, 1039500.0, 1665000.0, 1129500.0, 1125000.0, 657000.0, 900000.0, 1350000.0, 1575000.0, 675000.0, 1363500.0, 1129500.0, 2250000.0, 1325381.13, 1512000.0, 675000.0, 675000.0, 675000.0, 765000.0, 832500.0, 1129500.0, 675000.0, 765000.0, 1800000.0, 585000.0, 765000.0, 1350000.0, 1260000.0, 900000.0, 1350000.0, 675000.0, 1215000.0, 900000.0, 886500.0, 900000.0, 1129500.0, 1035000.0, 544500.0, 967500.0, 540000.0, 900000.0, 1129500.0, 495000.0, 679500.0, 675000.0, 630000.0, 900000.0, 765000.0, 900000.0, 1125000.0, 765000.0, 877500.0, 1305000.0, 1129500.0, 585000.0, 540000.0, 900000.0, 1035000.0, 900000.0, 810000.0, 1035000.0, 508500.0, 900000.0, 1350000.0, 900000.0, 607500.0, 675000.0, 675000.0, 697500.0, 494910.0, 540854.82, 913500.0, 990000.0, 900000.0, 904500.0, 495000.0, 540000.0, 1800000.0, 1035000.0, 1260000.0, 630000.0, 765000.0, 585000.0, 733500.0, 495000.0, 1354500.0, 1125000.0, 1305000.0, 1800000.0, 1575000.0, 1305000.0, 1800000.0, 652500.0, 585000.0, 495000.0, 1260000.0, 1350000.0, 540000.0, 900000.0, 630000.0, 1113022.98, 688500.0, 517500.0, 1260000.0, 927000.0, 495000.0, 1057500.0, 1350000.0, 1125000.0, 540000.0, 810000.0, 675000.0, 2218500.0, 1125000.0, 2025000.0, 832500.0, 765000.0, 742500.0, 522000.0, 1035000.0, 855000.0, 688500.0, 855000.0, 679500.0, 675000.0, 900000.0, 810000.0, 540000.0, 540000.0, 720000.0, 900000.0, 900000.0, 675000.0, 765000.0, 1125000.0, 1350000.0, 900000.0, 900000.0, 1345500.0, 1138500.0, 553500.0, 585000.0, 540000.0, 1575000.0, 675000.0, 1170000.0, 765000.0, 675000.0, 585000.0, 1129500.0, 810000.0, 585000.0, 675000.0, 1129500.0, 495000.0, 1354500.0, 900000.0, 720000.0, 1575000.0, 1350000.0, 832500.0, 540000.0, 1350000.0, 1350000.0, 1129500.0, 900000.0, 495000.0, 1350000.0, 585000.0, 495000.0, 675000.0, 765000.0, 1035000.0, 945000.0, 990000.0, 630000.0, 873000.0, 562500.0, 720000.0, 1125000.0, 1440000.0, 1575000.0, 1125000.0, 675000.0, 1935000.0, 1620000.0, 1129500.0, 675000.0, 585000.0, 900000.0, 675000.0, 998464.5, 675000.0, 990000.0, 1354500.0, 877500.0, 495000.0, 1129500.0, 1125000.0, 720000.0, 1089000.0, 1260000.0, 675000.0, 630000.0, 675000.0, 994500.0, 900000.0, 540000.0, 607500.0, 900000.0, 1129500.0, 675000.0, 720000.0, 1800000.0, 630000.0, 922500.0, 1305000.0, 1350000.0, 675000.0, 1800000.0, 495000.0, 913500.0, 931500.0, 990000.0, 540000.0, 2227500.0, 675000.0, 675000.0, 675000.0, 1354500.0, 1129500.0, 909000.0, 810000.0, 598500.0, 2700000.0, 1170000.0, 675000.0, 675000.0, 900000.0, 540000.0, 765000.0, 990000.0, 675000.0, 1129500.0, 1372500.0, 495000.0, 649800.0, 517500.0, 630000.0, 675000.0, 810000.0, 585000.0, 2025000.0, 900000.0, 1800000.0, 675000.0, 900000.0, 1350000.0, 517172.67, 564826.5, 563737.5, 900000.0, 1350000.0, 1485000.0, 715500.0, 675000.0, 2250000.0, 495000.0, 1125000.0, 1215000.0, 515362.5, 1215000.0, 540000.0, 576000.0, 1170000.0, 495000.0, 765000.0, 1125000.0, 3150000.0, 765000.0, 1260000.0, 540000.0, 765000.0, 765000.0, 1147500.0, 900000.0, 900000.0, 679500.0, 1125000.0, 900000.0, 675000.0, 900000.0, 720000.0, 607500.0, 675000.0, 585000.0, 810000.0, 675000.0, 1359000.0, 1170000.0, 1350000.0, 603000.0, 598500.0, 810000.0, 963000.0, 1800000.0, 720000.0, 1125000.0, 720000.0, 900000.0, 1129500.0, 540000.0, 810000.0, 679500.0, 1170000.0, 900000.0, 675000.0, 796500.0, 900000.0, 594000.0, 1237500.0, 495000.0, 747000.0, 945000.0, 540000.0, 540000.0, 585000.0, 1035000.0, 900000.0, 765000.0, 675000.0, 562500.0, 900000.0, 2025000.0, 904500.0, 900000.0, 1125000.0, 495000.0, 540000.0, 900000.0, 2250000.0, 1125000.0, 675000.0, 904500.0, 675000.0, 810000.0, 1260000.0, 1755000.0, 675000.0, 972000.0, 1350000.0, 1260000.0, 720000.0, 1354500.0, 900000.0, 495000.0, 1138500.0, 540000.0, 765000.0, 679500.0, 900000.0, 675000.0, 585000.0, 1062000.0, 2250000.0, 900000.0, 900000.0, 495000.0, 900000.0, 1129500.0, 495000.0, 1350000.0, 1125000.0, 624474.0, 765000.0, 1237500.0, 850500.0, 765000.0, 1260000.0, 1575000.0, 675000.0, 549000.0, 630000.0, 492525.0, 1341000.0, 765000.0, 900000.0, 1080000.0, 1125000.0, 1800000.0, 585000.0, 900000.0, 1129500.0, 670500.0, 675000.0, 630000.0, 630000.0, 1350000.0, 976500.0, 774000.0, 1129500.0, 1125000.0, 1125000.0, 506632.5, 720000.0, 705924.0, 1800000.0, 648000.0, 675000.0, 1372500.0, 630000.0, 1143000.0, 904500.0, 900000.0, 1125000.0, 900000.0, 652500.0, 855000.0, 2070000.0, 675000.0, 1170000.0, 888799.815, 900000.0, 540000.0, 675000.0, 900000.0, 1345500.0, 931500.0, 1305000.0, 675000.0, 1354500.0, 900000.0, 900000.0, 697500.0, 765000.0, 900000.0, 1215000.0, 873000.0, 675000.0, 900000.0, 1350000.0, 810000.0, 765000.0, 661500.0, 1129500.0, 675000.0, 495000.0, 2025000.0, 2160000.0, 679500.0, 652500.0, 670983.705, 900000.0, 675000.0, 1260000.0, 913500.0, 1363500.0, 900000.0, 900000.0, 675000.0, 900000.0, 1215000.0, 900000.0, 562500.0, 2250000.0, 2025000.0, 765000.0, 1170000.0, 589500.0, 1215000.0, 1350000.0, 1350000.0, 1350000.0, 1125000.0, 630000.0, 675000.0, 1125000.0, 1665000.0, 1134000.0, 1260000.0, 495000.0, 900000.0, 1129500.0, 675000.0, 675000.0, 1125000.0, 2700000.0, 2002500.0, 3150000.0, 540000.0, 1350000.0, 720000.0, 1377000.0, 1129500.0, 585000.0, 675000.0, 945000.0, 675000.0, 1350000.0, 585000.0, 679500.0, 1350000.0, 693000.0, 900000.0, 702000.0, 540000.0, 592537.5, 642600.0, 630000.0, 630000.0, 508500.0, 553500.0, 679500.0, 540000.0, 540000.0, 895500.0, 720000.0, 675000.0, 900000.0, 720000.0, 900000.0, 1444500.0, 1080000.0, 1273500.0, 585000.0, 675000.0, 675000.0, 1350000.0, 675000.0, 675000.0, 1035000.0, 576000.0, 1480500.0, 1012500.0, 517500.0, 675000.0, 1350000.0, 1129500.0, 675000.0, 589500.0, 1129500.0, 495000.0, 1354500.0, 675000.0, 900000.0, 1129500.0, 675000.0, 675000.0, 675000.0, 900000.0, 630000.0, 585000.0, 765000.0, 1350000.0, 1125000.0, 1125000.0, 675000.0, 900000.0, 900000.0, 1129500.0, 540000.0, 540000.0, 1035000.0, 900000.0, 720000.0, 1170000.0, 585000.0, 810000.0, 1629000.0, 1800000.0, 1057500.0, 1170000.0, 1192500.0, 540000.0, 720000.0, 810000.0, 922500.0, 796500.0, 1309500.0, 585000.0, 900000.0, 1125000.0, 607500.0, 1129500.0, 1800000.0, 900000.0, 1350000.0, 697500.0, 810000.0, 562500.0, 810000.0, 540000.0, 900000.0, 1125000.0, 675000.0, 675000.0, 540000.0, 675000.0, 675000.0, 1125000.0, 742500.0, 491499.0, 765000.0, 1260000.0, 810000.0, 675000.0, 1350000.0, 1350000.0, 724500.0, 1452775.5, 675000.0, 765000.0, 900000.0, 679500.0, 540000.0, 540000.0, 692901.0, 540000.0, 900000.0, 679500.0, 540000.0, 815206.5, 707625.0, 540000.0, 675000.0, 922500.0, 900000.0, 2002500.0, 1125000.0, 2254500.0, 2160000.0, 765000.0, 909000.0, 1129500.0, 765000.0, 552096.0, 675000.0, 1125000.0, 697500.0, 859500.0, 2700000.0, 1305000.0, 585000.0, 1125000.0, 630000.0, 675000.0, 900000.0, 2254500.0, 679500.0, 1350000.0, 720000.0, 657000.0, 646200.0, 540000.0, 1575000.0, 630000.0, 675000.0, 904500.0, 765000.0, 517500.0, 1260000.0, 900000.0, 1575000.0, 1710000.0, 1080000.0, 900000.0, 1372500.0, 765000.0, 1350000.0, 720000.0, 540000.0, 562500.0, 675000.0, 1800000.0, 540000.0, 1170000.0, 540000.0, 495000.0, 1215000.0, 855000.0, 540000.0, 494955.0, 495000.0, 1350000.0, 675000.0, 697500.0, 1125000.0, 1035000.0, 1350000.0, 585000.0, 540000.0, 1575000.0, 810000.0, 1170000.0, 1129500.0, 675000.0, 679500.0, 990000.0, 855000.0, 720000.0, 495000.0, 1129500.0, 900000.0, 1395000.0, 1350000.0, 585000.0, 900000.0, 900000.0, 2250000.0, 1350000.0, 679500.0, 675000.0, 1354500.0, 675000.0, 913500.0, 1260000.0, 585000.0, 724500.0, 1350000.0, 607500.0, 630000.0, 1350000.0, 675000.0, 540000.0, 900000.0, 1350000.0, 810000.0, 832500.0, 585000.0, 1129500.0, 675000.0, 697500.0, 1363500.0, 495000.0, 1350000.0, 1129500.0, 1129500.0, 675000.0, 1350000.0, 900000.0, 900000.0, 675000.0, 675000.0, 1125000.0, 675000.0, 2790000.0, 517500.0, 1350000.0, 675000.0, 675000.0, 585000.0, 684000.0, 900000.0, 540000.0, 679500.0, 556200.0, 1125000.0, 1350000.0, 1129500.0, 765000.0, 675000.0, 1350000.0, 675000.0, 1264500.0, 616500.0, 765000.0, 1129500.0, 675000.0, 900000.0, 900000.0, 616500.0, 738000.0, 675000.0, 675000.0, 1282500.0, 675000.0, 900000.0, 1800000.0, 1215000.0, 675000.0, 697500.0, 810000.0, 675000.0, 526725.0, 1800000.0, 675000.0, 1129500.0, 508500.0, 2250000.0, 742500.0, 1125000.0, 675000.0, 693000.0, 1354500.0, 1260000.0, 675000.0, 630000.0, 1350000.0, 675000.0, 643500.0, 607500.0, 495000.0, 900000.0, 1530000.0, 900000.0, 1350000.0, 765000.0, 675000.0, 855000.0, 675000.0, 900000.0, 900000.0, 765000.0, 540000.0, 765000.0, 810000.0, 1035000.0, 720000.0, 1260000.0, 720000.0, 2250000.0, 900000.0, 742500.0, 900000.0, 540000.0, 913500.0, 697500.0, 715500.0, 1282500.0, 806395.5, 675000.0, 1372500.0, 1129500.0, 900000.0, 1125000.0, 1350000.0, 720000.0, 900000.0, 675000.0, 495000.0, 1350000.0, 495000.0, 540000.0, 896821.11, 900000.0, 495000.0, 675000.0, 675000.0, 765000.0, 697500.0, 540000.0, 810000.0, 495000.0, 675000.0, 1125000.0, 621000.0, 1125000.0, 675000.0, 540000.0, 675000.0, 1350000.0, 810000.0, 495000.0, 945000.0, 607500.0, 2250000.0, 499500.0, 630000.0, 675000.0, 1350000.0, 900000.0, 675000.0, 1350000.0, 900000.0, 1170000.0, 1575000.0, 1125000.0, 1350000.0, 855000.0, 1129500.0, 522000.0, 675000.0, 540000.0, 562500.0, 720000.0, 3150000.0, 900000.0, 675000.0, 855000.0, 1125000.0, 1129500.0, 810000.0, 549000.0, 1350000.0, 904500.0, 1129500.0, 684000.0, 2250000.0, 675000.0, 1129500.0, 1129500.0, 810000.0, 985500.0, 549000.0, 765000.0, 675000.0, 540000.0, 675000.0, 612000.0, 1710000.0, 1129500.0, 630000.0, 546750.0, 810000.0, 1035000.0, 3150000.0, 900000.0, 675000.0, 1350000.0, 675000.0, 576000.0, 675000.0, 1350000.0, 675000.0, 643500.0, 675000.0, 675000.0, 720000.0, 585000.0, 900000.0, 675000.0, 720000.0, 805500.0, 495000.0, 855000.0, 900000.0, 855000.0, 814500.0, 675000.0, 1215000.0, 900000.0, 904500.0, 832500.0, 1800000.0, 603000.0, 900000.0, 1125000.0, 545625.0, 1129500.0, 1575000.0, 517500.0, 580500.0, 900000.0, 1305000.0, 688500.0, 1350000.0, 900000.0, 900000.0, 778500.0, 1129500.0, 900000.0, 1350000.0, 675000.0, 1575000.0, 1498500.0, 630000.0, 1264500.0, 562500.0, 1129500.0, 589500.0, 810000.0, 990000.0, 1080000.0, 904500.0, 675000.0, 566100.0, 675000.0, 900000.0, 1215000.0, 900000.0, 900000.0, 1170000.0, 562500.0, 832500.0, 1129500.0, 945000.0, 2250000.0, 720000.0, 810000.0, 1008000.0, 495000.0, 1800000.0, 765000.0, 675000.0, 540000.0, 765000.0, 1237500.0, 508500.0, 1350000.0, 756000.0, 2115000.0, 652500.0, 1152000.0, 517500.0, 1170000.0, 1147500.0, 1354500.0, 675000.0, 900000.0, 630000.0, 1129500.0, 900000.0, 1363500.0, 634500.0, 1804500.0, 1260000.0, 679500.0, 675000.0, 675000.0, 882000.0, 1125000.0, 1350000.0, 1575000.0, 1350000.0, 630000.0, 720000.0, 679500.0, 765000.0, 900000.0, 1035000.0, 697500.0, 990000.0, 1354500.0, 1579500.0, 2160000.0, 1354500.0, 675000.0, 675000.0, 675000.0, 1215000.0, 1125000.0, 562500.0, 1237500.0, 675000.0, 1129500.0, 1129500.0, 900000.0, 675000.0, 675000.0, 765000.0, 742500.0, 747000.0, 765000.0, 720000.0, 904500.0, 1350000.0, 900000.0, 1215000.0, 900000.0, 1260000.0, 810000.0, 1129500.0, 2250000.0, 630000.0, 585000.0, 1354500.0, 720000.0, 540000.0, 1129500.0, 945000.0, 540000.0, 675000.0, 1575000.0, 490500.0, 2250000.0, 675000.0, 767590.11, 1215000.0, 1350000.0, 594000.0, 1125000.0, 810000.0, 675000.0, 675000.0, 630000.0, 585000.0, 495000.0, 675000.0, 540000.0, 540000.0, 1152000.0, 540000.0, 697500.0, 958500.0, 558000.0, 540000.0, 1800000.0, 675000.0, 630000.0, 900000.0, 675000.0, 1129500.0, 679500.0, 585000.0, 1215000.0, 585000.0, 675000.0, 810000.0, 1044000.0, 1800000.0, 652500.0, 922500.0, 495000.0, 688500.0, 540000.0, 495000.0, 675000.0, 1471500.0, 900000.0, 2002500.0, 2250000.0, 1800000.0, 1080000.0, 1125000.0, 1800000.0, 675000.0, 1170000.0, 652500.0, 1575000.0, 675000.0, 913500.0, 922500.0, 810000.0, 1125000.0, 675000.0, 1129500.0, 697500.0, 675000.0, 904500.0, 765000.0, 765000.0, 900000.0, 720000.0, 1125000.0, 877500.0, 630000.0, 1201500.0, 2025000.0, 765000.0, 1129500.0, 679500.0, 630000.0, 675000.0, 1260000.0, 922500.0, 495000.0, 1170000.0, 1125000.0, 2025000.0, 1228500.0, 2250000.0, 900000.0, 562500.0, 900000.0, 1354500.0, 675000.0, 1350000.0, 675000.0, 855000.0, 810000.0, 1350000.0, 625500.0, 1350000.0, 697500.0, 895500.0, 675000.0, 630000.0, 585000.0, 688500.0, 697500.0, 1156218.84, 1138500.0, 904500.0, 990000.0, 1575000.0, 1440000.0, 810000.0, 1170000.0, 805500.0, 765000.0, 540000.0, 1102500.0, 1336500.0, 1170000.0, 526500.0, 675000.0, 1354500.0, 976500.0, 765000.0, 630000.0, 900000.0, 900000.0, 540000.0, 1125000.0, 675000.0, 900000.0, 796500.0, 630000.0, 1125000.0, 675000.0, 900000.0, 810000.0, 1129500.0, 540000.0, 1354500.0, 517500.0, 900000.0, 855000.0, 540000.0, 585000.0, 900000.0, 900000.0, 603000.0, 630000.0, 765000.0, 630000.0, 540000.0, 742500.0, 675000.0, 495000.0, 1215000.0, 675000.0, 499500.0, 1170000.0, 495000.0, 900000.0, 742500.0, 1125000.0, 810000.0, 972000.0, 1215000.0, 522000.0, 1350000.0, 499500.0, 1354500.0, 2025000.0, 2254500.0, 1125000.0, 1575000.0, 1800000.0, 675000.0, 585000.0, 688500.0, 900000.0, 630000.0, 630000.0, 900000.0, 756000.0, 585000.0, 1192500.0, 985500.0, 1125000.0, 504000.0, 1116000.0, 675000.0, 765000.0, 904500.0, 900000.0, 540000.0, 1017000.0, 729000.0, 787500.0, 900000.0, 495000.0, 495000.0, 1804500.0, 567000.0, 1125000.0, 1368000.0, 1125000.0, 585000.0, 1035000.0, 675000.0, 1620000.0, 675000.0, 1129500.0, 1305000.0, 2250000.0, 1748250.0, 1800000.0, 1066500.0, 1129500.0, 697500.0, 1129500.0, 513000.0, 765000.0, 855000.0, 1314000.0, 900000.0, 783000.0, 630000.0, 675000.0, 675000.0, 745380.0, 815085.0, 630000.0, 784785.87, 594000.0, 585000.0, 675000.0, 495000.0, 540000.0, 675000.0, 715500.0, 562500.0, 675000.0, 900000.0, 675000.0, 900000.0, 900000.0, 513000.0, 765000.0, 675000.0, 585000.0, 810000.0, 675000.0, 1053000.0, 900000.0, 900000.0, 1129500.0, 495000.0, 517500.0, 540000.0, 675000.0, 715500.0, 900000.0, 1341000.0, 540000.0, 1129500.0, 495000.0, 1089000.0, 679500.0, 1129500.0, 1272950.775, 675000.0, 1129500.0, 1350000.0, 1800000.0, 1575000.0, 1350000.0, 1138500.0, 1129500.0, 810000.0, 679500.0, 1350000.0, 589500.0, 495000.0, 675000.0, 540000.0, 900000.0, 675000.0, 1125000.0, 540000.0, 3150000.0, 877500.0, 675000.0, 675000.0, 499995.0, 945000.0, 585000.0, 1129500.0, 765000.0, 990000.0, 900000.0, 1800000.0, 922500.0, 900000.0, 1125000.0, 697500.0, 585000.0, 490500.0, 2250000.0, 2160000.0, 553500.0, 1305000.0, 900000.0, 675000.0, 990000.0, 675000.0, 922500.0, 936000.0, 810000.0, 897750.0, 994500.0, 2250000.0, 2250000.0, 810000.0, 1350000.0, 1350000.0, 540000.0, 627237.0, 625500.0, 594000.0, 675000.0, 675000.0, 990000.0, 1350000.0, 1462500.0, 855000.0, 684000.0, 697500.0, 1125000.0, 675000.0, 675000.0, 1129500.0, 1273500.0, 720000.0, 720000.0, 810000.0, 900000.0, 900000.0, 675000.0, 1350000.0, 900000.0, 1129500.0, 1408500.0, 720000.0, 922500.0, 596430.0, 633375.0, 1800000.0, 2250000.0, 900000.0, 1395000.0, 1125000.0, 675000.0, 900000.0, 900000.0, 981000.0, 2250000.0, 675000.0, 1129500.0, 1350000.0, 562500.0, 585000.0, 1044000.0, 1800000.0, 882000.0, 1170000.0, 1822500.0, 900000.0, 1260000.0, 1129500.0, 675000.0, 675000.0, 526500.0, 495000.0, 900000.0, 1395000.0, 495000.0, 1575000.0, 913500.0, 1170000.0, 675000.0, 810000.0, 562500.0, 1800000.0, 2070000.0, 1800000.0, 900000.0, 585000.0, 900000.0, 855000.0, 990000.0, 637105.5, 648000.0, 832500.0, 1170000.0, 1228500.0, 1125000.0, 1125000.0, 1215000.0, 1575000.0, 1350000.0, 1170000.0, 675000.0, 1350000.0, 540000.0, 675000.0, 810000.0, 589500.0, 675000.0, 720000.0, 1129500.0, 765000.0, 772798.5, 675000.0, 630000.0, 589500.0, 900000.0, 680850.0, 868500.0, 841500.0, 2250000.0, 675000.0, 891000.0, 1170000.0, 963000.0, 972000.0, 675000.0, 1260000.0, 900000.0, 1354500.0, 687735.0, 675000.0, 558000.0, 877500.0, 1125000.0, 855000.0, 540000.0, 900000.0, 688500.0, 900000.0, 675000.0, 666000.0, 900000.0, 823500.0, 900000.0, 1215000.0, 900000.0, 1125000.0, 540000.0, 1107000.0, 900000.0, 1129500.0, 1156500.0, 1129500.0, 508500.0, 1170000.0, 679500.0, 1147500.0, 2250000.0, 1372500.0, 679500.0, 540000.0, 720000.0, 1350000.0, 675000.0, 1125000.0, 2029500.0, 1552500.0, 675000.0, 2250000.0, 783000.0, 1350000.0, 900000.0, 810000.0, 1125000.0, 796500.0, 675000.0, 765000.0, 900000.0, 549000.0, 681990.3, 822109.5, 900000.0, 675000.0, 1111500.0, 1314000.0, 1125000.0, 922500.0, 495000.0, 873000.0, 675000.0, 495000.0, 810000.0, 1125000.0, 778500.0, 544500.0, 1354500.0, 1530000.0, 927000.0, 756000.0, 1129500.0, 823500.0, 720000.0, 697500.0, 1350000.0, 675000.0, 1035000.0, 1147500.0, 585000.0, 517500.0, 652500.0, 945000.0, 1350000.0, 1039500.0, 504000.0, 675000.0, 1813500.0, 1350000.0, 2250000.0, 900000.0, 945000.0, 900000.0, 1026000.0, 648000.0, 540000.0, 990000.0, 1170000.0, 675000.0, 675000.0, 565103.115, 1350000.0, 900000.0, 945000.0, 1215000.0, 1125000.0, 900000.0, 1350000.0, 500013.0, 1085625.0, 900000.0, 900000.0, 900000.0, 900000.0, 553500.0, 900000.0, 1125000.0, 900000.0, 693000.0, 967500.0, 900000.0, 1672560.0, 900000.0, 814500.0, 2025000.0, 1350000.0, 495000.0, 900000.0, 2250000.0, 1125000.0, 1305000.0, 765000.0, 2254500.0, 675000.0, 765000.0, 1147500.0, 720000.0, 1350000.0, 1620000.0, 1305000.0, 2025000.0, 990000.0, 742500.0, 1125000.0, 1800000.0, 679500.0, 675000.0, 1332000.0, 1215000.0, 900000.0, 585000.0, 1575000.0, 598500.0, 495000.0, 1125000.0, 900000.0, 900000.0, 720000.0, 675000.0, 1350000.0, 585000.0, 1350000.0, 540000.0, 900000.0, 1129500.0, 675000.0, 1219500.0, 675000.0, 1129500.0, 2250000.0, 900000.0, 1129500.0, 720000.0, 675000.0, 666000.0, 506826.0, 967500.0, 1273500.0, 900000.0, 630000.0, 675000.0, 1575000.0, 675000.0, 675000.0, 675000.0, 1062184.5, 616500.0, 1575000.0, 900000.0, 909000.0, 1800000.0, 1125000.0, 517500.0, 1483600.5, 1350000.0, 765000.0, 900000.0, 630000.0, 1350000.0, 1350000.0, 765000.0, 585000.0, 675000.0, 900000.0, 3150000.0, 675000.0, 1260000.0, 512325.0, 1170000.0, 832500.0, 983713.5, 900000.0, 1129500.0, 765000.0, 1530000.0, 900000.0, 810000.0, 720000.0, 900000.0, 900000.0, 1350000.0, 900000.0, 675000.0, 1350000.0, 1800000.0, 675000.0, 540000.0, 904500.0, 1125000.0, 675000.0, 675000.0, 742500.0, 549000.0, 679500.0, 540000.0, 540000.0, 643500.0, 900000.0, 2160000.0, 675000.0, 765000.0, 1125000.0, 630000.0, 900000.0, 841500.0, 1035000.0, 855000.0, 524250.0, 675000.0, 1260000.0, 1192500.0, 540000.0, 495000.0, 2250000.0, 675000.0, 904500.0, 900000.0, 922500.0, 1170000.0, 540000.0, 1062000.0, 1129500.0, 711000.0, 1074150.0, 540000.0, 990000.0, 715500.0, 900000.0, 553500.0, 1219500.0, 1125000.0, 774000.0, 1125000.0, 1350000.0, 495000.0, 1138500.0, 585000.0, 540000.0, 900000.0, 693000.0, 675000.0, 540000.0, 733500.0, 1129500.0, 576944.055, 1170000.0, 1129500.0, 900000.0, 1350000.0, 990000.0, 1350000.0, 1125000.0, 1129500.0, 513481.5, 585000.0, 1350000.0, 945000.0, 1053000.0, 1129500.0, 760500.0, 675000.0, 495000.0, 697500.0, 540000.0, 900000.0, 765000.0, 1125000.0, 495000.0, 540000.0, 675000.0, 630000.0, 783000.0, 720000.0, 1462500.0, 1147500.0, 693000.0, 900000.0, 900000.0, 675000.0, 720000.0, 540000.0, 675000.0, 1129500.0, 1125000.0, 765000.0, 855000.0, 900000.0, 540000.0, 1800000.0, 540000.0, 495000.0, 675000.0, 900000.0, 679500.0, 675000.0, 893556.0, 900000.0, 787500.0, 1129500.0, 495000.0, 900000.0, 675000.0, 765000.0, 540000.0, 900000.0, 900000.0, 765000.0, 945000.0, 1350000.0, 562500.0, 904500.0, 495000.0, 1808617.5, 1017000.0, 1255500.0, 585000.0, 531000.0, 1080000.0, 900000.0, 495000.0, 593451.0, 1215000.0, 585000.0, 1215000.0, 900000.0, 1323000.0, 900000.0, 598500.0, 900000.0, 810000.0, 1440000.0, 675000.0, 1260000.0, 540000.0, 868500.0, 900000.0, 652500.0, 675000.0, 1444500.0, 900000.0, 1350000.0, 1350000.0, 1354500.0, 1575000.0, 1867500.0, 1215000.0, 900000.0, 576000.0, 855000.0, 720000.0, 675000.0, 675000.0, 702000.0, 967500.0, 522000.0, 810000.0, 1305000.0, 630000.0, 1125000.0, 765000.0, 625500.0, 1125000.0, 1129500.0, 1129500.0, 1264500.0, 945000.0, 810000.0, 720000.0, 720000.0, 2025000.0, 900000.0, 1350000.0, 1575000.0, 922500.0, 900000.0, 900000.0, 1215000.0, 900000.0, 495000.0, 679500.0, 1125000.0, 675000.0, 1260000.0, 540000.0, 1129500.0, 675000.0, 585000.0, 990000.0, 675000.0, 900000.0, 900000.0, 675000.0, 1021500.0, 765000.0, 1350000.0, 1116000.0, 720000.0, 1125000.0, 832500.0, 1575000.0, 945000.0, 810000.0, 571500.0, 1057500.0, 783000.0, 720000.0, 810000.0, 495000.0, 585000.0, 810000.0, 1170000.0, 774000.0, 1035000.0, 571500.0, 630000.0, 1350000.0, 765000.0, 607500.0, 778500.0, 675000.0, 675000.0, 1129500.0, 1260000.0, 1129500.0, 585000.0, 585000.0, 1575000.0, 2115000.0, 1170000.0, 675000.0, 675000.0, 2047500.0, 900000.0, 598500.0, 675000.0, 562500.0, 1125000.0, 1170000.0, 2250000.0, 1170000.0, 495000.0, 562500.0, 675000.0, 900000.0, 1048500.0, 1035000.0, 1215000.0, 810000.0, 585000.0, 787500.0, 900000.0, 765000.0, 675000.0, 810000.0, 697500.0, 810000.0, 1125000.0, 675000.0, 675000.0, 1732500.0, 900000.0, 675000.0, 675000.0, 585000.0, 900000.0, 630000.0, 1125000.0, 1125000.0, 810000.0, 675000.0, 1170000.0, 1377000.0, 913500.0, 495000.0, 1129500.0, 535500.0, 2137500.0, 1147500.0, 540000.0, 1215000.0, 675000.0, 675000.0, 1350000.0, 1129500.0, 1215000.0, 900000.0, 675000.0, 675000.0, 900000.0, 675000.0, 1350000.0, 760500.0, 990000.0, 1035000.0, 900000.0, 697500.0, 1147500.0, 585000.0, 1485000.0, 641776.5, 900000.0, 720000.0, 675000.0, 1363500.0, 1800000.0, 1350000.0, 1125000.0, 1350000.0, 540000.0, 585000.0, 1800000.0, 791083.125, 900000.0, 900000.0, 1147500.0, 628551.0, 1129500.0, 585000.0, 810000.0, 1305000.0, 585000.0, 2475000.0, 1129500.0, 900000.0, 1125000.0, 562500.0, 1147500.0, 495000.0, 810000.0, 900000.0, 900000.0, 967500.0, 1260000.0, 553500.0, 1030500.0, 675000.0, 1192500.0, 1125000.0, 900000.0, 697500.0, 765000.0, 1053000.0, 1350000.0, 1170000.0, 675000.0, 591813.0, 688500.0, 1035000.0, 697500.0, 994500.0, 900000.0, 792000.0, 1440000.0, 675000.0, 2250000.0, 1147500.0, 1800000.0, 1354500.0, 675000.0, 810000.0, 810000.0, 1575000.0, 670500.0, 1125000.0, 765000.0, 684000.0, 1147500.0, 679500.0, 652500.0, 913500.0, 1800000.0, 675000.0, 810000.0, 1575000.0, 900000.0, 841500.0, 904500.0, 720000.0, 1017000.0, 1350000.0, 540000.0, 765000.0, 1035000.0, 1125000.0, 675000.0, 1260000.0, 711000.0, 675000.0, 697500.0, 913500.0, 1035000.0, 1354500.0, 540000.0, 1350000.0, 540000.0, 1350000.0, 846000.0, 630000.0, 765000.0, 1035000.0, 1800000.0, 697500.0, 810000.0, 1260000.0, 832500.0, 990000.0, 675000.0, 1350000.0, 1129500.0, 1350000.0, 675000.0, 1215000.0, 1215000.0, 675000.0, 1125000.0, 2205000.0, 675000.0, 832500.0, 1075500.0, 855000.0, 1129500.0, 675000.0, 544500.0, 1125000.0, 810000.0, 1350000.0, 913500.0, 1350000.0, 1372500.0, 1215000.0, 1890000.0, 675000.0, 1575000.0, 1129500.0, 495000.0, 1125000.0, 675000.0, 1125000.0, 1408500.0, 1372500.0, 810000.0, 526500.0, 900000.0, 900000.0, 756000.0, 1215000.0, 1665000.0, 499500.0, 675000.0, 913500.0, 2250000.0, 1129500.0, 630000.0, 1350000.0, 1152000.0, 1035000.0, 2250000.0, 765000.0, 585000.0, 900000.0, 868500.0, 495000.0, 900000.0, 765000.0, 765000.0, 1129500.0, 679500.0, 1129500.0, 814500.0, 1350000.0, 900000.0, 1800000.0, 1125000.0, 900000.0, 675000.0, 675000.0, 900000.0, 859500.0, 1318500.0, 1440000.0, 585000.0, 711000.0, 900000.0, 697500.0, 595998.0, 2925000.0, 1129500.0, 1350000.0, 1350000.0, 1129500.0, 1129500.0, 1350000.0, 900000.0, 1800000.0, 540000.0, 900000.0, 787500.0, 900000.0, 1350000.0, 540000.0, 900000.0, 900000.0, 621000.0, 675000.0, 1129500.0, 1350000.0, 873000.0, 1129500.0, 1147500.0, 900000.0, 540000.0, 1161000.0, 1260000.0, 1125000.0, 540000.0, 882900.0, 810000.0, 900000.0, 630000.0, 1108507.5, 967500.0, 675000.0, 900000.0, 675000.0, 1350000.0, 904500.0, 675000.0, 585000.0, 1125000.0, 1129500.0, 832500.0, 540000.0, 1354500.0, 900000.0, 675000.0, 967500.0, 499500.0, 675000.0, 1147500.0, 1215000.0, 675000.0, 1165500.0, 900000.0, 900000.0, 517500.0, 900000.0, 1215000.0, 652500.0, 1129500.0, 1125000.0, 765000.0, 765000.0, 855000.0, 1215000.0, 1219500.0, 900000.0, 495000.0, 1485000.0, 1354500.0, 553500.0, 540000.0, 675000.0, 675000.0, 814500.0, 1147500.0, 1138050.0, 607500.0, 1129500.0, 631787.355, 819000.0, 540000.0, 900000.0, 1413000.0, 1080000.0, 675000.0, 585000.0, 675000.0, 931500.0, 1035000.0, 900000.0, 540000.0, 900000.0, 616964.76, 3826372.5, 675000.0, 913500.0, 585000.0, 1237500.0, 1035000.0, 649939.5, 1170000.0, 625500.0, 517500.0, 1327500.0, 1350000.0, 697500.0, 900000.0, 1350000.0, 954000.0, 623448.0, 774000.0, 720000.0, 900000.0, 760050.0, 904500.0, 1273500.0, 900000.0, 900000.0, 585000.0, 1125000.0, 1350000.0, 922500.0, 540000.0, 1237500.0, 675000.0, 1575000.0, 765000.0, 900000.0, 675000.0, 697500.0, 720000.0, 765000.0, 1129500.0, 675000.0, 1350000.0, 495000.0, 765000.0, 1350000.0, 1035000.0, 805500.0, 562500.0, 630000.0, 990000.0, 549000.0, 540000.0, 495000.0, 1827000.0, 832500.0, 675000.0, 1350000.0, 675000.0, 810000.0, 1206000.0, 810000.0, 1485000.0, 1129500.0, 620100.0, 765000.0, 1350000.0, 900000.0, 652010.13, 1129500.0, 675000.0, 1984500.0, 2250000.0, 675000.0, 675000.0, 675000.0, 900000.0, 1350000.0, 1363500.0, 1350000.0, 1350000.0, 1386000.0, 1800000.0, 675000.0, 1269000.0, 540000.0, 900000.0, 499950.0, 1350000.0, 675000.0, 1129500.0, 675000.0, 990000.0, 675000.0, 900000.0, 765000.0, 679500.0, 1350000.0, 1012500.0, 630000.0, 675000.0, 585000.0, 1035000.0, 1350000.0, 585000.0, 1260000.0, 1485000.0, 1125000.0, 675000.0, 675000.0, 922500.0, 1125000.0, 495000.0, 585000.0, 1350000.0, 765000.0, 675000.0, 900000.0, 495000.0, 2025000.0, 631755.0, 1125000.0, 1170000.0, 652500.0, 675000.0, 1125000.0, 1170000.0, 530482.5, 810000.0, 697500.0, 1575000.0, 585000.0, 675000.0, 495000.0, 1125000.0, 675000.0, 2025000.0, 567000.0, 679500.0, 1327500.0, 679500.0, 900000.0, 630000.0, 900000.0, 540000.0, 922500.0, 675000.0, 900000.0, 1129500.0, 913500.0, 922500.0, 1822500.0, 1174500.0, 1192500.0, 900000.0, 3150000.0, 495000.0, 517500.0, 787500.0, 675000.0, 630000.0, 990000.0, 1125000.0, 900000.0, 675000.0, 1372500.0, 873000.0, 679500.0, 1255500.0, 2250000.0, 1125000.0, 652500.0, 2250000.0, 1800000.0, 787500.0, 765000.0, 675000.0, 1107000.0, 747000.0, 1350000.0, 765000.0, 520002.0, 855000.0, 675000.0, 630000.0, 1147500.0, 625500.0, 585000.0, 1152000.0, 585000.0, 765000.0, 909000.0, 585000.0, 900000.0, 900000.0, 495000.0, 720000.0, 540000.0, 1579500.0, 1323000.0, 1363500.0, 675000.0, 675000.0, 585000.0, 1170000.0, 927000.0, 945000.0, 675000.0, 1170000.0, 1129500.0, 540000.0, 540000.0, 1260000.0, 499232.25, 540000.0, 585000.0, 669600.0, 900000.0, 1350000.0, 1147500.0, 900000.0, 517500.0, 742500.0, 541620.0, 1129500.0, 855000.0, 675000.0, 589396.5, 1035000.0, 540000.0, 1129500.0, 877500.0, 765000.0, 519291.0, 1125000.0, 1260000.0]\n"
     ]
    }
   ],
   "source": [
    "l=[]\n",
    "for i in df_app[\"AMT_GOODS_PRICE\"]:\n",
    "     if i>upper_fence or i<lower_fence:\n",
    "        l.append(i)\n",
    "print(l)\n",
    "   "
   ]
  },
  {
   "cell_type": "code",
   "execution_count": 188,
   "id": "bfd806d4-9450-465c-aa3f-8fc7856d2478",
   "metadata": {},
   "outputs": [],
   "source": [
    "df_app[\"AMT_GOODS_PRICE\"]=df_app[\"AMT_GOODS_PRICE\"].fillna(df_app[\"AMT_GOODS_PRICE\"]==df_app[\"AMT_CREDIT\"])"
   ]
  },
  {
   "cell_type": "code",
   "execution_count": 190,
   "id": "9bd75efe-4826-422f-87a1-6f5dfb520b08",
   "metadata": {},
   "outputs": [
    {
     "data": {
      "text/plain": [
       "0"
      ]
     },
     "execution_count": 190,
     "metadata": {},
     "output_type": "execute_result"
    }
   ],
   "source": [
    "df_app[\"AMT_GOODS_PRICE\"].isnull().sum()"
   ]
  },
  {
   "cell_type": "code",
   "execution_count": 192,
   "id": "a56239bd-0202-40a9-8509-4e83a0ee91d8",
   "metadata": {},
   "outputs": [
    {
     "data": {
      "image/png": "[encoded data removed]",
      "text/plain": [
       "<Figure size 800x600 with 1 Axes>"
      ]
     },
     "metadata": {},
     "output_type": "display_data"
    }
   ],
   "source": [
    "plt.figure(figsize=(8,6))\n",
    "sns.histplot(df_app[\"AMT_GOODS_PRICE\"],kde=True,color=\"black\")\n",
    "plt.show()"
   ]
  },
  {
   "cell_type": "code",
   "execution_count": 193,
   "id": "57d5e0bc-8ea1-4258-9c6f-3bb41760b89e",
   "metadata": {},
   "outputs": [
    {
     "ename": "KeyError",
     "evalue": "'OCCUPATION_TYPE'",
     "output_type": "error",
     "traceback": [
      "\u001b[1;31m---------------------------------------------------------------------------\u001b[0m",
      "\u001b[1;31mKeyError\u001b[0m                                  Traceback (most recent call last)",
      "File \u001b[1;32m~\\anaconda3\\Lib\\site-packages\\pandas\\core\\indexes\\base.py:3805\u001b[0m, in \u001b[0;36mIndex.get_loc\u001b[1;34m(self, key)\u001b[0m\n\u001b[0;32m   3804\u001b[0m \u001b[38;5;28;01mtry\u001b[39;00m:\n\u001b[1;32m-> 3805\u001b[0m     \u001b[38;5;28;01mreturn\u001b[39;00m \u001b[38;5;28mself\u001b[39m\u001b[38;5;241m.\u001b[39m_engine\u001b[38;5;241m.\u001b[39mget_loc(casted_key)\n\u001b[0;32m   3806\u001b[0m \u001b[38;5;28;01mexcept\u001b[39;00m \u001b[38;5;167;01mKeyError\u001b[39;00m \u001b[38;5;28;01mas\u001b[39;00m err:\n",
      "File \u001b[1;32mindex.pyx:167\u001b[0m, in \u001b[0;36mpandas._libs.index.IndexEngine.get_loc\u001b[1;34m()\u001b[0m\n",
      "File \u001b[1;32mindex.pyx:196\u001b[0m, in \u001b[0;36mpandas._libs.index.IndexEngine.get_loc\u001b[1;34m()\u001b[0m\n",
      "File \u001b[1;32mpandas\\\\_libs\\\\hashtable_class_helper.pxi:7081\u001b[0m, in \u001b[0;36mpandas._libs.hashtable.PyObjectHashTable.get_item\u001b[1;34m()\u001b[0m\n",
      "File \u001b[1;32mpandas\\\\_libs\\\\hashtable_class_helper.pxi:7089\u001b[0m, in \u001b[0;36mpandas._libs.hashtable.PyObjectHashTable.get_item\u001b[1;34m()\u001b[0m\n",
      "\u001b[1;31mKeyError\u001b[0m: 'OCCUPATION_TYPE'",
      "\nThe above exception was the direct cause of the following exception:\n",
      "\u001b[1;31mKeyError\u001b[0m                                  Traceback (most recent call last)",
      "Cell \u001b[1;32mIn[193], line 1\u001b[0m\n\u001b[1;32m----> 1\u001b[0m df_app[\u001b[38;5;124m\"\u001b[39m\u001b[38;5;124mOCCUPATION_TYPE\u001b[39m\u001b[38;5;124m\"\u001b[39m]\n",
      "File \u001b[1;32m~\\anaconda3\\Lib\\site-packages\\pandas\\core\\frame.py:4102\u001b[0m, in \u001b[0;36mDataFrame.__getitem__\u001b[1;34m(self, key)\u001b[0m\n\u001b[0;32m   4100\u001b[0m \u001b[38;5;28;01mif\u001b[39;00m \u001b[38;5;28mself\u001b[39m\u001b[38;5;241m.\u001b[39mcolumns\u001b[38;5;241m.\u001b[39mnlevels \u001b[38;5;241m>\u001b[39m \u001b[38;5;241m1\u001b[39m:\n\u001b[0;32m   4101\u001b[0m     \u001b[38;5;28;01mreturn\u001b[39;00m \u001b[38;5;28mself\u001b[39m\u001b[38;5;241m.\u001b[39m_getitem_multilevel(key)\n\u001b[1;32m-> 4102\u001b[0m indexer \u001b[38;5;241m=\u001b[39m \u001b[38;5;28mself\u001b[39m\u001b[38;5;241m.\u001b[39mcolumns\u001b[38;5;241m.\u001b[39mget_loc(key)\n\u001b[0;32m   4103\u001b[0m \u001b[38;5;28;01mif\u001b[39;00m is_integer(indexer):\n\u001b[0;32m   4104\u001b[0m     indexer \u001b[38;5;241m=\u001b[39m [indexer]\n",
      "File \u001b[1;32m~\\anaconda3\\Lib\\site-packages\\pandas\\core\\indexes\\base.py:3812\u001b[0m, in \u001b[0;36mIndex.get_loc\u001b[1;34m(self, key)\u001b[0m\n\u001b[0;32m   3807\u001b[0m     \u001b[38;5;28;01mif\u001b[39;00m \u001b[38;5;28misinstance\u001b[39m(casted_key, \u001b[38;5;28mslice\u001b[39m) \u001b[38;5;129;01mor\u001b[39;00m (\n\u001b[0;32m   3808\u001b[0m         \u001b[38;5;28misinstance\u001b[39m(casted_key, abc\u001b[38;5;241m.\u001b[39mIterable)\n\u001b[0;32m   3809\u001b[0m         \u001b[38;5;129;01mand\u001b[39;00m \u001b[38;5;28many\u001b[39m(\u001b[38;5;28misinstance\u001b[39m(x, \u001b[38;5;28mslice\u001b[39m) \u001b[38;5;28;01mfor\u001b[39;00m x \u001b[38;5;129;01min\u001b[39;00m casted_key)\n\u001b[0;32m   3810\u001b[0m     ):\n\u001b[0;32m   3811\u001b[0m         \u001b[38;5;28;01mraise\u001b[39;00m InvalidIndexError(key)\n\u001b[1;32m-> 3812\u001b[0m     \u001b[38;5;28;01mraise\u001b[39;00m \u001b[38;5;167;01mKeyError\u001b[39;00m(key) \u001b[38;5;28;01mfrom\u001b[39;00m \u001b[38;5;21;01merr\u001b[39;00m\n\u001b[0;32m   3813\u001b[0m \u001b[38;5;28;01mexcept\u001b[39;00m \u001b[38;5;167;01mTypeError\u001b[39;00m:\n\u001b[0;32m   3814\u001b[0m     \u001b[38;5;66;03m# If we have a listlike key, _check_indexing_error will raise\u001b[39;00m\n\u001b[0;32m   3815\u001b[0m     \u001b[38;5;66;03m#  InvalidIndexError. Otherwise we fall through and re-raise\u001b[39;00m\n\u001b[0;32m   3816\u001b[0m     \u001b[38;5;66;03m#  the TypeError.\u001b[39;00m\n\u001b[0;32m   3817\u001b[0m     \u001b[38;5;28mself\u001b[39m\u001b[38;5;241m.\u001b[39m_check_indexing_error(key)\n",
      "\u001b[1;31mKeyError\u001b[0m: 'OCCUPATION_TYPE'"
     ]
    }
   ],
   "source": [
    "df_app[\"OCCUPATION_TYPE\"]"
   ]
  },
  {
   "cell_type": "code",
   "execution_count": null,
   "id": "f335454c-2f70-4207-a411-809219fe7af1",
   "metadata": {},
   "outputs": [],
   "source": [
    "df_app[\"OCCUPATION_TYPE\"].isnull().sum()"
   ]
  },
  {
   "cell_type": "code",
   "execution_count": null,
   "id": "9e722f7d-b34a-4156-b125-8c39ac74cb39",
   "metadata": {},
   "outputs": [],
   "source": [
    "#value_counts()--records--frequency.\n",
    "df_app[\"OCCUPATION_TYPE\"].value_counts()"
   ]
  },
  {
   "cell_type": "code",
   "execution_count": null,
   "id": "3ffcbae4-d1e8-4205-8e66-e6781adcbfcb",
   "metadata": {},
   "outputs": [],
   "source": [
    "df_app[\"OCCUPATION_TYPE\"].value_counts(normalize=True)"
   ]
  },
  {
   "cell_type": "code",
   "execution_count": 198,
   "id": "9567caa1-b93d-487b-a39d-3bcc6ddcb02b",
   "metadata": {},
   "outputs": [
    {
     "ename": "KeyError",
     "evalue": "'OCCUPATION_TYPE'",
     "output_type": "error",
     "traceback": [
      "\u001b[1;31m---------------------------------------------------------------------------\u001b[0m",
      "\u001b[1;31mKeyError\u001b[0m                                  Traceback (most recent call last)",
      "File \u001b[1;32m~\\anaconda3\\Lib\\site-packages\\pandas\\core\\indexes\\base.py:3805\u001b[0m, in \u001b[0;36mIndex.get_loc\u001b[1;34m(self, key)\u001b[0m\n\u001b[0;32m   3804\u001b[0m \u001b[38;5;28;01mtry\u001b[39;00m:\n\u001b[1;32m-> 3805\u001b[0m     \u001b[38;5;28;01mreturn\u001b[39;00m \u001b[38;5;28mself\u001b[39m\u001b[38;5;241m.\u001b[39m_engine\u001b[38;5;241m.\u001b[39mget_loc(casted_key)\n\u001b[0;32m   3806\u001b[0m \u001b[38;5;28;01mexcept\u001b[39;00m \u001b[38;5;167;01mKeyError\u001b[39;00m \u001b[38;5;28;01mas\u001b[39;00m err:\n",
      "File \u001b[1;32mindex.pyx:167\u001b[0m, in \u001b[0;36mpandas._libs.index.IndexEngine.get_loc\u001b[1;34m()\u001b[0m\n",
      "File \u001b[1;32mindex.pyx:196\u001b[0m, in \u001b[0;36mpandas._libs.index.IndexEngine.get_loc\u001b[1;34m()\u001b[0m\n",
      "File \u001b[1;32mpandas\\\\_libs\\\\hashtable_class_helper.pxi:7081\u001b[0m, in \u001b[0;36mpandas._libs.hashtable.PyObjectHashTable.get_item\u001b[1;34m()\u001b[0m\n",
      "File \u001b[1;32mpandas\\\\_libs\\\\hashtable_class_helper.pxi:7089\u001b[0m, in \u001b[0;36mpandas._libs.hashtable.PyObjectHashTable.get_item\u001b[1;34m()\u001b[0m\n",
      "\u001b[1;31mKeyError\u001b[0m: 'OCCUPATION_TYPE'",
      "\nThe above exception was the direct cause of the following exception:\n",
      "\u001b[1;31mKeyError\u001b[0m                                  Traceback (most recent call last)",
      "Cell \u001b[1;32mIn[198], line 1\u001b[0m\n\u001b[1;32m----> 1\u001b[0m df_app[\u001b[38;5;124m\"\u001b[39m\u001b[38;5;124mOCCUPATION_TYPE\u001b[39m\u001b[38;5;124m\"\u001b[39m]\u001b[38;5;241m=\u001b[39mdf_app[\u001b[38;5;124m\"\u001b[39m\u001b[38;5;124mOCCUPATION_TYPE\u001b[39m\u001b[38;5;124m\"\u001b[39m]\u001b[38;5;241m.\u001b[39mfillna(\u001b[38;5;124m\"\u001b[39m\u001b[38;5;124mUnknown\u001b[39m\u001b[38;5;124m\"\u001b[39m)\n",
      "File \u001b[1;32m~\\anaconda3\\Lib\\site-packages\\pandas\\core\\frame.py:4102\u001b[0m, in \u001b[0;36mDataFrame.__getitem__\u001b[1;34m(self, key)\u001b[0m\n\u001b[0;32m   4100\u001b[0m \u001b[38;5;28;01mif\u001b[39;00m \u001b[38;5;28mself\u001b[39m\u001b[38;5;241m.\u001b[39mcolumns\u001b[38;5;241m.\u001b[39mnlevels \u001b[38;5;241m>\u001b[39m \u001b[38;5;241m1\u001b[39m:\n\u001b[0;32m   4101\u001b[0m     \u001b[38;5;28;01mreturn\u001b[39;00m \u001b[38;5;28mself\u001b[39m\u001b[38;5;241m.\u001b[39m_getitem_multilevel(key)\n\u001b[1;32m-> 4102\u001b[0m indexer \u001b[38;5;241m=\u001b[39m \u001b[38;5;28mself\u001b[39m\u001b[38;5;241m.\u001b[39mcolumns\u001b[38;5;241m.\u001b[39mget_loc(key)\n\u001b[0;32m   4103\u001b[0m \u001b[38;5;28;01mif\u001b[39;00m is_integer(indexer):\n\u001b[0;32m   4104\u001b[0m     indexer \u001b[38;5;241m=\u001b[39m [indexer]\n",
      "File \u001b[1;32m~\\anaconda3\\Lib\\site-packages\\pandas\\core\\indexes\\base.py:3812\u001b[0m, in \u001b[0;36mIndex.get_loc\u001b[1;34m(self, key)\u001b[0m\n\u001b[0;32m   3807\u001b[0m     \u001b[38;5;28;01mif\u001b[39;00m \u001b[38;5;28misinstance\u001b[39m(casted_key, \u001b[38;5;28mslice\u001b[39m) \u001b[38;5;129;01mor\u001b[39;00m (\n\u001b[0;32m   3808\u001b[0m         \u001b[38;5;28misinstance\u001b[39m(casted_key, abc\u001b[38;5;241m.\u001b[39mIterable)\n\u001b[0;32m   3809\u001b[0m         \u001b[38;5;129;01mand\u001b[39;00m \u001b[38;5;28many\u001b[39m(\u001b[38;5;28misinstance\u001b[39m(x, \u001b[38;5;28mslice\u001b[39m) \u001b[38;5;28;01mfor\u001b[39;00m x \u001b[38;5;129;01min\u001b[39;00m casted_key)\n\u001b[0;32m   3810\u001b[0m     ):\n\u001b[0;32m   3811\u001b[0m         \u001b[38;5;28;01mraise\u001b[39;00m InvalidIndexError(key)\n\u001b[1;32m-> 3812\u001b[0m     \u001b[38;5;28;01mraise\u001b[39;00m \u001b[38;5;167;01mKeyError\u001b[39;00m(key) \u001b[38;5;28;01mfrom\u001b[39;00m \u001b[38;5;21;01merr\u001b[39;00m\n\u001b[0;32m   3813\u001b[0m \u001b[38;5;28;01mexcept\u001b[39;00m \u001b[38;5;167;01mTypeError\u001b[39;00m:\n\u001b[0;32m   3814\u001b[0m     \u001b[38;5;66;03m# If we have a listlike key, _check_indexing_error will raise\u001b[39;00m\n\u001b[0;32m   3815\u001b[0m     \u001b[38;5;66;03m#  InvalidIndexError. Otherwise we fall through and re-raise\u001b[39;00m\n\u001b[0;32m   3816\u001b[0m     \u001b[38;5;66;03m#  the TypeError.\u001b[39;00m\n\u001b[0;32m   3817\u001b[0m     \u001b[38;5;28mself\u001b[39m\u001b[38;5;241m.\u001b[39m_check_indexing_error(key)\n",
      "\u001b[1;31mKeyError\u001b[0m: 'OCCUPATION_TYPE'"
     ]
    }
   ],
   "source": [
    "df_app[\"OCCUPATION_TYPE\"]=df_app[\"OCCUPATION_TYPE\"].fillna(\"Unknown\")"
   ]
  },
  {
   "cell_type": "code",
   "execution_count": 200,
   "id": "3a17536e-1e0d-41b1-a131-4bb1d612adf9",
   "metadata": {},
   "outputs": [
    {
     "ename": "KeyError",
     "evalue": "'OCCUPATION_TYPE'",
     "output_type": "error",
     "traceback": [
      "\u001b[1;31m---------------------------------------------------------------------------\u001b[0m",
      "\u001b[1;31mKeyError\u001b[0m                                  Traceback (most recent call last)",
      "File \u001b[1;32m~\\anaconda3\\Lib\\site-packages\\pandas\\core\\indexes\\base.py:3805\u001b[0m, in \u001b[0;36mIndex.get_loc\u001b[1;34m(self, key)\u001b[0m\n\u001b[0;32m   3804\u001b[0m \u001b[38;5;28;01mtry\u001b[39;00m:\n\u001b[1;32m-> 3805\u001b[0m     \u001b[38;5;28;01mreturn\u001b[39;00m \u001b[38;5;28mself\u001b[39m\u001b[38;5;241m.\u001b[39m_engine\u001b[38;5;241m.\u001b[39mget_loc(casted_key)\n\u001b[0;32m   3806\u001b[0m \u001b[38;5;28;01mexcept\u001b[39;00m \u001b[38;5;167;01mKeyError\u001b[39;00m \u001b[38;5;28;01mas\u001b[39;00m err:\n",
      "File \u001b[1;32mindex.pyx:167\u001b[0m, in \u001b[0;36mpandas._libs.index.IndexEngine.get_loc\u001b[1;34m()\u001b[0m\n",
      "File \u001b[1;32mindex.pyx:196\u001b[0m, in \u001b[0;36mpandas._libs.index.IndexEngine.get_loc\u001b[1;34m()\u001b[0m\n",
      "File \u001b[1;32mpandas\\\\_libs\\\\hashtable_class_helper.pxi:7081\u001b[0m, in \u001b[0;36mpandas._libs.hashtable.PyObjectHashTable.get_item\u001b[1;34m()\u001b[0m\n",
      "File \u001b[1;32mpandas\\\\_libs\\\\hashtable_class_helper.pxi:7089\u001b[0m, in \u001b[0;36mpandas._libs.hashtable.PyObjectHashTable.get_item\u001b[1;34m()\u001b[0m\n",
      "\u001b[1;31mKeyError\u001b[0m: 'OCCUPATION_TYPE'",
      "\nThe above exception was the direct cause of the following exception:\n",
      "\u001b[1;31mKeyError\u001b[0m                                  Traceback (most recent call last)",
      "Cell \u001b[1;32mIn[200], line 1\u001b[0m\n\u001b[1;32m----> 1\u001b[0m df_app[\u001b[38;5;124m\"\u001b[39m\u001b[38;5;124mOCCUPATION_TYPE\u001b[39m\u001b[38;5;124m\"\u001b[39m]\u001b[38;5;241m.\u001b[39misnull()\u001b[38;5;241m.\u001b[39msum()\n",
      "File \u001b[1;32m~\\anaconda3\\Lib\\site-packages\\pandas\\core\\frame.py:4102\u001b[0m, in \u001b[0;36mDataFrame.__getitem__\u001b[1;34m(self, key)\u001b[0m\n\u001b[0;32m   4100\u001b[0m \u001b[38;5;28;01mif\u001b[39;00m \u001b[38;5;28mself\u001b[39m\u001b[38;5;241m.\u001b[39mcolumns\u001b[38;5;241m.\u001b[39mnlevels \u001b[38;5;241m>\u001b[39m \u001b[38;5;241m1\u001b[39m:\n\u001b[0;32m   4101\u001b[0m     \u001b[38;5;28;01mreturn\u001b[39;00m \u001b[38;5;28mself\u001b[39m\u001b[38;5;241m.\u001b[39m_getitem_multilevel(key)\n\u001b[1;32m-> 4102\u001b[0m indexer \u001b[38;5;241m=\u001b[39m \u001b[38;5;28mself\u001b[39m\u001b[38;5;241m.\u001b[39mcolumns\u001b[38;5;241m.\u001b[39mget_loc(key)\n\u001b[0;32m   4103\u001b[0m \u001b[38;5;28;01mif\u001b[39;00m is_integer(indexer):\n\u001b[0;32m   4104\u001b[0m     indexer \u001b[38;5;241m=\u001b[39m [indexer]\n",
      "File \u001b[1;32m~\\anaconda3\\Lib\\site-packages\\pandas\\core\\indexes\\base.py:3812\u001b[0m, in \u001b[0;36mIndex.get_loc\u001b[1;34m(self, key)\u001b[0m\n\u001b[0;32m   3807\u001b[0m     \u001b[38;5;28;01mif\u001b[39;00m \u001b[38;5;28misinstance\u001b[39m(casted_key, \u001b[38;5;28mslice\u001b[39m) \u001b[38;5;129;01mor\u001b[39;00m (\n\u001b[0;32m   3808\u001b[0m         \u001b[38;5;28misinstance\u001b[39m(casted_key, abc\u001b[38;5;241m.\u001b[39mIterable)\n\u001b[0;32m   3809\u001b[0m         \u001b[38;5;129;01mand\u001b[39;00m \u001b[38;5;28many\u001b[39m(\u001b[38;5;28misinstance\u001b[39m(x, \u001b[38;5;28mslice\u001b[39m) \u001b[38;5;28;01mfor\u001b[39;00m x \u001b[38;5;129;01min\u001b[39;00m casted_key)\n\u001b[0;32m   3810\u001b[0m     ):\n\u001b[0;32m   3811\u001b[0m         \u001b[38;5;28;01mraise\u001b[39;00m InvalidIndexError(key)\n\u001b[1;32m-> 3812\u001b[0m     \u001b[38;5;28;01mraise\u001b[39;00m \u001b[38;5;167;01mKeyError\u001b[39;00m(key) \u001b[38;5;28;01mfrom\u001b[39;00m \u001b[38;5;21;01merr\u001b[39;00m\n\u001b[0;32m   3813\u001b[0m \u001b[38;5;28;01mexcept\u001b[39;00m \u001b[38;5;167;01mTypeError\u001b[39;00m:\n\u001b[0;32m   3814\u001b[0m     \u001b[38;5;66;03m# If we have a listlike key, _check_indexing_error will raise\u001b[39;00m\n\u001b[0;32m   3815\u001b[0m     \u001b[38;5;66;03m#  InvalidIndexError. Otherwise we fall through and re-raise\u001b[39;00m\n\u001b[0;32m   3816\u001b[0m     \u001b[38;5;66;03m#  the TypeError.\u001b[39;00m\n\u001b[0;32m   3817\u001b[0m     \u001b[38;5;28mself\u001b[39m\u001b[38;5;241m.\u001b[39m_check_indexing_error(key)\n",
      "\u001b[1;31mKeyError\u001b[0m: 'OCCUPATION_TYPE'"
     ]
    }
   ],
   "source": [
    "df_app[\"OCCUPATION_TYPE\"].isnull().sum()"
   ]
  },
  {
   "cell_type": "code",
   "execution_count": 202,
   "id": "42c2a02a-b88e-4eee-ad3e-a141ee2de615",
   "metadata": {},
   "outputs": [
    {
     "ename": "KeyError",
     "evalue": "'OCCUPATION_TYPE'",
     "output_type": "error",
     "traceback": [
      "\u001b[1;31m---------------------------------------------------------------------------\u001b[0m",
      "\u001b[1;31mKeyError\u001b[0m                                  Traceback (most recent call last)",
      "File \u001b[1;32m~\\anaconda3\\Lib\\site-packages\\pandas\\core\\indexes\\base.py:3805\u001b[0m, in \u001b[0;36mIndex.get_loc\u001b[1;34m(self, key)\u001b[0m\n\u001b[0;32m   3804\u001b[0m \u001b[38;5;28;01mtry\u001b[39;00m:\n\u001b[1;32m-> 3805\u001b[0m     \u001b[38;5;28;01mreturn\u001b[39;00m \u001b[38;5;28mself\u001b[39m\u001b[38;5;241m.\u001b[39m_engine\u001b[38;5;241m.\u001b[39mget_loc(casted_key)\n\u001b[0;32m   3806\u001b[0m \u001b[38;5;28;01mexcept\u001b[39;00m \u001b[38;5;167;01mKeyError\u001b[39;00m \u001b[38;5;28;01mas\u001b[39;00m err:\n",
      "File \u001b[1;32mindex.pyx:167\u001b[0m, in \u001b[0;36mpandas._libs.index.IndexEngine.get_loc\u001b[1;34m()\u001b[0m\n",
      "File \u001b[1;32mindex.pyx:196\u001b[0m, in \u001b[0;36mpandas._libs.index.IndexEngine.get_loc\u001b[1;34m()\u001b[0m\n",
      "File \u001b[1;32mpandas\\\\_libs\\\\hashtable_class_helper.pxi:7081\u001b[0m, in \u001b[0;36mpandas._libs.hashtable.PyObjectHashTable.get_item\u001b[1;34m()\u001b[0m\n",
      "File \u001b[1;32mpandas\\\\_libs\\\\hashtable_class_helper.pxi:7089\u001b[0m, in \u001b[0;36mpandas._libs.hashtable.PyObjectHashTable.get_item\u001b[1;34m()\u001b[0m\n",
      "\u001b[1;31mKeyError\u001b[0m: 'OCCUPATION_TYPE'",
      "\nThe above exception was the direct cause of the following exception:\n",
      "\u001b[1;31mKeyError\u001b[0m                                  Traceback (most recent call last)",
      "Cell \u001b[1;32mIn[202], line 1\u001b[0m\n\u001b[1;32m----> 1\u001b[0m occupation_type\u001b[38;5;241m=\u001b[39mdf_app[\u001b[38;5;124m\"\u001b[39m\u001b[38;5;124mOCCUPATION_TYPE\u001b[39m\u001b[38;5;124m\"\u001b[39m]\u001b[38;5;241m.\u001b[39mvalue_counts()\n\u001b[0;32m      2\u001b[0m occupation_type\n",
      "File \u001b[1;32m~\\anaconda3\\Lib\\site-packages\\pandas\\core\\frame.py:4102\u001b[0m, in \u001b[0;36mDataFrame.__getitem__\u001b[1;34m(self, key)\u001b[0m\n\u001b[0;32m   4100\u001b[0m \u001b[38;5;28;01mif\u001b[39;00m \u001b[38;5;28mself\u001b[39m\u001b[38;5;241m.\u001b[39mcolumns\u001b[38;5;241m.\u001b[39mnlevels \u001b[38;5;241m>\u001b[39m \u001b[38;5;241m1\u001b[39m:\n\u001b[0;32m   4101\u001b[0m     \u001b[38;5;28;01mreturn\u001b[39;00m \u001b[38;5;28mself\u001b[39m\u001b[38;5;241m.\u001b[39m_getitem_multilevel(key)\n\u001b[1;32m-> 4102\u001b[0m indexer \u001b[38;5;241m=\u001b[39m \u001b[38;5;28mself\u001b[39m\u001b[38;5;241m.\u001b[39mcolumns\u001b[38;5;241m.\u001b[39mget_loc(key)\n\u001b[0;32m   4103\u001b[0m \u001b[38;5;28;01mif\u001b[39;00m is_integer(indexer):\n\u001b[0;32m   4104\u001b[0m     indexer \u001b[38;5;241m=\u001b[39m [indexer]\n",
      "File \u001b[1;32m~\\anaconda3\\Lib\\site-packages\\pandas\\core\\indexes\\base.py:3812\u001b[0m, in \u001b[0;36mIndex.get_loc\u001b[1;34m(self, key)\u001b[0m\n\u001b[0;32m   3807\u001b[0m     \u001b[38;5;28;01mif\u001b[39;00m \u001b[38;5;28misinstance\u001b[39m(casted_key, \u001b[38;5;28mslice\u001b[39m) \u001b[38;5;129;01mor\u001b[39;00m (\n\u001b[0;32m   3808\u001b[0m         \u001b[38;5;28misinstance\u001b[39m(casted_key, abc\u001b[38;5;241m.\u001b[39mIterable)\n\u001b[0;32m   3809\u001b[0m         \u001b[38;5;129;01mand\u001b[39;00m \u001b[38;5;28many\u001b[39m(\u001b[38;5;28misinstance\u001b[39m(x, \u001b[38;5;28mslice\u001b[39m) \u001b[38;5;28;01mfor\u001b[39;00m x \u001b[38;5;129;01min\u001b[39;00m casted_key)\n\u001b[0;32m   3810\u001b[0m     ):\n\u001b[0;32m   3811\u001b[0m         \u001b[38;5;28;01mraise\u001b[39;00m InvalidIndexError(key)\n\u001b[1;32m-> 3812\u001b[0m     \u001b[38;5;28;01mraise\u001b[39;00m \u001b[38;5;167;01mKeyError\u001b[39;00m(key) \u001b[38;5;28;01mfrom\u001b[39;00m \u001b[38;5;21;01merr\u001b[39;00m\n\u001b[0;32m   3813\u001b[0m \u001b[38;5;28;01mexcept\u001b[39;00m \u001b[38;5;167;01mTypeError\u001b[39;00m:\n\u001b[0;32m   3814\u001b[0m     \u001b[38;5;66;03m# If we have a listlike key, _check_indexing_error will raise\u001b[39;00m\n\u001b[0;32m   3815\u001b[0m     \u001b[38;5;66;03m#  InvalidIndexError. Otherwise we fall through and re-raise\u001b[39;00m\n\u001b[0;32m   3816\u001b[0m     \u001b[38;5;66;03m#  the TypeError.\u001b[39;00m\n\u001b[0;32m   3817\u001b[0m     \u001b[38;5;28mself\u001b[39m\u001b[38;5;241m.\u001b[39m_check_indexing_error(key)\n",
      "\u001b[1;31mKeyError\u001b[0m: 'OCCUPATION_TYPE'"
     ]
    }
   ],
   "source": [
    "occupation_type=df_app[\"OCCUPATION_TYPE\"].value_counts()\n",
    "occupation_type"
   ]
  },
  {
   "cell_type": "code",
   "execution_count": 204,
   "id": "df8410a1-d6e6-47b9-b5dc-7ad9d2a9e2d3",
   "metadata": {},
   "outputs": [
    {
     "ename": "NameError",
     "evalue": "name 'occupation_type' is not defined",
     "output_type": "error",
     "traceback": [
      "\u001b[1;31m---------------------------------------------------------------------------\u001b[0m",
      "\u001b[1;31mNameError\u001b[0m                                 Traceback (most recent call last)",
      "Cell \u001b[1;32mIn[204], line 2\u001b[0m\n\u001b[0;32m      1\u001b[0m plt\u001b[38;5;241m.\u001b[39mfigure(figsize\u001b[38;5;241m=\u001b[39m(\u001b[38;5;241m12\u001b[39m,\u001b[38;5;241m8\u001b[39m))\n\u001b[1;32m----> 2\u001b[0m sns\u001b[38;5;241m.\u001b[39mbarplot(x\u001b[38;5;241m=\u001b[39moccupation_type,y\u001b[38;5;241m=\u001b[39moccupation_type\u001b[38;5;241m.\u001b[39mindex)\n\u001b[0;32m      3\u001b[0m \u001b[38;5;28;01mfor\u001b[39;00m index,value \u001b[38;5;129;01min\u001b[39;00m \u001b[38;5;28menumerate\u001b[39m(occupation_type):\n\u001b[0;32m      4\u001b[0m     plt\u001b[38;5;241m.\u001b[39mtext(value,index,\u001b[38;5;124mf\u001b[39m\u001b[38;5;124m\"\u001b[39m\u001b[38;5;132;01m{\u001b[39;00mvalue\u001b[38;5;132;01m}\u001b[39;00m\u001b[38;5;124m\"\u001b[39m,ha\u001b[38;5;241m=\u001b[39m\u001b[38;5;124m\"\u001b[39m\u001b[38;5;124mleft\u001b[39m\u001b[38;5;124m\"\u001b[39m,va\u001b[38;5;241m=\u001b[39m\u001b[38;5;124m\"\u001b[39m\u001b[38;5;124mtop\u001b[39m\u001b[38;5;124m\"\u001b[39m,color\u001b[38;5;241m=\u001b[39m\u001b[38;5;124m\"\u001b[39m\u001b[38;5;124mblack\u001b[39m\u001b[38;5;124m\"\u001b[39m,fontsize\u001b[38;5;241m=\u001b[39m\u001b[38;5;241m12\u001b[39m)\n",
      "\u001b[1;31mNameError\u001b[0m: name 'occupation_type' is not defined"
     ]
    },
    {
     "data": {
      "text/plain": [
       "<Figure size 1200x800 with 0 Axes>"
      ]
     },
     "metadata": {},
     "output_type": "display_data"
    }
   ],
   "source": [
    "plt.figure(figsize=(12,8))\n",
    "sns.barplot(x=occupation_type,y=occupation_type.index)\n",
    "for index,value in enumerate(occupation_type):\n",
    "    plt.text(value,index,f\"{value}\",ha=\"left\",va=\"top\",color=\"black\",fontsize=12)\n",
    "plt.show()"
   ]
  },
  {
   "cell_type": "code",
   "execution_count": 206,
   "id": "2a445bb7-d3f1-4360-9dbf-675d3672ecf1",
   "metadata": {},
   "outputs": [
    {
     "ename": "KeyError",
     "evalue": "'NAME_TYPE_SUITE'",
     "output_type": "error",
     "traceback": [
      "\u001b[1;31m---------------------------------------------------------------------------\u001b[0m",
      "\u001b[1;31mKeyError\u001b[0m                                  Traceback (most recent call last)",
      "File \u001b[1;32m~\\anaconda3\\Lib\\site-packages\\pandas\\core\\indexes\\base.py:3805\u001b[0m, in \u001b[0;36mIndex.get_loc\u001b[1;34m(self, key)\u001b[0m\n\u001b[0;32m   3804\u001b[0m \u001b[38;5;28;01mtry\u001b[39;00m:\n\u001b[1;32m-> 3805\u001b[0m     \u001b[38;5;28;01mreturn\u001b[39;00m \u001b[38;5;28mself\u001b[39m\u001b[38;5;241m.\u001b[39m_engine\u001b[38;5;241m.\u001b[39mget_loc(casted_key)\n\u001b[0;32m   3806\u001b[0m \u001b[38;5;28;01mexcept\u001b[39;00m \u001b[38;5;167;01mKeyError\u001b[39;00m \u001b[38;5;28;01mas\u001b[39;00m err:\n",
      "File \u001b[1;32mindex.pyx:167\u001b[0m, in \u001b[0;36mpandas._libs.index.IndexEngine.get_loc\u001b[1;34m()\u001b[0m\n",
      "File \u001b[1;32mindex.pyx:196\u001b[0m, in \u001b[0;36mpandas._libs.index.IndexEngine.get_loc\u001b[1;34m()\u001b[0m\n",
      "File \u001b[1;32mpandas\\\\_libs\\\\hashtable_class_helper.pxi:7081\u001b[0m, in \u001b[0;36mpandas._libs.hashtable.PyObjectHashTable.get_item\u001b[1;34m()\u001b[0m\n",
      "File \u001b[1;32mpandas\\\\_libs\\\\hashtable_class_helper.pxi:7089\u001b[0m, in \u001b[0;36mpandas._libs.hashtable.PyObjectHashTable.get_item\u001b[1;34m()\u001b[0m\n",
      "\u001b[1;31mKeyError\u001b[0m: 'NAME_TYPE_SUITE'",
      "\nThe above exception was the direct cause of the following exception:\n",
      "\u001b[1;31mKeyError\u001b[0m                                  Traceback (most recent call last)",
      "Cell \u001b[1;32mIn[206], line 1\u001b[0m\n\u001b[1;32m----> 1\u001b[0m df_app[\u001b[38;5;124m\"\u001b[39m\u001b[38;5;124mNAME_TYPE_SUITE\u001b[39m\u001b[38;5;124m\"\u001b[39m]\u001b[38;5;241m=\u001b[39mdf_app[\u001b[38;5;124m\"\u001b[39m\u001b[38;5;124mNAME_TYPE_SUITE\u001b[39m\u001b[38;5;124m\"\u001b[39m]\u001b[38;5;241m.\u001b[39mfillna(\u001b[38;5;124m\"\u001b[39m\u001b[38;5;124mUnacompanied\u001b[39m\u001b[38;5;124m\"\u001b[39m)\n",
      "File \u001b[1;32m~\\anaconda3\\Lib\\site-packages\\pandas\\core\\frame.py:4102\u001b[0m, in \u001b[0;36mDataFrame.__getitem__\u001b[1;34m(self, key)\u001b[0m\n\u001b[0;32m   4100\u001b[0m \u001b[38;5;28;01mif\u001b[39;00m \u001b[38;5;28mself\u001b[39m\u001b[38;5;241m.\u001b[39mcolumns\u001b[38;5;241m.\u001b[39mnlevels \u001b[38;5;241m>\u001b[39m \u001b[38;5;241m1\u001b[39m:\n\u001b[0;32m   4101\u001b[0m     \u001b[38;5;28;01mreturn\u001b[39;00m \u001b[38;5;28mself\u001b[39m\u001b[38;5;241m.\u001b[39m_getitem_multilevel(key)\n\u001b[1;32m-> 4102\u001b[0m indexer \u001b[38;5;241m=\u001b[39m \u001b[38;5;28mself\u001b[39m\u001b[38;5;241m.\u001b[39mcolumns\u001b[38;5;241m.\u001b[39mget_loc(key)\n\u001b[0;32m   4103\u001b[0m \u001b[38;5;28;01mif\u001b[39;00m is_integer(indexer):\n\u001b[0;32m   4104\u001b[0m     indexer \u001b[38;5;241m=\u001b[39m [indexer]\n",
      "File \u001b[1;32m~\\anaconda3\\Lib\\site-packages\\pandas\\core\\indexes\\base.py:3812\u001b[0m, in \u001b[0;36mIndex.get_loc\u001b[1;34m(self, key)\u001b[0m\n\u001b[0;32m   3807\u001b[0m     \u001b[38;5;28;01mif\u001b[39;00m \u001b[38;5;28misinstance\u001b[39m(casted_key, \u001b[38;5;28mslice\u001b[39m) \u001b[38;5;129;01mor\u001b[39;00m (\n\u001b[0;32m   3808\u001b[0m         \u001b[38;5;28misinstance\u001b[39m(casted_key, abc\u001b[38;5;241m.\u001b[39mIterable)\n\u001b[0;32m   3809\u001b[0m         \u001b[38;5;129;01mand\u001b[39;00m \u001b[38;5;28many\u001b[39m(\u001b[38;5;28misinstance\u001b[39m(x, \u001b[38;5;28mslice\u001b[39m) \u001b[38;5;28;01mfor\u001b[39;00m x \u001b[38;5;129;01min\u001b[39;00m casted_key)\n\u001b[0;32m   3810\u001b[0m     ):\n\u001b[0;32m   3811\u001b[0m         \u001b[38;5;28;01mraise\u001b[39;00m InvalidIndexError(key)\n\u001b[1;32m-> 3812\u001b[0m     \u001b[38;5;28;01mraise\u001b[39;00m \u001b[38;5;167;01mKeyError\u001b[39;00m(key) \u001b[38;5;28;01mfrom\u001b[39;00m \u001b[38;5;21;01merr\u001b[39;00m\n\u001b[0;32m   3813\u001b[0m \u001b[38;5;28;01mexcept\u001b[39;00m \u001b[38;5;167;01mTypeError\u001b[39;00m:\n\u001b[0;32m   3814\u001b[0m     \u001b[38;5;66;03m# If we have a listlike key, _check_indexing_error will raise\u001b[39;00m\n\u001b[0;32m   3815\u001b[0m     \u001b[38;5;66;03m#  InvalidIndexError. Otherwise we fall through and re-raise\u001b[39;00m\n\u001b[0;32m   3816\u001b[0m     \u001b[38;5;66;03m#  the TypeError.\u001b[39;00m\n\u001b[0;32m   3817\u001b[0m     \u001b[38;5;28mself\u001b[39m\u001b[38;5;241m.\u001b[39m_check_indexing_error(key)\n",
      "\u001b[1;31mKeyError\u001b[0m: 'NAME_TYPE_SUITE'"
     ]
    }
   ],
   "source": [
    "df_app[\"NAME_TYPE_SUITE\"]=df_app[\"NAME_TYPE_SUITE\"].fillna(\"Unacompanied\")\n"
   ]
  },
  {
   "cell_type": "code",
   "execution_count": 208,
   "id": "2e00bb94-6dab-4ef4-8409-5a3767ca65ea",
   "metadata": {},
   "outputs": [
    {
     "ename": "KeyError",
     "evalue": "'NAME_TYPE_SUITE'",
     "output_type": "error",
     "traceback": [
      "\u001b[1;31m---------------------------------------------------------------------------\u001b[0m",
      "\u001b[1;31mKeyError\u001b[0m                                  Traceback (most recent call last)",
      "File \u001b[1;32m~\\anaconda3\\Lib\\site-packages\\pandas\\core\\indexes\\base.py:3805\u001b[0m, in \u001b[0;36mIndex.get_loc\u001b[1;34m(self, key)\u001b[0m\n\u001b[0;32m   3804\u001b[0m \u001b[38;5;28;01mtry\u001b[39;00m:\n\u001b[1;32m-> 3805\u001b[0m     \u001b[38;5;28;01mreturn\u001b[39;00m \u001b[38;5;28mself\u001b[39m\u001b[38;5;241m.\u001b[39m_engine\u001b[38;5;241m.\u001b[39mget_loc(casted_key)\n\u001b[0;32m   3806\u001b[0m \u001b[38;5;28;01mexcept\u001b[39;00m \u001b[38;5;167;01mKeyError\u001b[39;00m \u001b[38;5;28;01mas\u001b[39;00m err:\n",
      "File \u001b[1;32mindex.pyx:167\u001b[0m, in \u001b[0;36mpandas._libs.index.IndexEngine.get_loc\u001b[1;34m()\u001b[0m\n",
      "File \u001b[1;32mindex.pyx:196\u001b[0m, in \u001b[0;36mpandas._libs.index.IndexEngine.get_loc\u001b[1;34m()\u001b[0m\n",
      "File \u001b[1;32mpandas\\\\_libs\\\\hashtable_class_helper.pxi:7081\u001b[0m, in \u001b[0;36mpandas._libs.hashtable.PyObjectHashTable.get_item\u001b[1;34m()\u001b[0m\n",
      "File \u001b[1;32mpandas\\\\_libs\\\\hashtable_class_helper.pxi:7089\u001b[0m, in \u001b[0;36mpandas._libs.hashtable.PyObjectHashTable.get_item\u001b[1;34m()\u001b[0m\n",
      "\u001b[1;31mKeyError\u001b[0m: 'NAME_TYPE_SUITE'",
      "\nThe above exception was the direct cause of the following exception:\n",
      "\u001b[1;31mKeyError\u001b[0m                                  Traceback (most recent call last)",
      "Cell \u001b[1;32mIn[208], line 1\u001b[0m\n\u001b[1;32m----> 1\u001b[0m df_app[\u001b[38;5;124m\"\u001b[39m\u001b[38;5;124mNAME_TYPE_SUITE\u001b[39m\u001b[38;5;124m\"\u001b[39m]\u001b[38;5;241m.\u001b[39misnull()\u001b[38;5;241m.\u001b[39msum()\n",
      "File \u001b[1;32m~\\anaconda3\\Lib\\site-packages\\pandas\\core\\frame.py:4102\u001b[0m, in \u001b[0;36mDataFrame.__getitem__\u001b[1;34m(self, key)\u001b[0m\n\u001b[0;32m   4100\u001b[0m \u001b[38;5;28;01mif\u001b[39;00m \u001b[38;5;28mself\u001b[39m\u001b[38;5;241m.\u001b[39mcolumns\u001b[38;5;241m.\u001b[39mnlevels \u001b[38;5;241m>\u001b[39m \u001b[38;5;241m1\u001b[39m:\n\u001b[0;32m   4101\u001b[0m     \u001b[38;5;28;01mreturn\u001b[39;00m \u001b[38;5;28mself\u001b[39m\u001b[38;5;241m.\u001b[39m_getitem_multilevel(key)\n\u001b[1;32m-> 4102\u001b[0m indexer \u001b[38;5;241m=\u001b[39m \u001b[38;5;28mself\u001b[39m\u001b[38;5;241m.\u001b[39mcolumns\u001b[38;5;241m.\u001b[39mget_loc(key)\n\u001b[0;32m   4103\u001b[0m \u001b[38;5;28;01mif\u001b[39;00m is_integer(indexer):\n\u001b[0;32m   4104\u001b[0m     indexer \u001b[38;5;241m=\u001b[39m [indexer]\n",
      "File \u001b[1;32m~\\anaconda3\\Lib\\site-packages\\pandas\\core\\indexes\\base.py:3812\u001b[0m, in \u001b[0;36mIndex.get_loc\u001b[1;34m(self, key)\u001b[0m\n\u001b[0;32m   3807\u001b[0m     \u001b[38;5;28;01mif\u001b[39;00m \u001b[38;5;28misinstance\u001b[39m(casted_key, \u001b[38;5;28mslice\u001b[39m) \u001b[38;5;129;01mor\u001b[39;00m (\n\u001b[0;32m   3808\u001b[0m         \u001b[38;5;28misinstance\u001b[39m(casted_key, abc\u001b[38;5;241m.\u001b[39mIterable)\n\u001b[0;32m   3809\u001b[0m         \u001b[38;5;129;01mand\u001b[39;00m \u001b[38;5;28many\u001b[39m(\u001b[38;5;28misinstance\u001b[39m(x, \u001b[38;5;28mslice\u001b[39m) \u001b[38;5;28;01mfor\u001b[39;00m x \u001b[38;5;129;01min\u001b[39;00m casted_key)\n\u001b[0;32m   3810\u001b[0m     ):\n\u001b[0;32m   3811\u001b[0m         \u001b[38;5;28;01mraise\u001b[39;00m InvalidIndexError(key)\n\u001b[1;32m-> 3812\u001b[0m     \u001b[38;5;28;01mraise\u001b[39;00m \u001b[38;5;167;01mKeyError\u001b[39;00m(key) \u001b[38;5;28;01mfrom\u001b[39;00m \u001b[38;5;21;01merr\u001b[39;00m\n\u001b[0;32m   3813\u001b[0m \u001b[38;5;28;01mexcept\u001b[39;00m \u001b[38;5;167;01mTypeError\u001b[39;00m:\n\u001b[0;32m   3814\u001b[0m     \u001b[38;5;66;03m# If we have a listlike key, _check_indexing_error will raise\u001b[39;00m\n\u001b[0;32m   3815\u001b[0m     \u001b[38;5;66;03m#  InvalidIndexError. Otherwise we fall through and re-raise\u001b[39;00m\n\u001b[0;32m   3816\u001b[0m     \u001b[38;5;66;03m#  the TypeError.\u001b[39;00m\n\u001b[0;32m   3817\u001b[0m     \u001b[38;5;28mself\u001b[39m\u001b[38;5;241m.\u001b[39m_check_indexing_error(key)\n",
      "\u001b[1;31mKeyError\u001b[0m: 'NAME_TYPE_SUITE'"
     ]
    }
   ],
   "source": [
    "df_app[\"NAME_TYPE_SUITE\"].isnull().sum()"
   ]
  },
  {
   "cell_type": "code",
   "execution_count": 210,
   "id": "657f907f-0085-4797-a7cc-dc4ce98a1207",
   "metadata": {},
   "outputs": [
    {
     "ename": "KeyError",
     "evalue": "'NAME_TYPE_SUITE'",
     "output_type": "error",
     "traceback": [
      "\u001b[1;31m---------------------------------------------------------------------------\u001b[0m",
      "\u001b[1;31mKeyError\u001b[0m                                  Traceback (most recent call last)",
      "File \u001b[1;32m~\\anaconda3\\Lib\\site-packages\\pandas\\core\\indexes\\base.py:3805\u001b[0m, in \u001b[0;36mIndex.get_loc\u001b[1;34m(self, key)\u001b[0m\n\u001b[0;32m   3804\u001b[0m \u001b[38;5;28;01mtry\u001b[39;00m:\n\u001b[1;32m-> 3805\u001b[0m     \u001b[38;5;28;01mreturn\u001b[39;00m \u001b[38;5;28mself\u001b[39m\u001b[38;5;241m.\u001b[39m_engine\u001b[38;5;241m.\u001b[39mget_loc(casted_key)\n\u001b[0;32m   3806\u001b[0m \u001b[38;5;28;01mexcept\u001b[39;00m \u001b[38;5;167;01mKeyError\u001b[39;00m \u001b[38;5;28;01mas\u001b[39;00m err:\n",
      "File \u001b[1;32mindex.pyx:167\u001b[0m, in \u001b[0;36mpandas._libs.index.IndexEngine.get_loc\u001b[1;34m()\u001b[0m\n",
      "File \u001b[1;32mindex.pyx:196\u001b[0m, in \u001b[0;36mpandas._libs.index.IndexEngine.get_loc\u001b[1;34m()\u001b[0m\n",
      "File \u001b[1;32mpandas\\\\_libs\\\\hashtable_class_helper.pxi:7081\u001b[0m, in \u001b[0;36mpandas._libs.hashtable.PyObjectHashTable.get_item\u001b[1;34m()\u001b[0m\n",
      "File \u001b[1;32mpandas\\\\_libs\\\\hashtable_class_helper.pxi:7089\u001b[0m, in \u001b[0;36mpandas._libs.hashtable.PyObjectHashTable.get_item\u001b[1;34m()\u001b[0m\n",
      "\u001b[1;31mKeyError\u001b[0m: 'NAME_TYPE_SUITE'",
      "\nThe above exception was the direct cause of the following exception:\n",
      "\u001b[1;31mKeyError\u001b[0m                                  Traceback (most recent call last)",
      "Cell \u001b[1;32mIn[210], line 1\u001b[0m\n\u001b[1;32m----> 1\u001b[0m X\u001b[38;5;241m=\u001b[39mdf_app[\u001b[38;5;124m\"\u001b[39m\u001b[38;5;124mNAME_TYPE_SUITE\u001b[39m\u001b[38;5;124m\"\u001b[39m]\u001b[38;5;241m.\u001b[39mvalue_counts()\n\u001b[0;32m      2\u001b[0m X\n",
      "File \u001b[1;32m~\\anaconda3\\Lib\\site-packages\\pandas\\core\\frame.py:4102\u001b[0m, in \u001b[0;36mDataFrame.__getitem__\u001b[1;34m(self, key)\u001b[0m\n\u001b[0;32m   4100\u001b[0m \u001b[38;5;28;01mif\u001b[39;00m \u001b[38;5;28mself\u001b[39m\u001b[38;5;241m.\u001b[39mcolumns\u001b[38;5;241m.\u001b[39mnlevels \u001b[38;5;241m>\u001b[39m \u001b[38;5;241m1\u001b[39m:\n\u001b[0;32m   4101\u001b[0m     \u001b[38;5;28;01mreturn\u001b[39;00m \u001b[38;5;28mself\u001b[39m\u001b[38;5;241m.\u001b[39m_getitem_multilevel(key)\n\u001b[1;32m-> 4102\u001b[0m indexer \u001b[38;5;241m=\u001b[39m \u001b[38;5;28mself\u001b[39m\u001b[38;5;241m.\u001b[39mcolumns\u001b[38;5;241m.\u001b[39mget_loc(key)\n\u001b[0;32m   4103\u001b[0m \u001b[38;5;28;01mif\u001b[39;00m is_integer(indexer):\n\u001b[0;32m   4104\u001b[0m     indexer \u001b[38;5;241m=\u001b[39m [indexer]\n",
      "File \u001b[1;32m~\\anaconda3\\Lib\\site-packages\\pandas\\core\\indexes\\base.py:3812\u001b[0m, in \u001b[0;36mIndex.get_loc\u001b[1;34m(self, key)\u001b[0m\n\u001b[0;32m   3807\u001b[0m     \u001b[38;5;28;01mif\u001b[39;00m \u001b[38;5;28misinstance\u001b[39m(casted_key, \u001b[38;5;28mslice\u001b[39m) \u001b[38;5;129;01mor\u001b[39;00m (\n\u001b[0;32m   3808\u001b[0m         \u001b[38;5;28misinstance\u001b[39m(casted_key, abc\u001b[38;5;241m.\u001b[39mIterable)\n\u001b[0;32m   3809\u001b[0m         \u001b[38;5;129;01mand\u001b[39;00m \u001b[38;5;28many\u001b[39m(\u001b[38;5;28misinstance\u001b[39m(x, \u001b[38;5;28mslice\u001b[39m) \u001b[38;5;28;01mfor\u001b[39;00m x \u001b[38;5;129;01min\u001b[39;00m casted_key)\n\u001b[0;32m   3810\u001b[0m     ):\n\u001b[0;32m   3811\u001b[0m         \u001b[38;5;28;01mraise\u001b[39;00m InvalidIndexError(key)\n\u001b[1;32m-> 3812\u001b[0m     \u001b[38;5;28;01mraise\u001b[39;00m \u001b[38;5;167;01mKeyError\u001b[39;00m(key) \u001b[38;5;28;01mfrom\u001b[39;00m \u001b[38;5;21;01merr\u001b[39;00m\n\u001b[0;32m   3813\u001b[0m \u001b[38;5;28;01mexcept\u001b[39;00m \u001b[38;5;167;01mTypeError\u001b[39;00m:\n\u001b[0;32m   3814\u001b[0m     \u001b[38;5;66;03m# If we have a listlike key, _check_indexing_error will raise\u001b[39;00m\n\u001b[0;32m   3815\u001b[0m     \u001b[38;5;66;03m#  InvalidIndexError. Otherwise we fall through and re-raise\u001b[39;00m\n\u001b[0;32m   3816\u001b[0m     \u001b[38;5;66;03m#  the TypeError.\u001b[39;00m\n\u001b[0;32m   3817\u001b[0m     \u001b[38;5;28mself\u001b[39m\u001b[38;5;241m.\u001b[39m_check_indexing_error(key)\n",
      "\u001b[1;31mKeyError\u001b[0m: 'NAME_TYPE_SUITE'"
     ]
    }
   ],
   "source": [
    "X=df_app[\"NAME_TYPE_SUITE\"].value_counts()\n",
    "X"
   ]
  },
  {
   "cell_type": "code",
   "execution_count": 212,
   "id": "22fd86c3-6837-4dc5-bd60-c62bf1fe87da",
   "metadata": {},
   "outputs": [
    {
     "ename": "NameError",
     "evalue": "name 'X' is not defined",
     "output_type": "error",
     "traceback": [
      "\u001b[1;31m---------------------------------------------------------------------------\u001b[0m",
      "\u001b[1;31mNameError\u001b[0m                                 Traceback (most recent call last)",
      "Cell \u001b[1;32mIn[212], line 2\u001b[0m\n\u001b[0;32m      1\u001b[0m plt\u001b[38;5;241m.\u001b[39mfigure(figsize\u001b[38;5;241m=\u001b[39m(\u001b[38;5;241m12\u001b[39m,\u001b[38;5;241m8\u001b[39m))\n\u001b[1;32m----> 2\u001b[0m sns\u001b[38;5;241m.\u001b[39mbarplot(x\u001b[38;5;241m=\u001b[39mX,y\u001b[38;5;241m=\u001b[39mX\u001b[38;5;241m.\u001b[39mindex)\n\u001b[0;32m      3\u001b[0m \u001b[38;5;28;01mfor\u001b[39;00m index,value \u001b[38;5;129;01min\u001b[39;00m \u001b[38;5;28menumerate\u001b[39m(X):\n\u001b[0;32m      4\u001b[0m     plt\u001b[38;5;241m.\u001b[39mtext(value,index,\u001b[38;5;124mf\u001b[39m\u001b[38;5;124m\"\u001b[39m\u001b[38;5;132;01m{\u001b[39;00mvalue\u001b[38;5;132;01m}\u001b[39;00m\u001b[38;5;124m\"\u001b[39m,ha\u001b[38;5;241m=\u001b[39m\u001b[38;5;124m\"\u001b[39m\u001b[38;5;124mleft\u001b[39m\u001b[38;5;124m\"\u001b[39m,va\u001b[38;5;241m=\u001b[39m\u001b[38;5;124m\"\u001b[39m\u001b[38;5;124mcenter\u001b[39m\u001b[38;5;124m\"\u001b[39m,color\u001b[38;5;241m=\u001b[39m\u001b[38;5;124m\"\u001b[39m\u001b[38;5;124mblack\u001b[39m\u001b[38;5;124m\"\u001b[39m,fontsize\u001b[38;5;241m=\u001b[39m\u001b[38;5;241m8\u001b[39m)\n",
      "\u001b[1;31mNameError\u001b[0m: name 'X' is not defined"
     ]
    },
    {
     "data": {
      "text/plain": [
       "<Figure size 1200x800 with 0 Axes>"
      ]
     },
     "metadata": {},
     "output_type": "display_data"
    }
   ],
   "source": [
    "plt.figure(figsize=(12,8))\n",
    "sns.barplot(x=X,y=X.index)\n",
    "for index,value in enumerate(X):\n",
    "    plt.text(value,index,f\"{value}\",ha=\"left\",va=\"center\",color=\"black\",fontsize=8)\n",
    "plt.show()"
   ]
  },
  {
   "cell_type": "code",
   "execution_count": 214,
   "id": "726e98a4-916b-4751-b5bd-c66692f10b54",
   "metadata": {},
   "outputs": [
    {
     "ename": "KeyError",
     "evalue": "'CNT_FAM_MEMBERS'",
     "output_type": "error",
     "traceback": [
      "\u001b[1;31m---------------------------------------------------------------------------\u001b[0m",
      "\u001b[1;31mKeyError\u001b[0m                                  Traceback (most recent call last)",
      "File \u001b[1;32m~\\anaconda3\\Lib\\site-packages\\pandas\\core\\indexes\\base.py:3805\u001b[0m, in \u001b[0;36mIndex.get_loc\u001b[1;34m(self, key)\u001b[0m\n\u001b[0;32m   3804\u001b[0m \u001b[38;5;28;01mtry\u001b[39;00m:\n\u001b[1;32m-> 3805\u001b[0m     \u001b[38;5;28;01mreturn\u001b[39;00m \u001b[38;5;28mself\u001b[39m\u001b[38;5;241m.\u001b[39m_engine\u001b[38;5;241m.\u001b[39mget_loc(casted_key)\n\u001b[0;32m   3806\u001b[0m \u001b[38;5;28;01mexcept\u001b[39;00m \u001b[38;5;167;01mKeyError\u001b[39;00m \u001b[38;5;28;01mas\u001b[39;00m err:\n",
      "File \u001b[1;32mindex.pyx:167\u001b[0m, in \u001b[0;36mpandas._libs.index.IndexEngine.get_loc\u001b[1;34m()\u001b[0m\n",
      "File \u001b[1;32mindex.pyx:196\u001b[0m, in \u001b[0;36mpandas._libs.index.IndexEngine.get_loc\u001b[1;34m()\u001b[0m\n",
      "File \u001b[1;32mpandas\\\\_libs\\\\hashtable_class_helper.pxi:7081\u001b[0m, in \u001b[0;36mpandas._libs.hashtable.PyObjectHashTable.get_item\u001b[1;34m()\u001b[0m\n",
      "File \u001b[1;32mpandas\\\\_libs\\\\hashtable_class_helper.pxi:7089\u001b[0m, in \u001b[0;36mpandas._libs.hashtable.PyObjectHashTable.get_item\u001b[1;34m()\u001b[0m\n",
      "\u001b[1;31mKeyError\u001b[0m: 'CNT_FAM_MEMBERS'",
      "\nThe above exception was the direct cause of the following exception:\n",
      "\u001b[1;31mKeyError\u001b[0m                                  Traceback (most recent call last)",
      "Cell \u001b[1;32mIn[214], line 1\u001b[0m\n\u001b[1;32m----> 1\u001b[0m df_app[\u001b[38;5;124m\"\u001b[39m\u001b[38;5;124mCNT_FAM_MEMBERS\u001b[39m\u001b[38;5;124m\"\u001b[39m]\n",
      "File \u001b[1;32m~\\anaconda3\\Lib\\site-packages\\pandas\\core\\frame.py:4102\u001b[0m, in \u001b[0;36mDataFrame.__getitem__\u001b[1;34m(self, key)\u001b[0m\n\u001b[0;32m   4100\u001b[0m \u001b[38;5;28;01mif\u001b[39;00m \u001b[38;5;28mself\u001b[39m\u001b[38;5;241m.\u001b[39mcolumns\u001b[38;5;241m.\u001b[39mnlevels \u001b[38;5;241m>\u001b[39m \u001b[38;5;241m1\u001b[39m:\n\u001b[0;32m   4101\u001b[0m     \u001b[38;5;28;01mreturn\u001b[39;00m \u001b[38;5;28mself\u001b[39m\u001b[38;5;241m.\u001b[39m_getitem_multilevel(key)\n\u001b[1;32m-> 4102\u001b[0m indexer \u001b[38;5;241m=\u001b[39m \u001b[38;5;28mself\u001b[39m\u001b[38;5;241m.\u001b[39mcolumns\u001b[38;5;241m.\u001b[39mget_loc(key)\n\u001b[0;32m   4103\u001b[0m \u001b[38;5;28;01mif\u001b[39;00m is_integer(indexer):\n\u001b[0;32m   4104\u001b[0m     indexer \u001b[38;5;241m=\u001b[39m [indexer]\n",
      "File \u001b[1;32m~\\anaconda3\\Lib\\site-packages\\pandas\\core\\indexes\\base.py:3812\u001b[0m, in \u001b[0;36mIndex.get_loc\u001b[1;34m(self, key)\u001b[0m\n\u001b[0;32m   3807\u001b[0m     \u001b[38;5;28;01mif\u001b[39;00m \u001b[38;5;28misinstance\u001b[39m(casted_key, \u001b[38;5;28mslice\u001b[39m) \u001b[38;5;129;01mor\u001b[39;00m (\n\u001b[0;32m   3808\u001b[0m         \u001b[38;5;28misinstance\u001b[39m(casted_key, abc\u001b[38;5;241m.\u001b[39mIterable)\n\u001b[0;32m   3809\u001b[0m         \u001b[38;5;129;01mand\u001b[39;00m \u001b[38;5;28many\u001b[39m(\u001b[38;5;28misinstance\u001b[39m(x, \u001b[38;5;28mslice\u001b[39m) \u001b[38;5;28;01mfor\u001b[39;00m x \u001b[38;5;129;01min\u001b[39;00m casted_key)\n\u001b[0;32m   3810\u001b[0m     ):\n\u001b[0;32m   3811\u001b[0m         \u001b[38;5;28;01mraise\u001b[39;00m InvalidIndexError(key)\n\u001b[1;32m-> 3812\u001b[0m     \u001b[38;5;28;01mraise\u001b[39;00m \u001b[38;5;167;01mKeyError\u001b[39;00m(key) \u001b[38;5;28;01mfrom\u001b[39;00m \u001b[38;5;21;01merr\u001b[39;00m\n\u001b[0;32m   3813\u001b[0m \u001b[38;5;28;01mexcept\u001b[39;00m \u001b[38;5;167;01mTypeError\u001b[39;00m:\n\u001b[0;32m   3814\u001b[0m     \u001b[38;5;66;03m# If we have a listlike key, _check_indexing_error will raise\u001b[39;00m\n\u001b[0;32m   3815\u001b[0m     \u001b[38;5;66;03m#  InvalidIndexError. Otherwise we fall through and re-raise\u001b[39;00m\n\u001b[0;32m   3816\u001b[0m     \u001b[38;5;66;03m#  the TypeError.\u001b[39;00m\n\u001b[0;32m   3817\u001b[0m     \u001b[38;5;28mself\u001b[39m\u001b[38;5;241m.\u001b[39m_check_indexing_error(key)\n",
      "\u001b[1;31mKeyError\u001b[0m: 'CNT_FAM_MEMBERS'"
     ]
    }
   ],
   "source": [
    "df_app[\"CNT_FAM_MEMBERS\"]\n"
   ]
  },
  {
   "cell_type": "code",
   "execution_count": 216,
   "id": "90f01781-a195-4e38-ac4f-58ca8f521770",
   "metadata": {},
   "outputs": [
    {
     "ename": "KeyError",
     "evalue": "'CNT_FAM_MEMBERS'",
     "output_type": "error",
     "traceback": [
      "\u001b[1;31m---------------------------------------------------------------------------\u001b[0m",
      "\u001b[1;31mKeyError\u001b[0m                                  Traceback (most recent call last)",
      "File \u001b[1;32m~\\anaconda3\\Lib\\site-packages\\pandas\\core\\indexes\\base.py:3805\u001b[0m, in \u001b[0;36mIndex.get_loc\u001b[1;34m(self, key)\u001b[0m\n\u001b[0;32m   3804\u001b[0m \u001b[38;5;28;01mtry\u001b[39;00m:\n\u001b[1;32m-> 3805\u001b[0m     \u001b[38;5;28;01mreturn\u001b[39;00m \u001b[38;5;28mself\u001b[39m\u001b[38;5;241m.\u001b[39m_engine\u001b[38;5;241m.\u001b[39mget_loc(casted_key)\n\u001b[0;32m   3806\u001b[0m \u001b[38;5;28;01mexcept\u001b[39;00m \u001b[38;5;167;01mKeyError\u001b[39;00m \u001b[38;5;28;01mas\u001b[39;00m err:\n",
      "File \u001b[1;32mindex.pyx:167\u001b[0m, in \u001b[0;36mpandas._libs.index.IndexEngine.get_loc\u001b[1;34m()\u001b[0m\n",
      "File \u001b[1;32mindex.pyx:196\u001b[0m, in \u001b[0;36mpandas._libs.index.IndexEngine.get_loc\u001b[1;34m()\u001b[0m\n",
      "File \u001b[1;32mpandas\\\\_libs\\\\hashtable_class_helper.pxi:7081\u001b[0m, in \u001b[0;36mpandas._libs.hashtable.PyObjectHashTable.get_item\u001b[1;34m()\u001b[0m\n",
      "File \u001b[1;32mpandas\\\\_libs\\\\hashtable_class_helper.pxi:7089\u001b[0m, in \u001b[0;36mpandas._libs.hashtable.PyObjectHashTable.get_item\u001b[1;34m()\u001b[0m\n",
      "\u001b[1;31mKeyError\u001b[0m: 'CNT_FAM_MEMBERS'",
      "\nThe above exception was the direct cause of the following exception:\n",
      "\u001b[1;31mKeyError\u001b[0m                                  Traceback (most recent call last)",
      "Cell \u001b[1;32mIn[216], line 1\u001b[0m\n\u001b[1;32m----> 1\u001b[0m df_app[\u001b[38;5;124m\"\u001b[39m\u001b[38;5;124mCNT_FAM_MEMBERS\u001b[39m\u001b[38;5;124m\"\u001b[39m]\u001b[38;5;241m.\u001b[39misnull()\u001b[38;5;241m.\u001b[39msum()\n",
      "File \u001b[1;32m~\\anaconda3\\Lib\\site-packages\\pandas\\core\\frame.py:4102\u001b[0m, in \u001b[0;36mDataFrame.__getitem__\u001b[1;34m(self, key)\u001b[0m\n\u001b[0;32m   4100\u001b[0m \u001b[38;5;28;01mif\u001b[39;00m \u001b[38;5;28mself\u001b[39m\u001b[38;5;241m.\u001b[39mcolumns\u001b[38;5;241m.\u001b[39mnlevels \u001b[38;5;241m>\u001b[39m \u001b[38;5;241m1\u001b[39m:\n\u001b[0;32m   4101\u001b[0m     \u001b[38;5;28;01mreturn\u001b[39;00m \u001b[38;5;28mself\u001b[39m\u001b[38;5;241m.\u001b[39m_getitem_multilevel(key)\n\u001b[1;32m-> 4102\u001b[0m indexer \u001b[38;5;241m=\u001b[39m \u001b[38;5;28mself\u001b[39m\u001b[38;5;241m.\u001b[39mcolumns\u001b[38;5;241m.\u001b[39mget_loc(key)\n\u001b[0;32m   4103\u001b[0m \u001b[38;5;28;01mif\u001b[39;00m is_integer(indexer):\n\u001b[0;32m   4104\u001b[0m     indexer \u001b[38;5;241m=\u001b[39m [indexer]\n",
      "File \u001b[1;32m~\\anaconda3\\Lib\\site-packages\\pandas\\core\\indexes\\base.py:3812\u001b[0m, in \u001b[0;36mIndex.get_loc\u001b[1;34m(self, key)\u001b[0m\n\u001b[0;32m   3807\u001b[0m     \u001b[38;5;28;01mif\u001b[39;00m \u001b[38;5;28misinstance\u001b[39m(casted_key, \u001b[38;5;28mslice\u001b[39m) \u001b[38;5;129;01mor\u001b[39;00m (\n\u001b[0;32m   3808\u001b[0m         \u001b[38;5;28misinstance\u001b[39m(casted_key, abc\u001b[38;5;241m.\u001b[39mIterable)\n\u001b[0;32m   3809\u001b[0m         \u001b[38;5;129;01mand\u001b[39;00m \u001b[38;5;28many\u001b[39m(\u001b[38;5;28misinstance\u001b[39m(x, \u001b[38;5;28mslice\u001b[39m) \u001b[38;5;28;01mfor\u001b[39;00m x \u001b[38;5;129;01min\u001b[39;00m casted_key)\n\u001b[0;32m   3810\u001b[0m     ):\n\u001b[0;32m   3811\u001b[0m         \u001b[38;5;28;01mraise\u001b[39;00m InvalidIndexError(key)\n\u001b[1;32m-> 3812\u001b[0m     \u001b[38;5;28;01mraise\u001b[39;00m \u001b[38;5;167;01mKeyError\u001b[39;00m(key) \u001b[38;5;28;01mfrom\u001b[39;00m \u001b[38;5;21;01merr\u001b[39;00m\n\u001b[0;32m   3813\u001b[0m \u001b[38;5;28;01mexcept\u001b[39;00m \u001b[38;5;167;01mTypeError\u001b[39;00m:\n\u001b[0;32m   3814\u001b[0m     \u001b[38;5;66;03m# If we have a listlike key, _check_indexing_error will raise\u001b[39;00m\n\u001b[0;32m   3815\u001b[0m     \u001b[38;5;66;03m#  InvalidIndexError. Otherwise we fall through and re-raise\u001b[39;00m\n\u001b[0;32m   3816\u001b[0m     \u001b[38;5;66;03m#  the TypeError.\u001b[39;00m\n\u001b[0;32m   3817\u001b[0m     \u001b[38;5;28mself\u001b[39m\u001b[38;5;241m.\u001b[39m_check_indexing_error(key)\n",
      "\u001b[1;31mKeyError\u001b[0m: 'CNT_FAM_MEMBERS'"
     ]
    }
   ],
   "source": [
    "df_app[\"CNT_FAM_MEMBERS\"].isnull().sum()"
   ]
  },
  {
   "cell_type": "code",
   "execution_count": 218,
   "id": "67c3ef8a-9c8f-4805-964d-5c9f1ac959ac",
   "metadata": {},
   "outputs": [
    {
     "ename": "KeyError",
     "evalue": "'CNT_FAM_MEMBERS'",
     "output_type": "error",
     "traceback": [
      "\u001b[1;31m---------------------------------------------------------------------------\u001b[0m",
      "\u001b[1;31mKeyError\u001b[0m                                  Traceback (most recent call last)",
      "File \u001b[1;32m~\\anaconda3\\Lib\\site-packages\\pandas\\core\\indexes\\base.py:3805\u001b[0m, in \u001b[0;36mIndex.get_loc\u001b[1;34m(self, key)\u001b[0m\n\u001b[0;32m   3804\u001b[0m \u001b[38;5;28;01mtry\u001b[39;00m:\n\u001b[1;32m-> 3805\u001b[0m     \u001b[38;5;28;01mreturn\u001b[39;00m \u001b[38;5;28mself\u001b[39m\u001b[38;5;241m.\u001b[39m_engine\u001b[38;5;241m.\u001b[39mget_loc(casted_key)\n\u001b[0;32m   3806\u001b[0m \u001b[38;5;28;01mexcept\u001b[39;00m \u001b[38;5;167;01mKeyError\u001b[39;00m \u001b[38;5;28;01mas\u001b[39;00m err:\n",
      "File \u001b[1;32mindex.pyx:167\u001b[0m, in \u001b[0;36mpandas._libs.index.IndexEngine.get_loc\u001b[1;34m()\u001b[0m\n",
      "File \u001b[1;32mindex.pyx:196\u001b[0m, in \u001b[0;36mpandas._libs.index.IndexEngine.get_loc\u001b[1;34m()\u001b[0m\n",
      "File \u001b[1;32mpandas\\\\_libs\\\\hashtable_class_helper.pxi:7081\u001b[0m, in \u001b[0;36mpandas._libs.hashtable.PyObjectHashTable.get_item\u001b[1;34m()\u001b[0m\n",
      "File \u001b[1;32mpandas\\\\_libs\\\\hashtable_class_helper.pxi:7089\u001b[0m, in \u001b[0;36mpandas._libs.hashtable.PyObjectHashTable.get_item\u001b[1;34m()\u001b[0m\n",
      "\u001b[1;31mKeyError\u001b[0m: 'CNT_FAM_MEMBERS'",
      "\nThe above exception was the direct cause of the following exception:\n",
      "\u001b[1;31mKeyError\u001b[0m                                  Traceback (most recent call last)",
      "Cell \u001b[1;32mIn[218], line 1\u001b[0m\n\u001b[1;32m----> 1\u001b[0m df_app[\u001b[38;5;124m\"\u001b[39m\u001b[38;5;124mCNT_FAM_MEMBERS\u001b[39m\u001b[38;5;124m\"\u001b[39m]\u001b[38;5;241m.\u001b[39mdescribe()\n",
      "File \u001b[1;32m~\\anaconda3\\Lib\\site-packages\\pandas\\core\\frame.py:4102\u001b[0m, in \u001b[0;36mDataFrame.__getitem__\u001b[1;34m(self, key)\u001b[0m\n\u001b[0;32m   4100\u001b[0m \u001b[38;5;28;01mif\u001b[39;00m \u001b[38;5;28mself\u001b[39m\u001b[38;5;241m.\u001b[39mcolumns\u001b[38;5;241m.\u001b[39mnlevels \u001b[38;5;241m>\u001b[39m \u001b[38;5;241m1\u001b[39m:\n\u001b[0;32m   4101\u001b[0m     \u001b[38;5;28;01mreturn\u001b[39;00m \u001b[38;5;28mself\u001b[39m\u001b[38;5;241m.\u001b[39m_getitem_multilevel(key)\n\u001b[1;32m-> 4102\u001b[0m indexer \u001b[38;5;241m=\u001b[39m \u001b[38;5;28mself\u001b[39m\u001b[38;5;241m.\u001b[39mcolumns\u001b[38;5;241m.\u001b[39mget_loc(key)\n\u001b[0;32m   4103\u001b[0m \u001b[38;5;28;01mif\u001b[39;00m is_integer(indexer):\n\u001b[0;32m   4104\u001b[0m     indexer \u001b[38;5;241m=\u001b[39m [indexer]\n",
      "File \u001b[1;32m~\\anaconda3\\Lib\\site-packages\\pandas\\core\\indexes\\base.py:3812\u001b[0m, in \u001b[0;36mIndex.get_loc\u001b[1;34m(self, key)\u001b[0m\n\u001b[0;32m   3807\u001b[0m     \u001b[38;5;28;01mif\u001b[39;00m \u001b[38;5;28misinstance\u001b[39m(casted_key, \u001b[38;5;28mslice\u001b[39m) \u001b[38;5;129;01mor\u001b[39;00m (\n\u001b[0;32m   3808\u001b[0m         \u001b[38;5;28misinstance\u001b[39m(casted_key, abc\u001b[38;5;241m.\u001b[39mIterable)\n\u001b[0;32m   3809\u001b[0m         \u001b[38;5;129;01mand\u001b[39;00m \u001b[38;5;28many\u001b[39m(\u001b[38;5;28misinstance\u001b[39m(x, \u001b[38;5;28mslice\u001b[39m) \u001b[38;5;28;01mfor\u001b[39;00m x \u001b[38;5;129;01min\u001b[39;00m casted_key)\n\u001b[0;32m   3810\u001b[0m     ):\n\u001b[0;32m   3811\u001b[0m         \u001b[38;5;28;01mraise\u001b[39;00m InvalidIndexError(key)\n\u001b[1;32m-> 3812\u001b[0m     \u001b[38;5;28;01mraise\u001b[39;00m \u001b[38;5;167;01mKeyError\u001b[39;00m(key) \u001b[38;5;28;01mfrom\u001b[39;00m \u001b[38;5;21;01merr\u001b[39;00m\n\u001b[0;32m   3813\u001b[0m \u001b[38;5;28;01mexcept\u001b[39;00m \u001b[38;5;167;01mTypeError\u001b[39;00m:\n\u001b[0;32m   3814\u001b[0m     \u001b[38;5;66;03m# If we have a listlike key, _check_indexing_error will raise\u001b[39;00m\n\u001b[0;32m   3815\u001b[0m     \u001b[38;5;66;03m#  InvalidIndexError. Otherwise we fall through and re-raise\u001b[39;00m\n\u001b[0;32m   3816\u001b[0m     \u001b[38;5;66;03m#  the TypeError.\u001b[39;00m\n\u001b[0;32m   3817\u001b[0m     \u001b[38;5;28mself\u001b[39m\u001b[38;5;241m.\u001b[39m_check_indexing_error(key)\n",
      "\u001b[1;31mKeyError\u001b[0m: 'CNT_FAM_MEMBERS'"
     ]
    }
   ],
   "source": [
    "df_app[\"CNT_FAM_MEMBERS\"].describe()"
   ]
  },
  {
   "cell_type": "code",
   "execution_count": 220,
   "id": "1ba26e0d-0b5b-4869-88d9-4034814cc722",
   "metadata": {},
   "outputs": [
    {
     "ename": "KeyError",
     "evalue": "'CNT_FAM_MEMBERS'",
     "output_type": "error",
     "traceback": [
      "\u001b[1;31m---------------------------------------------------------------------------\u001b[0m",
      "\u001b[1;31mKeyError\u001b[0m                                  Traceback (most recent call last)",
      "File \u001b[1;32m~\\anaconda3\\Lib\\site-packages\\pandas\\core\\indexes\\base.py:3805\u001b[0m, in \u001b[0;36mIndex.get_loc\u001b[1;34m(self, key)\u001b[0m\n\u001b[0;32m   3804\u001b[0m \u001b[38;5;28;01mtry\u001b[39;00m:\n\u001b[1;32m-> 3805\u001b[0m     \u001b[38;5;28;01mreturn\u001b[39;00m \u001b[38;5;28mself\u001b[39m\u001b[38;5;241m.\u001b[39m_engine\u001b[38;5;241m.\u001b[39mget_loc(casted_key)\n\u001b[0;32m   3806\u001b[0m \u001b[38;5;28;01mexcept\u001b[39;00m \u001b[38;5;167;01mKeyError\u001b[39;00m \u001b[38;5;28;01mas\u001b[39;00m err:\n",
      "File \u001b[1;32mindex.pyx:167\u001b[0m, in \u001b[0;36mpandas._libs.index.IndexEngine.get_loc\u001b[1;34m()\u001b[0m\n",
      "File \u001b[1;32mindex.pyx:196\u001b[0m, in \u001b[0;36mpandas._libs.index.IndexEngine.get_loc\u001b[1;34m()\u001b[0m\n",
      "File \u001b[1;32mpandas\\\\_libs\\\\hashtable_class_helper.pxi:7081\u001b[0m, in \u001b[0;36mpandas._libs.hashtable.PyObjectHashTable.get_item\u001b[1;34m()\u001b[0m\n",
      "File \u001b[1;32mpandas\\\\_libs\\\\hashtable_class_helper.pxi:7089\u001b[0m, in \u001b[0;36mpandas._libs.hashtable.PyObjectHashTable.get_item\u001b[1;34m()\u001b[0m\n",
      "\u001b[1;31mKeyError\u001b[0m: 'CNT_FAM_MEMBERS'",
      "\nThe above exception was the direct cause of the following exception:\n",
      "\u001b[1;31mKeyError\u001b[0m                                  Traceback (most recent call last)",
      "Cell \u001b[1;32mIn[220], line 1\u001b[0m\n\u001b[1;32m----> 1\u001b[0m df_app[\u001b[38;5;124m\"\u001b[39m\u001b[38;5;124mCNT_FAM_MEMBERS\u001b[39m\u001b[38;5;124m\"\u001b[39m]\u001b[38;5;241m=\u001b[39mdf_app[\u001b[38;5;124m\"\u001b[39m\u001b[38;5;124mCNT_FAM_MEMBERS\u001b[39m\u001b[38;5;124m\"\u001b[39m]\u001b[38;5;241m.\u001b[39mfillna(df_app[\u001b[38;5;124m\"\u001b[39m\u001b[38;5;124mCNT_FAM_MEMBERS\u001b[39m\u001b[38;5;124m\"\u001b[39m]\u001b[38;5;241m.\u001b[39mmedian())\n",
      "File \u001b[1;32m~\\anaconda3\\Lib\\site-packages\\pandas\\core\\frame.py:4102\u001b[0m, in \u001b[0;36mDataFrame.__getitem__\u001b[1;34m(self, key)\u001b[0m\n\u001b[0;32m   4100\u001b[0m \u001b[38;5;28;01mif\u001b[39;00m \u001b[38;5;28mself\u001b[39m\u001b[38;5;241m.\u001b[39mcolumns\u001b[38;5;241m.\u001b[39mnlevels \u001b[38;5;241m>\u001b[39m \u001b[38;5;241m1\u001b[39m:\n\u001b[0;32m   4101\u001b[0m     \u001b[38;5;28;01mreturn\u001b[39;00m \u001b[38;5;28mself\u001b[39m\u001b[38;5;241m.\u001b[39m_getitem_multilevel(key)\n\u001b[1;32m-> 4102\u001b[0m indexer \u001b[38;5;241m=\u001b[39m \u001b[38;5;28mself\u001b[39m\u001b[38;5;241m.\u001b[39mcolumns\u001b[38;5;241m.\u001b[39mget_loc(key)\n\u001b[0;32m   4103\u001b[0m \u001b[38;5;28;01mif\u001b[39;00m is_integer(indexer):\n\u001b[0;32m   4104\u001b[0m     indexer \u001b[38;5;241m=\u001b[39m [indexer]\n",
      "File \u001b[1;32m~\\anaconda3\\Lib\\site-packages\\pandas\\core\\indexes\\base.py:3812\u001b[0m, in \u001b[0;36mIndex.get_loc\u001b[1;34m(self, key)\u001b[0m\n\u001b[0;32m   3807\u001b[0m     \u001b[38;5;28;01mif\u001b[39;00m \u001b[38;5;28misinstance\u001b[39m(casted_key, \u001b[38;5;28mslice\u001b[39m) \u001b[38;5;129;01mor\u001b[39;00m (\n\u001b[0;32m   3808\u001b[0m         \u001b[38;5;28misinstance\u001b[39m(casted_key, abc\u001b[38;5;241m.\u001b[39mIterable)\n\u001b[0;32m   3809\u001b[0m         \u001b[38;5;129;01mand\u001b[39;00m \u001b[38;5;28many\u001b[39m(\u001b[38;5;28misinstance\u001b[39m(x, \u001b[38;5;28mslice\u001b[39m) \u001b[38;5;28;01mfor\u001b[39;00m x \u001b[38;5;129;01min\u001b[39;00m casted_key)\n\u001b[0;32m   3810\u001b[0m     ):\n\u001b[0;32m   3811\u001b[0m         \u001b[38;5;28;01mraise\u001b[39;00m InvalidIndexError(key)\n\u001b[1;32m-> 3812\u001b[0m     \u001b[38;5;28;01mraise\u001b[39;00m \u001b[38;5;167;01mKeyError\u001b[39;00m(key) \u001b[38;5;28;01mfrom\u001b[39;00m \u001b[38;5;21;01merr\u001b[39;00m\n\u001b[0;32m   3813\u001b[0m \u001b[38;5;28;01mexcept\u001b[39;00m \u001b[38;5;167;01mTypeError\u001b[39;00m:\n\u001b[0;32m   3814\u001b[0m     \u001b[38;5;66;03m# If we have a listlike key, _check_indexing_error will raise\u001b[39;00m\n\u001b[0;32m   3815\u001b[0m     \u001b[38;5;66;03m#  InvalidIndexError. Otherwise we fall through and re-raise\u001b[39;00m\n\u001b[0;32m   3816\u001b[0m     \u001b[38;5;66;03m#  the TypeError.\u001b[39;00m\n\u001b[0;32m   3817\u001b[0m     \u001b[38;5;28mself\u001b[39m\u001b[38;5;241m.\u001b[39m_check_indexing_error(key)\n",
      "\u001b[1;31mKeyError\u001b[0m: 'CNT_FAM_MEMBERS'"
     ]
    }
   ],
   "source": [
    "df_app[\"CNT_FAM_MEMBERS\"]=df_app[\"CNT_FAM_MEMBERS\"].fillna(df_app[\"CNT_FAM_MEMBERS\"].median())"
   ]
  },
  {
   "cell_type": "code",
   "execution_count": 222,
   "id": "98eb92b5-1072-4e4a-8972-b45554d76b09",
   "metadata": {},
   "outputs": [
    {
     "ename": "KeyError",
     "evalue": "'CNT_FAM_MEMBERS'",
     "output_type": "error",
     "traceback": [
      "\u001b[1;31m---------------------------------------------------------------------------\u001b[0m",
      "\u001b[1;31mKeyError\u001b[0m                                  Traceback (most recent call last)",
      "File \u001b[1;32m~\\anaconda3\\Lib\\site-packages\\pandas\\core\\indexes\\base.py:3805\u001b[0m, in \u001b[0;36mIndex.get_loc\u001b[1;34m(self, key)\u001b[0m\n\u001b[0;32m   3804\u001b[0m \u001b[38;5;28;01mtry\u001b[39;00m:\n\u001b[1;32m-> 3805\u001b[0m     \u001b[38;5;28;01mreturn\u001b[39;00m \u001b[38;5;28mself\u001b[39m\u001b[38;5;241m.\u001b[39m_engine\u001b[38;5;241m.\u001b[39mget_loc(casted_key)\n\u001b[0;32m   3806\u001b[0m \u001b[38;5;28;01mexcept\u001b[39;00m \u001b[38;5;167;01mKeyError\u001b[39;00m \u001b[38;5;28;01mas\u001b[39;00m err:\n",
      "File \u001b[1;32mindex.pyx:167\u001b[0m, in \u001b[0;36mpandas._libs.index.IndexEngine.get_loc\u001b[1;34m()\u001b[0m\n",
      "File \u001b[1;32mindex.pyx:196\u001b[0m, in \u001b[0;36mpandas._libs.index.IndexEngine.get_loc\u001b[1;34m()\u001b[0m\n",
      "File \u001b[1;32mpandas\\\\_libs\\\\hashtable_class_helper.pxi:7081\u001b[0m, in \u001b[0;36mpandas._libs.hashtable.PyObjectHashTable.get_item\u001b[1;34m()\u001b[0m\n",
      "File \u001b[1;32mpandas\\\\_libs\\\\hashtable_class_helper.pxi:7089\u001b[0m, in \u001b[0;36mpandas._libs.hashtable.PyObjectHashTable.get_item\u001b[1;34m()\u001b[0m\n",
      "\u001b[1;31mKeyError\u001b[0m: 'CNT_FAM_MEMBERS'",
      "\nThe above exception was the direct cause of the following exception:\n",
      "\u001b[1;31mKeyError\u001b[0m                                  Traceback (most recent call last)",
      "Cell \u001b[1;32mIn[222], line 1\u001b[0m\n\u001b[1;32m----> 1\u001b[0m df_app[\u001b[38;5;124m\"\u001b[39m\u001b[38;5;124mCNT_FAM_MEMBERS\u001b[39m\u001b[38;5;124m\"\u001b[39m]\u001b[38;5;241m.\u001b[39misnull()\u001b[38;5;241m.\u001b[39msum()\n",
      "File \u001b[1;32m~\\anaconda3\\Lib\\site-packages\\pandas\\core\\frame.py:4102\u001b[0m, in \u001b[0;36mDataFrame.__getitem__\u001b[1;34m(self, key)\u001b[0m\n\u001b[0;32m   4100\u001b[0m \u001b[38;5;28;01mif\u001b[39;00m \u001b[38;5;28mself\u001b[39m\u001b[38;5;241m.\u001b[39mcolumns\u001b[38;5;241m.\u001b[39mnlevels \u001b[38;5;241m>\u001b[39m \u001b[38;5;241m1\u001b[39m:\n\u001b[0;32m   4101\u001b[0m     \u001b[38;5;28;01mreturn\u001b[39;00m \u001b[38;5;28mself\u001b[39m\u001b[38;5;241m.\u001b[39m_getitem_multilevel(key)\n\u001b[1;32m-> 4102\u001b[0m indexer \u001b[38;5;241m=\u001b[39m \u001b[38;5;28mself\u001b[39m\u001b[38;5;241m.\u001b[39mcolumns\u001b[38;5;241m.\u001b[39mget_loc(key)\n\u001b[0;32m   4103\u001b[0m \u001b[38;5;28;01mif\u001b[39;00m is_integer(indexer):\n\u001b[0;32m   4104\u001b[0m     indexer \u001b[38;5;241m=\u001b[39m [indexer]\n",
      "File \u001b[1;32m~\\anaconda3\\Lib\\site-packages\\pandas\\core\\indexes\\base.py:3812\u001b[0m, in \u001b[0;36mIndex.get_loc\u001b[1;34m(self, key)\u001b[0m\n\u001b[0;32m   3807\u001b[0m     \u001b[38;5;28;01mif\u001b[39;00m \u001b[38;5;28misinstance\u001b[39m(casted_key, \u001b[38;5;28mslice\u001b[39m) \u001b[38;5;129;01mor\u001b[39;00m (\n\u001b[0;32m   3808\u001b[0m         \u001b[38;5;28misinstance\u001b[39m(casted_key, abc\u001b[38;5;241m.\u001b[39mIterable)\n\u001b[0;32m   3809\u001b[0m         \u001b[38;5;129;01mand\u001b[39;00m \u001b[38;5;28many\u001b[39m(\u001b[38;5;28misinstance\u001b[39m(x, \u001b[38;5;28mslice\u001b[39m) \u001b[38;5;28;01mfor\u001b[39;00m x \u001b[38;5;129;01min\u001b[39;00m casted_key)\n\u001b[0;32m   3810\u001b[0m     ):\n\u001b[0;32m   3811\u001b[0m         \u001b[38;5;28;01mraise\u001b[39;00m InvalidIndexError(key)\n\u001b[1;32m-> 3812\u001b[0m     \u001b[38;5;28;01mraise\u001b[39;00m \u001b[38;5;167;01mKeyError\u001b[39;00m(key) \u001b[38;5;28;01mfrom\u001b[39;00m \u001b[38;5;21;01merr\u001b[39;00m\n\u001b[0;32m   3813\u001b[0m \u001b[38;5;28;01mexcept\u001b[39;00m \u001b[38;5;167;01mTypeError\u001b[39;00m:\n\u001b[0;32m   3814\u001b[0m     \u001b[38;5;66;03m# If we have a listlike key, _check_indexing_error will raise\u001b[39;00m\n\u001b[0;32m   3815\u001b[0m     \u001b[38;5;66;03m#  InvalidIndexError. Otherwise we fall through and re-raise\u001b[39;00m\n\u001b[0;32m   3816\u001b[0m     \u001b[38;5;66;03m#  the TypeError.\u001b[39;00m\n\u001b[0;32m   3817\u001b[0m     \u001b[38;5;28mself\u001b[39m\u001b[38;5;241m.\u001b[39m_check_indexing_error(key)\n",
      "\u001b[1;31mKeyError\u001b[0m: 'CNT_FAM_MEMBERS'"
     ]
    }
   ],
   "source": [
    "df_app[\"CNT_FAM_MEMBERS\"].isnull().sum()"
   ]
  },
  {
   "cell_type": "code",
   "execution_count": 224,
   "id": "d2e536f0-12f1-4b5f-b0ea-2968a1aea4f6",
   "metadata": {},
   "outputs": [
    {
     "data": {
      "text/plain": [
       "Index(['SK_ID_PREV', 'SK_ID_CURR', 'NAME_CONTRACT_TYPE', 'AMT_ANNUITY',\n",
       "       'AMT_APPLICATION', 'AMT_CREDIT', 'AMT_GOODS_PRICE',\n",
       "       'WEEKDAY_APPR_PROCESS_START', 'HOUR_APPR_PROCESS_START',\n",
       "       'FLAG_LAST_APPL_PER_CONTRACT', 'NFLAG_LAST_APPL_IN_DAY',\n",
       "       'NAME_CASH_LOAN_PURPOSE', 'NAME_CONTRACT_STATUS', 'DAYS_DECISION',\n",
       "       'NAME_PAYMENT_TYPE', 'CODE_REJECT_REASON', 'NAME_CLIENT_TYPE',\n",
       "       'NAME_GOODS_CATEGORY', 'NAME_PORTFOLIO', 'NAME_PRODUCT_TYPE',\n",
       "       'CHANNEL_TYPE', 'SELLERPLACE_AREA', 'NAME_SELLER_INDUSTRY',\n",
       "       'CNT_PAYMENT', 'NAME_YIELD_GROUP', 'PRODUCT_COMBINATION',\n",
       "       'DAYS_FIRST_DRAWING', 'DAYS_FIRST_DUE', 'DAYS_LAST_DUE_1ST_VERSION',\n",
       "       'DAYS_LAST_DUE', 'DAYS_TERMINATION', 'NFLAG_INSURED_ON_APPROVAL'],\n",
       "      dtype='object')"
      ]
     },
     "execution_count": 224,
     "metadata": {},
     "output_type": "execute_result"
    }
   ],
   "source": [
    "df_app.columns"
   ]
  },
  {
   "cell_type": "code",
   "execution_count": 226,
   "id": "6b9c93dc-0a50-4084-8c8d-477ea0329a17",
   "metadata": {},
   "outputs": [
    {
     "ename": "KeyError",
     "evalue": "\"None of [Index(['AMT_REQ_CREDIT_BUREAU_HOUR', 'AMT_REQ_CREDIT_BUREAU_DAY',\\n       'AMT_REQ_CREDIT_BUREAU_WEEK', 'AMT_REQ_CREDIT_BUREAU_MON',\\n       'AMT_REQ_CREDIT_BUREAU_QRT', 'AMT_REQ_CREDIT_BUREAU_YEAR'],\\n      dtype='object')] are in the [columns]\"",
     "output_type": "error",
     "traceback": [
      "\u001b[1;31m---------------------------------------------------------------------------\u001b[0m",
      "\u001b[1;31mKeyError\u001b[0m                                  Traceback (most recent call last)",
      "Cell \u001b[1;32mIn[226], line 1\u001b[0m\n\u001b[1;32m----> 1\u001b[0m df_app[[\u001b[38;5;124m'\u001b[39m\u001b[38;5;124mAMT_REQ_CREDIT_BUREAU_HOUR\u001b[39m\u001b[38;5;124m'\u001b[39m, \u001b[38;5;124m'\u001b[39m\u001b[38;5;124mAMT_REQ_CREDIT_BUREAU_DAY\u001b[39m\u001b[38;5;124m'\u001b[39m,\n\u001b[0;32m      2\u001b[0m        \u001b[38;5;124m'\u001b[39m\u001b[38;5;124mAMT_REQ_CREDIT_BUREAU_WEEK\u001b[39m\u001b[38;5;124m'\u001b[39m, \u001b[38;5;124m'\u001b[39m\u001b[38;5;124mAMT_REQ_CREDIT_BUREAU_MON\u001b[39m\u001b[38;5;124m'\u001b[39m,\n\u001b[0;32m      3\u001b[0m        \u001b[38;5;124m'\u001b[39m\u001b[38;5;124mAMT_REQ_CREDIT_BUREAU_QRT\u001b[39m\u001b[38;5;124m'\u001b[39m, \u001b[38;5;124m'\u001b[39m\u001b[38;5;124mAMT_REQ_CREDIT_BUREAU_YEAR\u001b[39m\u001b[38;5;124m'\u001b[39m]]\n",
      "File \u001b[1;32m~\\anaconda3\\Lib\\site-packages\\pandas\\core\\frame.py:4108\u001b[0m, in \u001b[0;36mDataFrame.__getitem__\u001b[1;34m(self, key)\u001b[0m\n\u001b[0;32m   4106\u001b[0m     \u001b[38;5;28;01mif\u001b[39;00m is_iterator(key):\n\u001b[0;32m   4107\u001b[0m         key \u001b[38;5;241m=\u001b[39m \u001b[38;5;28mlist\u001b[39m(key)\n\u001b[1;32m-> 4108\u001b[0m     indexer \u001b[38;5;241m=\u001b[39m \u001b[38;5;28mself\u001b[39m\u001b[38;5;241m.\u001b[39mcolumns\u001b[38;5;241m.\u001b[39m_get_indexer_strict(key, \u001b[38;5;124m\"\u001b[39m\u001b[38;5;124mcolumns\u001b[39m\u001b[38;5;124m\"\u001b[39m)[\u001b[38;5;241m1\u001b[39m]\n\u001b[0;32m   4110\u001b[0m \u001b[38;5;66;03m# take() does not accept boolean indexers\u001b[39;00m\n\u001b[0;32m   4111\u001b[0m \u001b[38;5;28;01mif\u001b[39;00m \u001b[38;5;28mgetattr\u001b[39m(indexer, \u001b[38;5;124m\"\u001b[39m\u001b[38;5;124mdtype\u001b[39m\u001b[38;5;124m\"\u001b[39m, \u001b[38;5;28;01mNone\u001b[39;00m) \u001b[38;5;241m==\u001b[39m \u001b[38;5;28mbool\u001b[39m:\n",
      "File \u001b[1;32m~\\anaconda3\\Lib\\site-packages\\pandas\\core\\indexes\\base.py:6200\u001b[0m, in \u001b[0;36mIndex._get_indexer_strict\u001b[1;34m(self, key, axis_name)\u001b[0m\n\u001b[0;32m   6197\u001b[0m \u001b[38;5;28;01melse\u001b[39;00m:\n\u001b[0;32m   6198\u001b[0m     keyarr, indexer, new_indexer \u001b[38;5;241m=\u001b[39m \u001b[38;5;28mself\u001b[39m\u001b[38;5;241m.\u001b[39m_reindex_non_unique(keyarr)\n\u001b[1;32m-> 6200\u001b[0m \u001b[38;5;28mself\u001b[39m\u001b[38;5;241m.\u001b[39m_raise_if_missing(keyarr, indexer, axis_name)\n\u001b[0;32m   6202\u001b[0m keyarr \u001b[38;5;241m=\u001b[39m \u001b[38;5;28mself\u001b[39m\u001b[38;5;241m.\u001b[39mtake(indexer)\n\u001b[0;32m   6203\u001b[0m \u001b[38;5;28;01mif\u001b[39;00m \u001b[38;5;28misinstance\u001b[39m(key, Index):\n\u001b[0;32m   6204\u001b[0m     \u001b[38;5;66;03m# GH 42790 - Preserve name from an Index\u001b[39;00m\n",
      "File \u001b[1;32m~\\anaconda3\\Lib\\site-packages\\pandas\\core\\indexes\\base.py:6249\u001b[0m, in \u001b[0;36mIndex._raise_if_missing\u001b[1;34m(self, key, indexer, axis_name)\u001b[0m\n\u001b[0;32m   6247\u001b[0m \u001b[38;5;28;01mif\u001b[39;00m nmissing:\n\u001b[0;32m   6248\u001b[0m     \u001b[38;5;28;01mif\u001b[39;00m nmissing \u001b[38;5;241m==\u001b[39m \u001b[38;5;28mlen\u001b[39m(indexer):\n\u001b[1;32m-> 6249\u001b[0m         \u001b[38;5;28;01mraise\u001b[39;00m \u001b[38;5;167;01mKeyError\u001b[39;00m(\u001b[38;5;124mf\u001b[39m\u001b[38;5;124m\"\u001b[39m\u001b[38;5;124mNone of [\u001b[39m\u001b[38;5;132;01m{\u001b[39;00mkey\u001b[38;5;132;01m}\u001b[39;00m\u001b[38;5;124m] are in the [\u001b[39m\u001b[38;5;132;01m{\u001b[39;00maxis_name\u001b[38;5;132;01m}\u001b[39;00m\u001b[38;5;124m]\u001b[39m\u001b[38;5;124m\"\u001b[39m)\n\u001b[0;32m   6251\u001b[0m     not_found \u001b[38;5;241m=\u001b[39m \u001b[38;5;28mlist\u001b[39m(ensure_index(key)[missing_mask\u001b[38;5;241m.\u001b[39mnonzero()[\u001b[38;5;241m0\u001b[39m]]\u001b[38;5;241m.\u001b[39munique())\n\u001b[0;32m   6252\u001b[0m     \u001b[38;5;28;01mraise\u001b[39;00m \u001b[38;5;167;01mKeyError\u001b[39;00m(\u001b[38;5;124mf\u001b[39m\u001b[38;5;124m\"\u001b[39m\u001b[38;5;132;01m{\u001b[39;00mnot_found\u001b[38;5;132;01m}\u001b[39;00m\u001b[38;5;124m not in index\u001b[39m\u001b[38;5;124m\"\u001b[39m)\n",
      "\u001b[1;31mKeyError\u001b[0m: \"None of [Index(['AMT_REQ_CREDIT_BUREAU_HOUR', 'AMT_REQ_CREDIT_BUREAU_DAY',\\n       'AMT_REQ_CREDIT_BUREAU_WEEK', 'AMT_REQ_CREDIT_BUREAU_MON',\\n       'AMT_REQ_CREDIT_BUREAU_QRT', 'AMT_REQ_CREDIT_BUREAU_YEAR'],\\n      dtype='object')] are in the [columns]\""
     ]
    }
   ],
   "source": [
    "df_app[['AMT_REQ_CREDIT_BUREAU_HOUR', 'AMT_REQ_CREDIT_BUREAU_DAY',\n",
    "       'AMT_REQ_CREDIT_BUREAU_WEEK', 'AMT_REQ_CREDIT_BUREAU_MON',\n",
    "       'AMT_REQ_CREDIT_BUREAU_QRT', 'AMT_REQ_CREDIT_BUREAU_YEAR']]"
   ]
  },
  {
   "cell_type": "code",
   "execution_count": 228,
   "id": "2676347e-0db6-47ae-8fa9-ec304e66439b",
   "metadata": {},
   "outputs": [],
   "source": [
    "AMT_REQ_CREDIT=['AMT_REQ_CREDIT_BUREAU_HOUR', 'AMT_REQ_CREDIT_BUREAU_DAY',\n",
    "       'AMT_REQ_CREDIT_BUREAU_WEEK', 'AMT_REQ_CREDIT_BUREAU_MON',\n",
    "       'AMT_REQ_CREDIT_BUREAU_QRT', 'AMT_REQ_CREDIT_BUREAU_YEAR']"
   ]
  },
  {
   "cell_type": "code",
   "execution_count": 230,
   "id": "39bc826f-edb5-4a08-bd50-e84618b70063",
   "metadata": {},
   "outputs": [
    {
     "ename": "KeyError",
     "evalue": "\"None of [Index(['AMT_REQ_CREDIT_BUREAU_HOUR', 'AMT_REQ_CREDIT_BUREAU_DAY',\\n       'AMT_REQ_CREDIT_BUREAU_WEEK', 'AMT_REQ_CREDIT_BUREAU_MON',\\n       'AMT_REQ_CREDIT_BUREAU_QRT', 'AMT_REQ_CREDIT_BUREAU_YEAR'],\\n      dtype='object')] are in the [columns]\"",
     "output_type": "error",
     "traceback": [
      "\u001b[1;31m---------------------------------------------------------------------------\u001b[0m",
      "\u001b[1;31mKeyError\u001b[0m                                  Traceback (most recent call last)",
      "Cell \u001b[1;32mIn[230], line 1\u001b[0m\n\u001b[1;32m----> 1\u001b[0m df_app[AMT_REQ_CREDIT]\n",
      "File \u001b[1;32m~\\anaconda3\\Lib\\site-packages\\pandas\\core\\frame.py:4108\u001b[0m, in \u001b[0;36mDataFrame.__getitem__\u001b[1;34m(self, key)\u001b[0m\n\u001b[0;32m   4106\u001b[0m     \u001b[38;5;28;01mif\u001b[39;00m is_iterator(key):\n\u001b[0;32m   4107\u001b[0m         key \u001b[38;5;241m=\u001b[39m \u001b[38;5;28mlist\u001b[39m(key)\n\u001b[1;32m-> 4108\u001b[0m     indexer \u001b[38;5;241m=\u001b[39m \u001b[38;5;28mself\u001b[39m\u001b[38;5;241m.\u001b[39mcolumns\u001b[38;5;241m.\u001b[39m_get_indexer_strict(key, \u001b[38;5;124m\"\u001b[39m\u001b[38;5;124mcolumns\u001b[39m\u001b[38;5;124m\"\u001b[39m)[\u001b[38;5;241m1\u001b[39m]\n\u001b[0;32m   4110\u001b[0m \u001b[38;5;66;03m# take() does not accept boolean indexers\u001b[39;00m\n\u001b[0;32m   4111\u001b[0m \u001b[38;5;28;01mif\u001b[39;00m \u001b[38;5;28mgetattr\u001b[39m(indexer, \u001b[38;5;124m\"\u001b[39m\u001b[38;5;124mdtype\u001b[39m\u001b[38;5;124m\"\u001b[39m, \u001b[38;5;28;01mNone\u001b[39;00m) \u001b[38;5;241m==\u001b[39m \u001b[38;5;28mbool\u001b[39m:\n",
      "File \u001b[1;32m~\\anaconda3\\Lib\\site-packages\\pandas\\core\\indexes\\base.py:6200\u001b[0m, in \u001b[0;36mIndex._get_indexer_strict\u001b[1;34m(self, key, axis_name)\u001b[0m\n\u001b[0;32m   6197\u001b[0m \u001b[38;5;28;01melse\u001b[39;00m:\n\u001b[0;32m   6198\u001b[0m     keyarr, indexer, new_indexer \u001b[38;5;241m=\u001b[39m \u001b[38;5;28mself\u001b[39m\u001b[38;5;241m.\u001b[39m_reindex_non_unique(keyarr)\n\u001b[1;32m-> 6200\u001b[0m \u001b[38;5;28mself\u001b[39m\u001b[38;5;241m.\u001b[39m_raise_if_missing(keyarr, indexer, axis_name)\n\u001b[0;32m   6202\u001b[0m keyarr \u001b[38;5;241m=\u001b[39m \u001b[38;5;28mself\u001b[39m\u001b[38;5;241m.\u001b[39mtake(indexer)\n\u001b[0;32m   6203\u001b[0m \u001b[38;5;28;01mif\u001b[39;00m \u001b[38;5;28misinstance\u001b[39m(key, Index):\n\u001b[0;32m   6204\u001b[0m     \u001b[38;5;66;03m# GH 42790 - Preserve name from an Index\u001b[39;00m\n",
      "File \u001b[1;32m~\\anaconda3\\Lib\\site-packages\\pandas\\core\\indexes\\base.py:6249\u001b[0m, in \u001b[0;36mIndex._raise_if_missing\u001b[1;34m(self, key, indexer, axis_name)\u001b[0m\n\u001b[0;32m   6247\u001b[0m \u001b[38;5;28;01mif\u001b[39;00m nmissing:\n\u001b[0;32m   6248\u001b[0m     \u001b[38;5;28;01mif\u001b[39;00m nmissing \u001b[38;5;241m==\u001b[39m \u001b[38;5;28mlen\u001b[39m(indexer):\n\u001b[1;32m-> 6249\u001b[0m         \u001b[38;5;28;01mraise\u001b[39;00m \u001b[38;5;167;01mKeyError\u001b[39;00m(\u001b[38;5;124mf\u001b[39m\u001b[38;5;124m\"\u001b[39m\u001b[38;5;124mNone of [\u001b[39m\u001b[38;5;132;01m{\u001b[39;00mkey\u001b[38;5;132;01m}\u001b[39;00m\u001b[38;5;124m] are in the [\u001b[39m\u001b[38;5;132;01m{\u001b[39;00maxis_name\u001b[38;5;132;01m}\u001b[39;00m\u001b[38;5;124m]\u001b[39m\u001b[38;5;124m\"\u001b[39m)\n\u001b[0;32m   6251\u001b[0m     not_found \u001b[38;5;241m=\u001b[39m \u001b[38;5;28mlist\u001b[39m(ensure_index(key)[missing_mask\u001b[38;5;241m.\u001b[39mnonzero()[\u001b[38;5;241m0\u001b[39m]]\u001b[38;5;241m.\u001b[39munique())\n\u001b[0;32m   6252\u001b[0m     \u001b[38;5;28;01mraise\u001b[39;00m \u001b[38;5;167;01mKeyError\u001b[39;00m(\u001b[38;5;124mf\u001b[39m\u001b[38;5;124m\"\u001b[39m\u001b[38;5;132;01m{\u001b[39;00mnot_found\u001b[38;5;132;01m}\u001b[39;00m\u001b[38;5;124m not in index\u001b[39m\u001b[38;5;124m\"\u001b[39m)\n",
      "\u001b[1;31mKeyError\u001b[0m: \"None of [Index(['AMT_REQ_CREDIT_BUREAU_HOUR', 'AMT_REQ_CREDIT_BUREAU_DAY',\\n       'AMT_REQ_CREDIT_BUREAU_WEEK', 'AMT_REQ_CREDIT_BUREAU_MON',\\n       'AMT_REQ_CREDIT_BUREAU_QRT', 'AMT_REQ_CREDIT_BUREAU_YEAR'],\\n      dtype='object')] are in the [columns]\""
     ]
    }
   ],
   "source": [
    "df_app[AMT_REQ_CREDIT]"
   ]
  },
  {
   "cell_type": "code",
   "execution_count": 232,
   "id": "b17aadf2-db01-4150-b3e1-f59bd97369c7",
   "metadata": {},
   "outputs": [
    {
     "ename": "KeyError",
     "evalue": "\"None of [Index(['AMT_REQ_CREDIT_BUREAU_HOUR', 'AMT_REQ_CREDIT_BUREAU_DAY',\\n       'AMT_REQ_CREDIT_BUREAU_WEEK', 'AMT_REQ_CREDIT_BUREAU_MON',\\n       'AMT_REQ_CREDIT_BUREAU_QRT', 'AMT_REQ_CREDIT_BUREAU_YEAR'],\\n      dtype='object')] are in the [columns]\"",
     "output_type": "error",
     "traceback": [
      "\u001b[1;31m---------------------------------------------------------------------------\u001b[0m",
      "\u001b[1;31mKeyError\u001b[0m                                  Traceback (most recent call last)",
      "Cell \u001b[1;32mIn[232], line 1\u001b[0m\n\u001b[1;32m----> 1\u001b[0m df_app[AMT_REQ_CREDIT]\u001b[38;5;241m.\u001b[39misnull()\u001b[38;5;241m.\u001b[39msum()\n",
      "File \u001b[1;32m~\\anaconda3\\Lib\\site-packages\\pandas\\core\\frame.py:4108\u001b[0m, in \u001b[0;36mDataFrame.__getitem__\u001b[1;34m(self, key)\u001b[0m\n\u001b[0;32m   4106\u001b[0m     \u001b[38;5;28;01mif\u001b[39;00m is_iterator(key):\n\u001b[0;32m   4107\u001b[0m         key \u001b[38;5;241m=\u001b[39m \u001b[38;5;28mlist\u001b[39m(key)\n\u001b[1;32m-> 4108\u001b[0m     indexer \u001b[38;5;241m=\u001b[39m \u001b[38;5;28mself\u001b[39m\u001b[38;5;241m.\u001b[39mcolumns\u001b[38;5;241m.\u001b[39m_get_indexer_strict(key, \u001b[38;5;124m\"\u001b[39m\u001b[38;5;124mcolumns\u001b[39m\u001b[38;5;124m\"\u001b[39m)[\u001b[38;5;241m1\u001b[39m]\n\u001b[0;32m   4110\u001b[0m \u001b[38;5;66;03m# take() does not accept boolean indexers\u001b[39;00m\n\u001b[0;32m   4111\u001b[0m \u001b[38;5;28;01mif\u001b[39;00m \u001b[38;5;28mgetattr\u001b[39m(indexer, \u001b[38;5;124m\"\u001b[39m\u001b[38;5;124mdtype\u001b[39m\u001b[38;5;124m\"\u001b[39m, \u001b[38;5;28;01mNone\u001b[39;00m) \u001b[38;5;241m==\u001b[39m \u001b[38;5;28mbool\u001b[39m:\n",
      "File \u001b[1;32m~\\anaconda3\\Lib\\site-packages\\pandas\\core\\indexes\\base.py:6200\u001b[0m, in \u001b[0;36mIndex._get_indexer_strict\u001b[1;34m(self, key, axis_name)\u001b[0m\n\u001b[0;32m   6197\u001b[0m \u001b[38;5;28;01melse\u001b[39;00m:\n\u001b[0;32m   6198\u001b[0m     keyarr, indexer, new_indexer \u001b[38;5;241m=\u001b[39m \u001b[38;5;28mself\u001b[39m\u001b[38;5;241m.\u001b[39m_reindex_non_unique(keyarr)\n\u001b[1;32m-> 6200\u001b[0m \u001b[38;5;28mself\u001b[39m\u001b[38;5;241m.\u001b[39m_raise_if_missing(keyarr, indexer, axis_name)\n\u001b[0;32m   6202\u001b[0m keyarr \u001b[38;5;241m=\u001b[39m \u001b[38;5;28mself\u001b[39m\u001b[38;5;241m.\u001b[39mtake(indexer)\n\u001b[0;32m   6203\u001b[0m \u001b[38;5;28;01mif\u001b[39;00m \u001b[38;5;28misinstance\u001b[39m(key, Index):\n\u001b[0;32m   6204\u001b[0m     \u001b[38;5;66;03m# GH 42790 - Preserve name from an Index\u001b[39;00m\n",
      "File \u001b[1;32m~\\anaconda3\\Lib\\site-packages\\pandas\\core\\indexes\\base.py:6249\u001b[0m, in \u001b[0;36mIndex._raise_if_missing\u001b[1;34m(self, key, indexer, axis_name)\u001b[0m\n\u001b[0;32m   6247\u001b[0m \u001b[38;5;28;01mif\u001b[39;00m nmissing:\n\u001b[0;32m   6248\u001b[0m     \u001b[38;5;28;01mif\u001b[39;00m nmissing \u001b[38;5;241m==\u001b[39m \u001b[38;5;28mlen\u001b[39m(indexer):\n\u001b[1;32m-> 6249\u001b[0m         \u001b[38;5;28;01mraise\u001b[39;00m \u001b[38;5;167;01mKeyError\u001b[39;00m(\u001b[38;5;124mf\u001b[39m\u001b[38;5;124m\"\u001b[39m\u001b[38;5;124mNone of [\u001b[39m\u001b[38;5;132;01m{\u001b[39;00mkey\u001b[38;5;132;01m}\u001b[39;00m\u001b[38;5;124m] are in the [\u001b[39m\u001b[38;5;132;01m{\u001b[39;00maxis_name\u001b[38;5;132;01m}\u001b[39;00m\u001b[38;5;124m]\u001b[39m\u001b[38;5;124m\"\u001b[39m)\n\u001b[0;32m   6251\u001b[0m     not_found \u001b[38;5;241m=\u001b[39m \u001b[38;5;28mlist\u001b[39m(ensure_index(key)[missing_mask\u001b[38;5;241m.\u001b[39mnonzero()[\u001b[38;5;241m0\u001b[39m]]\u001b[38;5;241m.\u001b[39munique())\n\u001b[0;32m   6252\u001b[0m     \u001b[38;5;28;01mraise\u001b[39;00m \u001b[38;5;167;01mKeyError\u001b[39;00m(\u001b[38;5;124mf\u001b[39m\u001b[38;5;124m\"\u001b[39m\u001b[38;5;132;01m{\u001b[39;00mnot_found\u001b[38;5;132;01m}\u001b[39;00m\u001b[38;5;124m not in index\u001b[39m\u001b[38;5;124m\"\u001b[39m)\n",
      "\u001b[1;31mKeyError\u001b[0m: \"None of [Index(['AMT_REQ_CREDIT_BUREAU_HOUR', 'AMT_REQ_CREDIT_BUREAU_DAY',\\n       'AMT_REQ_CREDIT_BUREAU_WEEK', 'AMT_REQ_CREDIT_BUREAU_MON',\\n       'AMT_REQ_CREDIT_BUREAU_QRT', 'AMT_REQ_CREDIT_BUREAU_YEAR'],\\n      dtype='object')] are in the [columns]\""
     ]
    }
   ],
   "source": [
    "df_app[AMT_REQ_CREDIT].isnull().sum()"
   ]
  },
  {
   "cell_type": "code",
   "execution_count": 234,
   "id": "057d9ea6-1f94-4f87-a5ec-28450bf7cfb4",
   "metadata": {},
   "outputs": [
    {
     "ename": "KeyError",
     "evalue": "\"None of [Index(['AMT_REQ_CREDIT_BUREAU_HOUR', 'AMT_REQ_CREDIT_BUREAU_DAY',\\n       'AMT_REQ_CREDIT_BUREAU_WEEK', 'AMT_REQ_CREDIT_BUREAU_MON',\\n       'AMT_REQ_CREDIT_BUREAU_QRT', 'AMT_REQ_CREDIT_BUREAU_YEAR'],\\n      dtype='object')] are in the [columns]\"",
     "output_type": "error",
     "traceback": [
      "\u001b[1;31m---------------------------------------------------------------------------\u001b[0m",
      "\u001b[1;31mKeyError\u001b[0m                                  Traceback (most recent call last)",
      "Cell \u001b[1;32mIn[234], line 1\u001b[0m\n\u001b[1;32m----> 1\u001b[0m df_app[AMT_REQ_CREDIT]\u001b[38;5;241m.\u001b[39mdescribe()\n",
      "File \u001b[1;32m~\\anaconda3\\Lib\\site-packages\\pandas\\core\\frame.py:4108\u001b[0m, in \u001b[0;36mDataFrame.__getitem__\u001b[1;34m(self, key)\u001b[0m\n\u001b[0;32m   4106\u001b[0m     \u001b[38;5;28;01mif\u001b[39;00m is_iterator(key):\n\u001b[0;32m   4107\u001b[0m         key \u001b[38;5;241m=\u001b[39m \u001b[38;5;28mlist\u001b[39m(key)\n\u001b[1;32m-> 4108\u001b[0m     indexer \u001b[38;5;241m=\u001b[39m \u001b[38;5;28mself\u001b[39m\u001b[38;5;241m.\u001b[39mcolumns\u001b[38;5;241m.\u001b[39m_get_indexer_strict(key, \u001b[38;5;124m\"\u001b[39m\u001b[38;5;124mcolumns\u001b[39m\u001b[38;5;124m\"\u001b[39m)[\u001b[38;5;241m1\u001b[39m]\n\u001b[0;32m   4110\u001b[0m \u001b[38;5;66;03m# take() does not accept boolean indexers\u001b[39;00m\n\u001b[0;32m   4111\u001b[0m \u001b[38;5;28;01mif\u001b[39;00m \u001b[38;5;28mgetattr\u001b[39m(indexer, \u001b[38;5;124m\"\u001b[39m\u001b[38;5;124mdtype\u001b[39m\u001b[38;5;124m\"\u001b[39m, \u001b[38;5;28;01mNone\u001b[39;00m) \u001b[38;5;241m==\u001b[39m \u001b[38;5;28mbool\u001b[39m:\n",
      "File \u001b[1;32m~\\anaconda3\\Lib\\site-packages\\pandas\\core\\indexes\\base.py:6200\u001b[0m, in \u001b[0;36mIndex._get_indexer_strict\u001b[1;34m(self, key, axis_name)\u001b[0m\n\u001b[0;32m   6197\u001b[0m \u001b[38;5;28;01melse\u001b[39;00m:\n\u001b[0;32m   6198\u001b[0m     keyarr, indexer, new_indexer \u001b[38;5;241m=\u001b[39m \u001b[38;5;28mself\u001b[39m\u001b[38;5;241m.\u001b[39m_reindex_non_unique(keyarr)\n\u001b[1;32m-> 6200\u001b[0m \u001b[38;5;28mself\u001b[39m\u001b[38;5;241m.\u001b[39m_raise_if_missing(keyarr, indexer, axis_name)\n\u001b[0;32m   6202\u001b[0m keyarr \u001b[38;5;241m=\u001b[39m \u001b[38;5;28mself\u001b[39m\u001b[38;5;241m.\u001b[39mtake(indexer)\n\u001b[0;32m   6203\u001b[0m \u001b[38;5;28;01mif\u001b[39;00m \u001b[38;5;28misinstance\u001b[39m(key, Index):\n\u001b[0;32m   6204\u001b[0m     \u001b[38;5;66;03m# GH 42790 - Preserve name from an Index\u001b[39;00m\n",
      "File \u001b[1;32m~\\anaconda3\\Lib\\site-packages\\pandas\\core\\indexes\\base.py:6249\u001b[0m, in \u001b[0;36mIndex._raise_if_missing\u001b[1;34m(self, key, indexer, axis_name)\u001b[0m\n\u001b[0;32m   6247\u001b[0m \u001b[38;5;28;01mif\u001b[39;00m nmissing:\n\u001b[0;32m   6248\u001b[0m     \u001b[38;5;28;01mif\u001b[39;00m nmissing \u001b[38;5;241m==\u001b[39m \u001b[38;5;28mlen\u001b[39m(indexer):\n\u001b[1;32m-> 6249\u001b[0m         \u001b[38;5;28;01mraise\u001b[39;00m \u001b[38;5;167;01mKeyError\u001b[39;00m(\u001b[38;5;124mf\u001b[39m\u001b[38;5;124m\"\u001b[39m\u001b[38;5;124mNone of [\u001b[39m\u001b[38;5;132;01m{\u001b[39;00mkey\u001b[38;5;132;01m}\u001b[39;00m\u001b[38;5;124m] are in the [\u001b[39m\u001b[38;5;132;01m{\u001b[39;00maxis_name\u001b[38;5;132;01m}\u001b[39;00m\u001b[38;5;124m]\u001b[39m\u001b[38;5;124m\"\u001b[39m)\n\u001b[0;32m   6251\u001b[0m     not_found \u001b[38;5;241m=\u001b[39m \u001b[38;5;28mlist\u001b[39m(ensure_index(key)[missing_mask\u001b[38;5;241m.\u001b[39mnonzero()[\u001b[38;5;241m0\u001b[39m]]\u001b[38;5;241m.\u001b[39munique())\n\u001b[0;32m   6252\u001b[0m     \u001b[38;5;28;01mraise\u001b[39;00m \u001b[38;5;167;01mKeyError\u001b[39;00m(\u001b[38;5;124mf\u001b[39m\u001b[38;5;124m\"\u001b[39m\u001b[38;5;132;01m{\u001b[39;00mnot_found\u001b[38;5;132;01m}\u001b[39;00m\u001b[38;5;124m not in index\u001b[39m\u001b[38;5;124m\"\u001b[39m)\n",
      "\u001b[1;31mKeyError\u001b[0m: \"None of [Index(['AMT_REQ_CREDIT_BUREAU_HOUR', 'AMT_REQ_CREDIT_BUREAU_DAY',\\n       'AMT_REQ_CREDIT_BUREAU_WEEK', 'AMT_REQ_CREDIT_BUREAU_MON',\\n       'AMT_REQ_CREDIT_BUREAU_QRT', 'AMT_REQ_CREDIT_BUREAU_YEAR'],\\n      dtype='object')] are in the [columns]\""
     ]
    }
   ],
   "source": [
    "df_app[AMT_REQ_CREDIT].describe()"
   ]
  },
  {
   "cell_type": "code",
   "execution_count": 236,
   "id": "ea429192-44a6-41b4-ba37-a91bbff39815",
   "metadata": {},
   "outputs": [
    {
     "ename": "KeyError",
     "evalue": "\"None of [Index(['AMT_REQ_CREDIT_BUREAU_HOUR', 'AMT_REQ_CREDIT_BUREAU_DAY',\\n       'AMT_REQ_CREDIT_BUREAU_WEEK', 'AMT_REQ_CREDIT_BUREAU_MON',\\n       'AMT_REQ_CREDIT_BUREAU_QRT', 'AMT_REQ_CREDIT_BUREAU_YEAR'],\\n      dtype='object')] are in the [columns]\"",
     "output_type": "error",
     "traceback": [
      "\u001b[1;31m---------------------------------------------------------------------------\u001b[0m",
      "\u001b[1;31mKeyError\u001b[0m                                  Traceback (most recent call last)",
      "Cell \u001b[1;32mIn[236], line 2\u001b[0m\n\u001b[0;32m      1\u001b[0m plt\u001b[38;5;241m.\u001b[39mfigure(figsize\u001b[38;5;241m=\u001b[39m(\u001b[38;5;241m14\u001b[39m,\u001b[38;5;241m10\u001b[39m))\n\u001b[1;32m----> 2\u001b[0m sns\u001b[38;5;241m.\u001b[39mboxplot(df_app[AMT_REQ_CREDIT],color\u001b[38;5;241m=\u001b[39m\u001b[38;5;124m\"\u001b[39m\u001b[38;5;124mseagreen\u001b[39m\u001b[38;5;124m\"\u001b[39m)\n\u001b[0;32m      3\u001b[0m plt\u001b[38;5;241m.\u001b[39mshow()\n",
      "File \u001b[1;32m~\\anaconda3\\Lib\\site-packages\\pandas\\core\\frame.py:4108\u001b[0m, in \u001b[0;36mDataFrame.__getitem__\u001b[1;34m(self, key)\u001b[0m\n\u001b[0;32m   4106\u001b[0m     \u001b[38;5;28;01mif\u001b[39;00m is_iterator(key):\n\u001b[0;32m   4107\u001b[0m         key \u001b[38;5;241m=\u001b[39m \u001b[38;5;28mlist\u001b[39m(key)\n\u001b[1;32m-> 4108\u001b[0m     indexer \u001b[38;5;241m=\u001b[39m \u001b[38;5;28mself\u001b[39m\u001b[38;5;241m.\u001b[39mcolumns\u001b[38;5;241m.\u001b[39m_get_indexer_strict(key, \u001b[38;5;124m\"\u001b[39m\u001b[38;5;124mcolumns\u001b[39m\u001b[38;5;124m\"\u001b[39m)[\u001b[38;5;241m1\u001b[39m]\n\u001b[0;32m   4110\u001b[0m \u001b[38;5;66;03m# take() does not accept boolean indexers\u001b[39;00m\n\u001b[0;32m   4111\u001b[0m \u001b[38;5;28;01mif\u001b[39;00m \u001b[38;5;28mgetattr\u001b[39m(indexer, \u001b[38;5;124m\"\u001b[39m\u001b[38;5;124mdtype\u001b[39m\u001b[38;5;124m\"\u001b[39m, \u001b[38;5;28;01mNone\u001b[39;00m) \u001b[38;5;241m==\u001b[39m \u001b[38;5;28mbool\u001b[39m:\n",
      "File \u001b[1;32m~\\anaconda3\\Lib\\site-packages\\pandas\\core\\indexes\\base.py:6200\u001b[0m, in \u001b[0;36mIndex._get_indexer_strict\u001b[1;34m(self, key, axis_name)\u001b[0m\n\u001b[0;32m   6197\u001b[0m \u001b[38;5;28;01melse\u001b[39;00m:\n\u001b[0;32m   6198\u001b[0m     keyarr, indexer, new_indexer \u001b[38;5;241m=\u001b[39m \u001b[38;5;28mself\u001b[39m\u001b[38;5;241m.\u001b[39m_reindex_non_unique(keyarr)\n\u001b[1;32m-> 6200\u001b[0m \u001b[38;5;28mself\u001b[39m\u001b[38;5;241m.\u001b[39m_raise_if_missing(keyarr, indexer, axis_name)\n\u001b[0;32m   6202\u001b[0m keyarr \u001b[38;5;241m=\u001b[39m \u001b[38;5;28mself\u001b[39m\u001b[38;5;241m.\u001b[39mtake(indexer)\n\u001b[0;32m   6203\u001b[0m \u001b[38;5;28;01mif\u001b[39;00m \u001b[38;5;28misinstance\u001b[39m(key, Index):\n\u001b[0;32m   6204\u001b[0m     \u001b[38;5;66;03m# GH 42790 - Preserve name from an Index\u001b[39;00m\n",
      "File \u001b[1;32m~\\anaconda3\\Lib\\site-packages\\pandas\\core\\indexes\\base.py:6249\u001b[0m, in \u001b[0;36mIndex._raise_if_missing\u001b[1;34m(self, key, indexer, axis_name)\u001b[0m\n\u001b[0;32m   6247\u001b[0m \u001b[38;5;28;01mif\u001b[39;00m nmissing:\n\u001b[0;32m   6248\u001b[0m     \u001b[38;5;28;01mif\u001b[39;00m nmissing \u001b[38;5;241m==\u001b[39m \u001b[38;5;28mlen\u001b[39m(indexer):\n\u001b[1;32m-> 6249\u001b[0m         \u001b[38;5;28;01mraise\u001b[39;00m \u001b[38;5;167;01mKeyError\u001b[39;00m(\u001b[38;5;124mf\u001b[39m\u001b[38;5;124m\"\u001b[39m\u001b[38;5;124mNone of [\u001b[39m\u001b[38;5;132;01m{\u001b[39;00mkey\u001b[38;5;132;01m}\u001b[39;00m\u001b[38;5;124m] are in the [\u001b[39m\u001b[38;5;132;01m{\u001b[39;00maxis_name\u001b[38;5;132;01m}\u001b[39;00m\u001b[38;5;124m]\u001b[39m\u001b[38;5;124m\"\u001b[39m)\n\u001b[0;32m   6251\u001b[0m     not_found \u001b[38;5;241m=\u001b[39m \u001b[38;5;28mlist\u001b[39m(ensure_index(key)[missing_mask\u001b[38;5;241m.\u001b[39mnonzero()[\u001b[38;5;241m0\u001b[39m]]\u001b[38;5;241m.\u001b[39munique())\n\u001b[0;32m   6252\u001b[0m     \u001b[38;5;28;01mraise\u001b[39;00m \u001b[38;5;167;01mKeyError\u001b[39;00m(\u001b[38;5;124mf\u001b[39m\u001b[38;5;124m\"\u001b[39m\u001b[38;5;132;01m{\u001b[39;00mnot_found\u001b[38;5;132;01m}\u001b[39;00m\u001b[38;5;124m not in index\u001b[39m\u001b[38;5;124m\"\u001b[39m)\n",
      "\u001b[1;31mKeyError\u001b[0m: \"None of [Index(['AMT_REQ_CREDIT_BUREAU_HOUR', 'AMT_REQ_CREDIT_BUREAU_DAY',\\n       'AMT_REQ_CREDIT_BUREAU_WEEK', 'AMT_REQ_CREDIT_BUREAU_MON',\\n       'AMT_REQ_CREDIT_BUREAU_QRT', 'AMT_REQ_CREDIT_BUREAU_YEAR'],\\n      dtype='object')] are in the [columns]\""
     ]
    },
    {
     "data": {
      "text/plain": [
       "<Figure size 1400x1000 with 0 Axes>"
      ]
     },
     "metadata": {},
     "output_type": "display_data"
    }
   ],
   "source": [
    "plt.figure(figsize=(14,10))\n",
    "sns.boxplot(df_app[AMT_REQ_CREDIT],color=\"seagreen\")\n",
    "plt.show()"
   ]
  },
  {
   "cell_type": "code",
   "execution_count": 238,
   "id": "79eda516-ee00-4090-879a-71ddae3f34f0",
   "metadata": {},
   "outputs": [
    {
     "ename": "KeyError",
     "evalue": "\"None of [Index(['AMT_REQ_CREDIT_BUREAU_HOUR', 'AMT_REQ_CREDIT_BUREAU_DAY',\\n       'AMT_REQ_CREDIT_BUREAU_WEEK', 'AMT_REQ_CREDIT_BUREAU_MON',\\n       'AMT_REQ_CREDIT_BUREAU_QRT', 'AMT_REQ_CREDIT_BUREAU_YEAR'],\\n      dtype='object')] are in the [columns]\"",
     "output_type": "error",
     "traceback": [
      "\u001b[1;31m---------------------------------------------------------------------------\u001b[0m",
      "\u001b[1;31mKeyError\u001b[0m                                  Traceback (most recent call last)",
      "Cell \u001b[1;32mIn[238], line 1\u001b[0m\n\u001b[1;32m----> 1\u001b[0m df_app[AMT_REQ_CREDIT]\u001b[38;5;241m=\u001b[39mdf_app[AMT_REQ_CREDIT]\u001b[38;5;241m.\u001b[39mfillna(df_app[AMT_REQ_CREDIT]\u001b[38;5;241m.\u001b[39mmedian())\n",
      "File \u001b[1;32m~\\anaconda3\\Lib\\site-packages\\pandas\\core\\frame.py:4108\u001b[0m, in \u001b[0;36mDataFrame.__getitem__\u001b[1;34m(self, key)\u001b[0m\n\u001b[0;32m   4106\u001b[0m     \u001b[38;5;28;01mif\u001b[39;00m is_iterator(key):\n\u001b[0;32m   4107\u001b[0m         key \u001b[38;5;241m=\u001b[39m \u001b[38;5;28mlist\u001b[39m(key)\n\u001b[1;32m-> 4108\u001b[0m     indexer \u001b[38;5;241m=\u001b[39m \u001b[38;5;28mself\u001b[39m\u001b[38;5;241m.\u001b[39mcolumns\u001b[38;5;241m.\u001b[39m_get_indexer_strict(key, \u001b[38;5;124m\"\u001b[39m\u001b[38;5;124mcolumns\u001b[39m\u001b[38;5;124m\"\u001b[39m)[\u001b[38;5;241m1\u001b[39m]\n\u001b[0;32m   4110\u001b[0m \u001b[38;5;66;03m# take() does not accept boolean indexers\u001b[39;00m\n\u001b[0;32m   4111\u001b[0m \u001b[38;5;28;01mif\u001b[39;00m \u001b[38;5;28mgetattr\u001b[39m(indexer, \u001b[38;5;124m\"\u001b[39m\u001b[38;5;124mdtype\u001b[39m\u001b[38;5;124m\"\u001b[39m, \u001b[38;5;28;01mNone\u001b[39;00m) \u001b[38;5;241m==\u001b[39m \u001b[38;5;28mbool\u001b[39m:\n",
      "File \u001b[1;32m~\\anaconda3\\Lib\\site-packages\\pandas\\core\\indexes\\base.py:6200\u001b[0m, in \u001b[0;36mIndex._get_indexer_strict\u001b[1;34m(self, key, axis_name)\u001b[0m\n\u001b[0;32m   6197\u001b[0m \u001b[38;5;28;01melse\u001b[39;00m:\n\u001b[0;32m   6198\u001b[0m     keyarr, indexer, new_indexer \u001b[38;5;241m=\u001b[39m \u001b[38;5;28mself\u001b[39m\u001b[38;5;241m.\u001b[39m_reindex_non_unique(keyarr)\n\u001b[1;32m-> 6200\u001b[0m \u001b[38;5;28mself\u001b[39m\u001b[38;5;241m.\u001b[39m_raise_if_missing(keyarr, indexer, axis_name)\n\u001b[0;32m   6202\u001b[0m keyarr \u001b[38;5;241m=\u001b[39m \u001b[38;5;28mself\u001b[39m\u001b[38;5;241m.\u001b[39mtake(indexer)\n\u001b[0;32m   6203\u001b[0m \u001b[38;5;28;01mif\u001b[39;00m \u001b[38;5;28misinstance\u001b[39m(key, Index):\n\u001b[0;32m   6204\u001b[0m     \u001b[38;5;66;03m# GH 42790 - Preserve name from an Index\u001b[39;00m\n",
      "File \u001b[1;32m~\\anaconda3\\Lib\\site-packages\\pandas\\core\\indexes\\base.py:6249\u001b[0m, in \u001b[0;36mIndex._raise_if_missing\u001b[1;34m(self, key, indexer, axis_name)\u001b[0m\n\u001b[0;32m   6247\u001b[0m \u001b[38;5;28;01mif\u001b[39;00m nmissing:\n\u001b[0;32m   6248\u001b[0m     \u001b[38;5;28;01mif\u001b[39;00m nmissing \u001b[38;5;241m==\u001b[39m \u001b[38;5;28mlen\u001b[39m(indexer):\n\u001b[1;32m-> 6249\u001b[0m         \u001b[38;5;28;01mraise\u001b[39;00m \u001b[38;5;167;01mKeyError\u001b[39;00m(\u001b[38;5;124mf\u001b[39m\u001b[38;5;124m\"\u001b[39m\u001b[38;5;124mNone of [\u001b[39m\u001b[38;5;132;01m{\u001b[39;00mkey\u001b[38;5;132;01m}\u001b[39;00m\u001b[38;5;124m] are in the [\u001b[39m\u001b[38;5;132;01m{\u001b[39;00maxis_name\u001b[38;5;132;01m}\u001b[39;00m\u001b[38;5;124m]\u001b[39m\u001b[38;5;124m\"\u001b[39m)\n\u001b[0;32m   6251\u001b[0m     not_found \u001b[38;5;241m=\u001b[39m \u001b[38;5;28mlist\u001b[39m(ensure_index(key)[missing_mask\u001b[38;5;241m.\u001b[39mnonzero()[\u001b[38;5;241m0\u001b[39m]]\u001b[38;5;241m.\u001b[39munique())\n\u001b[0;32m   6252\u001b[0m     \u001b[38;5;28;01mraise\u001b[39;00m \u001b[38;5;167;01mKeyError\u001b[39;00m(\u001b[38;5;124mf\u001b[39m\u001b[38;5;124m\"\u001b[39m\u001b[38;5;132;01m{\u001b[39;00mnot_found\u001b[38;5;132;01m}\u001b[39;00m\u001b[38;5;124m not in index\u001b[39m\u001b[38;5;124m\"\u001b[39m)\n",
      "\u001b[1;31mKeyError\u001b[0m: \"None of [Index(['AMT_REQ_CREDIT_BUREAU_HOUR', 'AMT_REQ_CREDIT_BUREAU_DAY',\\n       'AMT_REQ_CREDIT_BUREAU_WEEK', 'AMT_REQ_CREDIT_BUREAU_MON',\\n       'AMT_REQ_CREDIT_BUREAU_QRT', 'AMT_REQ_CREDIT_BUREAU_YEAR'],\\n      dtype='object')] are in the [columns]\""
     ]
    }
   ],
   "source": [
    "df_app[AMT_REQ_CREDIT]=df_app[AMT_REQ_CREDIT].fillna(df_app[AMT_REQ_CREDIT].median())"
   ]
  },
  {
   "cell_type": "code",
   "execution_count": 240,
   "id": "a4866f49-1315-439d-84bc-4fb3f848e08d",
   "metadata": {},
   "outputs": [
    {
     "ename": "KeyError",
     "evalue": "\"None of [Index(['AMT_REQ_CREDIT_BUREAU_HOUR', 'AMT_REQ_CREDIT_BUREAU_DAY',\\n       'AMT_REQ_CREDIT_BUREAU_WEEK', 'AMT_REQ_CREDIT_BUREAU_MON',\\n       'AMT_REQ_CREDIT_BUREAU_QRT', 'AMT_REQ_CREDIT_BUREAU_YEAR'],\\n      dtype='object')] are in the [columns]\"",
     "output_type": "error",
     "traceback": [
      "\u001b[1;31m---------------------------------------------------------------------------\u001b[0m",
      "\u001b[1;31mKeyError\u001b[0m                                  Traceback (most recent call last)",
      "Cell \u001b[1;32mIn[240], line 1\u001b[0m\n\u001b[1;32m----> 1\u001b[0m df_app[AMT_REQ_CREDIT]\u001b[38;5;241m.\u001b[39misnull()\u001b[38;5;241m.\u001b[39msum()\n",
      "File \u001b[1;32m~\\anaconda3\\Lib\\site-packages\\pandas\\core\\frame.py:4108\u001b[0m, in \u001b[0;36mDataFrame.__getitem__\u001b[1;34m(self, key)\u001b[0m\n\u001b[0;32m   4106\u001b[0m     \u001b[38;5;28;01mif\u001b[39;00m is_iterator(key):\n\u001b[0;32m   4107\u001b[0m         key \u001b[38;5;241m=\u001b[39m \u001b[38;5;28mlist\u001b[39m(key)\n\u001b[1;32m-> 4108\u001b[0m     indexer \u001b[38;5;241m=\u001b[39m \u001b[38;5;28mself\u001b[39m\u001b[38;5;241m.\u001b[39mcolumns\u001b[38;5;241m.\u001b[39m_get_indexer_strict(key, \u001b[38;5;124m\"\u001b[39m\u001b[38;5;124mcolumns\u001b[39m\u001b[38;5;124m\"\u001b[39m)[\u001b[38;5;241m1\u001b[39m]\n\u001b[0;32m   4110\u001b[0m \u001b[38;5;66;03m# take() does not accept boolean indexers\u001b[39;00m\n\u001b[0;32m   4111\u001b[0m \u001b[38;5;28;01mif\u001b[39;00m \u001b[38;5;28mgetattr\u001b[39m(indexer, \u001b[38;5;124m\"\u001b[39m\u001b[38;5;124mdtype\u001b[39m\u001b[38;5;124m\"\u001b[39m, \u001b[38;5;28;01mNone\u001b[39;00m) \u001b[38;5;241m==\u001b[39m \u001b[38;5;28mbool\u001b[39m:\n",
      "File \u001b[1;32m~\\anaconda3\\Lib\\site-packages\\pandas\\core\\indexes\\base.py:6200\u001b[0m, in \u001b[0;36mIndex._get_indexer_strict\u001b[1;34m(self, key, axis_name)\u001b[0m\n\u001b[0;32m   6197\u001b[0m \u001b[38;5;28;01melse\u001b[39;00m:\n\u001b[0;32m   6198\u001b[0m     keyarr, indexer, new_indexer \u001b[38;5;241m=\u001b[39m \u001b[38;5;28mself\u001b[39m\u001b[38;5;241m.\u001b[39m_reindex_non_unique(keyarr)\n\u001b[1;32m-> 6200\u001b[0m \u001b[38;5;28mself\u001b[39m\u001b[38;5;241m.\u001b[39m_raise_if_missing(keyarr, indexer, axis_name)\n\u001b[0;32m   6202\u001b[0m keyarr \u001b[38;5;241m=\u001b[39m \u001b[38;5;28mself\u001b[39m\u001b[38;5;241m.\u001b[39mtake(indexer)\n\u001b[0;32m   6203\u001b[0m \u001b[38;5;28;01mif\u001b[39;00m \u001b[38;5;28misinstance\u001b[39m(key, Index):\n\u001b[0;32m   6204\u001b[0m     \u001b[38;5;66;03m# GH 42790 - Preserve name from an Index\u001b[39;00m\n",
      "File \u001b[1;32m~\\anaconda3\\Lib\\site-packages\\pandas\\core\\indexes\\base.py:6249\u001b[0m, in \u001b[0;36mIndex._raise_if_missing\u001b[1;34m(self, key, indexer, axis_name)\u001b[0m\n\u001b[0;32m   6247\u001b[0m \u001b[38;5;28;01mif\u001b[39;00m nmissing:\n\u001b[0;32m   6248\u001b[0m     \u001b[38;5;28;01mif\u001b[39;00m nmissing \u001b[38;5;241m==\u001b[39m \u001b[38;5;28mlen\u001b[39m(indexer):\n\u001b[1;32m-> 6249\u001b[0m         \u001b[38;5;28;01mraise\u001b[39;00m \u001b[38;5;167;01mKeyError\u001b[39;00m(\u001b[38;5;124mf\u001b[39m\u001b[38;5;124m\"\u001b[39m\u001b[38;5;124mNone of [\u001b[39m\u001b[38;5;132;01m{\u001b[39;00mkey\u001b[38;5;132;01m}\u001b[39;00m\u001b[38;5;124m] are in the [\u001b[39m\u001b[38;5;132;01m{\u001b[39;00maxis_name\u001b[38;5;132;01m}\u001b[39;00m\u001b[38;5;124m]\u001b[39m\u001b[38;5;124m\"\u001b[39m)\n\u001b[0;32m   6251\u001b[0m     not_found \u001b[38;5;241m=\u001b[39m \u001b[38;5;28mlist\u001b[39m(ensure_index(key)[missing_mask\u001b[38;5;241m.\u001b[39mnonzero()[\u001b[38;5;241m0\u001b[39m]]\u001b[38;5;241m.\u001b[39munique())\n\u001b[0;32m   6252\u001b[0m     \u001b[38;5;28;01mraise\u001b[39;00m \u001b[38;5;167;01mKeyError\u001b[39;00m(\u001b[38;5;124mf\u001b[39m\u001b[38;5;124m\"\u001b[39m\u001b[38;5;132;01m{\u001b[39;00mnot_found\u001b[38;5;132;01m}\u001b[39;00m\u001b[38;5;124m not in index\u001b[39m\u001b[38;5;124m\"\u001b[39m)\n",
      "\u001b[1;31mKeyError\u001b[0m: \"None of [Index(['AMT_REQ_CREDIT_BUREAU_HOUR', 'AMT_REQ_CREDIT_BUREAU_DAY',\\n       'AMT_REQ_CREDIT_BUREAU_WEEK', 'AMT_REQ_CREDIT_BUREAU_MON',\\n       'AMT_REQ_CREDIT_BUREAU_QRT', 'AMT_REQ_CREDIT_BUREAU_YEAR'],\\n      dtype='object')] are in the [columns]\""
     ]
    }
   ],
   "source": [
    "df_app[AMT_REQ_CREDIT].isnull().sum()"
   ]
  },
  {
   "cell_type": "code",
   "execution_count": 242,
   "id": "0eee5b87-c43c-4c5b-8554-a95882678ecf",
   "metadata": {},
   "outputs": [
    {
     "data": {
      "text/plain": [
       "Index(['SK_ID_PREV', 'SK_ID_CURR', 'NAME_CONTRACT_TYPE', 'AMT_ANNUITY',\n",
       "       'AMT_APPLICATION', 'AMT_CREDIT', 'AMT_GOODS_PRICE',\n",
       "       'WEEKDAY_APPR_PROCESS_START', 'HOUR_APPR_PROCESS_START',\n",
       "       'FLAG_LAST_APPL_PER_CONTRACT', 'NFLAG_LAST_APPL_IN_DAY',\n",
       "       'NAME_CASH_LOAN_PURPOSE', 'NAME_CONTRACT_STATUS', 'DAYS_DECISION',\n",
       "       'NAME_PAYMENT_TYPE', 'CODE_REJECT_REASON', 'NAME_CLIENT_TYPE',\n",
       "       'NAME_GOODS_CATEGORY', 'NAME_PORTFOLIO', 'NAME_PRODUCT_TYPE',\n",
       "       'CHANNEL_TYPE', 'SELLERPLACE_AREA', 'NAME_SELLER_INDUSTRY',\n",
       "       'CNT_PAYMENT', 'NAME_YIELD_GROUP', 'PRODUCT_COMBINATION',\n",
       "       'DAYS_FIRST_DRAWING', 'DAYS_FIRST_DUE', 'DAYS_LAST_DUE_1ST_VERSION',\n",
       "       'DAYS_LAST_DUE', 'DAYS_TERMINATION', 'NFLAG_INSURED_ON_APPROVAL'],\n",
       "      dtype='object')"
      ]
     },
     "execution_count": 242,
     "metadata": {},
     "output_type": "execute_result"
    }
   ],
   "source": [
    "df_app.columns"
   ]
  },
  {
   "cell_type": "code",
   "execution_count": 244,
   "id": "5b3dc303-167c-4616-9a15-2a850e96fa5e",
   "metadata": {},
   "outputs": [
    {
     "ename": "KeyError",
     "evalue": "\"None of [Index(['OBS_30_CNT_SOCIAL_CIRCLE', 'DEF_30_CNT_SOCIAL_CIRCLE',\\n       'OBS_60_CNT_SOCIAL_CIRCLE', 'DEF_60_CNT_SOCIAL_CIRCLE'],\\n      dtype='object')] are in the [columns]\"",
     "output_type": "error",
     "traceback": [
      "\u001b[1;31m---------------------------------------------------------------------------\u001b[0m",
      "\u001b[1;31mKeyError\u001b[0m                                  Traceback (most recent call last)",
      "Cell \u001b[1;32mIn[244], line 1\u001b[0m\n\u001b[1;32m----> 1\u001b[0m df_app[[\u001b[38;5;124m'\u001b[39m\u001b[38;5;124mOBS_30_CNT_SOCIAL_CIRCLE\u001b[39m\u001b[38;5;124m'\u001b[39m, \u001b[38;5;124m'\u001b[39m\u001b[38;5;124mDEF_30_CNT_SOCIAL_CIRCLE\u001b[39m\u001b[38;5;124m'\u001b[39m,\n\u001b[0;32m      2\u001b[0m        \u001b[38;5;124m'\u001b[39m\u001b[38;5;124mOBS_60_CNT_SOCIAL_CIRCLE\u001b[39m\u001b[38;5;124m'\u001b[39m, \u001b[38;5;124m'\u001b[39m\u001b[38;5;124mDEF_60_CNT_SOCIAL_CIRCLE\u001b[39m\u001b[38;5;124m'\u001b[39m]]\n",
      "File \u001b[1;32m~\\anaconda3\\Lib\\site-packages\\pandas\\core\\frame.py:4108\u001b[0m, in \u001b[0;36mDataFrame.__getitem__\u001b[1;34m(self, key)\u001b[0m\n\u001b[0;32m   4106\u001b[0m     \u001b[38;5;28;01mif\u001b[39;00m is_iterator(key):\n\u001b[0;32m   4107\u001b[0m         key \u001b[38;5;241m=\u001b[39m \u001b[38;5;28mlist\u001b[39m(key)\n\u001b[1;32m-> 4108\u001b[0m     indexer \u001b[38;5;241m=\u001b[39m \u001b[38;5;28mself\u001b[39m\u001b[38;5;241m.\u001b[39mcolumns\u001b[38;5;241m.\u001b[39m_get_indexer_strict(key, \u001b[38;5;124m\"\u001b[39m\u001b[38;5;124mcolumns\u001b[39m\u001b[38;5;124m\"\u001b[39m)[\u001b[38;5;241m1\u001b[39m]\n\u001b[0;32m   4110\u001b[0m \u001b[38;5;66;03m# take() does not accept boolean indexers\u001b[39;00m\n\u001b[0;32m   4111\u001b[0m \u001b[38;5;28;01mif\u001b[39;00m \u001b[38;5;28mgetattr\u001b[39m(indexer, \u001b[38;5;124m\"\u001b[39m\u001b[38;5;124mdtype\u001b[39m\u001b[38;5;124m\"\u001b[39m, \u001b[38;5;28;01mNone\u001b[39;00m) \u001b[38;5;241m==\u001b[39m \u001b[38;5;28mbool\u001b[39m:\n",
      "File \u001b[1;32m~\\anaconda3\\Lib\\site-packages\\pandas\\core\\indexes\\base.py:6200\u001b[0m, in \u001b[0;36mIndex._get_indexer_strict\u001b[1;34m(self, key, axis_name)\u001b[0m\n\u001b[0;32m   6197\u001b[0m \u001b[38;5;28;01melse\u001b[39;00m:\n\u001b[0;32m   6198\u001b[0m     keyarr, indexer, new_indexer \u001b[38;5;241m=\u001b[39m \u001b[38;5;28mself\u001b[39m\u001b[38;5;241m.\u001b[39m_reindex_non_unique(keyarr)\n\u001b[1;32m-> 6200\u001b[0m \u001b[38;5;28mself\u001b[39m\u001b[38;5;241m.\u001b[39m_raise_if_missing(keyarr, indexer, axis_name)\n\u001b[0;32m   6202\u001b[0m keyarr \u001b[38;5;241m=\u001b[39m \u001b[38;5;28mself\u001b[39m\u001b[38;5;241m.\u001b[39mtake(indexer)\n\u001b[0;32m   6203\u001b[0m \u001b[38;5;28;01mif\u001b[39;00m \u001b[38;5;28misinstance\u001b[39m(key, Index):\n\u001b[0;32m   6204\u001b[0m     \u001b[38;5;66;03m# GH 42790 - Preserve name from an Index\u001b[39;00m\n",
      "File \u001b[1;32m~\\anaconda3\\Lib\\site-packages\\pandas\\core\\indexes\\base.py:6249\u001b[0m, in \u001b[0;36mIndex._raise_if_missing\u001b[1;34m(self, key, indexer, axis_name)\u001b[0m\n\u001b[0;32m   6247\u001b[0m \u001b[38;5;28;01mif\u001b[39;00m nmissing:\n\u001b[0;32m   6248\u001b[0m     \u001b[38;5;28;01mif\u001b[39;00m nmissing \u001b[38;5;241m==\u001b[39m \u001b[38;5;28mlen\u001b[39m(indexer):\n\u001b[1;32m-> 6249\u001b[0m         \u001b[38;5;28;01mraise\u001b[39;00m \u001b[38;5;167;01mKeyError\u001b[39;00m(\u001b[38;5;124mf\u001b[39m\u001b[38;5;124m\"\u001b[39m\u001b[38;5;124mNone of [\u001b[39m\u001b[38;5;132;01m{\u001b[39;00mkey\u001b[38;5;132;01m}\u001b[39;00m\u001b[38;5;124m] are in the [\u001b[39m\u001b[38;5;132;01m{\u001b[39;00maxis_name\u001b[38;5;132;01m}\u001b[39;00m\u001b[38;5;124m]\u001b[39m\u001b[38;5;124m\"\u001b[39m)\n\u001b[0;32m   6251\u001b[0m     not_found \u001b[38;5;241m=\u001b[39m \u001b[38;5;28mlist\u001b[39m(ensure_index(key)[missing_mask\u001b[38;5;241m.\u001b[39mnonzero()[\u001b[38;5;241m0\u001b[39m]]\u001b[38;5;241m.\u001b[39munique())\n\u001b[0;32m   6252\u001b[0m     \u001b[38;5;28;01mraise\u001b[39;00m \u001b[38;5;167;01mKeyError\u001b[39;00m(\u001b[38;5;124mf\u001b[39m\u001b[38;5;124m\"\u001b[39m\u001b[38;5;132;01m{\u001b[39;00mnot_found\u001b[38;5;132;01m}\u001b[39;00m\u001b[38;5;124m not in index\u001b[39m\u001b[38;5;124m\"\u001b[39m)\n",
      "\u001b[1;31mKeyError\u001b[0m: \"None of [Index(['OBS_30_CNT_SOCIAL_CIRCLE', 'DEF_30_CNT_SOCIAL_CIRCLE',\\n       'OBS_60_CNT_SOCIAL_CIRCLE', 'DEF_60_CNT_SOCIAL_CIRCLE'],\\n      dtype='object')] are in the [columns]\""
     ]
    }
   ],
   "source": [
    "df_app[['OBS_30_CNT_SOCIAL_CIRCLE', 'DEF_30_CNT_SOCIAL_CIRCLE',\n",
    "       'OBS_60_CNT_SOCIAL_CIRCLE', 'DEF_60_CNT_SOCIAL_CIRCLE']]"
   ]
  },
  {
   "cell_type": "code",
   "execution_count": 246,
   "id": "f546e93e-dfac-4512-9a20-5626d39979c2",
   "metadata": {},
   "outputs": [
    {
     "ename": "KeyError",
     "evalue": "\"None of [Index(['OBS_30_CNT_SOCIAL_CIRCLE', 'DEF_30_CNT_SOCIAL_CIRCLE',\\n       'OBS_60_CNT_SOCIAL_CIRCLE', 'DEF_60_CNT_SOCIAL_CIRCLE'],\\n      dtype='object')] are in the [columns]\"",
     "output_type": "error",
     "traceback": [
      "\u001b[1;31m---------------------------------------------------------------------------\u001b[0m",
      "\u001b[1;31mKeyError\u001b[0m                                  Traceback (most recent call last)",
      "Cell \u001b[1;32mIn[246], line 3\u001b[0m\n\u001b[0;32m      1\u001b[0m SOCIAL_CIRCLE\u001b[38;5;241m=\u001b[39m[\u001b[38;5;124m'\u001b[39m\u001b[38;5;124mOBS_30_CNT_SOCIAL_CIRCLE\u001b[39m\u001b[38;5;124m'\u001b[39m, \u001b[38;5;124m'\u001b[39m\u001b[38;5;124mDEF_30_CNT_SOCIAL_CIRCLE\u001b[39m\u001b[38;5;124m'\u001b[39m,\n\u001b[0;32m      2\u001b[0m        \u001b[38;5;124m'\u001b[39m\u001b[38;5;124mOBS_60_CNT_SOCIAL_CIRCLE\u001b[39m\u001b[38;5;124m'\u001b[39m, \u001b[38;5;124m'\u001b[39m\u001b[38;5;124mDEF_60_CNT_SOCIAL_CIRCLE\u001b[39m\u001b[38;5;124m'\u001b[39m]\n\u001b[1;32m----> 3\u001b[0m df_app[SOCIAL_CIRCLE]\n",
      "File \u001b[1;32m~\\anaconda3\\Lib\\site-packages\\pandas\\core\\frame.py:4108\u001b[0m, in \u001b[0;36mDataFrame.__getitem__\u001b[1;34m(self, key)\u001b[0m\n\u001b[0;32m   4106\u001b[0m     \u001b[38;5;28;01mif\u001b[39;00m is_iterator(key):\n\u001b[0;32m   4107\u001b[0m         key \u001b[38;5;241m=\u001b[39m \u001b[38;5;28mlist\u001b[39m(key)\n\u001b[1;32m-> 4108\u001b[0m     indexer \u001b[38;5;241m=\u001b[39m \u001b[38;5;28mself\u001b[39m\u001b[38;5;241m.\u001b[39mcolumns\u001b[38;5;241m.\u001b[39m_get_indexer_strict(key, \u001b[38;5;124m\"\u001b[39m\u001b[38;5;124mcolumns\u001b[39m\u001b[38;5;124m\"\u001b[39m)[\u001b[38;5;241m1\u001b[39m]\n\u001b[0;32m   4110\u001b[0m \u001b[38;5;66;03m# take() does not accept boolean indexers\u001b[39;00m\n\u001b[0;32m   4111\u001b[0m \u001b[38;5;28;01mif\u001b[39;00m \u001b[38;5;28mgetattr\u001b[39m(indexer, \u001b[38;5;124m\"\u001b[39m\u001b[38;5;124mdtype\u001b[39m\u001b[38;5;124m\"\u001b[39m, \u001b[38;5;28;01mNone\u001b[39;00m) \u001b[38;5;241m==\u001b[39m \u001b[38;5;28mbool\u001b[39m:\n",
      "File \u001b[1;32m~\\anaconda3\\Lib\\site-packages\\pandas\\core\\indexes\\base.py:6200\u001b[0m, in \u001b[0;36mIndex._get_indexer_strict\u001b[1;34m(self, key, axis_name)\u001b[0m\n\u001b[0;32m   6197\u001b[0m \u001b[38;5;28;01melse\u001b[39;00m:\n\u001b[0;32m   6198\u001b[0m     keyarr, indexer, new_indexer \u001b[38;5;241m=\u001b[39m \u001b[38;5;28mself\u001b[39m\u001b[38;5;241m.\u001b[39m_reindex_non_unique(keyarr)\n\u001b[1;32m-> 6200\u001b[0m \u001b[38;5;28mself\u001b[39m\u001b[38;5;241m.\u001b[39m_raise_if_missing(keyarr, indexer, axis_name)\n\u001b[0;32m   6202\u001b[0m keyarr \u001b[38;5;241m=\u001b[39m \u001b[38;5;28mself\u001b[39m\u001b[38;5;241m.\u001b[39mtake(indexer)\n\u001b[0;32m   6203\u001b[0m \u001b[38;5;28;01mif\u001b[39;00m \u001b[38;5;28misinstance\u001b[39m(key, Index):\n\u001b[0;32m   6204\u001b[0m     \u001b[38;5;66;03m# GH 42790 - Preserve name from an Index\u001b[39;00m\n",
      "File \u001b[1;32m~\\anaconda3\\Lib\\site-packages\\pandas\\core\\indexes\\base.py:6249\u001b[0m, in \u001b[0;36mIndex._raise_if_missing\u001b[1;34m(self, key, indexer, axis_name)\u001b[0m\n\u001b[0;32m   6247\u001b[0m \u001b[38;5;28;01mif\u001b[39;00m nmissing:\n\u001b[0;32m   6248\u001b[0m     \u001b[38;5;28;01mif\u001b[39;00m nmissing \u001b[38;5;241m==\u001b[39m \u001b[38;5;28mlen\u001b[39m(indexer):\n\u001b[1;32m-> 6249\u001b[0m         \u001b[38;5;28;01mraise\u001b[39;00m \u001b[38;5;167;01mKeyError\u001b[39;00m(\u001b[38;5;124mf\u001b[39m\u001b[38;5;124m\"\u001b[39m\u001b[38;5;124mNone of [\u001b[39m\u001b[38;5;132;01m{\u001b[39;00mkey\u001b[38;5;132;01m}\u001b[39;00m\u001b[38;5;124m] are in the [\u001b[39m\u001b[38;5;132;01m{\u001b[39;00maxis_name\u001b[38;5;132;01m}\u001b[39;00m\u001b[38;5;124m]\u001b[39m\u001b[38;5;124m\"\u001b[39m)\n\u001b[0;32m   6251\u001b[0m     not_found \u001b[38;5;241m=\u001b[39m \u001b[38;5;28mlist\u001b[39m(ensure_index(key)[missing_mask\u001b[38;5;241m.\u001b[39mnonzero()[\u001b[38;5;241m0\u001b[39m]]\u001b[38;5;241m.\u001b[39munique())\n\u001b[0;32m   6252\u001b[0m     \u001b[38;5;28;01mraise\u001b[39;00m \u001b[38;5;167;01mKeyError\u001b[39;00m(\u001b[38;5;124mf\u001b[39m\u001b[38;5;124m\"\u001b[39m\u001b[38;5;132;01m{\u001b[39;00mnot_found\u001b[38;5;132;01m}\u001b[39;00m\u001b[38;5;124m not in index\u001b[39m\u001b[38;5;124m\"\u001b[39m)\n",
      "\u001b[1;31mKeyError\u001b[0m: \"None of [Index(['OBS_30_CNT_SOCIAL_CIRCLE', 'DEF_30_CNT_SOCIAL_CIRCLE',\\n       'OBS_60_CNT_SOCIAL_CIRCLE', 'DEF_60_CNT_SOCIAL_CIRCLE'],\\n      dtype='object')] are in the [columns]\""
     ]
    }
   ],
   "source": [
    "SOCIAL_CIRCLE=['OBS_30_CNT_SOCIAL_CIRCLE', 'DEF_30_CNT_SOCIAL_CIRCLE',\n",
    "       'OBS_60_CNT_SOCIAL_CIRCLE', 'DEF_60_CNT_SOCIAL_CIRCLE']\n",
    "df_app[SOCIAL_CIRCLE]"
   ]
  },
  {
   "cell_type": "code",
   "execution_count": 248,
   "id": "922356a5-7842-407c-958e-a93c6c68dcd6",
   "metadata": {},
   "outputs": [
    {
     "ename": "KeyError",
     "evalue": "\"None of [Index(['OBS_30_CNT_SOCIAL_CIRCLE', 'DEF_30_CNT_SOCIAL_CIRCLE',\\n       'OBS_60_CNT_SOCIAL_CIRCLE', 'DEF_60_CNT_SOCIAL_CIRCLE'],\\n      dtype='object')] are in the [columns]\"",
     "output_type": "error",
     "traceback": [
      "\u001b[1;31m---------------------------------------------------------------------------\u001b[0m",
      "\u001b[1;31mKeyError\u001b[0m                                  Traceback (most recent call last)",
      "Cell \u001b[1;32mIn[248], line 1\u001b[0m\n\u001b[1;32m----> 1\u001b[0m df_app[SOCIAL_CIRCLE]\u001b[38;5;241m.\u001b[39misnull()\u001b[38;5;241m.\u001b[39msum()\n",
      "File \u001b[1;32m~\\anaconda3\\Lib\\site-packages\\pandas\\core\\frame.py:4108\u001b[0m, in \u001b[0;36mDataFrame.__getitem__\u001b[1;34m(self, key)\u001b[0m\n\u001b[0;32m   4106\u001b[0m     \u001b[38;5;28;01mif\u001b[39;00m is_iterator(key):\n\u001b[0;32m   4107\u001b[0m         key \u001b[38;5;241m=\u001b[39m \u001b[38;5;28mlist\u001b[39m(key)\n\u001b[1;32m-> 4108\u001b[0m     indexer \u001b[38;5;241m=\u001b[39m \u001b[38;5;28mself\u001b[39m\u001b[38;5;241m.\u001b[39mcolumns\u001b[38;5;241m.\u001b[39m_get_indexer_strict(key, \u001b[38;5;124m\"\u001b[39m\u001b[38;5;124mcolumns\u001b[39m\u001b[38;5;124m\"\u001b[39m)[\u001b[38;5;241m1\u001b[39m]\n\u001b[0;32m   4110\u001b[0m \u001b[38;5;66;03m# take() does not accept boolean indexers\u001b[39;00m\n\u001b[0;32m   4111\u001b[0m \u001b[38;5;28;01mif\u001b[39;00m \u001b[38;5;28mgetattr\u001b[39m(indexer, \u001b[38;5;124m\"\u001b[39m\u001b[38;5;124mdtype\u001b[39m\u001b[38;5;124m\"\u001b[39m, \u001b[38;5;28;01mNone\u001b[39;00m) \u001b[38;5;241m==\u001b[39m \u001b[38;5;28mbool\u001b[39m:\n",
      "File \u001b[1;32m~\\anaconda3\\Lib\\site-packages\\pandas\\core\\indexes\\base.py:6200\u001b[0m, in \u001b[0;36mIndex._get_indexer_strict\u001b[1;34m(self, key, axis_name)\u001b[0m\n\u001b[0;32m   6197\u001b[0m \u001b[38;5;28;01melse\u001b[39;00m:\n\u001b[0;32m   6198\u001b[0m     keyarr, indexer, new_indexer \u001b[38;5;241m=\u001b[39m \u001b[38;5;28mself\u001b[39m\u001b[38;5;241m.\u001b[39m_reindex_non_unique(keyarr)\n\u001b[1;32m-> 6200\u001b[0m \u001b[38;5;28mself\u001b[39m\u001b[38;5;241m.\u001b[39m_raise_if_missing(keyarr, indexer, axis_name)\n\u001b[0;32m   6202\u001b[0m keyarr \u001b[38;5;241m=\u001b[39m \u001b[38;5;28mself\u001b[39m\u001b[38;5;241m.\u001b[39mtake(indexer)\n\u001b[0;32m   6203\u001b[0m \u001b[38;5;28;01mif\u001b[39;00m \u001b[38;5;28misinstance\u001b[39m(key, Index):\n\u001b[0;32m   6204\u001b[0m     \u001b[38;5;66;03m# GH 42790 - Preserve name from an Index\u001b[39;00m\n",
      "File \u001b[1;32m~\\anaconda3\\Lib\\site-packages\\pandas\\core\\indexes\\base.py:6249\u001b[0m, in \u001b[0;36mIndex._raise_if_missing\u001b[1;34m(self, key, indexer, axis_name)\u001b[0m\n\u001b[0;32m   6247\u001b[0m \u001b[38;5;28;01mif\u001b[39;00m nmissing:\n\u001b[0;32m   6248\u001b[0m     \u001b[38;5;28;01mif\u001b[39;00m nmissing \u001b[38;5;241m==\u001b[39m \u001b[38;5;28mlen\u001b[39m(indexer):\n\u001b[1;32m-> 6249\u001b[0m         \u001b[38;5;28;01mraise\u001b[39;00m \u001b[38;5;167;01mKeyError\u001b[39;00m(\u001b[38;5;124mf\u001b[39m\u001b[38;5;124m\"\u001b[39m\u001b[38;5;124mNone of [\u001b[39m\u001b[38;5;132;01m{\u001b[39;00mkey\u001b[38;5;132;01m}\u001b[39;00m\u001b[38;5;124m] are in the [\u001b[39m\u001b[38;5;132;01m{\u001b[39;00maxis_name\u001b[38;5;132;01m}\u001b[39;00m\u001b[38;5;124m]\u001b[39m\u001b[38;5;124m\"\u001b[39m)\n\u001b[0;32m   6251\u001b[0m     not_found \u001b[38;5;241m=\u001b[39m \u001b[38;5;28mlist\u001b[39m(ensure_index(key)[missing_mask\u001b[38;5;241m.\u001b[39mnonzero()[\u001b[38;5;241m0\u001b[39m]]\u001b[38;5;241m.\u001b[39munique())\n\u001b[0;32m   6252\u001b[0m     \u001b[38;5;28;01mraise\u001b[39;00m \u001b[38;5;167;01mKeyError\u001b[39;00m(\u001b[38;5;124mf\u001b[39m\u001b[38;5;124m\"\u001b[39m\u001b[38;5;132;01m{\u001b[39;00mnot_found\u001b[38;5;132;01m}\u001b[39;00m\u001b[38;5;124m not in index\u001b[39m\u001b[38;5;124m\"\u001b[39m)\n",
      "\u001b[1;31mKeyError\u001b[0m: \"None of [Index(['OBS_30_CNT_SOCIAL_CIRCLE', 'DEF_30_CNT_SOCIAL_CIRCLE',\\n       'OBS_60_CNT_SOCIAL_CIRCLE', 'DEF_60_CNT_SOCIAL_CIRCLE'],\\n      dtype='object')] are in the [columns]\""
     ]
    }
   ],
   "source": [
    "df_app[SOCIAL_CIRCLE].isnull().sum()"
   ]
  },
  {
   "cell_type": "code",
   "execution_count": null,
   "id": "e867730b-4163-4048-b53f-9a41231a4c7e",
   "metadata": {},
   "outputs": [],
   "source": [
    "df_app[SOCIAL_CIRCLE].describe()"
   ]
  },
  {
   "cell_type": "code",
   "execution_count": 251,
   "id": "1c311d32-5b82-4607-adde-15048cada14a",
   "metadata": {},
   "outputs": [
    {
     "ename": "KeyError",
     "evalue": "\"None of [Index(['OBS_30_CNT_SOCIAL_CIRCLE', 'DEF_30_CNT_SOCIAL_CIRCLE',\\n       'OBS_60_CNT_SOCIAL_CIRCLE', 'DEF_60_CNT_SOCIAL_CIRCLE'],\\n      dtype='object')] are in the [columns]\"",
     "output_type": "error",
     "traceback": [
      "\u001b[1;31m---------------------------------------------------------------------------\u001b[0m",
      "\u001b[1;31mKeyError\u001b[0m                                  Traceback (most recent call last)",
      "Cell \u001b[1;32mIn[251], line 2\u001b[0m\n\u001b[0;32m      1\u001b[0m plt\u001b[38;5;241m.\u001b[39mfigure(figsize\u001b[38;5;241m=\u001b[39m(\u001b[38;5;241m14\u001b[39m,\u001b[38;5;241m10\u001b[39m))\n\u001b[1;32m----> 2\u001b[0m sns\u001b[38;5;241m.\u001b[39mboxplot(df_app[SOCIAL_CIRCLE],color\u001b[38;5;241m=\u001b[39m\u001b[38;5;124m\"\u001b[39m\u001b[38;5;124mseagreen\u001b[39m\u001b[38;5;124m\"\u001b[39m)\n\u001b[0;32m      3\u001b[0m plt\u001b[38;5;241m.\u001b[39mshow()\n",
      "File \u001b[1;32m~\\anaconda3\\Lib\\site-packages\\pandas\\core\\frame.py:4108\u001b[0m, in \u001b[0;36mDataFrame.__getitem__\u001b[1;34m(self, key)\u001b[0m\n\u001b[0;32m   4106\u001b[0m     \u001b[38;5;28;01mif\u001b[39;00m is_iterator(key):\n\u001b[0;32m   4107\u001b[0m         key \u001b[38;5;241m=\u001b[39m \u001b[38;5;28mlist\u001b[39m(key)\n\u001b[1;32m-> 4108\u001b[0m     indexer \u001b[38;5;241m=\u001b[39m \u001b[38;5;28mself\u001b[39m\u001b[38;5;241m.\u001b[39mcolumns\u001b[38;5;241m.\u001b[39m_get_indexer_strict(key, \u001b[38;5;124m\"\u001b[39m\u001b[38;5;124mcolumns\u001b[39m\u001b[38;5;124m\"\u001b[39m)[\u001b[38;5;241m1\u001b[39m]\n\u001b[0;32m   4110\u001b[0m \u001b[38;5;66;03m# take() does not accept boolean indexers\u001b[39;00m\n\u001b[0;32m   4111\u001b[0m \u001b[38;5;28;01mif\u001b[39;00m \u001b[38;5;28mgetattr\u001b[39m(indexer, \u001b[38;5;124m\"\u001b[39m\u001b[38;5;124mdtype\u001b[39m\u001b[38;5;124m\"\u001b[39m, \u001b[38;5;28;01mNone\u001b[39;00m) \u001b[38;5;241m==\u001b[39m \u001b[38;5;28mbool\u001b[39m:\n",
      "File \u001b[1;32m~\\anaconda3\\Lib\\site-packages\\pandas\\core\\indexes\\base.py:6200\u001b[0m, in \u001b[0;36mIndex._get_indexer_strict\u001b[1;34m(self, key, axis_name)\u001b[0m\n\u001b[0;32m   6197\u001b[0m \u001b[38;5;28;01melse\u001b[39;00m:\n\u001b[0;32m   6198\u001b[0m     keyarr, indexer, new_indexer \u001b[38;5;241m=\u001b[39m \u001b[38;5;28mself\u001b[39m\u001b[38;5;241m.\u001b[39m_reindex_non_unique(keyarr)\n\u001b[1;32m-> 6200\u001b[0m \u001b[38;5;28mself\u001b[39m\u001b[38;5;241m.\u001b[39m_raise_if_missing(keyarr, indexer, axis_name)\n\u001b[0;32m   6202\u001b[0m keyarr \u001b[38;5;241m=\u001b[39m \u001b[38;5;28mself\u001b[39m\u001b[38;5;241m.\u001b[39mtake(indexer)\n\u001b[0;32m   6203\u001b[0m \u001b[38;5;28;01mif\u001b[39;00m \u001b[38;5;28misinstance\u001b[39m(key, Index):\n\u001b[0;32m   6204\u001b[0m     \u001b[38;5;66;03m# GH 42790 - Preserve name from an Index\u001b[39;00m\n",
      "File \u001b[1;32m~\\anaconda3\\Lib\\site-packages\\pandas\\core\\indexes\\base.py:6249\u001b[0m, in \u001b[0;36mIndex._raise_if_missing\u001b[1;34m(self, key, indexer, axis_name)\u001b[0m\n\u001b[0;32m   6247\u001b[0m \u001b[38;5;28;01mif\u001b[39;00m nmissing:\n\u001b[0;32m   6248\u001b[0m     \u001b[38;5;28;01mif\u001b[39;00m nmissing \u001b[38;5;241m==\u001b[39m \u001b[38;5;28mlen\u001b[39m(indexer):\n\u001b[1;32m-> 6249\u001b[0m         \u001b[38;5;28;01mraise\u001b[39;00m \u001b[38;5;167;01mKeyError\u001b[39;00m(\u001b[38;5;124mf\u001b[39m\u001b[38;5;124m\"\u001b[39m\u001b[38;5;124mNone of [\u001b[39m\u001b[38;5;132;01m{\u001b[39;00mkey\u001b[38;5;132;01m}\u001b[39;00m\u001b[38;5;124m] are in the [\u001b[39m\u001b[38;5;132;01m{\u001b[39;00maxis_name\u001b[38;5;132;01m}\u001b[39;00m\u001b[38;5;124m]\u001b[39m\u001b[38;5;124m\"\u001b[39m)\n\u001b[0;32m   6251\u001b[0m     not_found \u001b[38;5;241m=\u001b[39m \u001b[38;5;28mlist\u001b[39m(ensure_index(key)[missing_mask\u001b[38;5;241m.\u001b[39mnonzero()[\u001b[38;5;241m0\u001b[39m]]\u001b[38;5;241m.\u001b[39munique())\n\u001b[0;32m   6252\u001b[0m     \u001b[38;5;28;01mraise\u001b[39;00m \u001b[38;5;167;01mKeyError\u001b[39;00m(\u001b[38;5;124mf\u001b[39m\u001b[38;5;124m\"\u001b[39m\u001b[38;5;132;01m{\u001b[39;00mnot_found\u001b[38;5;132;01m}\u001b[39;00m\u001b[38;5;124m not in index\u001b[39m\u001b[38;5;124m\"\u001b[39m)\n",
      "\u001b[1;31mKeyError\u001b[0m: \"None of [Index(['OBS_30_CNT_SOCIAL_CIRCLE', 'DEF_30_CNT_SOCIAL_CIRCLE',\\n       'OBS_60_CNT_SOCIAL_CIRCLE', 'DEF_60_CNT_SOCIAL_CIRCLE'],\\n      dtype='object')] are in the [columns]\""
     ]
    },
    {
     "data": {
      "text/plain": [
       "<Figure size 1400x1000 with 0 Axes>"
      ]
     },
     "metadata": {},
     "output_type": "display_data"
    }
   ],
   "source": [
    "plt.figure(figsize=(14,10))\n",
    "sns.boxplot(df_app[SOCIAL_CIRCLE],color=\"seagreen\")\n",
    "plt.show()"
   ]
  },
  {
   "cell_type": "code",
   "execution_count": 253,
   "id": "6da6c705-75b6-4cc7-b84e-702be400ea48",
   "metadata": {},
   "outputs": [
    {
     "ename": "KeyError",
     "evalue": "\"None of [Index(['OBS_30_CNT_SOCIAL_CIRCLE', 'DEF_30_CNT_SOCIAL_CIRCLE',\\n       'OBS_60_CNT_SOCIAL_CIRCLE', 'DEF_60_CNT_SOCIAL_CIRCLE'],\\n      dtype='object')] are in the [columns]\"",
     "output_type": "error",
     "traceback": [
      "\u001b[1;31m---------------------------------------------------------------------------\u001b[0m",
      "\u001b[1;31mKeyError\u001b[0m                                  Traceback (most recent call last)",
      "Cell \u001b[1;32mIn[253], line 1\u001b[0m\n\u001b[1;32m----> 1\u001b[0m df_app[SOCIAL_CIRCLE]\u001b[38;5;241m=\u001b[39mdf_app[SOCIAL_CIRCLE]\u001b[38;5;241m.\u001b[39mfillna(df_app[SOCIAL_CIRCLE]\u001b[38;5;241m.\u001b[39mmedian())\n",
      "File \u001b[1;32m~\\anaconda3\\Lib\\site-packages\\pandas\\core\\frame.py:4108\u001b[0m, in \u001b[0;36mDataFrame.__getitem__\u001b[1;34m(self, key)\u001b[0m\n\u001b[0;32m   4106\u001b[0m     \u001b[38;5;28;01mif\u001b[39;00m is_iterator(key):\n\u001b[0;32m   4107\u001b[0m         key \u001b[38;5;241m=\u001b[39m \u001b[38;5;28mlist\u001b[39m(key)\n\u001b[1;32m-> 4108\u001b[0m     indexer \u001b[38;5;241m=\u001b[39m \u001b[38;5;28mself\u001b[39m\u001b[38;5;241m.\u001b[39mcolumns\u001b[38;5;241m.\u001b[39m_get_indexer_strict(key, \u001b[38;5;124m\"\u001b[39m\u001b[38;5;124mcolumns\u001b[39m\u001b[38;5;124m\"\u001b[39m)[\u001b[38;5;241m1\u001b[39m]\n\u001b[0;32m   4110\u001b[0m \u001b[38;5;66;03m# take() does not accept boolean indexers\u001b[39;00m\n\u001b[0;32m   4111\u001b[0m \u001b[38;5;28;01mif\u001b[39;00m \u001b[38;5;28mgetattr\u001b[39m(indexer, \u001b[38;5;124m\"\u001b[39m\u001b[38;5;124mdtype\u001b[39m\u001b[38;5;124m\"\u001b[39m, \u001b[38;5;28;01mNone\u001b[39;00m) \u001b[38;5;241m==\u001b[39m \u001b[38;5;28mbool\u001b[39m:\n",
      "File \u001b[1;32m~\\anaconda3\\Lib\\site-packages\\pandas\\core\\indexes\\base.py:6200\u001b[0m, in \u001b[0;36mIndex._get_indexer_strict\u001b[1;34m(self, key, axis_name)\u001b[0m\n\u001b[0;32m   6197\u001b[0m \u001b[38;5;28;01melse\u001b[39;00m:\n\u001b[0;32m   6198\u001b[0m     keyarr, indexer, new_indexer \u001b[38;5;241m=\u001b[39m \u001b[38;5;28mself\u001b[39m\u001b[38;5;241m.\u001b[39m_reindex_non_unique(keyarr)\n\u001b[1;32m-> 6200\u001b[0m \u001b[38;5;28mself\u001b[39m\u001b[38;5;241m.\u001b[39m_raise_if_missing(keyarr, indexer, axis_name)\n\u001b[0;32m   6202\u001b[0m keyarr \u001b[38;5;241m=\u001b[39m \u001b[38;5;28mself\u001b[39m\u001b[38;5;241m.\u001b[39mtake(indexer)\n\u001b[0;32m   6203\u001b[0m \u001b[38;5;28;01mif\u001b[39;00m \u001b[38;5;28misinstance\u001b[39m(key, Index):\n\u001b[0;32m   6204\u001b[0m     \u001b[38;5;66;03m# GH 42790 - Preserve name from an Index\u001b[39;00m\n",
      "File \u001b[1;32m~\\anaconda3\\Lib\\site-packages\\pandas\\core\\indexes\\base.py:6249\u001b[0m, in \u001b[0;36mIndex._raise_if_missing\u001b[1;34m(self, key, indexer, axis_name)\u001b[0m\n\u001b[0;32m   6247\u001b[0m \u001b[38;5;28;01mif\u001b[39;00m nmissing:\n\u001b[0;32m   6248\u001b[0m     \u001b[38;5;28;01mif\u001b[39;00m nmissing \u001b[38;5;241m==\u001b[39m \u001b[38;5;28mlen\u001b[39m(indexer):\n\u001b[1;32m-> 6249\u001b[0m         \u001b[38;5;28;01mraise\u001b[39;00m \u001b[38;5;167;01mKeyError\u001b[39;00m(\u001b[38;5;124mf\u001b[39m\u001b[38;5;124m\"\u001b[39m\u001b[38;5;124mNone of [\u001b[39m\u001b[38;5;132;01m{\u001b[39;00mkey\u001b[38;5;132;01m}\u001b[39;00m\u001b[38;5;124m] are in the [\u001b[39m\u001b[38;5;132;01m{\u001b[39;00maxis_name\u001b[38;5;132;01m}\u001b[39;00m\u001b[38;5;124m]\u001b[39m\u001b[38;5;124m\"\u001b[39m)\n\u001b[0;32m   6251\u001b[0m     not_found \u001b[38;5;241m=\u001b[39m \u001b[38;5;28mlist\u001b[39m(ensure_index(key)[missing_mask\u001b[38;5;241m.\u001b[39mnonzero()[\u001b[38;5;241m0\u001b[39m]]\u001b[38;5;241m.\u001b[39munique())\n\u001b[0;32m   6252\u001b[0m     \u001b[38;5;28;01mraise\u001b[39;00m \u001b[38;5;167;01mKeyError\u001b[39;00m(\u001b[38;5;124mf\u001b[39m\u001b[38;5;124m\"\u001b[39m\u001b[38;5;132;01m{\u001b[39;00mnot_found\u001b[38;5;132;01m}\u001b[39;00m\u001b[38;5;124m not in index\u001b[39m\u001b[38;5;124m\"\u001b[39m)\n",
      "\u001b[1;31mKeyError\u001b[0m: \"None of [Index(['OBS_30_CNT_SOCIAL_CIRCLE', 'DEF_30_CNT_SOCIAL_CIRCLE',\\n       'OBS_60_CNT_SOCIAL_CIRCLE', 'DEF_60_CNT_SOCIAL_CIRCLE'],\\n      dtype='object')] are in the [columns]\""
     ]
    }
   ],
   "source": [
    "df_app[SOCIAL_CIRCLE]=df_app[SOCIAL_CIRCLE].fillna(df_app[SOCIAL_CIRCLE].median())"
   ]
  },
  {
   "cell_type": "code",
   "execution_count": 255,
   "id": "db6dccb6-b90b-4be0-8303-dca3cf9ea160",
   "metadata": {},
   "outputs": [
    {
     "ename": "KeyError",
     "evalue": "\"None of [Index(['OBS_30_CNT_SOCIAL_CIRCLE', 'DEF_30_CNT_SOCIAL_CIRCLE',\\n       'OBS_60_CNT_SOCIAL_CIRCLE', 'DEF_60_CNT_SOCIAL_CIRCLE'],\\n      dtype='object')] are in the [columns]\"",
     "output_type": "error",
     "traceback": [
      "\u001b[1;31m---------------------------------------------------------------------------\u001b[0m",
      "\u001b[1;31mKeyError\u001b[0m                                  Traceback (most recent call last)",
      "Cell \u001b[1;32mIn[255], line 1\u001b[0m\n\u001b[1;32m----> 1\u001b[0m df_app[SOCIAL_CIRCLE]\u001b[38;5;241m.\u001b[39misnull()\u001b[38;5;241m.\u001b[39msum()\n",
      "File \u001b[1;32m~\\anaconda3\\Lib\\site-packages\\pandas\\core\\frame.py:4108\u001b[0m, in \u001b[0;36mDataFrame.__getitem__\u001b[1;34m(self, key)\u001b[0m\n\u001b[0;32m   4106\u001b[0m     \u001b[38;5;28;01mif\u001b[39;00m is_iterator(key):\n\u001b[0;32m   4107\u001b[0m         key \u001b[38;5;241m=\u001b[39m \u001b[38;5;28mlist\u001b[39m(key)\n\u001b[1;32m-> 4108\u001b[0m     indexer \u001b[38;5;241m=\u001b[39m \u001b[38;5;28mself\u001b[39m\u001b[38;5;241m.\u001b[39mcolumns\u001b[38;5;241m.\u001b[39m_get_indexer_strict(key, \u001b[38;5;124m\"\u001b[39m\u001b[38;5;124mcolumns\u001b[39m\u001b[38;5;124m\"\u001b[39m)[\u001b[38;5;241m1\u001b[39m]\n\u001b[0;32m   4110\u001b[0m \u001b[38;5;66;03m# take() does not accept boolean indexers\u001b[39;00m\n\u001b[0;32m   4111\u001b[0m \u001b[38;5;28;01mif\u001b[39;00m \u001b[38;5;28mgetattr\u001b[39m(indexer, \u001b[38;5;124m\"\u001b[39m\u001b[38;5;124mdtype\u001b[39m\u001b[38;5;124m\"\u001b[39m, \u001b[38;5;28;01mNone\u001b[39;00m) \u001b[38;5;241m==\u001b[39m \u001b[38;5;28mbool\u001b[39m:\n",
      "File \u001b[1;32m~\\anaconda3\\Lib\\site-packages\\pandas\\core\\indexes\\base.py:6200\u001b[0m, in \u001b[0;36mIndex._get_indexer_strict\u001b[1;34m(self, key, axis_name)\u001b[0m\n\u001b[0;32m   6197\u001b[0m \u001b[38;5;28;01melse\u001b[39;00m:\n\u001b[0;32m   6198\u001b[0m     keyarr, indexer, new_indexer \u001b[38;5;241m=\u001b[39m \u001b[38;5;28mself\u001b[39m\u001b[38;5;241m.\u001b[39m_reindex_non_unique(keyarr)\n\u001b[1;32m-> 6200\u001b[0m \u001b[38;5;28mself\u001b[39m\u001b[38;5;241m.\u001b[39m_raise_if_missing(keyarr, indexer, axis_name)\n\u001b[0;32m   6202\u001b[0m keyarr \u001b[38;5;241m=\u001b[39m \u001b[38;5;28mself\u001b[39m\u001b[38;5;241m.\u001b[39mtake(indexer)\n\u001b[0;32m   6203\u001b[0m \u001b[38;5;28;01mif\u001b[39;00m \u001b[38;5;28misinstance\u001b[39m(key, Index):\n\u001b[0;32m   6204\u001b[0m     \u001b[38;5;66;03m# GH 42790 - Preserve name from an Index\u001b[39;00m\n",
      "File \u001b[1;32m~\\anaconda3\\Lib\\site-packages\\pandas\\core\\indexes\\base.py:6249\u001b[0m, in \u001b[0;36mIndex._raise_if_missing\u001b[1;34m(self, key, indexer, axis_name)\u001b[0m\n\u001b[0;32m   6247\u001b[0m \u001b[38;5;28;01mif\u001b[39;00m nmissing:\n\u001b[0;32m   6248\u001b[0m     \u001b[38;5;28;01mif\u001b[39;00m nmissing \u001b[38;5;241m==\u001b[39m \u001b[38;5;28mlen\u001b[39m(indexer):\n\u001b[1;32m-> 6249\u001b[0m         \u001b[38;5;28;01mraise\u001b[39;00m \u001b[38;5;167;01mKeyError\u001b[39;00m(\u001b[38;5;124mf\u001b[39m\u001b[38;5;124m\"\u001b[39m\u001b[38;5;124mNone of [\u001b[39m\u001b[38;5;132;01m{\u001b[39;00mkey\u001b[38;5;132;01m}\u001b[39;00m\u001b[38;5;124m] are in the [\u001b[39m\u001b[38;5;132;01m{\u001b[39;00maxis_name\u001b[38;5;132;01m}\u001b[39;00m\u001b[38;5;124m]\u001b[39m\u001b[38;5;124m\"\u001b[39m)\n\u001b[0;32m   6251\u001b[0m     not_found \u001b[38;5;241m=\u001b[39m \u001b[38;5;28mlist\u001b[39m(ensure_index(key)[missing_mask\u001b[38;5;241m.\u001b[39mnonzero()[\u001b[38;5;241m0\u001b[39m]]\u001b[38;5;241m.\u001b[39munique())\n\u001b[0;32m   6252\u001b[0m     \u001b[38;5;28;01mraise\u001b[39;00m \u001b[38;5;167;01mKeyError\u001b[39;00m(\u001b[38;5;124mf\u001b[39m\u001b[38;5;124m\"\u001b[39m\u001b[38;5;132;01m{\u001b[39;00mnot_found\u001b[38;5;132;01m}\u001b[39;00m\u001b[38;5;124m not in index\u001b[39m\u001b[38;5;124m\"\u001b[39m)\n",
      "\u001b[1;31mKeyError\u001b[0m: \"None of [Index(['OBS_30_CNT_SOCIAL_CIRCLE', 'DEF_30_CNT_SOCIAL_CIRCLE',\\n       'OBS_60_CNT_SOCIAL_CIRCLE', 'DEF_60_CNT_SOCIAL_CIRCLE'],\\n      dtype='object')] are in the [columns]\""
     ]
    }
   ],
   "source": [
    "df_app[SOCIAL_CIRCLE].isnull().sum()"
   ]
  },
  {
   "cell_type": "code",
   "execution_count": 257,
   "id": "3e64dbab-097a-4cb8-ae29-4fd7c2a61dbd",
   "metadata": {},
   "outputs": [
    {
     "ename": "NameError",
     "evalue": "name 'occupation_type' is not defined",
     "output_type": "error",
     "traceback": [
      "\u001b[1;31m---------------------------------------------------------------------------\u001b[0m",
      "\u001b[1;31mNameError\u001b[0m                                 Traceback (most recent call last)",
      "Cell \u001b[1;32mIn[257], line 2\u001b[0m\n\u001b[0;32m      1\u001b[0m plt\u001b[38;5;241m.\u001b[39mfigure(figsize\u001b[38;5;241m=\u001b[39m(\u001b[38;5;241m12\u001b[39m,\u001b[38;5;241m8\u001b[39m))\n\u001b[1;32m----> 2\u001b[0m sns\u001b[38;5;241m.\u001b[39mbarplot(x\u001b[38;5;241m=\u001b[39moccupation_type,y\u001b[38;5;241m=\u001b[39moccupation_type\u001b[38;5;241m.\u001b[39mindex)\n\u001b[0;32m      3\u001b[0m \u001b[38;5;28;01mfor\u001b[39;00m index,value \u001b[38;5;129;01min\u001b[39;00m \u001b[38;5;28menumerate\u001b[39m(occupation_type):\n\u001b[0;32m      4\u001b[0m     plt\u001b[38;5;241m.\u001b[39mtext(value,index,\u001b[38;5;124mf\u001b[39m\u001b[38;5;124m\"\u001b[39m\u001b[38;5;132;01m{\u001b[39;00mvalue\u001b[38;5;132;01m}\u001b[39;00m\u001b[38;5;124m\"\u001b[39m,ha\u001b[38;5;241m=\u001b[39m\u001b[38;5;124m\"\u001b[39m\u001b[38;5;124mleft\u001b[39m\u001b[38;5;124m\"\u001b[39m,va\u001b[38;5;241m=\u001b[39m\u001b[38;5;124m\"\u001b[39m\u001b[38;5;124mtop\u001b[39m\u001b[38;5;124m\"\u001b[39m,color\u001b[38;5;241m=\u001b[39m\u001b[38;5;124m\"\u001b[39m\u001b[38;5;124mblack\u001b[39m\u001b[38;5;124m\"\u001b[39m,fontsize\u001b[38;5;241m=\u001b[39m\u001b[38;5;241m12\u001b[39m)\n",
      "\u001b[1;31mNameError\u001b[0m: name 'occupation_type' is not defined"
     ]
    },
    {
     "data": {
      "text/plain": [
       "<Figure size 1200x800 with 0 Axes>"
      ]
     },
     "metadata": {},
     "output_type": "display_data"
    }
   ],
   "source": [
    "plt.figure(figsize=(12,8))\n",
    "sns.barplot(x=occupation_type,y=occupation_type.index)\n",
    "for index,value in enumerate(occupation_type):\n",
    "    plt.text(value,index,f\"{value}\",ha=\"left\",va=\"top\",color=\"black\",fontsize=12)\n",
    "plt.show()"
   ]
  },
  {
   "cell_type": "code",
   "execution_count": 259,
   "id": "f5850fa3-e0bf-4032-a274-69192da3f5d0",
   "metadata": {},
   "outputs": [
    {
     "ename": "KeyError",
     "evalue": "'CODE_GENDER'",
     "output_type": "error",
     "traceback": [
      "\u001b[1;31m---------------------------------------------------------------------------\u001b[0m",
      "\u001b[1;31mKeyError\u001b[0m                                  Traceback (most recent call last)",
      "File \u001b[1;32m~\\anaconda3\\Lib\\site-packages\\pandas\\core\\indexes\\base.py:3805\u001b[0m, in \u001b[0;36mIndex.get_loc\u001b[1;34m(self, key)\u001b[0m\n\u001b[0;32m   3804\u001b[0m \u001b[38;5;28;01mtry\u001b[39;00m:\n\u001b[1;32m-> 3805\u001b[0m     \u001b[38;5;28;01mreturn\u001b[39;00m \u001b[38;5;28mself\u001b[39m\u001b[38;5;241m.\u001b[39m_engine\u001b[38;5;241m.\u001b[39mget_loc(casted_key)\n\u001b[0;32m   3806\u001b[0m \u001b[38;5;28;01mexcept\u001b[39;00m \u001b[38;5;167;01mKeyError\u001b[39;00m \u001b[38;5;28;01mas\u001b[39;00m err:\n",
      "File \u001b[1;32mindex.pyx:167\u001b[0m, in \u001b[0;36mpandas._libs.index.IndexEngine.get_loc\u001b[1;34m()\u001b[0m\n",
      "File \u001b[1;32mindex.pyx:196\u001b[0m, in \u001b[0;36mpandas._libs.index.IndexEngine.get_loc\u001b[1;34m()\u001b[0m\n",
      "File \u001b[1;32mpandas\\\\_libs\\\\hashtable_class_helper.pxi:7081\u001b[0m, in \u001b[0;36mpandas._libs.hashtable.PyObjectHashTable.get_item\u001b[1;34m()\u001b[0m\n",
      "File \u001b[1;32mpandas\\\\_libs\\\\hashtable_class_helper.pxi:7089\u001b[0m, in \u001b[0;36mpandas._libs.hashtable.PyObjectHashTable.get_item\u001b[1;34m()\u001b[0m\n",
      "\u001b[1;31mKeyError\u001b[0m: 'CODE_GENDER'",
      "\nThe above exception was the direct cause of the following exception:\n",
      "\u001b[1;31mKeyError\u001b[0m                                  Traceback (most recent call last)",
      "Cell \u001b[1;32mIn[259], line 1\u001b[0m\n\u001b[1;32m----> 1\u001b[0m df_app[\u001b[38;5;124m\"\u001b[39m\u001b[38;5;124mCODE_GENDER\u001b[39m\u001b[38;5;124m\"\u001b[39m]\n",
      "File \u001b[1;32m~\\anaconda3\\Lib\\site-packages\\pandas\\core\\frame.py:4102\u001b[0m, in \u001b[0;36mDataFrame.__getitem__\u001b[1;34m(self, key)\u001b[0m\n\u001b[0;32m   4100\u001b[0m \u001b[38;5;28;01mif\u001b[39;00m \u001b[38;5;28mself\u001b[39m\u001b[38;5;241m.\u001b[39mcolumns\u001b[38;5;241m.\u001b[39mnlevels \u001b[38;5;241m>\u001b[39m \u001b[38;5;241m1\u001b[39m:\n\u001b[0;32m   4101\u001b[0m     \u001b[38;5;28;01mreturn\u001b[39;00m \u001b[38;5;28mself\u001b[39m\u001b[38;5;241m.\u001b[39m_getitem_multilevel(key)\n\u001b[1;32m-> 4102\u001b[0m indexer \u001b[38;5;241m=\u001b[39m \u001b[38;5;28mself\u001b[39m\u001b[38;5;241m.\u001b[39mcolumns\u001b[38;5;241m.\u001b[39mget_loc(key)\n\u001b[0;32m   4103\u001b[0m \u001b[38;5;28;01mif\u001b[39;00m is_integer(indexer):\n\u001b[0;32m   4104\u001b[0m     indexer \u001b[38;5;241m=\u001b[39m [indexer]\n",
      "File \u001b[1;32m~\\anaconda3\\Lib\\site-packages\\pandas\\core\\indexes\\base.py:3812\u001b[0m, in \u001b[0;36mIndex.get_loc\u001b[1;34m(self, key)\u001b[0m\n\u001b[0;32m   3807\u001b[0m     \u001b[38;5;28;01mif\u001b[39;00m \u001b[38;5;28misinstance\u001b[39m(casted_key, \u001b[38;5;28mslice\u001b[39m) \u001b[38;5;129;01mor\u001b[39;00m (\n\u001b[0;32m   3808\u001b[0m         \u001b[38;5;28misinstance\u001b[39m(casted_key, abc\u001b[38;5;241m.\u001b[39mIterable)\n\u001b[0;32m   3809\u001b[0m         \u001b[38;5;129;01mand\u001b[39;00m \u001b[38;5;28many\u001b[39m(\u001b[38;5;28misinstance\u001b[39m(x, \u001b[38;5;28mslice\u001b[39m) \u001b[38;5;28;01mfor\u001b[39;00m x \u001b[38;5;129;01min\u001b[39;00m casted_key)\n\u001b[0;32m   3810\u001b[0m     ):\n\u001b[0;32m   3811\u001b[0m         \u001b[38;5;28;01mraise\u001b[39;00m InvalidIndexError(key)\n\u001b[1;32m-> 3812\u001b[0m     \u001b[38;5;28;01mraise\u001b[39;00m \u001b[38;5;167;01mKeyError\u001b[39;00m(key) \u001b[38;5;28;01mfrom\u001b[39;00m \u001b[38;5;21;01merr\u001b[39;00m\n\u001b[0;32m   3813\u001b[0m \u001b[38;5;28;01mexcept\u001b[39;00m \u001b[38;5;167;01mTypeError\u001b[39;00m:\n\u001b[0;32m   3814\u001b[0m     \u001b[38;5;66;03m# If we have a listlike key, _check_indexing_error will raise\u001b[39;00m\n\u001b[0;32m   3815\u001b[0m     \u001b[38;5;66;03m#  InvalidIndexError. Otherwise we fall through and re-raise\u001b[39;00m\n\u001b[0;32m   3816\u001b[0m     \u001b[38;5;66;03m#  the TypeError.\u001b[39;00m\n\u001b[0;32m   3817\u001b[0m     \u001b[38;5;28mself\u001b[39m\u001b[38;5;241m.\u001b[39m_check_indexing_error(key)\n",
      "\u001b[1;31mKeyError\u001b[0m: 'CODE_GENDER'"
     ]
    }
   ],
   "source": [
    "df_app[\"CODE_GENDER\"]"
   ]
  },
  {
   "cell_type": "code",
   "execution_count": null,
   "id": "e6e65d89-242c-48dd-954d-bc4c8629701d",
   "metadata": {},
   "outputs": [],
   "source": [
    "df_app[\"CODE_GENDER\"].isnull().sum()"
   ]
  },
  {
   "cell_type": "code",
   "execution_count": null,
   "id": "849e8aa5-471a-42df-90ba-0b7687656277",
   "metadata": {},
   "outputs": [],
   "source": [
    "df_app[\"CODE_GENDER\"].value_counts()"
   ]
  },
  {
   "cell_type": "code",
   "execution_count": null,
   "id": "cb0c19b2-1b62-4d1b-9ac7-3791931b5ec3",
   "metadata": {},
   "outputs": [],
   "source": [
    "df_app[\"CODE_GENDER\"].value_counts(normalize=True)"
   ]
  },
  {
   "cell_type": "code",
   "execution_count": null,
   "id": "b6267291-bd14-4ce1-ba96-9915a3d98493",
   "metadata": {},
   "outputs": [],
   "source": [
    "df_app[\"CODE_GENDER\"]=df_app[\"CODE_GENDER\"].fillna(\"F\")"
   ]
  },
  {
   "cell_type": "code",
   "execution_count": null,
   "id": "e59b7cea-1205-4b2a-aa50-bbc85311cdcc",
   "metadata": {},
   "outputs": [],
   "source": [
    "df_app[\"CODE_GENDER\"].isnull().sum()"
   ]
  },
  {
   "cell_type": "code",
   "execution_count": null,
   "id": "e7366bdb-c024-42e6-b503-43e46d107ade",
   "metadata": {},
   "outputs": [],
   "source": [
    "code_gender=df_app[\"CODE_GENDER\"].value_counts()\n",
    "code_gender"
   ]
  },
  {
   "cell_type": "code",
   "execution_count": null,
   "id": "00bf0eae-3b8d-47ba-8af2-7bf16ec28c0e",
   "metadata": {},
   "outputs": [],
   "source": [
    "code_gender.index"
   ]
  },
  {
   "cell_type": "code",
   "execution_count": null,
   "id": "b5133bf9-aef4-41d3-8300-a3b1ffd68bb3",
   "metadata": {},
   "outputs": [],
   "source": [
    "plt.figure(figsize=(16,8))\n",
    "sns.barplot(x=code_gender,y=code_gender.index)\n",
    "for index,value in enumerate(code_gender):\n",
    "    plt.text(value,index,f\"{value}\",ha=\"left\",va=\"center\",color=\"black\",fontsize=12)\n",
    "plt.show()"
   ]
  },
  {
   "cell_type": "code",
   "execution_count": null,
   "id": "2fff70cd-a3a8-4289-9dd4-d6aaaf427fad",
   "metadata": {},
   "outputs": [],
   "source": [
    "#loc -- loc is a labbeled based and meaning that we use labels(column_name,index_name to select aor exis data)\n",
    "#loc(rows,columns]\n",
    "# stop condition included\n",
    "df_app.loc[0:10:2,[\"SK_ID_CURR\",\"CODE_GENDER\",\"AMT_ANNUITY\",\"DAYS_BIRTH\"]]"
   ]
  },
  {
   "cell_type": "code",
   "execution_count": null,
   "id": "2146d7a3-5653-4f8c-8695-093401907e07",
   "metadata": {},
   "outputs": [],
   "source": [
    "#ILOC-- INTEGER BASED # NOT A INCLUDED STOP(N-1) \n",
    "df_app.iloc[0:10:2,0:10:2]"
   ]
  },
  {
   "cell_type": "code",
   "execution_count": null,
   "id": "c1a225ad-4b78-44c6-939f-ca175774e322",
   "metadata": {},
   "outputs": [],
   "source": [
    "df_app[df_app[\"AMT_ANNUITY\"]>50000]"
   ]
  },
  {
   "cell_type": "code",
   "execution_count": null,
   "id": "75464705-ce2e-418a-91f6-e7192034da94",
   "metadata": {},
   "outputs": [],
   "source": [
    "df_app[df_app[\"CODE_GENDER\"]==\"F\"]"
   ]
  },
  {
   "cell_type": "code",
   "execution_count": null,
   "id": "a75210b2-584a-4c7a-ad45-223be6f18752",
   "metadata": {},
   "outputs": [],
   "source": [
    "df_app[(df_app[\"AMT_ANNUITY\"]>50000) & (df_app[\"CODE_GENDER\"]==\"F\")]"
   ]
  },
  {
   "cell_type": "code",
   "execution_count": null,
   "id": "a05a0b19-1d76-48bd-9460-9077c5a89624",
   "metadata": {},
   "outputs": [],
   "source": [
    "df_app.columns"
   ]
  },
  {
   "cell_type": "code",
   "execution_count": null,
   "id": "90fb779a-7b1d-43d3-9caa-5a4459dad788",
   "metadata": {},
   "outputs": [],
   "source": [
    "df_app[['DAYS_BIRTH','DAYS_EMPLOYED', 'DAYS_REGISTRATION', 'DAYS_ID_PUBLISH','DAYS_LAST_PHONE_CHANGE']]\n"
   ]
  },
  {
   "cell_type": "code",
   "execution_count": null,
   "id": "fa248ba6-ba70-4590-9229-b82fde8d52b1",
   "metadata": {},
   "outputs": [],
   "source": [
    "#absolute fn== (-) change in (+)\n",
    "df_app[['DAYS_BIRTH','DAYS_EMPLOYED', 'DAYS_REGISTRATION', 'DAYS_ID_PUBLISH','DAYS_LAST_PHONE_CHANGE']]=abs(df_app[['DAYS_BIRTH','DAYS_EMPLOYED', 'DAYS_REGISTRATION', 'DAYS_ID_PUBLISH','DAYS_LAST_PHONE_CHANGE']])\n",
    "df_app[['DAYS_BIRTH','DAYS_EMPLOYED', 'DAYS_REGISTRATION', 'DAYS_ID_PUBLISH','DAYS_LAST_PHONE_CHANGE']]\n",
    "\n",
    "\n"
   ]
  },
  {
   "cell_type": "code",
   "execution_count": null,
   "id": "f4fab07e-6181-4206-ae08-9f7840b6523d",
   "metadata": {},
   "outputs": [],
   "source": [
    "df_app[\"DAYS_BIRTH_IN_YEAR\"]=round(df_app[\"DAYS_BIRTH\"]/365,2)\n",
    "df_app[\"DAYS_BIRTH_IN_YEAR\"]"
   ]
  },
  {
   "cell_type": "code",
   "execution_count": null,
   "id": "99fbe628-93ce-43fa-9ca2-da4f4404d1d0",
   "metadata": {},
   "outputs": [],
   "source": [
    "df_app[\"DAYS_EMPLOYED_IN_YEAR\"]=round(df_app[\"DAYS_EMPLOYED\"]/365,2)\n",
    "df_app[\"DAYS_EMPLOYED_IN_YEAR\"]\n",
    "                                     "
   ]
  },
  {
   "cell_type": "code",
   "execution_count": null,
   "id": "4f2dd745-b93d-47b5-9aad-23dfd8cc6c2c",
   "metadata": {},
   "outputs": [],
   "source": [
    "df_app[\"DAYS_EMPLOYED_IN_YEAR\"].max()"
   ]
  },
  {
   "cell_type": "code",
   "execution_count": null,
   "id": "ae429b67-0134-4bd1-83b8-be89cb6c6d67",
   "metadata": {},
   "outputs": [],
   "source": [
    "df_app[\"DAYS_EMPLOYED_IN_YEAR\"].describe()"
   ]
  },
  {
   "cell_type": "code",
   "execution_count": null,
   "id": "c93246e9-a87c-4b1a-abdf-fd88740d8512",
   "metadata": {},
   "outputs": [],
   "source": [
    "df_app[\"DAYS_EMPLOYED_IN_YEAR\"]=df_app[\"DAYS_EMPLOYED_IN_YEAR\"].replace(df_app[\"DAYS_EMPLOYED_IN_YEAR\"].max(),np.nan)"
   ]
  },
  {
   "cell_type": "code",
   "execution_count": null,
   "id": "1ede7396-8efa-4006-9cba-aabba4340ba0",
   "metadata": {},
   "outputs": [],
   "source": [
    "df_app[\"DAYS_EMPLOYED_IN_YEAR\"].max()"
   ]
  },
  {
   "cell_type": "code",
   "execution_count": null,
   "id": "afc8c2b1-a057-48a7-ade3-684d03e94ee3",
   "metadata": {},
   "outputs": [],
   "source": [
    "df_app[\"DAYS_BIRTH_RANGE\"]=pd.cut(df_app[\"DAYS_EMPLOYED_IN_YEAR\"],bins=[20,25,30,35,40,45,50,55,60,65,70],labels=[\"20-25\",\"25-30\",\"30-35\",\"35-40\",\"40-45\",\"45-50\",\"50-55\",\"55-60\",\"60-65\",\"65&moore\"])"
   ]
  },
  {
   "cell_type": "code",
   "execution_count": null,
   "id": "6c1146a1-2b56-4719-a151-47c72a3ebdfe",
   "metadata": {},
   "outputs": [],
   "source": [
    "df_app[\"DAYS_BIRTH_RANGE\"]"
   ]
  },
  {
   "cell_type": "code",
   "execution_count": null,
   "id": "13a08254-cae3-4bab-a780-be547108e6dd",
   "metadata": {},
   "outputs": [],
   "source": [
    "df_app[\"DAYS_BIRTH_RANGE\"].describe()"
   ]
  },
  {
   "cell_type": "code",
   "execution_count": null,
   "id": "5df65839-ef90-49c4-af33-7518fa1f0d61",
   "metadata": {},
   "outputs": [],
   "source": [
    "df_app[[\"AMT_CREDIT\",\"AMT_INCOME_TOTAL\"]]"
   ]
  },
  {
   "cell_type": "code",
   "execution_count": null,
   "id": "b42e0a95-f2df-4eb8-9a01-16fb431bdf1a",
   "metadata": {},
   "outputs": [],
   "source": [
    "df_app[[\"AMT_CREDIT_LAC\",\"AMT_INCOME_TOTAL_LAC\"]]=round(df_app[[\"AMT_CREDIT\",\"AMT_INCOME_TOTAL\"]]/100000,2)"
   ]
  },
  {
   "cell_type": "code",
   "execution_count": null,
   "id": "8af426a5-aa31-4e9d-9159-f426251a4a96",
   "metadata": {},
   "outputs": [],
   "source": [
    "df_app[[\"AMT_CREDIT_LAC\",\"AMT_INCOME_TOTAL_LAC\"]]"
   ]
  },
  {
   "cell_type": "code",
   "execution_count": null,
   "id": "3b5a8fca-c9e1-4828-9a17-dab80d929ae0",
   "metadata": {},
   "outputs": [],
   "source": [
    "df_app[[\"AMT_CREDIT_LAC\"]].describe()"
   ]
  },
  {
   "cell_type": "code",
   "execution_count": null,
   "id": "956a91f9-556a-4ce2-b04b-1dec4b0889f5",
   "metadata": {},
   "outputs": [],
   "source": [
    "df_app[\"AMT_CREDIT_LAC_RANGE\"]=pd.cut(df_app[\"AMT_CREDIT_LAC\"],bins=[0,5,10,15,20,25,30,35,40,45],labels=[\"0-5l\",\"5-10l\",\"10-15l\",\"15-20l\",\"20-25l\",\"25-30l\",\"30-35l\",\"35-40l\",\"45&above\"])"
   ]
  },
  {
   "cell_type": "code",
   "execution_count": null,
   "id": "711bf901-206a-4551-b176-378df13b9202",
   "metadata": {},
   "outputs": [],
   "source": [
    "df_app[\"AMT_CREDIT_LAC_RANGE\"]"
   ]
  },
  {
   "cell_type": "code",
   "execution_count": null,
   "id": "0c1789ef-0adf-4b6c-80ec-74641df0073c",
   "metadata": {},
   "outputs": [],
   "source": [
    "df_app[\"AMT_CREDIT_LAC_RANGE\"].value_counts()"
   ]
  },
  {
   "cell_type": "code",
   "execution_count": null,
   "id": "5a6904e6-8889-4ca4-b6d2-5ac2912aa720",
   "metadata": {},
   "outputs": [],
   "source": [
    "df_app[\"AMT_INCOME_TOTAL_LAC\"].describe()"
   ]
  },
  {
   "cell_type": "code",
   "execution_count": null,
   "id": "950b603d-635b-484c-93d6-53504f9e5ec4",
   "metadata": {},
   "outputs": [],
   "source": [
    "df_app[\"AMT_INCOME_TOTAL_LAC_RANGE\"]=pd.cut(df_app[\"AMT_INCOME_TOTAL_LAC\"],bins=[0,1,2,3,4,5,6,7,8,9,10,100],labels=[\"0-1l\",\"1-2l\",\"2-3l\",\"3-4l\",\"4-5l\",\"5-6l\",\"6-7l\",\"7-8l\",\"8-9l\",\"9-10l\",\"100&above\"])"
   ]
  },
  {
   "cell_type": "code",
   "execution_count": null,
   "id": "e2d774cd-a8d9-4b18-ac72-8034ae0fb8e8",
   "metadata": {},
   "outputs": [],
   "source": [
    "df_app[\"AMT_INCOME_TOTAL_LAC_RANGE\"]"
   ]
  },
  {
   "cell_type": "code",
   "execution_count": null,
   "id": "16b6bb47-7d35-4246-aefb-6b0e57e64dd8",
   "metadata": {},
   "outputs": [],
   "source": [
    "df_app[\"AMT_INCOME_TOTAL_LAC_RANGE\"].value_counts()"
   ]
  },
  {
   "cell_type": "code",
   "execution_count": null,
   "id": "feb96d51-b8fd-42c4-a702-289ce17c2c13",
   "metadata": {},
   "outputs": [],
   "source": [
    "df_pre=pd.read_csv(r\"D:\\DATA ANALYST\\PYTHON_EDA\\previous_application - previous_application.csv\")\n",
    "df_pre"
   ]
  },
  {
   "cell_type": "code",
   "execution_count": 1,
   "id": "75549831-419d-404d-bd6a-40d996ef4f51",
   "metadata": {},
   "outputs": [
    {
     "ename": "NameError",
     "evalue": "name 'df_pre' is not defined",
     "output_type": "error",
     "traceback": [
      "\u001b[1;31m---------------------------------------------------------------------------\u001b[0m",
      "\u001b[1;31mNameError\u001b[0m                                 Traceback (most recent call last)",
      "Cell \u001b[1;32mIn[1], line 1\u001b[0m\n\u001b[1;32m----> 1\u001b[0m df_pre\u001b[38;5;241m.\u001b[39mhead()\n",
      "\u001b[1;31mNameError\u001b[0m: name 'df_pre' is not defined"
     ]
    }
   ],
   "source": [
    "df_pre.head()"
   ]
  },
  {
   "cell_type": "code",
   "execution_count": null,
   "id": "fb32812f-0f62-413d-9437-397d2414144c",
   "metadata": {},
   "outputs": [],
   "source": [
    "df_pre.tail()"
   ]
  },
  {
   "cell_type": "code",
   "execution_count": null,
   "id": "c439be02-c200-4819-a131-ca19680c2d0a",
   "metadata": {},
   "outputs": [],
   "source": [
    "df_pre.info()"
   ]
  },
  {
   "cell_type": "code",
   "execution_count": null,
   "id": "c00f12a9-adc7-4f06-ac3c-1c93877772b5",
   "metadata": {},
   "outputs": [],
   "source": [
    "df_pre.describe()"
   ]
  },
  {
   "cell_type": "code",
   "execution_count": null,
   "id": "4860fe5f-627c-4736-9e7d-46f2e9a98aed",
   "metadata": {},
   "outputs": [],
   "source": [
    "df_pre.shape"
   ]
  },
  {
   "cell_type": "code",
   "execution_count": null,
   "id": "daaea383-ec0e-4c44-aeac-a8780f800750",
   "metadata": {},
   "outputs": [],
   "source": [
    "df_pre.size"
   ]
  },
  {
   "cell_type": "code",
   "execution_count": null,
   "id": "e309d12e-da8c-46f5-8f88-9fa625de6da8",
   "metadata": {},
   "outputs": [],
   "source": [
    "df_pre.index"
   ]
  },
  {
   "cell_type": "code",
   "execution_count": null,
   "id": "e91638d2-f8f5-468f-9fdc-5f3601968832",
   "metadata": {},
   "outputs": [],
   "source": [
    "df_pre.columns"
   ]
  },
  {
   "cell_type": "code",
   "execution_count": null,
   "id": "54076d25-fa68-4a2b-9593-88558654da1f",
   "metadata": {},
   "outputs": [],
   "source": [
    "df_pre.columns.to_list()"
   ]
  },
  {
   "cell_type": "code",
   "execution_count": null,
   "id": "eb77b449-16c8-4029-b45f-8d2b28ec169d",
   "metadata": {
    "scrolled": true
   },
   "outputs": [],
   "source": [
    "df_pre.describe().columns"
   ]
  },
  {
   "cell_type": "code",
   "execution_count": null,
   "id": "e6b24585-9aee-47e6-b85f-070edc42df91",
   "metadata": {},
   "outputs": [],
   "source": [
    "list(set(df_pre.columns)-set(df_pre.describe().columns))"
   ]
  },
  {
   "cell_type": "code",
   "execution_count": null,
   "id": "6970665c-88cb-45fb-80c6-8e721465e1d8",
   "metadata": {},
   "outputs": [],
   "source": [
    "df_pre"
   ]
  },
  {
   "cell_type": "code",
   "execution_count": null,
   "id": "4147d2cb-ff99-4933-b9b9-f9995ae47eea",
   "metadata": {},
   "outputs": [],
   "source": [
    "missing_value(df_pre)"
   ]
  },
  {
   "cell_type": "code",
   "execution_count": null,
   "id": "281685ef-a862-46aa-8003-c1e4c3d284f9",
   "metadata": {},
   "outputs": [],
   "source": [
    "nullpre=missing_value(df_pre)[missing_value(df_pre)>50]"
   ]
  },
  {
   "cell_type": "code",
   "execution_count": null,
   "id": "cf9eb173-4174-428c-a7d9-e243707e032c",
   "metadata": {},
   "outputs": [],
   "source": [
    "nullpre.index"
   ]
  },
  {
   "cell_type": "code",
   "execution_count": null,
   "id": "67cef388-9f75-4efc-b797-79826a1d43a8",
   "metadata": {},
   "outputs": [],
   "source": [
    "df_pre.drop(columns=nullpre.index,inplace=True)"
   ]
  },
  {
   "cell_type": "code",
   "execution_count": null,
   "id": "fabd3dae-dcfa-45b0-98c6-ca11c00cc4f1",
   "metadata": {},
   "outputs": [],
   "source": [
    "df_pre"
   ]
  },
  {
   "cell_type": "code",
   "execution_count": 3,
   "id": "b3e96d1c-56f5-4dc9-a0fa-df6f68c9c7a0",
   "metadata": {},
   "outputs": [
    {
     "ename": "NameError",
     "evalue": "name 'df_pre' is not defined",
     "output_type": "error",
     "traceback": [
      "\u001b[1;31m---------------------------------------------------------------------------\u001b[0m",
      "\u001b[1;31mNameError\u001b[0m                                 Traceback (most recent call last)",
      "Cell \u001b[1;32mIn[3], line 1\u001b[0m\n\u001b[1;32m----> 1\u001b[0m df_pre[\u001b[38;5;124m\"\u001b[39m\u001b[38;5;124mNAME_TYPE_SUITE\u001b[39m\u001b[38;5;124m\"\u001b[39m]\u001b[38;5;241m.\u001b[39misnull()\u001b[38;5;241m.\u001b[39msum()\n",
      "\u001b[1;31mNameError\u001b[0m: name 'df_pre' is not defined"
     ]
    }
   ],
   "source": [
    "df_pre[\"NAME_TYPE_SUITE\"].isnull().sum()"
   ]
  },
  {
   "cell_type": "code",
   "execution_count": 5,
   "id": "a48026af-d28d-4d5a-a92d-8a001a057600",
   "metadata": {},
   "outputs": [
    {
     "ename": "NameError",
     "evalue": "name 'df_pre' is not defined",
     "output_type": "error",
     "traceback": [
      "\u001b[1;31m---------------------------------------------------------------------------\u001b[0m",
      "\u001b[1;31mNameError\u001b[0m                                 Traceback (most recent call last)",
      "Cell \u001b[1;32mIn[5], line 1\u001b[0m\n\u001b[1;32m----> 1\u001b[0m df_pre[\u001b[38;5;124m\"\u001b[39m\u001b[38;5;124mNAME_TYPE_SUITE\u001b[39m\u001b[38;5;124m\"\u001b[39m]\n",
      "\u001b[1;31mNameError\u001b[0m: name 'df_pre' is not defined"
     ]
    }
   ],
   "source": [
    "df_pre[\"NAME_TYPE_SUITE\"]"
   ]
  },
  {
   "cell_type": "code",
   "execution_count": null,
   "id": "6e10b9a6-e32b-4930-97ae-37f88f298e7e",
   "metadata": {},
   "outputs": [],
   "source": [
    "df_pre[\"NAME_TYPE_SUITE\"]"
   ]
  },
  {
   "cell_type": "code",
   "execution_count": null,
   "id": "48d2c1dd-171e-4395-a50d-b7040e349a35",
   "metadata": {},
   "outputs": [],
   "source": [
    "df_pre[\"NAME_TYPE_SUITE\"]=df_pre[\"NAME_TYPE_SUITE\"].fillna(df_pre[\"NAME_TYPE_SUITE\"].mode()[0])"
   ]
  },
  {
   "cell_type": "code",
   "execution_count": null,
   "id": "4ece123d-e9a8-46d1-b659-2414bf237d6d",
   "metadata": {},
   "outputs": [],
   "source": [
    "df_pre[\"NAME_TYPE_SUITE\"].isnull().sum()"
   ]
  },
  {
   "cell_type": "code",
   "execution_count": null,
   "id": "c53ac60a-d1ca-47a9-acfe-f0a6a9b43062",
   "metadata": {},
   "outputs": [],
   "source": [
    "df_pre[\"AMT_GOODS_PRICE\"]"
   ]
  },
  {
   "cell_type": "code",
   "execution_count": null,
   "id": "63044a6f-f77d-4205-920c-475f523473da",
   "metadata": {},
   "outputs": [],
   "source": [
    "df_pre[\"AMT_GOODS_PRICE\"].isnull().sum()"
   ]
  },
  {
   "cell_type": "code",
   "execution_count": 7,
   "id": "fb06b792-d784-4bd7-9136-98cd1c20259b",
   "metadata": {},
   "outputs": [
    {
     "ename": "NameError",
     "evalue": "name 'sns' is not defined",
     "output_type": "error",
     "traceback": [
      "\u001b[1;31m---------------------------------------------------------------------------\u001b[0m",
      "\u001b[1;31mNameError\u001b[0m                                 Traceback (most recent call last)",
      "Cell \u001b[1;32mIn[7], line 1\u001b[0m\n\u001b[1;32m----> 1\u001b[0m sns\u001b[38;5;241m.\u001b[39mboxplot(df_pre[\u001b[38;5;124m\"\u001b[39m\u001b[38;5;124mAMT_GOODS_PRICE\u001b[39m\u001b[38;5;124m\"\u001b[39m],color\u001b[38;5;241m=\u001b[39m\u001b[38;5;124m\"\u001b[39m\u001b[38;5;124mgreen\u001b[39m\u001b[38;5;124m\"\u001b[39m)\n\u001b[0;32m      2\u001b[0m plt\u001b[38;5;241m.\u001b[39mshow()\n",
      "\u001b[1;31mNameError\u001b[0m: name 'sns' is not defined"
     ]
    }
   ],
   "source": [
    "sns.boxplot(df_pre[\"AMT_GOODS_PRICE\"],color=\"green\")\n",
    "plt.show()"
   ]
  },
  {
   "cell_type": "code",
   "execution_count": null,
   "id": "83ae6e91-98f6-41ec-ac1d-9a5bc862ca59",
   "metadata": {},
   "outputs": [],
   "source": [
    "df_pre[\"AMT_GOODS_PRICE\"]=df_pre[\"AMT_GOODS_PRICE\"].fillna(df_pre[\"AMT_GOODS_PRICE\"]==df_pre[\"AMT_CREDIT\"])"
   ]
  },
  {
   "cell_type": "code",
   "execution_count": null,
   "id": "9a578091-bf28-478c-9324-32abe9aa171a",
   "metadata": {},
   "outputs": [],
   "source": [
    "df_pre[\"AMT_GOODS_PRICE\"].isnull().sum()"
   ]
  },
  {
   "cell_type": "code",
   "execution_count": null,
   "id": "3e1416f9-120d-4ebe-90be-6465f587978a",
   "metadata": {},
   "outputs": [],
   "source": [
    "df_pre[\"AMT_ANNUITY\"]"
   ]
  },
  {
   "cell_type": "code",
   "execution_count": null,
   "id": "1c80c6c1-9e54-4c05-aca8-46787465b60c",
   "metadata": {},
   "outputs": [],
   "source": [
    "df_pre[\"AMT_ANNUITY\"].isnull().sum()"
   ]
  },
  {
   "cell_type": "code",
   "execution_count": null,
   "id": "fcf8ec2f-b657-4532-a41f-0e2d31561be8",
   "metadata": {},
   "outputs": [],
   "source": [
    "sns.boxplot(df_pre[\"AMT_ANNUITY\"],color=\"green\")\n",
    "plt.show()"
   ]
  },
  {
   "cell_type": "code",
   "execution_count": null,
   "id": "4d762595-a420-4470-9a49-bae687b3311c",
   "metadata": {},
   "outputs": [],
   "source": [
    "df_pre[\"AMT_ANNUITY\"]=df_pre[\"AMT_ANNUITY\"].fillna(df_pre[\"AMT_ANNUITY\"].median())"
   ]
  },
  {
   "cell_type": "code",
   "execution_count": null,
   "id": "dad0b4da-f563-45e4-8a1b-86e3817d7b36",
   "metadata": {},
   "outputs": [],
   "source": [
    "df_pre[\"AMT_ANNUITY\"].isnull().sum()"
   ]
  },
  {
   "cell_type": "code",
   "execution_count": null,
   "id": "3087eba0-ff9c-430b-ab25-712186ed2598",
   "metadata": {},
   "outputs": [],
   "source": [
    "df_pre[\"PRODUCT_COMBINATION\"]"
   ]
  },
  {
   "cell_type": "code",
   "execution_count": null,
   "id": "5cba3f89-0b27-4db5-8011-19db519896b6",
   "metadata": {},
   "outputs": [],
   "source": [
    "df_pre[\"PRODUCT_COMBINATION\"].isnull().sum()"
   ]
  },
  {
   "cell_type": "code",
   "execution_count": null,
   "id": "3457408d-79ed-44bf-a458-873c186f96c9",
   "metadata": {},
   "outputs": [],
   "source": [
    "df_pre[\"PRODUCT_COMBINATION\"].value_counts()"
   ]
  },
  {
   "cell_type": "code",
   "execution_count": null,
   "id": "dcaccfd6-5c45-4f4d-89c3-34d158820dda",
   "metadata": {},
   "outputs": [],
   "source": [
    "df_pre[\"PRODUCT_COMBINATION\"]=df_pre[\"PRODUCT_COMBINATION\"].fillna(df_pre[\"PRODUCT_COMBINATION\"].mode()[0])"
   ]
  },
  {
   "cell_type": "code",
   "execution_count": null,
   "id": "7e691c5e-6930-4b00-889f-6de929d03ceb",
   "metadata": {},
   "outputs": [],
   "source": [
    "df_pre[\"PRODUCT_COMBINATION\"].isnull().sum()"
   ]
  },
  {
   "cell_type": "code",
   "execution_count": null,
   "id": "4020c9d3-d4f9-4cd2-a694-9c98d2afe4cd",
   "metadata": {},
   "outputs": [],
   "source": [
    "df_pre[\"CNT_PAYMENT\"]"
   ]
  },
  {
   "cell_type": "code",
   "execution_count": null,
   "id": "665681e6-f0db-4d77-bcea-d82f3a21c06a",
   "metadata": {},
   "outputs": [],
   "source": [
    "df_pre[\"CNT_PAYMENT\"].isnull().sum()"
   ]
  },
  {
   "cell_type": "code",
   "execution_count": null,
   "id": "243ab1cb-ea57-469d-9c62-b69537f1e44f",
   "metadata": {},
   "outputs": [],
   "source": [
    "sns.boxplot(df_pre[\"CNT_PAYMENT\"],color=\"green\")\n",
    "plt.show()"
   ]
  },
  {
   "cell_type": "code",
   "execution_count": null,
   "id": "f6c0e2ad-cf3d-4534-b66f-b553c9c9b3ef",
   "metadata": {},
   "outputs": [],
   "source": [
    "df_pre[\"CNT_PAYMENT\"]=df_pre[\"CNT_PAYMENT\"].fillna(df_pre[\"CNT_PAYMENT\"].median())"
   ]
  },
  {
   "cell_type": "code",
   "execution_count": null,
   "id": "2554c032-22db-4fa1-a891-ce3fd1205d12",
   "metadata": {},
   "outputs": [],
   "source": [
    "df_pre[\"CNT_PAYMENT\"].isnull().sum()"
   ]
  },
  {
   "cell_type": "code",
   "execution_count": null,
   "id": "4ec55d51-cff7-404e-82ec-8947826701bf",
   "metadata": {},
   "outputs": [],
   "source": [
    "df_pre[[\"AMT_ANNUITY\",\"AMT_CREDIT\",\"AMT_APPLICATION\"]]"
   ]
  },
  {
   "cell_type": "code",
   "execution_count": null,
   "id": "f17d41b8-aeda-4db5-bfbb-9b42cd8e7a13",
   "metadata": {},
   "outputs": [],
   "source": [
    "df_pre[[\"AMT_ANNUITY_LAC\",\"AMT_CREDIT_LAC\",\"AMT_APPLICATION_LAC\"]]=round(df_pre[[\"AMT_ANNUITY\",\"AMT_CREDIT\",\"AMT_APPLICATION\"]]/100000,2)"
   ]
  },
  {
   "cell_type": "code",
   "execution_count": null,
   "id": "0b8fcb94-8549-4bd8-b2c6-4a65447a27b2",
   "metadata": {},
   "outputs": [],
   "source": [
    "df_pre[[\"AMT_ANNUITY_LAC\",\"AMT_CREDIT_LAC\",\"AMT_APPLICATION_LAC\"]]"
   ]
  },
  {
   "cell_type": "code",
   "execution_count": null,
   "id": "de58cf2e-7279-4e91-b866-56b3d99cccdc",
   "metadata": {},
   "outputs": [],
   "source": [
    "list(set(df_pre.columns)-set(df_pre.describe().columns))"
   ]
  },
  {
   "cell_type": "code",
   "execution_count": null,
   "id": "4cf3e4a0-9b17-4a33-a013-5f3a8248b572",
   "metadata": {},
   "outputs": [],
   "source": [
    "df_pre.describe().columns"
   ]
  },
  {
   "cell_type": "code",
   "execution_count": null,
   "id": "97bbefc6-6873-4009-b0b0-5aceb7b0233c",
   "metadata": {},
   "outputs": [],
   "source": [
    "df_pre[['DAYS_DECISION','DAYS_FIRST_DRAWING', 'DAYS_FIRST_DUE', 'DAYS_LAST_DUE_1ST_VERSION','DAYS_LAST_DUE', 'DAYS_TERMINATION']]"
   ]
  },
  {
   "cell_type": "code",
   "execution_count": null,
   "id": "b1e3f9e4-efee-472d-a906-39827aa9db88",
   "metadata": {},
   "outputs": [],
   "source": [
    "df_pre[['DAYS_DECISION','DAYS_FIRST_DRAWING', 'DAYS_FIRST_DUE', 'DAYS_LAST_DUE_1ST_VERSION','DAYS_LAST_DUE', 'DAYS_TERMINATION']]=abs(df_pre[['DAYS_DECISION','DAYS_FIRST_DRAWING', 'DAYS_FIRST_DUE', 'DAYS_LAST_DUE_1ST_VERSION','DAYS_LAST_DUE', 'DAYS_TERMINATION']])"
   ]
  },
  {
   "cell_type": "code",
   "execution_count": null,
   "id": "69bcee31-c796-41ec-a0c2-3be8a4384b80",
   "metadata": {},
   "outputs": [],
   "source": [
    "df_pre[['DAYS_DECISION','DAYS_FIRST_DRAWING', 'DAYS_FIRST_DUE', 'DAYS_LAST_DUE_1ST_VERSION','DAYS_LAST_DUE', 'DAYS_TERMINATION']]"
   ]
  },
  {
   "cell_type": "code",
   "execution_count": null,
   "id": "be86e6fc-13c4-49b9-a6bd-b3283ad25237",
   "metadata": {},
   "outputs": [],
   "source": [
    "df_pre[['DAYS_DECISION','DAYS_FIRST_DRAWING', 'DAYS_FIRST_DUE', 'DAYS_LAST_DUE_1ST_VERSION','DAYS_LAST_DUE', 'DAYS_TERMINATION']]=round(df_pre[['DAYS_DECISION','DAYS_FIRST_DRAWING', 'DAYS_FIRST_DUE', 'DAYS_LAST_DUE_1ST_VERSION','DAYS_LAST_DUE', 'DAYS_TERMINATION']]/365,2)"
   ]
  },
  {
   "cell_type": "code",
   "execution_count": null,
   "id": "d38f9b86-9c65-44c7-9710-c260af662641",
   "metadata": {},
   "outputs": [],
   "source": [
    "df_pre[['DAYS_DECISION','DAYS_FIRST_DRAWING', 'DAYS_FIRST_DUE', 'DAYS_LAST_DUE_1ST_VERSION','DAYS_LAST_DUE', 'DAYS_TERMINATION']]"
   ]
  },
  {
   "cell_type": "code",
   "execution_count": null,
   "id": "737c01a8-bb64-4e60-8a12-728722ff91b1",
   "metadata": {},
   "outputs": [],
   "source": [
    "df_pre[\"AMT_CREDIT_LAC\"].value_counts()"
   ]
  },
  {
   "cell_type": "code",
   "execution_count": null,
   "id": "4cfd8b21-8e58-495e-8a5a-21eacb388a66",
   "metadata": {},
   "outputs": [],
   "source": [
    "df_pre[\"AMT_CREDIT_LAC\"].describe()"
   ]
  },
  {
   "cell_type": "code",
   "execution_count": null,
   "id": "9dc5d540-f77e-43b7-a762-4b2bb7be1a14",
   "metadata": {},
   "outputs": [],
   "source": [
    "df_pre[\"AMT_CREDIT_LAC_RANGE\"]=pd.cut(df_pre[\"AMT_CREDIT_LAC\"],bins=[0,5,10,15,20,25,30,35,40,45],labels=[\"0-5l\",\"5-10l\",\"10-15l\",\"15-20l\",\"20-25l\",\"25-30l\",\"30-35l\",\"35-40l\",\"40&more\"])"
   ]
  },
  {
   "cell_type": "code",
   "execution_count": null,
   "id": "4335c370-1151-4413-974e-f52c3a5f1f32",
   "metadata": {},
   "outputs": [],
   "source": [
    "df_pre[\"AMT_CREDIT_LAC_RANGE\"].value_counts()"
   ]
  },
  {
   "cell_type": "code",
   "execution_count": null,
   "id": "4ef1c9d4-8ab4-4986-82ec-c9c37c43d042",
   "metadata": {},
   "outputs": [],
   "source": [
    "df_pre[\"AMT_ANNUITY_LAC\"].value_counts()"
   ]
  },
  {
   "cell_type": "code",
   "execution_count": null,
   "id": "ba775e0f-6cfe-4665-b907-87b454424ff6",
   "metadata": {},
   "outputs": [],
   "source": [
    "df_pre[\"AMT_ANNUITY_LAC\"].describe()"
   ]
  },
  {
   "cell_type": "code",
   "execution_count": null,
   "id": "21a0acb0-80b5-4c43-9c9c-e882aef27936",
   "metadata": {},
   "outputs": [],
   "source": [
    "df_pre[\"AMT_APPLICATION_LAC\"].value_counts()"
   ]
  },
  {
   "cell_type": "code",
   "execution_count": null,
   "id": "1e6ce01d-00d8-4b12-a35b-ae2897fff6c6",
   "metadata": {},
   "outputs": [],
   "source": [
    "df_pre[\"AMT_APPLICATION_LAC\"].describe()"
   ]
  },
  {
   "cell_type": "code",
   "execution_count": null,
   "id": "a3cf649d-f986-45e9-b53b-6d1af7b6ff72",
   "metadata": {},
   "outputs": [],
   "source": [
    "df_pre[\"AMT_APPLICATION_LAC_RANGE\"]=pd.cut(df_pre[\"AMT_APPLICATION_LAC\"],bins=[0,5,10,15,20,25,30,35,40],labels=[\"0-5l\",\"5-10l\",\"10-15l\",\"15-20l\",\"20-25l\",\"25-30l\",\"30-35l\",\"35&more\"])"
   ]
  },
  {
   "cell_type": "code",
   "execution_count": null,
   "id": "d605567f-c819-40d9-8b78-81c3f5980e86",
   "metadata": {},
   "outputs": [],
   "source": [
    "df_pre[\"AMT_APPLICATION_LAC_RANGE\"].value_counts()"
   ]
  },
  {
   "cell_type": "code",
   "execution_count": null,
   "id": "60d8f437-080b-45cf-99a4-72b08eab5090",
   "metadata": {},
   "outputs": [],
   "source": [
    "df_app.groupby([\"CODE_GENDER\"])[\"AMT_ANNUITY\"].mean()"
   ]
  },
  {
   "cell_type": "code",
   "execution_count": null,
   "id": "d770aeb5-1256-4e6a-be3f-6548ff99586b",
   "metadata": {},
   "outputs": [],
   "source": [
    "df_app.groupby([\"CODE_GENDER\",\"OCCUPATION_TYPE\"])[\"TARGET\"].count()"
   ]
  },
  {
   "cell_type": "code",
   "execution_count": null,
   "id": "fdc9156f-57cb-4944-8a33-3b59c2c4f34f",
   "metadata": {},
   "outputs": [],
   "source": [
    "df_app[\"TARGET\"].value_counts()"
   ]
  },
  {
   "cell_type": "code",
   "execution_count": null,
   "id": "2054c6d6-5924-4b66-83c5-295cfa4e8def",
   "metadata": {},
   "outputs": [],
   "source": [
    "df_app.describe().columns.to_list()"
   ]
  },
  {
   "cell_type": "code",
   "execution_count": null,
   "id": "cdaa6273-bf16-4945-bf81-5bdce66d333c",
   "metadata": {},
   "outputs": [],
   "source": [
    "FLAG_COL=['FLAG_MOBIL','FLAG_EMP_PHONE','FLAG_WORK_PHONE','FLAG_CONT_MOBILE','FLAG_PHONE','FLAG_EMAIL']"
   ]
  },
  {
   "cell_type": "code",
   "execution_count": null,
   "id": "81150cef-6f3f-41e4-84b9-f845dfb99955",
   "metadata": {},
   "outputs": [],
   "source": [
    "df_app[FLAG_COL]"
   ]
  },
  {
   "cell_type": "code",
   "execution_count": null,
   "id": "bbeccd88-c290-48fd-8631-c7d43ef55995",
   "metadata": {},
   "outputs": [],
   "source": [
    "df_app[\"FLAG_MOBIL\"]=df_app[\"FLAG_MOBIL\"].apply(lambda x:\"YES\" if x==1 else \"NO\")"
   ]
  },
  {
   "cell_type": "code",
   "execution_count": null,
   "id": "76e06306-e2d4-4a3d-a77d-6172649d3dd3",
   "metadata": {},
   "outputs": [],
   "source": [
    "df_app[\"FLAG_MOBIL\"]"
   ]
  },
  {
   "cell_type": "code",
   "execution_count": null,
   "id": "efa0e19e-3734-42cf-b853-232fbf625666",
   "metadata": {},
   "outputs": [],
   "source": [
    "df_app['FLAG_EMP_PHONE']=df_app['FLAG_EMP_PHONE'].apply(lambda x:\"YES\" if x==1 else \"NO\")"
   ]
  },
  {
   "cell_type": "code",
   "execution_count": null,
   "id": "db1100a4-fc64-4276-98eb-9c06404db3c6",
   "metadata": {},
   "outputs": [],
   "source": [
    "df_app['FLAG_EMP_PHONE']"
   ]
  },
  {
   "cell_type": "code",
   "execution_count": null,
   "id": "f22d5c70-5b7d-43a5-a58a-539500e8a69b",
   "metadata": {},
   "outputs": [],
   "source": [
    "df_app['FLAG_WORK_PHONE']=df_app['FLAG_WORK_PHONE'].apply(lambda x:\"YES\" if x==1 else \"NO\")"
   ]
  },
  {
   "cell_type": "code",
   "execution_count": null,
   "id": "baf6e824-7fdc-4c8f-97cb-809874a5a5d3",
   "metadata": {},
   "outputs": [],
   "source": [
    "df_app['FLAG_WORK_PHONE']"
   ]
  },
  {
   "cell_type": "code",
   "execution_count": null,
   "id": "def26261-093f-43f6-bfa4-3eb2c4d59bc6",
   "metadata": {},
   "outputs": [],
   "source": [
    "df_app['FLAG_CONT_MOBILE']=df_app['FLAG_CONT_MOBILE'].apply(lambda x:\"YES\" if x==1 else \"NO\")"
   ]
  },
  {
   "cell_type": "code",
   "execution_count": null,
   "id": "da3add69-5ff8-48f3-95a3-5834d27b0685",
   "metadata": {},
   "outputs": [],
   "source": [
    "df_app['FLAG_CONT_MOBILE']"
   ]
  },
  {
   "cell_type": "code",
   "execution_count": null,
   "id": "a703ced4-0379-4f46-b57f-9dd243f59393",
   "metadata": {},
   "outputs": [],
   "source": [
    "df_app['FLAG_PHONE']=df_app['FLAG_PHONE'].apply(lambda x:\"YES\" if x==1 else \"NO\")"
   ]
  },
  {
   "cell_type": "code",
   "execution_count": null,
   "id": "f624792f-da15-47c3-bf97-6b65debb4bdd",
   "metadata": {},
   "outputs": [],
   "source": [
    "df_app['FLAG_PHONE']"
   ]
  },
  {
   "cell_type": "code",
   "execution_count": null,
   "id": "4d217ade-f57b-4e98-9197-b1d491591004",
   "metadata": {},
   "outputs": [],
   "source": [
    "df_app['FLAG_EMAIL']=df_app['FLAG_EMAIL'].apply(lambda x:\"YES\" if x==1 else \"NO\")"
   ]
  },
  {
   "cell_type": "code",
   "execution_count": null,
   "id": "cb640d46-a367-4bae-8813-dd9c2b5f65b2",
   "metadata": {},
   "outputs": [],
   "source": []
  },
  {
   "cell_type": "code",
   "execution_count": null,
   "id": "9cad4c11-2cc1-41d3-bf29-e95941132855",
   "metadata": {},
   "outputs": [],
   "source": []
  }
 ],
 "metadata": {
  "kernelspec": {
   "display_name": "Python 3 (ipykernel)",
   "language": "python",
   "name": "python3"
  },
  "language_info": {
   "codemirror_mode": {
    "name": "ipython",
    "version": 3
   },
   "file_extension": ".py",
   "mimetype": "text/x-python",
   "name": "python",
   "nbconvert_exporter": "python",
   "pygments_lexer": "ipython3",
   "version": "3.12.4"
  }
 },
 "nbformat": 4,
 "nbformat_minor": 5
}
